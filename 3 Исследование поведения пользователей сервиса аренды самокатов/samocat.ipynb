{
 "cells": [
  {
   "cell_type": "markdown",
   "id": "ba760019",
   "metadata": {},
   "source": [
    " # Проект \"Исследование сервиса аренды самокатов GoFast\"    "
   ]
  },
  {
   "cell_type": "markdown",
   "id": "969c2d5c",
   "metadata": {},
   "source": [
    "### Описание проекта"
   ]
  },
  {
   "cell_type": "markdown",
   "id": "f5231af2",
   "metadata": {},
   "source": [
    "Цель исследования: установление взаимосвязей показателей и проверка гипотез с целью помощи развитию бизнеса.\n",
    "План исследования:\n",
    "1. Изучение общей информации о данных\n",
    "2. Предобработка данных\n",
    "3. Исследовательский анализ данных:\n",
    "   - изучение параметров; \n",
    "   - изучение зависимостей между параметрами\n",
    "4. Проверка гипотез\n",
    "5. Оформление общего вывода\n"
   ]
  },
  {
   "cell_type": "code",
   "execution_count": 1,
   "id": "c0d40e94",
   "metadata": {},
   "outputs": [],
   "source": [
    "from scipy import stats as st\n",
    "import pandas as pd\n",
    "import numpy as np\n",
    "import matplotlib.pyplot as plt\n"
   ]
  },
  {
   "cell_type": "markdown",
   "id": "c42cbe00",
   "metadata": {},
   "source": [
    "#### Шаг 1. Загрузка данных"
   ]
  },
  {
   "cell_type": "code",
   "execution_count": 2,
   "id": "eff9f206",
   "metadata": {},
   "outputs": [
    {
     "name": "stdout",
     "output_type": "stream",
     "text": [
      "<class 'pandas.core.frame.DataFrame'>\n",
      "RangeIndex: 1565 entries, 0 to 1564\n",
      "Data columns (total 5 columns):\n",
      " #   Column             Non-Null Count  Dtype \n",
      "---  ------             --------------  ----- \n",
      " 0   user_id            1565 non-null   int64 \n",
      " 1   name               1565 non-null   object\n",
      " 2   age                1565 non-null   int64 \n",
      " 3   city               1565 non-null   object\n",
      " 4   subscription_type  1565 non-null   object\n",
      "dtypes: int64(2), object(3)\n",
      "memory usage: 61.3+ KB\n"
     ]
    },
    {
     "data": {
      "text/html": [
       "<div>\n",
       "<style scoped>\n",
       "    .dataframe tbody tr th:only-of-type {\n",
       "        vertical-align: middle;\n",
       "    }\n",
       "\n",
       "    .dataframe tbody tr th {\n",
       "        vertical-align: top;\n",
       "    }\n",
       "\n",
       "    .dataframe thead th {\n",
       "        text-align: right;\n",
       "    }\n",
       "</style>\n",
       "<table border=\"1\" class=\"dataframe\">\n",
       "  <thead>\n",
       "    <tr style=\"text-align: right;\">\n",
       "      <th></th>\n",
       "      <th>user_id</th>\n",
       "      <th>name</th>\n",
       "      <th>age</th>\n",
       "      <th>city</th>\n",
       "      <th>subscription_type</th>\n",
       "    </tr>\n",
       "  </thead>\n",
       "  <tbody>\n",
       "    <tr>\n",
       "      <th>0</th>\n",
       "      <td>1</td>\n",
       "      <td>Кира</td>\n",
       "      <td>22</td>\n",
       "      <td>Тюмень</td>\n",
       "      <td>ultra</td>\n",
       "    </tr>\n",
       "  </tbody>\n",
       "</table>\n",
       "</div>"
      ],
      "text/plain": [
       "   user_id  name  age    city subscription_type\n",
       "0        1  Кира   22  Тюмень             ultra"
      ]
     },
     "execution_count": 2,
     "metadata": {},
     "output_type": "execute_result"
    }
   ],
   "source": [
    "#считаем CSV-файлы с данными с помощью библиотеки pandas,сохраним их в датафреймы\n",
    "users = pd.read_csv('/datasets/users_go.csv')\n",
    "# выведем первые строки каждого набора данных, изучим общую информацию о каждом датафрейме\n",
    "users.info()\n",
    "users.head(1) "
   ]
  },
  {
   "cell_type": "code",
   "execution_count": 3,
   "id": "e793f381",
   "metadata": {},
   "outputs": [
    {
     "name": "stdout",
     "output_type": "stream",
     "text": [
      "<class 'pandas.core.frame.DataFrame'>\n",
      "RangeIndex: 18068 entries, 0 to 18067\n",
      "Data columns (total 4 columns):\n",
      " #   Column    Non-Null Count  Dtype  \n",
      "---  ------    --------------  -----  \n",
      " 0   user_id   18068 non-null  int64  \n",
      " 1   distance  18068 non-null  float64\n",
      " 2   duration  18068 non-null  float64\n",
      " 3   date      18068 non-null  object \n",
      "dtypes: float64(2), int64(1), object(1)\n",
      "memory usage: 564.8+ KB\n"
     ]
    },
    {
     "data": {
      "text/html": [
       "<div>\n",
       "<style scoped>\n",
       "    .dataframe tbody tr th:only-of-type {\n",
       "        vertical-align: middle;\n",
       "    }\n",
       "\n",
       "    .dataframe tbody tr th {\n",
       "        vertical-align: top;\n",
       "    }\n",
       "\n",
       "    .dataframe thead th {\n",
       "        text-align: right;\n",
       "    }\n",
       "</style>\n",
       "<table border=\"1\" class=\"dataframe\">\n",
       "  <thead>\n",
       "    <tr style=\"text-align: right;\">\n",
       "      <th></th>\n",
       "      <th>user_id</th>\n",
       "      <th>distance</th>\n",
       "      <th>duration</th>\n",
       "      <th>date</th>\n",
       "    </tr>\n",
       "  </thead>\n",
       "  <tbody>\n",
       "    <tr>\n",
       "      <th>0</th>\n",
       "      <td>1</td>\n",
       "      <td>4409.91914</td>\n",
       "      <td>25.599769</td>\n",
       "      <td>2021-01-01</td>\n",
       "    </tr>\n",
       "  </tbody>\n",
       "</table>\n",
       "</div>"
      ],
      "text/plain": [
       "   user_id    distance   duration        date\n",
       "0        1  4409.91914  25.599769  2021-01-01"
      ]
     },
     "execution_count": 3,
     "metadata": {},
     "output_type": "execute_result"
    }
   ],
   "source": [
    "rides = pd.read_csv('/datasets/rides_go.csv')\n",
    "rides.info()\n",
    "rides.head(1)"
   ]
  },
  {
   "cell_type": "code",
   "execution_count": 4,
   "id": "cc3cab18",
   "metadata": {},
   "outputs": [
    {
     "name": "stdout",
     "output_type": "stream",
     "text": [
      "<class 'pandas.core.frame.DataFrame'>\n",
      "RangeIndex: 2 entries, 0 to 1\n",
      "Data columns (total 4 columns):\n",
      " #   Column             Non-Null Count  Dtype \n",
      "---  ------             --------------  ----- \n",
      " 0   subscription_type  2 non-null      object\n",
      " 1   minute_price       2 non-null      int64 \n",
      " 2   start_ride_price   2 non-null      int64 \n",
      " 3   subscription_fee   2 non-null      int64 \n",
      "dtypes: int64(3), object(1)\n",
      "memory usage: 192.0+ bytes\n"
     ]
    },
    {
     "data": {
      "text/html": [
       "<div>\n",
       "<style scoped>\n",
       "    .dataframe tbody tr th:only-of-type {\n",
       "        vertical-align: middle;\n",
       "    }\n",
       "\n",
       "    .dataframe tbody tr th {\n",
       "        vertical-align: top;\n",
       "    }\n",
       "\n",
       "    .dataframe thead th {\n",
       "        text-align: right;\n",
       "    }\n",
       "</style>\n",
       "<table border=\"1\" class=\"dataframe\">\n",
       "  <thead>\n",
       "    <tr style=\"text-align: right;\">\n",
       "      <th></th>\n",
       "      <th>subscription_type</th>\n",
       "      <th>minute_price</th>\n",
       "      <th>start_ride_price</th>\n",
       "      <th>subscription_fee</th>\n",
       "    </tr>\n",
       "  </thead>\n",
       "  <tbody>\n",
       "    <tr>\n",
       "      <th>0</th>\n",
       "      <td>free</td>\n",
       "      <td>8</td>\n",
       "      <td>50</td>\n",
       "      <td>0</td>\n",
       "    </tr>\n",
       "  </tbody>\n",
       "</table>\n",
       "</div>"
      ],
      "text/plain": [
       "  subscription_type  minute_price  start_ride_price  subscription_fee\n",
       "0              free             8                50                 0"
      ]
     },
     "execution_count": 4,
     "metadata": {},
     "output_type": "execute_result"
    }
   ],
   "source": [
    "subscriptions = pd.read_csv('/datasets/subscriptions_go.csv')\n",
    "subscriptions.info()\n",
    "subscriptions.head(1)"
   ]
  },
  {
   "cell_type": "markdown",
   "id": "e95ebca7",
   "metadata": {},
   "source": [
    "#### Шаг 2. Предобработка данных"
   ]
  },
  {
   "cell_type": "code",
   "execution_count": 5,
   "id": "af6d202c",
   "metadata": {},
   "outputs": [
    {
     "name": "stdout",
     "output_type": "stream",
     "text": [
      "<class 'pandas.core.frame.DataFrame'>\n",
      "RangeIndex: 18068 entries, 0 to 18067\n",
      "Data columns (total 5 columns):\n",
      " #   Column    Non-Null Count  Dtype         \n",
      "---  ------    --------------  -----         \n",
      " 0   user_id   18068 non-null  int64         \n",
      " 1   distance  18068 non-null  float64       \n",
      " 2   duration  18068 non-null  float64       \n",
      " 3   date      18068 non-null  datetime64[ns]\n",
      " 4   month     18068 non-null  int64         \n",
      "dtypes: datetime64[ns](1), float64(2), int64(2)\n",
      "memory usage: 705.9 KB\n"
     ]
    },
    {
     "data": {
      "text/html": [
       "<div>\n",
       "<style scoped>\n",
       "    .dataframe tbody tr th:only-of-type {\n",
       "        vertical-align: middle;\n",
       "    }\n",
       "\n",
       "    .dataframe tbody tr th {\n",
       "        vertical-align: top;\n",
       "    }\n",
       "\n",
       "    .dataframe thead th {\n",
       "        text-align: right;\n",
       "    }\n",
       "</style>\n",
       "<table border=\"1\" class=\"dataframe\">\n",
       "  <thead>\n",
       "    <tr style=\"text-align: right;\">\n",
       "      <th></th>\n",
       "      <th>user_id</th>\n",
       "      <th>distance</th>\n",
       "      <th>duration</th>\n",
       "      <th>date</th>\n",
       "      <th>month</th>\n",
       "    </tr>\n",
       "  </thead>\n",
       "  <tbody>\n",
       "    <tr>\n",
       "      <th>0</th>\n",
       "      <td>1</td>\n",
       "      <td>4409.91914</td>\n",
       "      <td>25.599769</td>\n",
       "      <td>2021-01-01</td>\n",
       "      <td>1</td>\n",
       "    </tr>\n",
       "  </tbody>\n",
       "</table>\n",
       "</div>"
      ],
      "text/plain": [
       "   user_id    distance   duration       date  month\n",
       "0        1  4409.91914  25.599769 2021-01-01      1"
      ]
     },
     "execution_count": 5,
     "metadata": {},
     "output_type": "execute_result"
    }
   ],
   "source": [
    "# приведем столбец date к типу даты pandas:\n",
    "rides['date'] = pd.to_datetime(rides['date'], format='%Y-%m-%dT%H:%M:%S')\n",
    "\n",
    "# создадим новый столбец с номером месяца:\n",
    "rides['month'] = rides['date'].dt.month\n",
    "\n",
    "rides.info()\n",
    "rides.head(1)"
   ]
  },
  {
   "cell_type": "code",
   "execution_count": 6,
   "id": "42a703f4",
   "metadata": {},
   "outputs": [
    {
     "data": {
      "text/plain": [
       "user_id              0\n",
       "name                 0\n",
       "age                  0\n",
       "city                 0\n",
       "subscription_type    0\n",
       "dtype: int64"
      ]
     },
     "execution_count": 6,
     "metadata": {},
     "output_type": "execute_result"
    }
   ],
   "source": [
    "# найдем количество пропущенных значений\n",
    "users.isna().sum()"
   ]
  },
  {
   "cell_type": "code",
   "execution_count": 7,
   "id": "33e6deed",
   "metadata": {},
   "outputs": [
    {
     "data": {
      "text/plain": [
       "31"
      ]
     },
     "execution_count": 7,
     "metadata": {},
     "output_type": "execute_result"
    }
   ],
   "source": [
    "# найдем дубликаты\n",
    "users.duplicated().sum()"
   ]
  },
  {
   "cell_type": "code",
   "execution_count": 8,
   "id": "1a577f91",
   "metadata": {},
   "outputs": [],
   "source": [
    "# удалим дубликаты\n",
    "users = users.drop_duplicates()"
   ]
  },
  {
   "cell_type": "code",
   "execution_count": 9,
   "id": "620630a5",
   "metadata": {},
   "outputs": [
    {
     "data": {
      "text/plain": [
       "user_id     0\n",
       "distance    0\n",
       "duration    0\n",
       "date        0\n",
       "month       0\n",
       "dtype: int64"
      ]
     },
     "execution_count": 9,
     "metadata": {},
     "output_type": "execute_result"
    }
   ],
   "source": [
    "rides.isna().sum()"
   ]
  },
  {
   "cell_type": "code",
   "execution_count": 10,
   "id": "a9111780",
   "metadata": {},
   "outputs": [
    {
     "data": {
      "text/plain": [
       "0"
      ]
     },
     "execution_count": 10,
     "metadata": {},
     "output_type": "execute_result"
    }
   ],
   "source": [
    "rides.duplicated().sum()"
   ]
  },
  {
   "cell_type": "code",
   "execution_count": 11,
   "id": "57933d22",
   "metadata": {},
   "outputs": [
    {
     "data": {
      "text/plain": [
       "subscription_type    0\n",
       "minute_price         0\n",
       "start_ride_price     0\n",
       "subscription_fee     0\n",
       "dtype: int64"
      ]
     },
     "execution_count": 11,
     "metadata": {},
     "output_type": "execute_result"
    }
   ],
   "source": [
    "subscriptions.isna().sum()"
   ]
  },
  {
   "cell_type": "code",
   "execution_count": 12,
   "id": "1af41d2b",
   "metadata": {},
   "outputs": [
    {
     "data": {
      "text/plain": [
       "0"
      ]
     },
     "execution_count": 12,
     "metadata": {},
     "output_type": "execute_result"
    }
   ],
   "source": [
    "subscriptions.duplicated().sum()"
   ]
  },
  {
   "cell_type": "code",
   "execution_count": 13,
   "id": "51e0434c",
   "metadata": {},
   "outputs": [
    {
     "data": {
      "text/plain": [
       "0"
      ]
     },
     "execution_count": 13,
     "metadata": {},
     "output_type": "execute_result"
    }
   ],
   "source": [
    "# Код ревьюера \n",
    "\n",
    "users.duplicated().sum()"
   ]
  },
  {
   "cell_type": "markdown",
   "id": "75bfa710",
   "metadata": {},
   "source": [
    "*Вывод:*\n",
    "    По результатам первичного анализа было обнаружено и устранено:\n",
    "    1. Столбец date в данных приведен в типе object, был изменен к типу даты;\n",
    "    2. Дубликаты в информации о пользователях (31 позиция) были устранены."
   ]
  },
  {
   "cell_type": "markdown",
   "id": "212593c7",
   "metadata": {},
   "source": [
    "#### Шаг 3. Исследовательский анализ данных"
   ]
  },
  {
   "cell_type": "markdown",
   "id": "a070b0f2",
   "metadata": {},
   "source": [
    "##### Частота встречаемости городов"
   ]
  },
  {
   "cell_type": "code",
   "execution_count": 14,
   "id": "e3a4274c",
   "metadata": {},
   "outputs": [
    {
     "data": {
      "text/plain": [
       "Пятигорск         219\n",
       "Екатеринбург      204\n",
       "Ростов-на-Дону    198\n",
       "Краснодар         193\n",
       "Сочи              189\n",
       "Омск              183\n",
       "Тюмень            180\n",
       "Москва            168\n",
       "Name: city, dtype: int64"
      ]
     },
     "execution_count": 14,
     "metadata": {},
     "output_type": "execute_result"
    }
   ],
   "source": [
    "# узнаем частоту встречаемости городов\n",
    "users['city'].value_counts()"
   ]
  },
  {
   "cell_type": "code",
   "execution_count": 15,
   "id": "3597320f",
   "metadata": {},
   "outputs": [
    {
     "data": {
      "image/png": "[encoded data removed]",
      "text/plain": [
       "<Figure size 432x432 with 1 Axes>"
      ]
     },
     "metadata": {
      "needs_background": "light"
     },
     "output_type": "display_data"
    }
   ],
   "source": [
    "# построим график частоты встречаемости городов\n",
    "users.pivot_table(index='city', values='user_id',aggfunc='count').plot(grid=True,kind ='bar', figsize=(6, 6));\n",
    "plt.xlabel('Города')\n",
    "plt.ylabel('Количество пользователей')\n",
    "plt.show()"
   ]
  },
  {
   "cell_type": "markdown",
   "id": "dc6c63a9",
   "metadata": {},
   "source": [
    "*Вывод*: Наиболее активно пользуются арендой самокатов в Пятигорске, Екатеринбурге и Ростов-на-Дону. Меньше всего в Москве."
   ]
  },
  {
   "cell_type": "markdown",
   "id": "38a23f1e",
   "metadata": {},
   "source": [
    "##### Соотношение пользователей с подпиской и без подписки"
   ]
  },
  {
   "cell_type": "code",
   "execution_count": 16,
   "id": "19df96a5",
   "metadata": {},
   "outputs": [
    {
     "data": {
      "text/plain": [
       "free     835\n",
       "ultra    699\n",
       "Name: subscription_type, dtype: int64"
      ]
     },
     "execution_count": 16,
     "metadata": {},
     "output_type": "execute_result"
    }
   ],
   "source": [
    "# узнаем соотношение пользователей с подпиской и без подписки\n",
    "users['subscription_type'].value_counts()"
   ]
  },
  {
   "cell_type": "code",
   "execution_count": 17,
   "id": "087b7f3e",
   "metadata": {},
   "outputs": [
    {
     "data": {
      "image/png": "[encoded data removed]",
      "text/plain": [
       "<Figure size 432x432 with 1 Axes>"
      ]
     },
     "metadata": {},
     "output_type": "display_data"
    }
   ],
   "source": [
    "# построим график соотношений пользователей с подпиской и без подписки\n",
    "users.pivot_table(index='subscription_type', values='user_id', aggfunc='count').plot(subplots=True,kind ='pie', figsize=(6, 6));\n",
    "plt.ylabel('Количество пользователей')\n",
    "plt.show()"
   ]
  },
  {
   "cell_type": "markdown",
   "id": "f4dd0970",
   "metadata": {},
   "source": [
    "*Вывод:* Таким образом, пользователей без подписки на 17,7% больше, чем с подпиской. "
   ]
  },
  {
   "cell_type": "markdown",
   "id": "56c4d246",
   "metadata": {},
   "source": [
    "##### Возраст пользователей"
   ]
  },
  {
   "cell_type": "code",
   "execution_count": 18,
   "id": "a606a9ef",
   "metadata": {
    "scrolled": true
   },
   "outputs": [
    {
     "data": {
      "text/html": [
       "<div>\n",
       "<style scoped>\n",
       "    .dataframe tbody tr th:only-of-type {\n",
       "        vertical-align: middle;\n",
       "    }\n",
       "\n",
       "    .dataframe tbody tr th {\n",
       "        vertical-align: top;\n",
       "    }\n",
       "\n",
       "    .dataframe thead th {\n",
       "        text-align: right;\n",
       "    }\n",
       "</style>\n",
       "<table border=\"1\" class=\"dataframe\">\n",
       "  <thead>\n",
       "    <tr style=\"text-align: right;\">\n",
       "      <th></th>\n",
       "      <th>count</th>\n",
       "    </tr>\n",
       "    <tr>\n",
       "      <th>age</th>\n",
       "      <th></th>\n",
       "    </tr>\n",
       "  </thead>\n",
       "  <tbody>\n",
       "    <tr>\n",
       "      <th>12</th>\n",
       "      <td>4</td>\n",
       "    </tr>\n",
       "    <tr>\n",
       "      <th>13</th>\n",
       "      <td>8</td>\n",
       "    </tr>\n",
       "    <tr>\n",
       "      <th>14</th>\n",
       "      <td>9</td>\n",
       "    </tr>\n",
       "    <tr>\n",
       "      <th>15</th>\n",
       "      <td>13</td>\n",
       "    </tr>\n",
       "    <tr>\n",
       "      <th>16</th>\n",
       "      <td>19</td>\n",
       "    </tr>\n",
       "    <tr>\n",
       "      <th>17</th>\n",
       "      <td>26</td>\n",
       "    </tr>\n",
       "    <tr>\n",
       "      <th>18</th>\n",
       "      <td>46</td>\n",
       "    </tr>\n",
       "    <tr>\n",
       "      <th>19</th>\n",
       "      <td>47</td>\n",
       "    </tr>\n",
       "    <tr>\n",
       "      <th>20</th>\n",
       "      <td>71</td>\n",
       "    </tr>\n",
       "    <tr>\n",
       "      <th>21</th>\n",
       "      <td>93</td>\n",
       "    </tr>\n",
       "    <tr>\n",
       "      <th>22</th>\n",
       "      <td>119</td>\n",
       "    </tr>\n",
       "    <tr>\n",
       "      <th>23</th>\n",
       "      <td>129</td>\n",
       "    </tr>\n",
       "    <tr>\n",
       "      <th>24</th>\n",
       "      <td>132</td>\n",
       "    </tr>\n",
       "    <tr>\n",
       "      <th>25</th>\n",
       "      <td>145</td>\n",
       "    </tr>\n",
       "    <tr>\n",
       "      <th>26</th>\n",
       "      <td>131</td>\n",
       "    </tr>\n",
       "    <tr>\n",
       "      <th>27</th>\n",
       "      <td>119</td>\n",
       "    </tr>\n",
       "    <tr>\n",
       "      <th>28</th>\n",
       "      <td>112</td>\n",
       "    </tr>\n",
       "    <tr>\n",
       "      <th>29</th>\n",
       "      <td>68</td>\n",
       "    </tr>\n",
       "    <tr>\n",
       "      <th>30</th>\n",
       "      <td>68</td>\n",
       "    </tr>\n",
       "    <tr>\n",
       "      <th>31</th>\n",
       "      <td>48</td>\n",
       "    </tr>\n",
       "    <tr>\n",
       "      <th>32</th>\n",
       "      <td>41</td>\n",
       "    </tr>\n",
       "    <tr>\n",
       "      <th>33</th>\n",
       "      <td>39</td>\n",
       "    </tr>\n",
       "    <tr>\n",
       "      <th>34</th>\n",
       "      <td>19</td>\n",
       "    </tr>\n",
       "    <tr>\n",
       "      <th>35</th>\n",
       "      <td>15</td>\n",
       "    </tr>\n",
       "    <tr>\n",
       "      <th>36</th>\n",
       "      <td>6</td>\n",
       "    </tr>\n",
       "    <tr>\n",
       "      <th>37</th>\n",
       "      <td>2</td>\n",
       "    </tr>\n",
       "    <tr>\n",
       "      <th>38</th>\n",
       "      <td>3</td>\n",
       "    </tr>\n",
       "    <tr>\n",
       "      <th>39</th>\n",
       "      <td>1</td>\n",
       "    </tr>\n",
       "    <tr>\n",
       "      <th>43</th>\n",
       "      <td>1</td>\n",
       "    </tr>\n",
       "  </tbody>\n",
       "</table>\n",
       "</div>"
      ],
      "text/plain": [
       "     count\n",
       "age       \n",
       "12       4\n",
       "13       8\n",
       "14       9\n",
       "15      13\n",
       "16      19\n",
       "17      26\n",
       "18      46\n",
       "19      47\n",
       "20      71\n",
       "21      93\n",
       "22     119\n",
       "23     129\n",
       "24     132\n",
       "25     145\n",
       "26     131\n",
       "27     119\n",
       "28     112\n",
       "29      68\n",
       "30      68\n",
       "31      48\n",
       "32      41\n",
       "33      39\n",
       "34      19\n",
       "35      15\n",
       "36       6\n",
       "37       2\n",
       "38       3\n",
       "39       1\n",
       "43       1"
      ]
     },
     "execution_count": 18,
     "metadata": {},
     "output_type": "execute_result"
    }
   ],
   "source": [
    "# узнаем возраст пользователей\n",
    "users.value_counts(ascending=True).groupby('age').agg(['count'])"
   ]
  },
  {
   "cell_type": "code",
   "execution_count": 19,
   "id": "10ea49a8",
   "metadata": {},
   "outputs": [
    {
     "data": {
      "image/png": "[encoded data removed]",
      "text/plain": [
       "<Figure size 432x432 with 1 Axes>"
      ]
     },
     "metadata": {
      "needs_background": "light"
     },
     "output_type": "display_data"
    }
   ],
   "source": [
    "# сгруппируем пользователей по возрасту:\n",
    "def categorize_age(age):\n",
    "    if age <= 17:\n",
    "        return 'до 18 лет'\n",
    "    if 18<= age <= 25:\n",
    "        return '18-25'\n",
    "    if 26<= age <=35:\n",
    "        return '26-35'\n",
    "    if age >=36:\n",
    "        return 'свыше 36 лет'\n",
    "users['age_category'] = users['age'].apply(categorize_age)\n",
    "users.pivot_table(index='age_category', values='user_id', aggfunc='count').plot(grid=True,kind ='bar', figsize=(6, 6));"
   ]
  },
  {
   "cell_type": "markdown",
   "id": "c25a6a7a",
   "metadata": {},
   "source": [
    "*Вывод* : Наибольшим спросом аренда самокатов пользуется у возрастной группы от 18 до 25лет, немного уступает в количестве пользователей группа от 26 до 35 лет. И меньше всего используют самокаты пользователи старше 36 лет. "
   ]
  },
  {
   "cell_type": "code",
   "execution_count": 20,
   "id": "785b1bc2",
   "metadata": {},
   "outputs": [
    {
     "data": {
      "image/png": "[encoded data removed]",
      "text/plain": [
       "<Figure size 432x432 with 1 Axes>"
      ]
     },
     "metadata": {
      "needs_background": "light"
     },
     "output_type": "display_data"
    }
   ],
   "source": [
    "users.pivot_table(index='age', values='user_id', aggfunc='count').plot(grid=True,kind ='bar', figsize=(6, 6));\n",
    "plt.xlabel('Возраст')\n",
    "plt.ylabel('Количество пользователей')\n",
    "plt.show()"
   ]
  },
  {
   "cell_type": "markdown",
   "id": "e455c507",
   "metadata": {},
   "source": [
    "##### Расстояние, которое пользователь преодолел за одну поездку"
   ]
  },
  {
   "cell_type": "code",
   "execution_count": 21,
   "id": "96e58355",
   "metadata": {},
   "outputs": [
    {
     "data": {
      "image/png": "[encoded data removed]",
      "text/plain": [
       "<Figure size 432x432 with 1 Axes>"
      ]
     },
     "metadata": {
      "needs_background": "light"
     },
     "output_type": "display_data"
    }
   ],
   "source": [
    "# сгруппируем расстояния:\n",
    "def categorize_distance(distance):\n",
    "    if distance < 1000:\n",
    "        return 'до 1 км'\n",
    "    if 1000 <= distance <= 2000:\n",
    "        return 'от 1 до 2 км '\n",
    "    if 2000.000001 <= distance <=4000:\n",
    "        return 'от 2 до 4 км '\n",
    "    if 4000.000001 <= distance <=6000:\n",
    "        return 'от 4 до 6 км '\n",
    "    if distance >=6000.000001:\n",
    "        return 'свыше 6 км'\n",
    "rides['distance_category'] = rides['distance'].apply(categorize_distance)\n",
    "rides.pivot_table(index='distance_category', values='user_id', aggfunc='count').plot(grid=True,kind ='bar', figsize=(6, 6));"
   ]
  },
  {
   "cell_type": "markdown",
   "id": "f4cb5601",
   "metadata": {},
   "source": [
    "*Вывод:* Подавляющее большинство поездок совершается на расстояние от 2 до 4 км. Расстояние свыше 6 км на самокате практически не преодолевается."
   ]
  },
  {
   "cell_type": "code",
   "execution_count": null,
   "id": "7451daf6",
   "metadata": {},
   "outputs": [],
   "source": [
    "rides.pivot_table(index='distance', values='user_id', aggfunc='count').plot(grid=True,kind ='bar', figsize=(6, 6));\n",
    "plt.xlabel('Расстояние')\n",
    "plt.ylabel('Количество пользователей')\n",
    "plt.show()"
   ]
  },
  {
   "cell_type": "markdown",
   "id": "0ac41718",
   "metadata": {},
   "source": [
    "#####  Продолжительность поездок"
   ]
  },
  {
   "cell_type": "code",
   "execution_count": null,
   "id": "431f0402",
   "metadata": {},
   "outputs": [],
   "source": [
    "rides['duration'].max()"
   ]
  },
  {
   "cell_type": "code",
   "execution_count": null,
   "id": "8cfbebb3",
   "metadata": {},
   "outputs": [],
   "source": [
    "# сгруппируем расстояния:\n",
    "def categorize_duration(duration):\n",
    "    if duration < 1:\n",
    "        return 'меньше 1 минуты'\n",
    "    if 1 <= duration <= 15:\n",
    "        return 'от 1 до 15 минут '\n",
    "    if 15.000001 <= duration <=25:\n",
    "        return 'от 15 до 25 минут '\n",
    "    if 25.000001 <= duration <=35:\n",
    "        return 'от 25 до 35 минут '\n",
    "    if duration >=35.000001:\n",
    "        return 'свыше 35 мин'\n",
    "rides['duration_category'] = rides['duration'].apply(categorize_duration)\n",
    "rides.pivot_table(index='duration_category', values='user_id', aggfunc='count').plot(grid=True,kind ='bar', figsize=(6, 6));"
   ]
  },
  {
   "cell_type": "markdown",
   "id": "d03f79d0",
   "metadata": {},
   "source": [
    "*Вывод:* Наибольшее количество поездок занимают от 15 до 25 минут. Свыше 35 минут поездок очень мало."
   ]
  },
  {
   "cell_type": "code",
   "execution_count": null,
   "id": "99badc63",
   "metadata": {},
   "outputs": [],
   "source": [
    "<div class=\"alert alert-info\"> <b>Комментарий студента:</b>"
   ]
  },
  {
   "cell_type": "code",
   "execution_count": null,
   "id": "292f20aa",
   "metadata": {},
   "outputs": [],
   "source": [
    "rides.pivot_table(index='duration', values='user_id', aggfunc='count').plot(grid=True,kind ='bar', figsize=(6, 6));\n",
    "plt.xlabel('Время поездки')\n",
    "plt.ylabel('Количество пользователей')\n",
    "plt.show()"
   ]
  },
  {
   "cell_type": "markdown",
   "id": "4ef51331",
   "metadata": {},
   "source": [
    "#### Шаг 4. Объединение данных"
   ]
  },
  {
   "cell_type": "markdown",
   "id": "e7575fcd",
   "metadata": {},
   "source": [
    "##### Объединим данные о пользователях, поездках и подписках в один датафрейм"
   ]
  },
  {
   "cell_type": "code",
   "execution_count": null,
   "id": "6bf288b5",
   "metadata": {},
   "outputs": [],
   "source": [
    "users_rides = users.merge(rides,on='user_id', how='left')\n",
    "users_rides.head()"
   ]
  },
  {
   "cell_type": "code",
   "execution_count": null,
   "id": "564e17f1",
   "metadata": {},
   "outputs": [],
   "source": [
    "users_rides_subscriptions = users_rides.merge(subscriptions,on='subscription_type', how='left')\n",
    "users_rides_subscriptions.head()"
   ]
  },
  {
   "cell_type": "code",
   "execution_count": null,
   "id": "8d310861",
   "metadata": {},
   "outputs": [],
   "source": [
    "users_rides_subscriptions.isna().sum()"
   ]
  },
  {
   "cell_type": "markdown",
   "id": "82ae7c6a",
   "metadata": {},
   "source": [
    "##### Создим ещё два датафрейма из датафрейма, созданного на этапе 4.1"
   ]
  },
  {
   "cell_type": "code",
   "execution_count": null,
   "id": "a4d7b596",
   "metadata": {},
   "outputs": [],
   "source": [
    "# c данными о пользователях без подписки\n",
    "users_rides_subscriptions_free = users_rides_subscriptions[users_rides_subscriptions ['subscription_type']=='free']\n",
    "users_rides_subscriptions_free.head()"
   ]
  },
  {
   "cell_type": "code",
   "execution_count": null,
   "id": "e7a4cd84",
   "metadata": {},
   "outputs": [],
   "source": [
    "# c данными о пользователях c подпиской\n",
    "users_rides_subscriptions_ultra = users_rides_subscriptions[users_rides_subscriptions ['subscription_type']=='ultra']\n",
    "users_rides_subscriptions_ultra.head()"
   ]
  },
  {
   "cell_type": "markdown",
   "id": "9bdd7eb2",
   "metadata": {},
   "source": [
    "##### Визуализируем информацию о расстоянии и времени поездок для пользователей обеих категорий"
   ]
  },
  {
   "cell_type": "code",
   "execution_count": null,
   "id": "e9d06b06",
   "metadata": {},
   "outputs": [],
   "source": [
    "# расстояние, которое преодолевают пользователи без подписки\n",
    "users_rides_subscriptions_free.pivot_table(index='distance_category', values='user_id', aggfunc='count').plot(grid=True,kind ='bar', figsize=(6, 6));"
   ]
  },
  {
   "cell_type": "code",
   "execution_count": null,
   "id": "00f48671",
   "metadata": {},
   "outputs": [],
   "source": [
    "# время поездок пользователей без подписки\n",
    "users_rides_subscriptions_free.pivot_table(index='duration_category', values='user_id', aggfunc='count').plot(grid=True,kind ='bar', figsize=(6, 6));"
   ]
  },
  {
   "cell_type": "markdown",
   "id": "ca5fba8c",
   "metadata": {},
   "source": [
    "*Вывод:* Пользователи без подписки в большинстве ездят от 15 до 25 мин на расстояния от 2 до 4 км."
   ]
  },
  {
   "cell_type": "code",
   "execution_count": null,
   "id": "f7285649",
   "metadata": {},
   "outputs": [],
   "source": [
    "# расстояние, которое преодолевают пользователи с подпиской\n",
    "users_rides_subscriptions_ultra.pivot_table(index='distance_category', values='user_id', aggfunc='count').plot(grid=True,kind ='bar', figsize=(6, 6));"
   ]
  },
  {
   "cell_type": "code",
   "execution_count": null,
   "id": "c147decf",
   "metadata": {},
   "outputs": [],
   "source": [
    "# время поездок пользователей c подпиской\n",
    "users_rides_subscriptions_ultra.pivot_table(index='duration_category', values='user_id', aggfunc='count').plot(grid=True,kind ='bar', figsize=(6, 6));"
   ]
  },
  {
   "cell_type": "markdown",
   "id": "afb46ce6",
   "metadata": {},
   "source": [
    "*Вывод:* Пользователи с подпиской реже ездят на расстояния меньше 1 км, в основном от 2 до 6 км. за время от 15 до 25 мин.И в этой группе не встречаются поездки меньше 1 мин. "
   ]
  },
  {
   "cell_type": "markdown",
   "id": "402d620f",
   "metadata": {},
   "source": [
    "#### Шаг 5. Подсчёт выручки"
   ]
  },
  {
   "cell_type": "markdown",
   "id": "a2671b99",
   "metadata": {},
   "source": [
    "#####  Создим датафрейм с агрегированными данными о поездках на основе датафрейма с объединёнными данными из шага 4: найдем суммарное расстояние, количество поездок и суммарное время для каждого пользователя за каждый месяц."
   ]
  },
  {
   "cell_type": "code",
   "execution_count": null,
   "id": "53049e0a",
   "metadata": {},
   "outputs": [],
   "source": [
    "# каждое значение из столбца duration округлим с помощью «потолка»: \n",
    "users_rides_subscriptions['duration'] = np.ceil(users_rides_subscriptions['duration']) \n",
    "users_rides_subscriptions.head()"
   ]
  },
  {
   "cell_type": "code",
   "execution_count": null,
   "id": "a7ca89a4",
   "metadata": {},
   "outputs": [],
   "source": [
    "agreg = users_rides_subscriptions.groupby(['user_id',users_rides_subscriptions['date'].dt.month]).agg({'distance':'sum', 'duration':['sum', 'count'],\n",
    "                                  'subscription_type':'first',\n",
    "                                  'minute_price':'first',\n",
    "                                  'start_ride_price':'first',\n",
    "                                  'subscription_fee':'first'}).reset_index()\n",
    "agreg.head()"
   ]
  },
  {
   "cell_type": "code",
   "execution_count": null,
   "id": "19829796",
   "metadata": {},
   "outputs": [],
   "source": [
    "# Переименуем столбцы\n",
    "agreg.columns = ['user_id','date','sum_distance', 'sum_duration', 'count_rides',\n",
    "                         'subscription_type', 'minute_price',\n",
    "                         'start_ride_price', 'subscription_fee']\n",
    "agreg.reset_index(inplace=True)\n",
    "agreg.head()"
   ]
  },
  {
   "cell_type": "markdown",
   "id": "ae05c4a7",
   "metadata": {},
   "source": [
    "##### Рассчитаем помесячную выручку, которую принёс каждый пользователь"
   ]
  },
  {
   "cell_type": "code",
   "execution_count": null,
   "id": "23e21867",
   "metadata": {},
   "outputs": [],
   "source": [
    "#расчёт выручки\n",
    "def monthly_revenue(row):\n",
    "    return row['start_ride_price'] * row['count_rides'] + row['minute_price'] * row['sum_duration'] + row['subscription_fee']\n",
    " \n",
    "agreg['monthly_revenue'] = agreg.apply(monthly_revenue, axis=1)\n",
    "agreg.head()"
   ]
  },
  {
   "cell_type": "markdown",
   "id": "41545ac0",
   "metadata": {},
   "source": [
    "#### Шаг 6. Проверка гипотез"
   ]
  },
  {
   "cell_type": "markdown",
   "id": "696e1f9f",
   "metadata": {},
   "source": [
    "##### Тратят ли пользователи с подпиской больше времени на поездки?"
   ]
  },
  {
   "cell_type": "markdown",
   "id": "7b0d7bc3",
   "metadata": {},
   "source": [
    "Нулевая гипотеза (Н0): Среднее время поездки у пользователей с подпиской и без подписки одинаковое. \n",
    "Альтернативная гипотеза (Н1): Среднее время поездки у пользователей с подпиской больше, чем у пользователей без подписки."
   ]
  },
  {
   "cell_type": "code",
   "execution_count": null,
   "id": "1df40134",
   "metadata": {},
   "outputs": [],
   "source": [
    "ultra =users_rides_subscriptions[users_rides_subscriptions['subscription_type'] == 'ultra'] \n",
    "free = users_rides_subscriptions[users_rides_subscriptions['subscription_type'] == 'free'] \n",
    "\n",
    "sample_ultra = ultra['duration'] \n",
    "sample_free = free['duration']\n",
    "\n",
    "alpha = 0.05\n",
    "\n",
    "results = st.ttest_ind(sample_ultra, sample_free, alternative = 'greater')\n",
    "\n",
    "print('p-значение:', results.pvalue)\n",
    "\n",
    "if results.pvalue < alpha:\n",
    "    print('Принимаем альтернативную гипотезу')\n",
    "else:\n",
    "    print('Не получилось отвергнуть нулевую гипотезу') \n",
    "   \n",
    "print('Средняя длительность поездки Ultra',sample_ultra.mean())\n",
    "print('Средняя длительность поездки Free',sample_free.mean() )"
   ]
  },
  {
   "cell_type": "markdown",
   "id": "5cebd184",
   "metadata": {},
   "source": [
    "*Вывод:* Средняя длительность поездки с подпиской превышает среднюю длительность поездки без подписки. Таким образом, мы можем сказать, что пользователи с подпиской тратят больше времени на поездки."
   ]
  },
  {
   "cell_type": "markdown",
   "id": "3aaa3afa",
   "metadata": {},
   "source": [
    "##### Cреднее расстояние, которое проезжают пользователи с подпиской за одну поездку, не превышает 3130 метров"
   ]
  },
  {
   "cell_type": "markdown",
   "id": "eadc1cc2",
   "metadata": {},
   "source": [
    "Нулевая гипотеза (Н0): Среднее расстояние, которое проезжают пользователи с подпиской за одну поездку, не превышает 3130 метров. \n",
    "Альтернативная гипотеза (Н1): Среднее расстояние, которое проезжают пользователи с подпиской за одну поездку, превышает 3130 метров. "
   ]
  },
  {
   "cell_type": "code",
   "execution_count": null,
   "id": "5d79a039",
   "metadata": {},
   "outputs": [],
   "source": [
    "ultra = users_rides_subscriptions[users_rides_subscriptions['subscription_type'] == 'ultra'] \n",
    "\n",
    "sample_1_ultra = ultra['distance'] \n",
    "sample_1 = 3130\n",
    "\n",
    "alpha = 0.05\n",
    "\n",
    "results = st.ttest_1samp(sample_1_ultra, sample_1, alternative = 'greater')\n",
    "\n",
    "print('p-значение:', results.pvalue)\n",
    "\n",
    "if results.pvalue < alpha:\n",
    "    print('Принимаем альтернативную гипотезу')\n",
    "else:\n",
    "    print('Не получилось отвергнуть нулевую гипотезу') \n",
    "   \n",
    "print('Среднее расстояние, которое проезжают пользователи с Ultra',sample_1_ultra.mean())\n"
   ]
  },
  {
   "cell_type": "markdown",
   "id": "88418ecd",
   "metadata": {},
   "source": [
    "*Вывод:* Среднее расстояние, которое проезжают пользователи с подпиской за одну поездку, не превышает 3130 метров. "
   ]
  },
  {
   "cell_type": "markdown",
   "id": "23d2a522",
   "metadata": {},
   "source": [
    "##### Помесячная выручка от пользователей с подпиской по месяцам выше, чем выручка от пользователей без подписки"
   ]
  },
  {
   "cell_type": "markdown",
   "id": "d7e1dc7b",
   "metadata": {},
   "source": [
    "H0 - Месячная выручка от пользователей с подпиской такая же как у пользователей без подписки.\n",
    "H1 - Месячная выручка от пользователей с подпиской не равна месячной выручке у пользователей без подписки."
   ]
  },
  {
   "cell_type": "code",
   "execution_count": null,
   "id": "5bb92e4e",
   "metadata": {},
   "outputs": [],
   "source": [
    "ultra_revenue = agreg.query('subscription_type == \"ultra\"')['monthly_revenue']\n",
    "free_revenue = agreg.query('subscription_type == \"free\"')['monthly_revenue']\n",
    "\n",
    "alpha = 0.05\n",
    "\n",
    "results = st.ttest_ind(ultra_revenue, free_revenue, alternative = 'greater')\n",
    "\n",
    "print('p-значение:', results.pvalue)\n",
    "\n",
    "if results.pvalue < alpha:\n",
    "    print('Принимаем альтернативную гипотезу')\n",
    "else:\n",
    "    print('Не получилось отвергнуть нулевую гипотезу') \n",
    "   \n",
    "print('Средняя месячная выручка пользователей Ultra',ultra_revenue.mean())\n",
    "print('Средняя месячная выручка пользователей Free',free_revenue.mean() )"
   ]
  },
  {
   "cell_type": "markdown",
   "id": "83eaa671",
   "metadata": {},
   "source": [
    "*Вывод:* Месячная выручка от пользователей с подпиской не равна месячной выручке у пользователей без подписки. И в среднем значении превышает ее."
   ]
  },
  {
   "cell_type": "markdown",
   "id": "9bcf5a27",
   "metadata": {},
   "source": [
    "##### Техническая команда сервиса обновила сервера, с которыми взаимодействует мобильное приложение"
   ]
  },
  {
   "cell_type": "markdown",
   "id": "c1cc836d",
   "metadata": {},
   "source": [
    "H0 - Количество обращений осталось таким же как и до обновления.\n",
    "H1 - Количество обращений снизилось после обновления."
   ]
  },
  {
   "cell_type": "markdown",
   "id": "424dd682",
   "metadata": {},
   "source": [
    "Предположим, что обновление было введено с 26.10.2023 г."
   ]
  },
  {
   "cell_type": "code",
   "execution_count": null,
   "id": "c9e680a0",
   "metadata": {},
   "outputs": [],
   "source": [
    "before_update = df[df['Period'] < pd.to_datetime('2023-10-26')]\n",
    "after_update = df[df['Period'] >= pd.to_datetime('2023-10-26')]\n",
    "\n",
    "before = before_update['contacting'] \n",
    "after = after_update['contacting'] \n",
    "\n",
    "alpha = 0.05\n",
    "\n",
    "results = st.ttest_ind(before, after, alternative = 'less')\n",
    "\n",
    "print('p-значение:', results.pvalue)\n",
    "\n",
    "if results.pvalue < alpha:\n",
    "    print('Принимаем альтернативную гипотезу')\n",
    "else:\n",
    "    print('Не получилось отвергнуть нулевую гипотезу') \n",
    "   \n",
    "print('Среднее количество обращений до обновления',before.mean())\n",
    "print('Среднее количество обращений после обновления',after.mean() )"
   ]
  },
  {
   "cell_type": "markdown",
   "id": "76b4bf37",
   "metadata": {},
   "source": [
    "#### Общий вывод\n"
   ]
  },
  {
   "cell_type": "markdown",
   "id": "ff927d5b",
   "metadata": {},
   "source": [
    "##### Описание проекта: \n",
    "На основании данных о некоторых пользователях популярного сервиса аренды самокатов GoFast из нескольких городов было необходимо провести анализ и проверить некоторые гипотезы, которые могут помочь бизнесу вырасти.\n",
    "\n",
    "##### Порядок обработки аномалий, пропусков и дубликатов, предобработка данных для анализа:\n",
    "В процессе ознакомления с данными было установлено наличие дубликатов в данных пользователей, которые были удалены.\n",
    "\n",
    "#####  Анализ:\n",
    "В ходе анализа были сделаны следующие выводы:\n",
    "- наиболее активно пользуются арендой самокатов в Пятигорске, Екатеринбурге и Ростов-на-Дону. Меньше всего в Москве;\n",
    "- пользователей без подписки на 17,7% больше, чем с подпиской;\n",
    "- наибольшим спросом аренда самокатов пользуется у возрастной группы от 18 до 25лет, немного уступает в количестве пользователей группа от 26 до 35 лет. И меньше всего используют самокаты пользователи старше 36 лет. \n",
    "- подавляющее большинство поездок совершается на расстояние от 2 до 4 км. Расстояние свыше 6 км на самокате практически не преодолевается. \n",
    "- наибольшее количество поездок занимают от 15 до 25 минут. Свыше 35 минут поездок очень мало.\n",
    "- средняя длительность поездки с подпиской превышает среднюю длительность поездки без подписки. Таким образом, мы можем сказать, что пользователи с подпиской тратят больше времени на поездки.\n",
    "- среднее расстояние, которое проезжают пользователи с подпиской за одну поездку, не превышает 3130 метров. \n",
    "- месячная выручка от пользователей с подпиской не равна месячной выручке у пользователей без подписки. И в среднем значении превышает ее."
   ]
  }
 ],
 "metadata": {
  "ExecuteTimeLog": [
   {
    "duration": 47,
    "start_time": "2023-10-25T08:56:16.726Z"
   },
   {
    "duration": 389,
    "start_time": "2023-10-25T08:56:21.274Z"
   },
   {
    "duration": 210,
    "start_time": "2023-10-25T08:56:23.073Z"
   },
   {
    "duration": 41,
    "start_time": "2023-10-25T08:57:29.161Z"
   },
   {
    "duration": 45,
    "start_time": "2023-10-25T08:57:32.461Z"
   },
   {
    "duration": 33,
    "start_time": "2023-10-25T08:57:34.418Z"
   },
   {
    "duration": 30,
    "start_time": "2023-10-25T09:02:43.773Z"
   },
   {
    "duration": 392,
    "start_time": "2023-10-25T09:02:53.260Z"
   },
   {
    "duration": 41,
    "start_time": "2023-10-25T09:02:53.654Z"
   },
   {
    "duration": 38,
    "start_time": "2023-10-25T09:02:53.696Z"
   },
   {
    "duration": 20,
    "start_time": "2023-10-25T09:02:53.735Z"
   },
   {
    "duration": 64,
    "start_time": "2023-10-25T09:02:53.757Z"
   },
   {
    "duration": 7,
    "start_time": "2023-10-25T09:03:13.398Z"
   },
   {
    "duration": 36,
    "start_time": "2023-10-25T09:07:00.163Z"
   },
   {
    "duration": 41,
    "start_time": "2023-10-25T09:07:57.119Z"
   },
   {
    "duration": 51,
    "start_time": "2023-10-25T09:08:27.499Z"
   },
   {
    "duration": 38,
    "start_time": "2023-10-25T09:08:50.163Z"
   },
   {
    "duration": 15,
    "start_time": "2023-10-25T09:15:27.477Z"
   },
   {
    "duration": 6,
    "start_time": "2023-10-25T09:16:56.645Z"
   },
   {
    "duration": 6,
    "start_time": "2023-10-25T09:17:38.445Z"
   },
   {
    "duration": 7,
    "start_time": "2023-10-25T09:17:48.588Z"
   },
   {
    "duration": 6,
    "start_time": "2023-10-25T09:18:10.855Z"
   },
   {
    "duration": 6,
    "start_time": "2023-10-25T09:18:21.260Z"
   },
   {
    "duration": 9,
    "start_time": "2023-10-25T09:23:57.584Z"
   },
   {
    "duration": 7,
    "start_time": "2023-10-25T09:24:11.642Z"
   },
   {
    "duration": 7,
    "start_time": "2023-10-25T09:24:29.327Z"
   },
   {
    "duration": 8,
    "start_time": "2023-10-25T09:24:53.848Z"
   },
   {
    "duration": 5,
    "start_time": "2023-10-25T09:26:48.911Z"
   },
   {
    "duration": 37,
    "start_time": "2023-10-25T09:28:09.589Z"
   },
   {
    "duration": 37,
    "start_time": "2023-10-25T09:28:19.462Z"
   },
   {
    "duration": 6,
    "start_time": "2023-10-25T09:29:00.710Z"
   },
   {
    "duration": 14,
    "start_time": "2023-10-25T09:29:49.333Z"
   },
   {
    "duration": 16,
    "start_time": "2023-10-25T09:30:22.859Z"
   },
   {
    "duration": 9,
    "start_time": "2023-10-25T09:36:52.401Z"
   },
   {
    "duration": 4,
    "start_time": "2023-10-25T09:37:12.720Z"
   },
   {
    "duration": 4,
    "start_time": "2023-10-25T09:37:26.888Z"
   },
   {
    "duration": 5,
    "start_time": "2023-10-25T09:37:36.128Z"
   },
   {
    "duration": 4,
    "start_time": "2023-10-25T09:37:50.119Z"
   },
   {
    "duration": 6,
    "start_time": "2023-10-25T09:38:17.207Z"
   },
   {
    "duration": 5,
    "start_time": "2023-10-25T09:38:38.943Z"
   },
   {
    "duration": 6,
    "start_time": "2023-10-25T09:38:44.639Z"
   },
   {
    "duration": 440,
    "start_time": "2023-10-25T09:41:19.854Z"
   },
   {
    "duration": 13,
    "start_time": "2023-10-25T09:41:47.515Z"
   },
   {
    "duration": 12,
    "start_time": "2023-10-25T09:42:02.181Z"
   },
   {
    "duration": 316,
    "start_time": "2023-10-25T09:44:55.587Z"
   },
   {
    "duration": 21,
    "start_time": "2023-10-25T09:45:38.827Z"
   },
   {
    "duration": 225,
    "start_time": "2023-10-25T09:45:52.170Z"
   },
   {
    "duration": 7,
    "start_time": "2023-10-25T09:47:03.746Z"
   },
   {
    "duration": 3,
    "start_time": "2023-10-25T09:47:07.474Z"
   },
   {
    "duration": 5,
    "start_time": "2023-10-25T09:47:10.022Z"
   },
   {
    "duration": 10,
    "start_time": "2023-10-25T09:47:11.658Z"
   },
   {
    "duration": 6,
    "start_time": "2023-10-25T09:47:23.826Z"
   },
   {
    "duration": 218,
    "start_time": "2023-10-25T09:47:25.713Z"
   },
   {
    "duration": 287,
    "start_time": "2023-10-25T09:47:40.697Z"
   },
   {
    "duration": 228,
    "start_time": "2023-10-25T09:47:52.409Z"
   },
   {
    "duration": 17,
    "start_time": "2023-10-25T10:36:50.260Z"
   },
   {
    "duration": 10,
    "start_time": "2023-10-25T10:37:07.369Z"
   },
   {
    "duration": 244,
    "start_time": "2023-10-25T10:37:15.513Z"
   },
   {
    "duration": 6,
    "start_time": "2023-10-25T10:38:35.401Z"
   },
   {
    "duration": 158,
    "start_time": "2023-10-25T10:39:33.729Z"
   },
   {
    "duration": 364,
    "start_time": "2023-10-25T10:42:21.102Z"
   },
   {
    "duration": 185,
    "start_time": "2023-10-25T10:42:53.111Z"
   },
   {
    "duration": 190,
    "start_time": "2023-10-25T10:42:58.543Z"
   },
   {
    "duration": 222,
    "start_time": "2023-10-25T10:45:44.972Z"
   },
   {
    "duration": 170,
    "start_time": "2023-10-25T10:46:00.256Z"
   },
   {
    "duration": 8,
    "start_time": "2023-10-25T10:47:21.107Z"
   },
   {
    "duration": 6,
    "start_time": "2023-10-25T10:47:54.970Z"
   },
   {
    "duration": 7,
    "start_time": "2023-10-25T10:48:19.723Z"
   },
   {
    "duration": 13,
    "start_time": "2023-10-25T11:36:24.664Z"
   },
   {
    "duration": 33,
    "start_time": "2023-10-25T11:37:34.289Z"
   },
   {
    "duration": 19,
    "start_time": "2023-10-25T11:37:56.523Z"
   },
   {
    "duration": 14,
    "start_time": "2023-10-25T11:38:47.818Z"
   },
   {
    "duration": 25,
    "start_time": "2023-10-25T11:39:10.585Z"
   },
   {
    "duration": 8,
    "start_time": "2023-10-25T11:39:36.377Z"
   },
   {
    "duration": 12,
    "start_time": "2023-10-25T11:40:00.617Z"
   },
   {
    "duration": 14,
    "start_time": "2023-10-25T11:40:16.424Z"
   },
   {
    "duration": 546,
    "start_time": "2023-10-25T11:41:52.009Z"
   },
   {
    "duration": 184,
    "start_time": "2023-10-25T11:42:10.423Z"
   },
   {
    "duration": 181,
    "start_time": "2023-10-25T11:43:17.342Z"
   },
   {
    "duration": 24,
    "start_time": "2023-10-25T11:50:10.063Z"
   },
   {
    "duration": 147,
    "start_time": "2023-10-25T11:50:24.978Z"
   },
   {
    "duration": 144,
    "start_time": "2023-10-25T11:50:40.442Z"
   },
   {
    "duration": 164,
    "start_time": "2023-10-25T11:50:55.271Z"
   },
   {
    "duration": 9,
    "start_time": "2023-10-25T11:56:00.971Z"
   },
   {
    "duration": 5,
    "start_time": "2023-10-25T11:56:12.245Z"
   },
   {
    "duration": 5,
    "start_time": "2023-10-25T11:56:47.670Z"
   },
   {
    "duration": 3,
    "start_time": "2023-10-25T12:04:11.594Z"
   },
   {
    "duration": 12,
    "start_time": "2023-10-25T12:05:48.624Z"
   },
   {
    "duration": 162,
    "start_time": "2023-10-25T12:07:06.598Z"
   },
   {
    "duration": 159,
    "start_time": "2023-10-25T12:08:43.176Z"
   },
   {
    "duration": 131,
    "start_time": "2023-10-25T12:08:57.741Z"
   },
   {
    "duration": 158,
    "start_time": "2023-10-25T12:09:11.173Z"
   },
   {
    "duration": 24,
    "start_time": "2023-10-25T12:40:06.908Z"
   },
   {
    "duration": 38,
    "start_time": "2023-10-25T12:44:26.273Z"
   },
   {
    "duration": 37,
    "start_time": "2023-10-25T12:45:41.901Z"
   },
   {
    "duration": 26,
    "start_time": "2023-10-25T12:46:35.094Z"
   },
   {
    "duration": 1762,
    "start_time": "2023-10-25T12:53:47.032Z"
   },
   {
    "duration": 33,
    "start_time": "2023-10-25T12:54:11.305Z"
   },
   {
    "duration": 21,
    "start_time": "2023-10-25T12:54:28.176Z"
   },
   {
    "duration": 183,
    "start_time": "2023-10-25T12:56:13.191Z"
   },
   {
    "duration": 8,
    "start_time": "2023-10-25T13:09:48.463Z"
   },
   {
    "duration": 148,
    "start_time": "2023-10-25T13:13:15.437Z"
   },
   {
    "duration": 6,
    "start_time": "2023-10-25T13:13:45.995Z"
   },
   {
    "duration": 150,
    "start_time": "2023-10-25T13:14:44.891Z"
   },
   {
    "duration": 263,
    "start_time": "2023-10-25T13:15:55.114Z"
   },
   {
    "duration": 383,
    "start_time": "2023-10-25T13:18:40.834Z"
   },
   {
    "duration": 48,
    "start_time": "2023-10-25T13:18:41.219Z"
   },
   {
    "duration": 42,
    "start_time": "2023-10-25T13:18:41.269Z"
   },
   {
    "duration": 27,
    "start_time": "2023-10-25T13:18:41.312Z"
   },
   {
    "duration": 15,
    "start_time": "2023-10-25T13:18:41.341Z"
   },
   {
    "duration": 5,
    "start_time": "2023-10-25T13:18:41.358Z"
   },
   {
    "duration": 9,
    "start_time": "2023-10-25T13:18:41.365Z"
   },
   {
    "duration": 36,
    "start_time": "2023-10-25T13:18:41.375Z"
   },
   {
    "duration": 8,
    "start_time": "2023-10-25T13:18:41.414Z"
   },
   {
    "duration": 27,
    "start_time": "2023-10-25T13:18:41.428Z"
   },
   {
    "duration": 12,
    "start_time": "2023-10-25T13:18:41.457Z"
   },
   {
    "duration": 11,
    "start_time": "2023-10-25T13:18:41.471Z"
   },
   {
    "duration": 12,
    "start_time": "2023-10-25T13:18:41.484Z"
   },
   {
    "duration": 455,
    "start_time": "2023-10-25T13:18:41.498Z"
   },
   {
    "duration": 7,
    "start_time": "2023-10-25T13:18:41.954Z"
   },
   {
    "duration": 147,
    "start_time": "2023-10-25T13:18:41.962Z"
   },
   {
    "duration": 13,
    "start_time": "2023-10-25T13:18:42.111Z"
   },
   {
    "duration": 174,
    "start_time": "2023-10-25T13:18:42.125Z"
   },
   {
    "duration": 167,
    "start_time": "2023-10-25T13:18:42.306Z"
   },
   {
    "duration": 5,
    "start_time": "2023-10-25T13:18:42.475Z"
   },
   {
    "duration": 174,
    "start_time": "2023-10-25T13:18:42.482Z"
   },
   {
    "duration": 413,
    "start_time": "2023-10-26T07:05:25.415Z"
   },
   {
    "duration": 103,
    "start_time": "2023-10-26T07:05:25.830Z"
   },
   {
    "duration": 168,
    "start_time": "2023-10-26T07:05:25.934Z"
   },
   {
    "duration": 65,
    "start_time": "2023-10-26T07:05:26.104Z"
   },
   {
    "duration": 107,
    "start_time": "2023-10-26T07:05:26.170Z"
   },
   {
    "duration": 305,
    "start_time": "2023-10-26T07:05:26.278Z"
   },
   {
    "duration": 10,
    "start_time": "2023-10-26T07:05:26.585Z"
   },
   {
    "duration": 18,
    "start_time": "2023-10-26T07:05:26.597Z"
   },
   {
    "duration": 8,
    "start_time": "2023-10-26T07:05:26.617Z"
   },
   {
    "duration": 8,
    "start_time": "2023-10-26T07:05:26.628Z"
   },
   {
    "duration": 5,
    "start_time": "2023-10-26T07:05:26.637Z"
   },
   {
    "duration": 18,
    "start_time": "2023-10-26T07:05:26.644Z"
   },
   {
    "duration": 20,
    "start_time": "2023-10-26T07:05:26.664Z"
   },
   {
    "duration": 567,
    "start_time": "2023-10-26T07:05:26.685Z"
   },
   {
    "duration": 6,
    "start_time": "2023-10-26T07:05:27.253Z"
   },
   {
    "duration": 138,
    "start_time": "2023-10-26T07:05:27.260Z"
   },
   {
    "duration": 15,
    "start_time": "2023-10-26T07:05:27.399Z"
   },
   {
    "duration": 149,
    "start_time": "2023-10-26T07:05:27.416Z"
   },
   {
    "duration": 146,
    "start_time": "2023-10-26T07:05:27.567Z"
   },
   {
    "duration": 4,
    "start_time": "2023-10-26T07:05:27.715Z"
   },
   {
    "duration": 197,
    "start_time": "2023-10-26T07:05:27.721Z"
   },
   {
    "duration": 65,
    "start_time": "2023-10-26T07:13:28.167Z"
   },
   {
    "duration": 8,
    "start_time": "2023-10-26T07:13:52.614Z"
   },
   {
    "duration": 11,
    "start_time": "2023-10-26T07:14:15.158Z"
   },
   {
    "duration": 22,
    "start_time": "2023-10-26T07:14:36.094Z"
   },
   {
    "duration": 18,
    "start_time": "2023-10-26T07:17:28.437Z"
   },
   {
    "duration": 20,
    "start_time": "2023-10-26T07:17:59.499Z"
   },
   {
    "duration": 7,
    "start_time": "2023-10-26T07:23:37.377Z"
   },
   {
    "duration": 1578,
    "start_time": "2023-10-26T07:23:49.249Z"
   },
   {
    "duration": 9,
    "start_time": "2023-10-26T07:31:32.000Z"
   },
   {
    "duration": 17,
    "start_time": "2023-10-26T07:31:51.863Z"
   },
   {
    "duration": 17,
    "start_time": "2023-10-26T07:33:19.158Z"
   },
   {
    "duration": 141,
    "start_time": "2023-10-26T07:35:31.870Z"
   },
   {
    "duration": 147,
    "start_time": "2023-10-26T07:37:47.925Z"
   },
   {
    "duration": 136,
    "start_time": "2023-10-26T07:40:34.722Z"
   },
   {
    "duration": 151,
    "start_time": "2023-10-26T07:41:41.499Z"
   },
   {
    "duration": 141,
    "start_time": "2023-10-26T07:42:27.945Z"
   },
   {
    "duration": 347,
    "start_time": "2023-10-26T07:44:15.298Z"
   },
   {
    "duration": 49,
    "start_time": "2023-10-26T07:44:15.646Z"
   },
   {
    "duration": 40,
    "start_time": "2023-10-26T07:44:15.696Z"
   },
   {
    "duration": 25,
    "start_time": "2023-10-26T07:44:15.738Z"
   },
   {
    "duration": 14,
    "start_time": "2023-10-26T07:44:15.765Z"
   },
   {
    "duration": 5,
    "start_time": "2023-10-26T07:44:15.780Z"
   },
   {
    "duration": 12,
    "start_time": "2023-10-26T07:44:15.787Z"
   },
   {
    "duration": 12,
    "start_time": "2023-10-26T07:44:15.801Z"
   },
   {
    "duration": 5,
    "start_time": "2023-10-26T07:44:15.814Z"
   },
   {
    "duration": 25,
    "start_time": "2023-10-26T07:44:15.821Z"
   },
   {
    "duration": 5,
    "start_time": "2023-10-26T07:44:15.847Z"
   },
   {
    "duration": 9,
    "start_time": "2023-10-26T07:44:15.853Z"
   },
   {
    "duration": 20,
    "start_time": "2023-10-26T07:44:15.863Z"
   },
   {
    "duration": 425,
    "start_time": "2023-10-26T07:44:15.884Z"
   },
   {
    "duration": 5,
    "start_time": "2023-10-26T07:44:16.311Z"
   },
   {
    "duration": 140,
    "start_time": "2023-10-26T07:44:16.317Z"
   },
   {
    "duration": 12,
    "start_time": "2023-10-26T07:44:16.458Z"
   },
   {
    "duration": 157,
    "start_time": "2023-10-26T07:44:16.471Z"
   },
   {
    "duration": 151,
    "start_time": "2023-10-26T07:44:16.629Z"
   },
   {
    "duration": 5,
    "start_time": "2023-10-26T07:44:16.782Z"
   },
   {
    "duration": 161,
    "start_time": "2023-10-26T07:44:16.788Z"
   },
   {
    "duration": 23,
    "start_time": "2023-10-26T07:44:16.951Z"
   },
   {
    "duration": 19,
    "start_time": "2023-10-26T07:44:16.976Z"
   },
   {
    "duration": 20,
    "start_time": "2023-10-26T07:44:16.996Z"
   },
   {
    "duration": 44,
    "start_time": "2023-10-26T07:44:17.017Z"
   },
   {
    "duration": 201,
    "start_time": "2023-10-26T07:44:17.062Z"
   },
   {
    "duration": 138,
    "start_time": "2023-10-26T07:44:17.265Z"
   },
   {
    "duration": 137,
    "start_time": "2023-10-26T07:44:17.407Z"
   },
   {
    "duration": 150,
    "start_time": "2023-10-26T07:44:17.546Z"
   },
   {
    "duration": 72,
    "start_time": "2023-10-26T07:57:29.224Z"
   },
   {
    "duration": 640,
    "start_time": "2023-10-26T07:57:40.023Z"
   },
   {
    "duration": 671,
    "start_time": "2023-10-26T07:57:55.928Z"
   },
   {
    "duration": 11,
    "start_time": "2023-10-26T08:14:47.678Z"
   },
   {
    "duration": 18,
    "start_time": "2023-10-26T08:15:02.221Z"
   },
   {
    "duration": 23,
    "start_time": "2023-10-26T08:15:22.288Z"
   },
   {
    "duration": 427,
    "start_time": "2023-10-26T09:05:13.381Z"
   },
   {
    "duration": 56,
    "start_time": "2023-10-26T09:05:13.810Z"
   },
   {
    "duration": 45,
    "start_time": "2023-10-26T09:05:13.868Z"
   },
   {
    "duration": 27,
    "start_time": "2023-10-26T09:05:13.915Z"
   },
   {
    "duration": 29,
    "start_time": "2023-10-26T09:05:13.945Z"
   },
   {
    "duration": 22,
    "start_time": "2023-10-26T09:05:13.977Z"
   },
   {
    "duration": 30,
    "start_time": "2023-10-26T09:05:14.001Z"
   },
   {
    "duration": 50,
    "start_time": "2023-10-26T09:05:14.033Z"
   },
   {
    "duration": 10,
    "start_time": "2023-10-26T09:05:14.089Z"
   },
   {
    "duration": 17,
    "start_time": "2023-10-26T09:05:14.102Z"
   },
   {
    "duration": 8,
    "start_time": "2023-10-26T09:05:14.123Z"
   },
   {
    "duration": 29,
    "start_time": "2023-10-26T09:05:14.133Z"
   },
   {
    "duration": 22,
    "start_time": "2023-10-26T09:05:14.164Z"
   },
   {
    "duration": 521,
    "start_time": "2023-10-26T09:05:14.190Z"
   },
   {
    "duration": 7,
    "start_time": "2023-10-26T09:05:14.712Z"
   },
   {
    "duration": 166,
    "start_time": "2023-10-26T09:05:14.720Z"
   },
   {
    "duration": 13,
    "start_time": "2023-10-26T09:05:14.887Z"
   },
   {
    "duration": 186,
    "start_time": "2023-10-26T09:05:14.901Z"
   },
   {
    "duration": 175,
    "start_time": "2023-10-26T09:05:15.089Z"
   },
   {
    "duration": 6,
    "start_time": "2023-10-26T09:05:15.265Z"
   },
   {
    "duration": 164,
    "start_time": "2023-10-26T09:05:15.272Z"
   },
   {
    "duration": 31,
    "start_time": "2023-10-26T09:05:15.438Z"
   },
   {
    "duration": 24,
    "start_time": "2023-10-26T09:05:15.471Z"
   },
   {
    "duration": 18,
    "start_time": "2023-10-26T09:05:15.497Z"
   },
   {
    "duration": 54,
    "start_time": "2023-10-26T09:05:15.516Z"
   },
   {
    "duration": 220,
    "start_time": "2023-10-26T09:05:15.572Z"
   },
   {
    "duration": 166,
    "start_time": "2023-10-26T09:05:15.793Z"
   },
   {
    "duration": 141,
    "start_time": "2023-10-26T09:05:15.969Z"
   },
   {
    "duration": 180,
    "start_time": "2023-10-26T09:05:16.111Z"
   },
   {
    "duration": 26,
    "start_time": "2023-10-26T09:05:16.293Z"
   },
   {
    "duration": 19,
    "start_time": "2023-10-26T09:06:32.736Z"
   },
   {
    "duration": 107,
    "start_time": "2023-10-26T09:13:26.901Z"
   },
   {
    "duration": 91,
    "start_time": "2023-10-26T09:13:47.437Z"
   },
   {
    "duration": 40,
    "start_time": "2023-10-26T09:23:23.282Z"
   },
   {
    "duration": 16,
    "start_time": "2023-10-26T09:26:15.502Z"
   },
   {
    "duration": 49,
    "start_time": "2023-10-26T09:26:22.247Z"
   },
   {
    "duration": 33,
    "start_time": "2023-10-26T09:28:42.162Z"
   },
   {
    "duration": 28,
    "start_time": "2023-10-26T09:28:47.173Z"
   },
   {
    "duration": 49,
    "start_time": "2023-10-26T09:29:02.249Z"
   },
   {
    "duration": 47,
    "start_time": "2023-10-26T09:29:24.155Z"
   },
   {
    "duration": 3,
    "start_time": "2023-10-26T09:41:45.273Z"
   },
   {
    "duration": 11,
    "start_time": "2023-10-26T09:41:47.542Z"
   },
   {
    "duration": 11,
    "start_time": "2023-10-26T09:41:55.477Z"
   },
   {
    "duration": 14,
    "start_time": "2023-10-26T09:42:22.327Z"
   },
   {
    "duration": 12,
    "start_time": "2023-10-26T09:44:11.267Z"
   },
   {
    "duration": 8,
    "start_time": "2023-10-26T09:44:24.621Z"
   },
   {
    "duration": 33,
    "start_time": "2023-10-26T09:46:46.788Z"
   },
   {
    "duration": 436,
    "start_time": "2023-10-26T09:47:22.995Z"
   },
   {
    "duration": 21,
    "start_time": "2023-10-26T09:48:12.835Z"
   },
   {
    "duration": 8,
    "start_time": "2023-10-26T09:48:28.787Z"
   },
   {
    "duration": 215,
    "start_time": "2023-10-26T09:48:38.180Z"
   },
   {
    "duration": 236,
    "start_time": "2023-10-26T09:48:50.739Z"
   },
   {
    "duration": 222,
    "start_time": "2023-10-26T09:53:44.496Z"
   },
   {
    "duration": 248,
    "start_time": "2023-10-26T09:55:36.206Z"
   },
   {
    "duration": 426,
    "start_time": "2023-10-26T09:58:12.277Z"
   },
   {
    "duration": 54,
    "start_time": "2023-10-26T09:58:12.705Z"
   },
   {
    "duration": 46,
    "start_time": "2023-10-26T09:58:12.765Z"
   },
   {
    "duration": 26,
    "start_time": "2023-10-26T09:58:12.813Z"
   },
   {
    "duration": 48,
    "start_time": "2023-10-26T09:58:12.840Z"
   },
   {
    "duration": 32,
    "start_time": "2023-10-26T09:58:12.890Z"
   },
   {
    "duration": 41,
    "start_time": "2023-10-26T09:58:12.925Z"
   },
   {
    "duration": 29,
    "start_time": "2023-10-26T09:58:12.971Z"
   },
   {
    "duration": 56,
    "start_time": "2023-10-26T09:58:13.002Z"
   },
   {
    "duration": 50,
    "start_time": "2023-10-26T09:58:13.060Z"
   },
   {
    "duration": 28,
    "start_time": "2023-10-26T09:58:13.112Z"
   },
   {
    "duration": 31,
    "start_time": "2023-10-26T09:58:13.142Z"
   },
   {
    "duration": 20,
    "start_time": "2023-10-26T09:58:13.179Z"
   },
   {
    "duration": 565,
    "start_time": "2023-10-26T09:58:13.201Z"
   },
   {
    "duration": 12,
    "start_time": "2023-10-26T09:58:13.768Z"
   },
   {
    "duration": 170,
    "start_time": "2023-10-26T09:58:13.781Z"
   },
   {
    "duration": 18,
    "start_time": "2023-10-26T09:58:13.952Z"
   },
   {
    "duration": 209,
    "start_time": "2023-10-26T09:58:13.971Z"
   },
   {
    "duration": 216,
    "start_time": "2023-10-26T09:58:14.183Z"
   },
   {
    "duration": 4,
    "start_time": "2023-10-26T09:58:14.402Z"
   },
   {
    "duration": 217,
    "start_time": "2023-10-26T09:58:14.408Z"
   },
   {
    "duration": 28,
    "start_time": "2023-10-26T09:58:14.626Z"
   },
   {
    "duration": 33,
    "start_time": "2023-10-26T09:58:14.658Z"
   },
   {
    "duration": 19,
    "start_time": "2023-10-26T09:58:14.693Z"
   },
   {
    "duration": 36,
    "start_time": "2023-10-26T09:58:14.714Z"
   },
   {
    "duration": 220,
    "start_time": "2023-10-26T09:58:14.756Z"
   },
   {
    "duration": 177,
    "start_time": "2023-10-26T09:58:14.980Z"
   },
   {
    "duration": 157,
    "start_time": "2023-10-26T09:58:15.159Z"
   },
   {
    "duration": 185,
    "start_time": "2023-10-26T09:58:15.317Z"
   },
   {
    "duration": 15,
    "start_time": "2023-10-26T09:58:15.503Z"
   },
   {
    "duration": 55,
    "start_time": "2023-10-26T09:58:15.519Z"
   },
   {
    "duration": 16,
    "start_time": "2023-10-26T09:58:15.576Z"
   },
   {
    "duration": 241,
    "start_time": "2023-10-26T09:58:15.593Z"
   },
   {
    "duration": 429,
    "start_time": "2023-10-26T10:13:29.538Z"
   },
   {
    "duration": 107,
    "start_time": "2023-10-26T10:15:05.960Z"
   },
   {
    "duration": 10,
    "start_time": "2023-10-26T10:15:29.295Z"
   },
   {
    "duration": 858,
    "start_time": "2023-10-26T10:15:40.570Z"
   },
   {
    "duration": 74,
    "start_time": "2023-10-26T10:15:41.430Z"
   },
   {
    "duration": 48,
    "start_time": "2023-10-26T10:15:41.505Z"
   },
   {
    "duration": 30,
    "start_time": "2023-10-26T10:15:41.559Z"
   },
   {
    "duration": 15,
    "start_time": "2023-10-26T10:15:41.591Z"
   },
   {
    "duration": 7,
    "start_time": "2023-10-26T10:15:41.607Z"
   },
   {
    "duration": 6,
    "start_time": "2023-10-26T10:15:41.616Z"
   },
   {
    "duration": 13,
    "start_time": "2023-10-26T10:15:41.625Z"
   },
   {
    "duration": 11,
    "start_time": "2023-10-26T10:15:41.646Z"
   },
   {
    "duration": 19,
    "start_time": "2023-10-26T10:15:41.659Z"
   },
   {
    "duration": 16,
    "start_time": "2023-10-26T10:15:41.679Z"
   },
   {
    "duration": 17,
    "start_time": "2023-10-26T10:15:41.697Z"
   },
   {
    "duration": 9,
    "start_time": "2023-10-26T10:15:41.715Z"
   },
   {
    "duration": 484,
    "start_time": "2023-10-26T10:15:41.726Z"
   },
   {
    "duration": 6,
    "start_time": "2023-10-26T10:15:42.211Z"
   },
   {
    "duration": 168,
    "start_time": "2023-10-26T10:15:42.219Z"
   },
   {
    "duration": 13,
    "start_time": "2023-10-26T10:15:42.388Z"
   },
   {
    "duration": 179,
    "start_time": "2023-10-26T10:15:42.402Z"
   },
   {
    "duration": 182,
    "start_time": "2023-10-26T10:15:42.582Z"
   },
   {
    "duration": 8,
    "start_time": "2023-10-26T10:15:42.765Z"
   },
   {
    "duration": 156,
    "start_time": "2023-10-26T10:15:42.775Z"
   },
   {
    "duration": 41,
    "start_time": "2023-10-26T10:15:42.933Z"
   },
   {
    "duration": 24,
    "start_time": "2023-10-26T10:15:42.976Z"
   },
   {
    "duration": 27,
    "start_time": "2023-10-26T10:15:43.002Z"
   },
   {
    "duration": 64,
    "start_time": "2023-10-26T10:15:43.030Z"
   },
   {
    "duration": 149,
    "start_time": "2023-10-26T10:15:43.096Z"
   },
   {
    "duration": 147,
    "start_time": "2023-10-26T10:15:43.251Z"
   },
   {
    "duration": 144,
    "start_time": "2023-10-26T10:15:43.400Z"
   },
   {
    "duration": 169,
    "start_time": "2023-10-26T10:15:43.545Z"
   },
   {
    "duration": 15,
    "start_time": "2023-10-26T10:15:43.716Z"
   },
   {
    "duration": 67,
    "start_time": "2023-10-26T10:15:43.732Z"
   },
   {
    "duration": 10,
    "start_time": "2023-10-26T10:15:43.800Z"
   },
   {
    "duration": 223,
    "start_time": "2023-10-26T10:15:43.812Z"
   },
   {
    "duration": 133,
    "start_time": "2023-10-26T10:15:44.037Z"
   },
   {
    "duration": 9,
    "start_time": "2023-10-26T10:26:37.935Z"
   },
   {
    "duration": 2109,
    "start_time": "2023-10-26T10:33:02.481Z"
   },
   {
    "duration": 10,
    "start_time": "2023-10-26T10:33:28.464Z"
   },
   {
    "duration": 7,
    "start_time": "2023-10-26T10:34:46.431Z"
   },
   {
    "duration": 9,
    "start_time": "2023-10-26T10:35:05.151Z"
   },
   {
    "duration": 11,
    "start_time": "2023-10-26T10:36:18.079Z"
   },
   {
    "duration": 5221,
    "start_time": "2023-10-26T12:45:00.593Z"
   },
   {
    "duration": 12,
    "start_time": "2023-10-26T12:45:56.721Z"
   },
   {
    "duration": 18,
    "start_time": "2023-10-26T12:49:33.285Z"
   },
   {
    "duration": 8,
    "start_time": "2023-10-26T12:50:15.605Z"
   },
   {
    "duration": 836,
    "start_time": "2023-10-26T12:50:31.002Z"
   },
   {
    "duration": 46,
    "start_time": "2023-10-26T12:50:31.840Z"
   },
   {
    "duration": 41,
    "start_time": "2023-10-26T12:50:31.887Z"
   },
   {
    "duration": 25,
    "start_time": "2023-10-26T12:50:31.930Z"
   },
   {
    "duration": 14,
    "start_time": "2023-10-26T12:50:31.957Z"
   },
   {
    "duration": 25,
    "start_time": "2023-10-26T12:50:31.972Z"
   },
   {
    "duration": 32,
    "start_time": "2023-10-26T12:50:31.999Z"
   },
   {
    "duration": 42,
    "start_time": "2023-10-26T12:50:32.034Z"
   },
   {
    "duration": 43,
    "start_time": "2023-10-26T12:50:32.078Z"
   },
   {
    "duration": 65,
    "start_time": "2023-10-26T12:50:32.125Z"
   },
   {
    "duration": 54,
    "start_time": "2023-10-26T12:50:32.192Z"
   },
   {
    "duration": 285,
    "start_time": "2023-10-26T12:50:32.248Z"
   },
   {
    "duration": 179,
    "start_time": "2023-10-26T12:50:32.535Z"
   },
   {
    "duration": 632,
    "start_time": "2023-10-26T12:50:32.715Z"
   },
   {
    "duration": 5,
    "start_time": "2023-10-26T12:50:33.349Z"
   },
   {
    "duration": 161,
    "start_time": "2023-10-26T12:50:33.355Z"
   },
   {
    "duration": 12,
    "start_time": "2023-10-26T12:50:33.517Z"
   },
   {
    "duration": 203,
    "start_time": "2023-10-26T12:50:33.531Z"
   },
   {
    "duration": 163,
    "start_time": "2023-10-26T12:50:33.735Z"
   },
   {
    "duration": 5,
    "start_time": "2023-10-26T12:50:33.900Z"
   },
   {
    "duration": 206,
    "start_time": "2023-10-26T12:50:33.907Z"
   },
   {
    "duration": 36,
    "start_time": "2023-10-26T12:50:34.115Z"
   },
   {
    "duration": 26,
    "start_time": "2023-10-26T12:50:34.154Z"
   },
   {
    "duration": 27,
    "start_time": "2023-10-26T12:50:34.183Z"
   },
   {
    "duration": 48,
    "start_time": "2023-10-26T12:50:34.212Z"
   },
   {
    "duration": 183,
    "start_time": "2023-10-26T12:50:34.263Z"
   },
   {
    "duration": 157,
    "start_time": "2023-10-26T12:50:34.448Z"
   },
   {
    "duration": 157,
    "start_time": "2023-10-26T12:50:34.608Z"
   },
   {
    "duration": 172,
    "start_time": "2023-10-26T12:50:34.767Z"
   },
   {
    "duration": 18,
    "start_time": "2023-10-26T12:50:34.943Z"
   },
   {
    "duration": 46,
    "start_time": "2023-10-26T12:50:34.962Z"
   },
   {
    "duration": 12,
    "start_time": "2023-10-26T12:50:35.009Z"
   },
   {
    "duration": 225,
    "start_time": "2023-10-26T12:50:35.023Z"
   },
   {
    "duration": 12,
    "start_time": "2023-10-26T12:50:35.250Z"
   },
   {
    "duration": 8,
    "start_time": "2023-10-26T12:50:35.263Z"
   },
   {
    "duration": 8,
    "start_time": "2023-10-26T13:19:16.602Z"
   },
   {
    "duration": 909,
    "start_time": "2023-10-26T13:19:23.858Z"
   },
   {
    "duration": 46,
    "start_time": "2023-10-26T13:19:24.769Z"
   },
   {
    "duration": 68,
    "start_time": "2023-10-26T13:19:24.816Z"
   },
   {
    "duration": 28,
    "start_time": "2023-10-26T13:19:24.886Z"
   },
   {
    "duration": 14,
    "start_time": "2023-10-26T13:19:24.916Z"
   },
   {
    "duration": 13,
    "start_time": "2023-10-26T13:19:24.932Z"
   },
   {
    "duration": 12,
    "start_time": "2023-10-26T13:19:24.946Z"
   },
   {
    "duration": 15,
    "start_time": "2023-10-26T13:19:24.960Z"
   },
   {
    "duration": 6,
    "start_time": "2023-10-26T13:19:24.976Z"
   },
   {
    "duration": 19,
    "start_time": "2023-10-26T13:19:24.984Z"
   },
   {
    "duration": 13,
    "start_time": "2023-10-26T13:19:25.004Z"
   },
   {
    "duration": 8,
    "start_time": "2023-10-26T13:19:25.019Z"
   },
   {
    "duration": 9,
    "start_time": "2023-10-26T13:19:25.029Z"
   },
   {
    "duration": 644,
    "start_time": "2023-10-26T13:19:25.040Z"
   },
   {
    "duration": 6,
    "start_time": "2023-10-26T13:19:25.685Z"
   },
   {
    "duration": 150,
    "start_time": "2023-10-26T13:19:25.692Z"
   },
   {
    "duration": 21,
    "start_time": "2023-10-26T13:19:25.843Z"
   },
   {
    "duration": 159,
    "start_time": "2023-10-26T13:19:25.866Z"
   },
   {
    "duration": 154,
    "start_time": "2023-10-26T13:19:26.026Z"
   },
   {
    "duration": 4,
    "start_time": "2023-10-26T13:19:26.182Z"
   },
   {
    "duration": 183,
    "start_time": "2023-10-26T13:19:26.187Z"
   },
   {
    "duration": 27,
    "start_time": "2023-10-26T13:19:26.372Z"
   },
   {
    "duration": 20,
    "start_time": "2023-10-26T13:19:26.401Z"
   },
   {
    "duration": 40,
    "start_time": "2023-10-26T13:19:26.423Z"
   },
   {
    "duration": 32,
    "start_time": "2023-10-26T13:19:26.465Z"
   },
   {
    "duration": 150,
    "start_time": "2023-10-26T13:19:26.498Z"
   },
   {
    "duration": 141,
    "start_time": "2023-10-26T13:19:26.650Z"
   },
   {
    "duration": 135,
    "start_time": "2023-10-26T13:19:26.794Z"
   },
   {
    "duration": 148,
    "start_time": "2023-10-26T13:19:26.931Z"
   },
   {
    "duration": 15,
    "start_time": "2023-10-26T13:19:27.081Z"
   },
   {
    "duration": 49,
    "start_time": "2023-10-26T13:19:27.097Z"
   },
   {
    "duration": 14,
    "start_time": "2023-10-26T13:19:27.147Z"
   },
   {
    "duration": 213,
    "start_time": "2023-10-26T13:19:27.162Z"
   },
   {
    "duration": 11,
    "start_time": "2023-10-26T13:19:27.377Z"
   },
   {
    "duration": 27,
    "start_time": "2023-10-26T13:19:27.389Z"
   },
   {
    "duration": 13,
    "start_time": "2023-10-26T13:32:39.827Z"
   },
   {
    "duration": 13,
    "start_time": "2023-10-26T13:37:04.957Z"
   },
   {
    "duration": 11,
    "start_time": "2023-10-26T13:37:40.756Z"
   },
   {
    "duration": 97,
    "start_time": "2023-10-26T16:45:37.354Z"
   },
   {
    "duration": 853,
    "start_time": "2023-10-26T16:54:46.046Z"
   },
   {
    "duration": 45,
    "start_time": "2023-10-26T16:54:46.901Z"
   },
   {
    "duration": 40,
    "start_time": "2023-10-26T16:54:46.948Z"
   },
   {
    "duration": 26,
    "start_time": "2023-10-26T16:54:46.990Z"
   },
   {
    "duration": 17,
    "start_time": "2023-10-26T16:54:47.018Z"
   },
   {
    "duration": 12,
    "start_time": "2023-10-26T16:54:47.036Z"
   },
   {
    "duration": 12,
    "start_time": "2023-10-26T16:54:47.049Z"
   },
   {
    "duration": 15,
    "start_time": "2023-10-26T16:54:47.062Z"
   },
   {
    "duration": 5,
    "start_time": "2023-10-26T16:54:47.079Z"
   },
   {
    "duration": 7,
    "start_time": "2023-10-26T16:54:47.087Z"
   },
   {
    "duration": 6,
    "start_time": "2023-10-26T16:54:47.095Z"
   },
   {
    "duration": 10,
    "start_time": "2023-10-26T16:54:47.102Z"
   },
   {
    "duration": 32,
    "start_time": "2023-10-26T16:54:47.113Z"
   },
   {
    "duration": 574,
    "start_time": "2023-10-26T16:54:47.147Z"
   },
   {
    "duration": 5,
    "start_time": "2023-10-26T16:54:47.723Z"
   },
   {
    "duration": 138,
    "start_time": "2023-10-26T16:54:47.729Z"
   },
   {
    "duration": 12,
    "start_time": "2023-10-26T16:54:47.868Z"
   },
   {
    "duration": 159,
    "start_time": "2023-10-26T16:54:47.881Z"
   },
   {
    "duration": 151,
    "start_time": "2023-10-26T16:54:48.042Z"
   },
   {
    "duration": 5,
    "start_time": "2023-10-26T16:54:48.194Z"
   },
   {
    "duration": 160,
    "start_time": "2023-10-26T16:54:48.201Z"
   },
   {
    "duration": 21,
    "start_time": "2023-10-26T16:54:48.362Z"
   },
   {
    "duration": 19,
    "start_time": "2023-10-26T16:54:48.385Z"
   },
   {
    "duration": 40,
    "start_time": "2023-10-26T16:54:48.405Z"
   },
   {
    "duration": 16,
    "start_time": "2023-10-26T16:54:48.447Z"
   },
   {
    "duration": 156,
    "start_time": "2023-10-26T16:54:48.464Z"
   },
   {
    "duration": 146,
    "start_time": "2023-10-26T16:54:48.621Z"
   },
   {
    "duration": 134,
    "start_time": "2023-10-26T16:54:48.771Z"
   },
   {
    "duration": 158,
    "start_time": "2023-10-26T16:54:48.906Z"
   },
   {
    "duration": 14,
    "start_time": "2023-10-26T16:54:49.065Z"
   },
   {
    "duration": 42,
    "start_time": "2023-10-26T16:54:49.080Z"
   },
   {
    "duration": 22,
    "start_time": "2023-10-26T16:54:49.123Z"
   },
   {
    "duration": 204,
    "start_time": "2023-10-26T16:54:49.147Z"
   },
   {
    "duration": 13,
    "start_time": "2023-10-26T16:54:49.353Z"
   },
   {
    "duration": 14,
    "start_time": "2023-10-26T16:54:49.367Z"
   },
   {
    "duration": 18,
    "start_time": "2023-10-26T16:54:49.382Z"
   },
   {
    "duration": 108,
    "start_time": "2023-10-26T16:54:49.402Z"
   },
   {
    "duration": 7,
    "start_time": "2023-10-26T17:00:16.288Z"
   },
   {
    "duration": 9,
    "start_time": "2023-10-26T17:01:54.889Z"
   },
   {
    "duration": 9,
    "start_time": "2023-10-26T17:02:26.873Z"
   },
   {
    "duration": 9,
    "start_time": "2023-10-26T17:09:10.746Z"
   },
   {
    "duration": 815,
    "start_time": "2023-10-26T17:25:03.667Z"
   },
   {
    "duration": 48,
    "start_time": "2023-10-26T17:25:04.484Z"
   },
   {
    "duration": 41,
    "start_time": "2023-10-26T17:25:04.533Z"
   },
   {
    "duration": 27,
    "start_time": "2023-10-26T17:25:04.575Z"
   },
   {
    "duration": 14,
    "start_time": "2023-10-26T17:25:04.604Z"
   },
   {
    "duration": 29,
    "start_time": "2023-10-26T17:25:04.620Z"
   },
   {
    "duration": 21,
    "start_time": "2023-10-26T17:25:04.650Z"
   },
   {
    "duration": 22,
    "start_time": "2023-10-26T17:25:04.672Z"
   },
   {
    "duration": 6,
    "start_time": "2023-10-26T17:25:04.695Z"
   },
   {
    "duration": 8,
    "start_time": "2023-10-26T17:25:04.703Z"
   },
   {
    "duration": 17,
    "start_time": "2023-10-26T17:25:04.713Z"
   },
   {
    "duration": 13,
    "start_time": "2023-10-26T17:25:04.731Z"
   },
   {
    "duration": 13,
    "start_time": "2023-10-26T17:25:04.746Z"
   },
   {
    "duration": 546,
    "start_time": "2023-10-26T17:25:04.762Z"
   },
   {
    "duration": 5,
    "start_time": "2023-10-26T17:25:05.310Z"
   },
   {
    "duration": 139,
    "start_time": "2023-10-26T17:25:05.317Z"
   },
   {
    "duration": 12,
    "start_time": "2023-10-26T17:25:05.458Z"
   },
   {
    "duration": 154,
    "start_time": "2023-10-26T17:25:05.472Z"
   },
   {
    "duration": 154,
    "start_time": "2023-10-26T17:25:05.628Z"
   },
   {
    "duration": 4,
    "start_time": "2023-10-26T17:25:05.784Z"
   },
   {
    "duration": 154,
    "start_time": "2023-10-26T17:25:05.790Z"
   },
   {
    "duration": 20,
    "start_time": "2023-10-26T17:25:05.946Z"
   },
   {
    "duration": 20,
    "start_time": "2023-10-26T17:25:05.968Z"
   },
   {
    "duration": 20,
    "start_time": "2023-10-26T17:25:05.990Z"
   },
   {
    "duration": 44,
    "start_time": "2023-10-26T17:25:06.011Z"
   },
   {
    "duration": 150,
    "start_time": "2023-10-26T17:25:06.057Z"
   },
   {
    "duration": 164,
    "start_time": "2023-10-26T17:25:06.209Z"
   },
   {
    "duration": 134,
    "start_time": "2023-10-26T17:25:06.374Z"
   },
   {
    "duration": 154,
    "start_time": "2023-10-26T17:25:06.509Z"
   },
   {
    "duration": 15,
    "start_time": "2023-10-26T17:25:06.665Z"
   },
   {
    "duration": 46,
    "start_time": "2023-10-26T17:25:06.682Z"
   },
   {
    "duration": 18,
    "start_time": "2023-10-26T17:25:06.730Z"
   },
   {
    "duration": 199,
    "start_time": "2023-10-26T17:25:06.749Z"
   },
   {
    "duration": 12,
    "start_time": "2023-10-26T17:25:06.950Z"
   },
   {
    "duration": 14,
    "start_time": "2023-10-26T17:25:06.964Z"
   },
   {
    "duration": 13,
    "start_time": "2023-10-26T17:25:06.980Z"
   },
   {
    "duration": 128,
    "start_time": "2023-10-26T17:25:06.994Z"
   },
   {
    "duration": 861,
    "start_time": "2023-10-26T19:34:33.281Z"
   },
   {
    "duration": 104,
    "start_time": "2023-10-26T19:34:34.145Z"
   },
   {
    "duration": 91,
    "start_time": "2023-10-26T19:34:34.251Z"
   },
   {
    "duration": 72,
    "start_time": "2023-10-26T19:34:34.346Z"
   },
   {
    "duration": 29,
    "start_time": "2023-10-26T19:34:34.422Z"
   },
   {
    "duration": 5,
    "start_time": "2023-10-26T19:34:34.453Z"
   },
   {
    "duration": 17,
    "start_time": "2023-10-26T19:34:34.460Z"
   },
   {
    "duration": 37,
    "start_time": "2023-10-26T19:34:34.478Z"
   },
   {
    "duration": 14,
    "start_time": "2023-10-26T19:34:34.521Z"
   },
   {
    "duration": 15,
    "start_time": "2023-10-26T19:34:34.538Z"
   },
   {
    "duration": 6,
    "start_time": "2023-10-26T19:34:34.555Z"
   },
   {
    "duration": 11,
    "start_time": "2023-10-26T19:34:34.562Z"
   },
   {
    "duration": 16,
    "start_time": "2023-10-26T19:34:34.575Z"
   },
   {
    "duration": 5,
    "start_time": "2023-10-26T19:34:34.593Z"
   },
   {
    "duration": 512,
    "start_time": "2023-10-26T19:34:34.599Z"
   },
   {
    "duration": 20,
    "start_time": "2023-10-26T19:34:35.122Z"
   },
   {
    "duration": 150,
    "start_time": "2023-10-26T19:34:35.148Z"
   },
   {
    "duration": 31,
    "start_time": "2023-10-26T19:34:35.300Z"
   },
   {
    "duration": 170,
    "start_time": "2023-10-26T19:34:35.333Z"
   },
   {
    "duration": 199,
    "start_time": "2023-10-26T19:34:35.505Z"
   },
   {
    "duration": 14,
    "start_time": "2023-10-26T19:34:35.708Z"
   },
   {
    "duration": 207,
    "start_time": "2023-10-26T19:34:35.726Z"
   },
   {
    "duration": 30,
    "start_time": "2023-10-26T19:34:35.935Z"
   },
   {
    "duration": 25,
    "start_time": "2023-10-26T19:34:35.967Z"
   },
   {
    "duration": 55,
    "start_time": "2023-10-26T19:34:35.994Z"
   },
   {
    "duration": 20,
    "start_time": "2023-10-26T19:34:36.053Z"
   },
   {
    "duration": 194,
    "start_time": "2023-10-26T19:34:36.075Z"
   },
   {
    "duration": 196,
    "start_time": "2023-10-26T19:34:36.274Z"
   },
   {
    "duration": 177,
    "start_time": "2023-10-26T19:34:36.471Z"
   },
   {
    "duration": 186,
    "start_time": "2023-10-26T19:34:36.650Z"
   },
   {
    "duration": 20,
    "start_time": "2023-10-26T19:34:36.842Z"
   },
   {
    "duration": 56,
    "start_time": "2023-10-26T19:34:36.863Z"
   },
   {
    "duration": 36,
    "start_time": "2023-10-26T19:34:36.921Z"
   },
   {
    "duration": 236,
    "start_time": "2023-10-26T19:34:36.959Z"
   },
   {
    "duration": 25,
    "start_time": "2023-10-26T19:34:37.197Z"
   },
   {
    "duration": 38,
    "start_time": "2023-10-26T19:34:37.223Z"
   },
   {
    "duration": 34,
    "start_time": "2023-10-26T19:34:37.262Z"
   },
   {
    "duration": 128,
    "start_time": "2023-10-26T19:34:37.298Z"
   },
   {
    "duration": 47,
    "start_time": "2023-10-27T05:29:52.480Z"
   },
   {
    "duration": 835,
    "start_time": "2023-10-27T05:30:33.168Z"
   },
   {
    "duration": 95,
    "start_time": "2023-10-27T05:30:34.004Z"
   },
   {
    "duration": 81,
    "start_time": "2023-10-27T05:30:34.100Z"
   },
   {
    "duration": 64,
    "start_time": "2023-10-27T05:30:34.183Z"
   },
   {
    "duration": 13,
    "start_time": "2023-10-27T05:30:34.249Z"
   },
   {
    "duration": 15,
    "start_time": "2023-10-27T05:30:34.264Z"
   },
   {
    "duration": 26,
    "start_time": "2023-10-27T05:30:34.281Z"
   },
   {
    "duration": 16,
    "start_time": "2023-10-27T05:30:34.309Z"
   },
   {
    "duration": 43,
    "start_time": "2023-10-27T05:30:34.327Z"
   },
   {
    "duration": 37,
    "start_time": "2023-10-27T05:30:34.373Z"
   },
   {
    "duration": 25,
    "start_time": "2023-10-27T05:30:34.412Z"
   },
   {
    "duration": 30,
    "start_time": "2023-10-27T05:30:34.439Z"
   },
   {
    "duration": 24,
    "start_time": "2023-10-27T05:30:34.470Z"
   },
   {
    "duration": 16,
    "start_time": "2023-10-27T05:30:34.496Z"
   },
   {
    "duration": 613,
    "start_time": "2023-10-27T05:30:34.513Z"
   },
   {
    "duration": 5,
    "start_time": "2023-10-27T05:30:35.128Z"
   },
   {
    "duration": 168,
    "start_time": "2023-10-27T05:30:35.135Z"
   },
   {
    "duration": 12,
    "start_time": "2023-10-27T05:30:35.304Z"
   },
   {
    "duration": 157,
    "start_time": "2023-10-27T05:30:35.318Z"
   },
   {
    "duration": 152,
    "start_time": "2023-10-27T05:30:35.477Z"
   },
   {
    "duration": 4,
    "start_time": "2023-10-27T05:30:35.631Z"
   },
   {
    "duration": 191,
    "start_time": "2023-10-27T05:30:35.637Z"
   },
   {
    "duration": 22,
    "start_time": "2023-10-27T05:30:35.830Z"
   },
   {
    "duration": 35,
    "start_time": "2023-10-27T05:30:35.853Z"
   },
   {
    "duration": 32,
    "start_time": "2023-10-27T05:30:35.890Z"
   },
   {
    "duration": 21,
    "start_time": "2023-10-27T05:30:35.925Z"
   },
   {
    "duration": 208,
    "start_time": "2023-10-27T05:30:35.948Z"
   },
   {
    "duration": 171,
    "start_time": "2023-10-27T05:30:36.159Z"
   },
   {
    "duration": 135,
    "start_time": "2023-10-27T05:30:36.331Z"
   },
   {
    "duration": 155,
    "start_time": "2023-10-27T05:30:36.467Z"
   },
   {
    "duration": 15,
    "start_time": "2023-10-27T05:30:36.623Z"
   },
   {
    "duration": 39,
    "start_time": "2023-10-27T05:30:36.639Z"
   },
   {
    "duration": 100,
    "start_time": "2023-10-27T05:30:36.679Z"
   },
   {
    "duration": 195,
    "start_time": "2023-10-27T05:30:36.781Z"
   },
   {
    "duration": 11,
    "start_time": "2023-10-27T05:30:36.978Z"
   },
   {
    "duration": 20,
    "start_time": "2023-10-27T05:30:36.991Z"
   },
   {
    "duration": 14,
    "start_time": "2023-10-27T05:30:37.013Z"
   },
   {
    "duration": 110,
    "start_time": "2023-10-27T05:30:37.029Z"
   },
   {
    "duration": 6,
    "start_time": "2023-10-27T05:31:07.975Z"
   },
   {
    "duration": 34,
    "start_time": "2023-10-27T05:33:16.430Z"
   },
   {
    "duration": 4,
    "start_time": "2023-10-27T05:52:14.797Z"
   },
   {
    "duration": 102,
    "start_time": "2023-10-27T05:52:46.258Z"
   },
   {
    "duration": 121,
    "start_time": "2023-10-27T06:01:17.165Z"
   },
   {
    "duration": 86,
    "start_time": "2023-10-27T06:01:37.767Z"
   },
   {
    "duration": 148,
    "start_time": "2023-10-27T06:04:23.429Z"
   },
   {
    "duration": 11,
    "start_time": "2023-10-27T06:08:44.674Z"
   },
   {
    "duration": 152,
    "start_time": "2023-10-27T06:08:53.050Z"
   },
   {
    "duration": 17,
    "start_time": "2023-10-27T06:13:12.663Z"
   },
   {
    "duration": 127,
    "start_time": "2023-10-27T06:13:44.591Z"
   },
   {
    "duration": 265,
    "start_time": "2023-10-27T06:17:34.420Z"
   },
   {
    "duration": 129,
    "start_time": "2023-10-27T06:18:30.462Z"
   },
   {
    "duration": 300,
    "start_time": "2023-10-27T06:18:57.844Z"
   },
   {
    "duration": 20,
    "start_time": "2023-10-27T06:20:53.580Z"
   },
   {
    "duration": 15,
    "start_time": "2023-10-27T06:21:18.595Z"
   },
   {
    "duration": 15,
    "start_time": "2023-10-27T06:22:21.186Z"
   },
   {
    "duration": 1081,
    "start_time": "2023-10-27T06:22:25.563Z"
   },
   {
    "duration": 96,
    "start_time": "2023-10-27T06:22:26.646Z"
   },
   {
    "duration": 43,
    "start_time": "2023-10-27T06:22:26.744Z"
   },
   {
    "duration": 27,
    "start_time": "2023-10-27T06:22:26.789Z"
   },
   {
    "duration": 46,
    "start_time": "2023-10-27T06:22:26.818Z"
   },
   {
    "duration": 6,
    "start_time": "2023-10-27T06:22:26.866Z"
   },
   {
    "duration": 30,
    "start_time": "2023-10-27T06:22:26.873Z"
   },
   {
    "duration": 31,
    "start_time": "2023-10-27T06:22:26.905Z"
   },
   {
    "duration": 18,
    "start_time": "2023-10-27T06:22:26.938Z"
   },
   {
    "duration": 9,
    "start_time": "2023-10-27T06:22:26.959Z"
   },
   {
    "duration": 21,
    "start_time": "2023-10-27T06:22:26.970Z"
   },
   {
    "duration": 18,
    "start_time": "2023-10-27T06:22:26.993Z"
   },
   {
    "duration": 12,
    "start_time": "2023-10-27T06:22:27.013Z"
   },
   {
    "duration": 21,
    "start_time": "2023-10-27T06:22:27.027Z"
   },
   {
    "duration": 171,
    "start_time": "2023-10-27T06:22:27.050Z"
   },
   {
    "duration": 7,
    "start_time": "2023-10-27T06:22:27.223Z"
   },
   {
    "duration": 169,
    "start_time": "2023-10-27T06:22:27.231Z"
   },
   {
    "duration": 19,
    "start_time": "2023-10-27T06:22:27.402Z"
   },
   {
    "duration": 155,
    "start_time": "2023-10-27T06:22:27.423Z"
   },
   {
    "duration": 310,
    "start_time": "2023-10-27T06:22:27.579Z"
   },
   {
    "duration": 170,
    "start_time": "2023-10-27T06:22:27.890Z"
   },
   {
    "duration": 108,
    "start_time": "2023-10-27T06:22:28.062Z"
   },
   {
    "duration": 0,
    "start_time": "2023-10-27T06:22:28.173Z"
   },
   {
    "duration": 0,
    "start_time": "2023-10-27T06:22:28.174Z"
   },
   {
    "duration": 0,
    "start_time": "2023-10-27T06:22:28.175Z"
   },
   {
    "duration": 0,
    "start_time": "2023-10-27T06:22:28.177Z"
   },
   {
    "duration": 0,
    "start_time": "2023-10-27T06:22:28.178Z"
   },
   {
    "duration": 0,
    "start_time": "2023-10-27T06:22:28.179Z"
   },
   {
    "duration": 0,
    "start_time": "2023-10-27T06:22:28.180Z"
   },
   {
    "duration": 0,
    "start_time": "2023-10-27T06:22:28.181Z"
   },
   {
    "duration": 0,
    "start_time": "2023-10-27T06:22:28.183Z"
   },
   {
    "duration": 0,
    "start_time": "2023-10-27T06:22:28.184Z"
   },
   {
    "duration": 0,
    "start_time": "2023-10-27T06:22:28.207Z"
   },
   {
    "duration": 0,
    "start_time": "2023-10-27T06:22:28.209Z"
   },
   {
    "duration": 0,
    "start_time": "2023-10-27T06:22:28.211Z"
   },
   {
    "duration": 0,
    "start_time": "2023-10-27T06:22:28.213Z"
   },
   {
    "duration": 0,
    "start_time": "2023-10-27T06:22:28.215Z"
   },
   {
    "duration": 0,
    "start_time": "2023-10-27T06:22:28.217Z"
   },
   {
    "duration": 0,
    "start_time": "2023-10-27T06:22:28.218Z"
   },
   {
    "duration": 0,
    "start_time": "2023-10-27T06:22:28.220Z"
   },
   {
    "duration": 14,
    "start_time": "2023-10-27T06:22:53.219Z"
   },
   {
    "duration": 1066,
    "start_time": "2023-10-27T06:23:52.582Z"
   },
   {
    "duration": 99,
    "start_time": "2023-10-27T06:23:53.650Z"
   },
   {
    "duration": 41,
    "start_time": "2023-10-27T06:23:53.751Z"
   },
   {
    "duration": 26,
    "start_time": "2023-10-27T06:23:53.794Z"
   },
   {
    "duration": 22,
    "start_time": "2023-10-27T06:23:53.821Z"
   },
   {
    "duration": 6,
    "start_time": "2023-10-27T06:23:53.844Z"
   },
   {
    "duration": 19,
    "start_time": "2023-10-27T06:23:53.852Z"
   },
   {
    "duration": 10,
    "start_time": "2023-10-27T06:23:53.873Z"
   },
   {
    "duration": 20,
    "start_time": "2023-10-27T06:23:53.885Z"
   },
   {
    "duration": 17,
    "start_time": "2023-10-27T06:23:53.907Z"
   },
   {
    "duration": 17,
    "start_time": "2023-10-27T06:23:53.925Z"
   },
   {
    "duration": 8,
    "start_time": "2023-10-27T06:23:53.943Z"
   },
   {
    "duration": 20,
    "start_time": "2023-10-27T06:23:53.953Z"
   },
   {
    "duration": 25,
    "start_time": "2023-10-27T06:23:53.974Z"
   },
   {
    "duration": 190,
    "start_time": "2023-10-27T06:23:54.001Z"
   },
   {
    "duration": 5,
    "start_time": "2023-10-27T06:23:54.193Z"
   },
   {
    "duration": 135,
    "start_time": "2023-10-27T06:23:54.200Z"
   },
   {
    "duration": 11,
    "start_time": "2023-10-27T06:23:54.337Z"
   },
   {
    "duration": 153,
    "start_time": "2023-10-27T06:23:54.350Z"
   },
   {
    "duration": 280,
    "start_time": "2023-10-27T06:23:54.506Z"
   },
   {
    "duration": 151,
    "start_time": "2023-10-27T06:23:54.787Z"
   },
   {
    "duration": 1195,
    "start_time": "2023-10-27T06:25:19.473Z"
   },
   {
    "duration": 78,
    "start_time": "2023-10-27T06:25:20.670Z"
   },
   {
    "duration": 47,
    "start_time": "2023-10-27T06:25:20.749Z"
   },
   {
    "duration": 26,
    "start_time": "2023-10-27T06:25:20.797Z"
   },
   {
    "duration": 54,
    "start_time": "2023-10-27T06:25:20.826Z"
   },
   {
    "duration": 6,
    "start_time": "2023-10-27T06:25:20.882Z"
   },
   {
    "duration": 9,
    "start_time": "2023-10-27T06:25:20.890Z"
   },
   {
    "duration": 19,
    "start_time": "2023-10-27T06:25:20.900Z"
   },
   {
    "duration": 59,
    "start_time": "2023-10-27T06:25:20.921Z"
   },
   {
    "duration": 25,
    "start_time": "2023-10-27T06:25:20.982Z"
   },
   {
    "duration": 5,
    "start_time": "2023-10-27T06:25:21.009Z"
   },
   {
    "duration": 39,
    "start_time": "2023-10-27T06:25:21.016Z"
   },
   {
    "duration": 24,
    "start_time": "2023-10-27T06:25:21.057Z"
   },
   {
    "duration": 58,
    "start_time": "2023-10-27T06:25:21.085Z"
   },
   {
    "duration": 194,
    "start_time": "2023-10-27T06:25:21.144Z"
   },
   {
    "duration": 6,
    "start_time": "2023-10-27T06:25:21.339Z"
   },
   {
    "duration": 136,
    "start_time": "2023-10-27T06:25:21.346Z"
   },
   {
    "duration": 11,
    "start_time": "2023-10-27T06:25:21.484Z"
   },
   {
    "duration": 140,
    "start_time": "2023-10-27T06:25:21.507Z"
   },
   {
    "duration": 281,
    "start_time": "2023-10-27T06:25:21.648Z"
   },
   {
    "duration": 159,
    "start_time": "2023-10-27T06:25:21.931Z"
   },
   {
    "duration": 994,
    "start_time": "2023-10-27T06:26:42.235Z"
   },
   {
    "duration": 101,
    "start_time": "2023-10-27T06:26:43.231Z"
   },
   {
    "duration": 42,
    "start_time": "2023-10-27T06:26:43.333Z"
   },
   {
    "duration": 28,
    "start_time": "2023-10-27T06:26:43.377Z"
   },
   {
    "duration": 35,
    "start_time": "2023-10-27T06:26:43.407Z"
   },
   {
    "duration": 17,
    "start_time": "2023-10-27T06:26:43.443Z"
   },
   {
    "duration": 18,
    "start_time": "2023-10-27T06:26:43.462Z"
   },
   {
    "duration": 14,
    "start_time": "2023-10-27T06:26:43.482Z"
   },
   {
    "duration": 10,
    "start_time": "2023-10-27T06:26:43.497Z"
   },
   {
    "duration": 7,
    "start_time": "2023-10-27T06:26:43.509Z"
   },
   {
    "duration": 5,
    "start_time": "2023-10-27T06:26:43.517Z"
   },
   {
    "duration": 17,
    "start_time": "2023-10-27T06:26:43.524Z"
   },
   {
    "duration": 17,
    "start_time": "2023-10-27T06:26:43.542Z"
   },
   {
    "duration": 11,
    "start_time": "2023-10-27T06:26:43.561Z"
   },
   {
    "duration": 219,
    "start_time": "2023-10-27T06:26:43.573Z"
   },
   {
    "duration": 5,
    "start_time": "2023-10-27T06:26:43.793Z"
   },
   {
    "duration": 158,
    "start_time": "2023-10-27T06:26:43.799Z"
   },
   {
    "duration": 11,
    "start_time": "2023-10-27T06:26:43.959Z"
   },
   {
    "duration": 153,
    "start_time": "2023-10-27T06:26:43.972Z"
   },
   {
    "duration": 276,
    "start_time": "2023-10-27T06:26:44.127Z"
   },
   {
    "duration": 157,
    "start_time": "2023-10-27T06:26:44.405Z"
   },
   {
    "duration": 1068,
    "start_time": "2023-10-27T06:29:11.428Z"
   },
   {
    "duration": 97,
    "start_time": "2023-10-27T06:29:12.497Z"
   },
   {
    "duration": 45,
    "start_time": "2023-10-27T06:29:12.596Z"
   },
   {
    "duration": 26,
    "start_time": "2023-10-27T06:29:12.642Z"
   },
   {
    "duration": 20,
    "start_time": "2023-10-27T06:29:12.670Z"
   },
   {
    "duration": 35,
    "start_time": "2023-10-27T06:29:12.692Z"
   },
   {
    "duration": 27,
    "start_time": "2023-10-27T06:29:12.729Z"
   },
   {
    "duration": 7,
    "start_time": "2023-10-27T06:29:12.758Z"
   },
   {
    "duration": 15,
    "start_time": "2023-10-27T06:29:12.767Z"
   },
   {
    "duration": 22,
    "start_time": "2023-10-27T06:29:12.784Z"
   },
   {
    "duration": 15,
    "start_time": "2023-10-27T06:29:12.808Z"
   },
   {
    "duration": 9,
    "start_time": "2023-10-27T06:29:12.825Z"
   },
   {
    "duration": 15,
    "start_time": "2023-10-27T06:29:12.836Z"
   },
   {
    "duration": 7,
    "start_time": "2023-10-27T06:29:12.852Z"
   },
   {
    "duration": 191,
    "start_time": "2023-10-27T06:29:12.861Z"
   },
   {
    "duration": 6,
    "start_time": "2023-10-27T06:29:13.054Z"
   },
   {
    "duration": 137,
    "start_time": "2023-10-27T06:29:13.062Z"
   },
   {
    "duration": 14,
    "start_time": "2023-10-27T06:29:13.206Z"
   },
   {
    "duration": 161,
    "start_time": "2023-10-27T06:29:13.222Z"
   },
   {
    "duration": 302,
    "start_time": "2023-10-27T06:29:13.385Z"
   },
   {
    "duration": 168,
    "start_time": "2023-10-27T06:29:13.689Z"
   },
   {
    "duration": 320923,
    "start_time": "2023-10-27T06:29:13.860Z"
   },
   {
    "duration": 5,
    "start_time": "2023-10-27T06:34:34.784Z"
   },
   {
    "duration": 164,
    "start_time": "2023-10-27T06:34:34.791Z"
   },
   {
    "duration": 0,
    "start_time": "2023-10-27T06:34:35.044Z"
   },
   {
    "duration": 0,
    "start_time": "2023-10-27T06:34:35.045Z"
   },
   {
    "duration": 0,
    "start_time": "2023-10-27T06:34:35.046Z"
   },
   {
    "duration": 0,
    "start_time": "2023-10-27T06:34:35.046Z"
   },
   {
    "duration": 0,
    "start_time": "2023-10-27T06:34:35.047Z"
   },
   {
    "duration": 0,
    "start_time": "2023-10-27T06:34:35.049Z"
   },
   {
    "duration": 0,
    "start_time": "2023-10-27T06:34:35.050Z"
   },
   {
    "duration": 0,
    "start_time": "2023-10-27T06:34:35.051Z"
   },
   {
    "duration": 0,
    "start_time": "2023-10-27T06:34:35.052Z"
   },
   {
    "duration": 0,
    "start_time": "2023-10-27T06:34:35.052Z"
   },
   {
    "duration": 0,
    "start_time": "2023-10-27T06:34:35.053Z"
   },
   {
    "duration": 0,
    "start_time": "2023-10-27T06:34:35.054Z"
   },
   {
    "duration": 0,
    "start_time": "2023-10-27T06:34:35.055Z"
   },
   {
    "duration": 0,
    "start_time": "2023-10-27T06:34:35.056Z"
   },
   {
    "duration": 0,
    "start_time": "2023-10-27T06:34:35.057Z"
   },
   {
    "duration": 0,
    "start_time": "2023-10-27T06:34:35.060Z"
   },
   {
    "duration": 0,
    "start_time": "2023-10-27T06:34:35.061Z"
   },
   {
    "duration": 0,
    "start_time": "2023-10-27T06:34:35.062Z"
   },
   {
    "duration": 0,
    "start_time": "2023-10-27T06:34:35.063Z"
   },
   {
    "duration": 1072,
    "start_time": "2023-10-27T06:34:49.758Z"
   },
   {
    "duration": 104,
    "start_time": "2023-10-27T06:34:50.831Z"
   },
   {
    "duration": 41,
    "start_time": "2023-10-27T06:34:50.937Z"
   },
   {
    "duration": 25,
    "start_time": "2023-10-27T06:34:50.980Z"
   },
   {
    "duration": 22,
    "start_time": "2023-10-27T06:34:51.007Z"
   },
   {
    "duration": 8,
    "start_time": "2023-10-27T06:34:51.031Z"
   },
   {
    "duration": 28,
    "start_time": "2023-10-27T06:34:51.040Z"
   },
   {
    "duration": 37,
    "start_time": "2023-10-27T06:34:51.070Z"
   },
   {
    "duration": 32,
    "start_time": "2023-10-27T06:34:51.109Z"
   },
   {
    "duration": 21,
    "start_time": "2023-10-27T06:34:51.144Z"
   },
   {
    "duration": 25,
    "start_time": "2023-10-27T06:34:51.167Z"
   },
   {
    "duration": 29,
    "start_time": "2023-10-27T06:34:51.193Z"
   },
   {
    "duration": 44,
    "start_time": "2023-10-27T06:34:51.224Z"
   },
   {
    "duration": 11,
    "start_time": "2023-10-27T06:34:51.269Z"
   },
   {
    "duration": 190,
    "start_time": "2023-10-27T06:34:51.282Z"
   },
   {
    "duration": 5,
    "start_time": "2023-10-27T06:34:51.474Z"
   },
   {
    "duration": 134,
    "start_time": "2023-10-27T06:34:51.481Z"
   },
   {
    "duration": 13,
    "start_time": "2023-10-27T06:34:51.617Z"
   },
   {
    "duration": 162,
    "start_time": "2023-10-27T06:34:51.632Z"
   },
   {
    "duration": 283,
    "start_time": "2023-10-27T06:34:51.795Z"
   },
   {
    "duration": 159,
    "start_time": "2023-10-27T06:34:52.079Z"
   },
   {
    "duration": 50,
    "start_time": "2023-10-30T12:06:50.687Z"
   },
   {
    "duration": 1214,
    "start_time": "2023-10-30T12:06:55.438Z"
   },
   {
    "duration": 152,
    "start_time": "2023-10-30T12:06:56.654Z"
   },
   {
    "duration": 84,
    "start_time": "2023-10-30T12:06:56.807Z"
   },
   {
    "duration": 62,
    "start_time": "2023-10-30T12:06:56.893Z"
   },
   {
    "duration": 23,
    "start_time": "2023-10-30T12:06:56.957Z"
   },
   {
    "duration": 6,
    "start_time": "2023-10-30T12:06:56.982Z"
   },
   {
    "duration": 59,
    "start_time": "2023-10-30T12:06:56.989Z"
   },
   {
    "duration": 32,
    "start_time": "2023-10-30T12:06:57.050Z"
   },
   {
    "duration": 25,
    "start_time": "2023-10-30T12:06:57.084Z"
   },
   {
    "duration": 30,
    "start_time": "2023-10-30T12:06:57.112Z"
   },
   {
    "duration": 8,
    "start_time": "2023-10-30T12:06:57.143Z"
   },
   {
    "duration": 23,
    "start_time": "2023-10-30T12:06:57.152Z"
   },
   {
    "duration": 20,
    "start_time": "2023-10-30T12:06:57.177Z"
   },
   {
    "duration": 86,
    "start_time": "2023-10-30T12:06:57.199Z"
   },
   {
    "duration": 175,
    "start_time": "2023-10-30T12:06:57.286Z"
   },
   {
    "duration": 6,
    "start_time": "2023-10-30T12:06:57.462Z"
   },
   {
    "duration": 160,
    "start_time": "2023-10-30T12:06:57.469Z"
   },
   {
    "duration": 18,
    "start_time": "2023-10-30T12:06:57.630Z"
   },
   {
    "duration": 180,
    "start_time": "2023-10-30T12:06:57.649Z"
   },
   {
    "duration": 262,
    "start_time": "2023-10-30T12:06:57.830Z"
   },
   {
    "duration": 157,
    "start_time": "2023-10-30T12:06:58.094Z"
   },
   {
    "duration": 5,
    "start_time": "2023-10-30T12:12:21.171Z"
   },
   {
    "duration": 156,
    "start_time": "2023-10-30T12:12:21.177Z"
   },
   {
    "duration": 88,
    "start_time": "2023-10-30T12:12:21.344Z"
   },
   {
    "duration": 0,
    "start_time": "2023-10-30T12:12:21.434Z"
   },
   {
    "duration": 0,
    "start_time": "2023-10-30T12:12:21.436Z"
   },
   {
    "duration": 0,
    "start_time": "2023-10-30T12:12:21.437Z"
   },
   {
    "duration": 0,
    "start_time": "2023-10-30T12:12:21.438Z"
   },
   {
    "duration": 0,
    "start_time": "2023-10-30T12:12:21.439Z"
   },
   {
    "duration": 0,
    "start_time": "2023-10-30T12:12:21.440Z"
   },
   {
    "duration": 0,
    "start_time": "2023-10-30T12:12:21.442Z"
   },
   {
    "duration": 0,
    "start_time": "2023-10-30T12:12:21.443Z"
   },
   {
    "duration": 0,
    "start_time": "2023-10-30T12:12:21.444Z"
   },
   {
    "duration": 0,
    "start_time": "2023-10-30T12:12:21.444Z"
   },
   {
    "duration": 0,
    "start_time": "2023-10-30T12:12:21.445Z"
   },
   {
    "duration": 0,
    "start_time": "2023-10-30T12:12:21.447Z"
   },
   {
    "duration": 0,
    "start_time": "2023-10-30T12:12:21.448Z"
   },
   {
    "duration": 0,
    "start_time": "2023-10-30T12:12:21.449Z"
   },
   {
    "duration": 0,
    "start_time": "2023-10-30T12:12:21.450Z"
   },
   {
    "duration": 0,
    "start_time": "2023-10-30T12:12:21.451Z"
   },
   {
    "duration": 0,
    "start_time": "2023-10-30T12:12:21.452Z"
   },
   {
    "duration": 0,
    "start_time": "2023-10-30T12:12:21.453Z"
   },
   {
    "duration": 0,
    "start_time": "2023-10-30T12:12:21.456Z"
   },
   {
    "duration": 1105,
    "start_time": "2024-01-31T15:54:05.842Z"
   },
   {
    "duration": 117,
    "start_time": "2024-01-31T15:54:06.949Z"
   },
   {
    "duration": 80,
    "start_time": "2024-01-31T15:54:07.067Z"
   },
   {
    "duration": 65,
    "start_time": "2024-01-31T15:54:07.148Z"
   },
   {
    "duration": 25,
    "start_time": "2024-01-31T15:54:07.214Z"
   },
   {
    "duration": 7,
    "start_time": "2024-01-31T15:54:07.241Z"
   },
   {
    "duration": 20,
    "start_time": "2024-01-31T15:54:07.249Z"
   },
   {
    "duration": 23,
    "start_time": "2024-01-31T15:54:07.271Z"
   },
   {
    "duration": 13,
    "start_time": "2024-01-31T15:54:07.295Z"
   },
   {
    "duration": 19,
    "start_time": "2024-01-31T15:54:07.311Z"
   },
   {
    "duration": 22,
    "start_time": "2024-01-31T15:54:07.332Z"
   },
   {
    "duration": 16,
    "start_time": "2024-01-31T15:54:07.355Z"
   },
   {
    "duration": 19,
    "start_time": "2024-01-31T15:54:07.372Z"
   },
   {
    "duration": 29,
    "start_time": "2024-01-31T15:54:07.393Z"
   },
   {
    "duration": 221,
    "start_time": "2024-01-31T15:54:07.424Z"
   },
   {
    "duration": 5,
    "start_time": "2024-01-31T15:54:07.647Z"
   },
   {
    "duration": 153,
    "start_time": "2024-01-31T15:54:07.653Z"
   },
   {
    "duration": 20,
    "start_time": "2024-01-31T15:54:07.807Z"
   },
   {
    "duration": 167,
    "start_time": "2024-01-31T15:54:07.829Z"
   },
   {
    "duration": 303,
    "start_time": "2024-01-31T15:54:07.998Z"
   },
   {
    "duration": 189,
    "start_time": "2024-01-31T15:54:08.304Z"
   }
  ],
  "kernelspec": {
   "display_name": "Python 3 (ipykernel)",
   "language": "python",
   "name": "python3"
  },
  "language_info": {
   "codemirror_mode": {
    "name": "ipython",
    "version": 3
   },
   "file_extension": ".py",
   "mimetype": "text/x-python",
   "name": "python",
   "nbconvert_exporter": "python",
   "pygments_lexer": "ipython3",
   "version": "3.9.5"
  },
  "toc": {
   "base_numbering": 1,
   "nav_menu": {},
   "number_sections": true,
   "sideBar": true,
   "skip_h1_title": true,
   "title_cell": "Table of Contents",
   "title_sidebar": "Contents",
   "toc_cell": false,
   "toc_position": {},
   "toc_section_display": true,
   "toc_window_display": false
  }
 },
 "nbformat": 4,
 "nbformat_minor": 5
}
