{
 "cells": [
  {
   "cell_type": "markdown",
   "metadata": {},
   "source": [
    "# Исследование объявлений о продаже квартир\n",
    "\n",
    "В вашем распоряжении данные сервиса Яндекс.Недвижимость — архив объявлений о продаже квартир в Санкт-Петербурге и соседних населённых пунктов за несколько лет. Нужно научиться определять рыночную стоимость объектов недвижимости. Ваша задача — установить параметры. Это позволит построить автоматизированную систему: она отследит аномалии и мошенническую деятельность. \n",
    "\n",
    "По каждой квартире на продажу доступны два вида данных. Первые вписаны пользователем, вторые — получены автоматически на основе картографических данных. Например, расстояние до центра, аэропорта, ближайшего парка и водоёма. "
   ]
  },
  {
   "cell_type": "markdown",
   "metadata": {},
   "source": [
    "### Описание проекта"
   ]
  },
  {
   "cell_type": "markdown",
   "metadata": {},
   "source": [
    "Проект по исследованию объявлений о продаже квартир.\n",
    "Целью исследования является определение реальной рыночной стоимости квартир.\n",
    "План исследования:\n",
    "1. Изучение общей информации о данных\n",
    "2. Предобработка данных\n",
    "3. Исследовательский анализ данных:\n",
    "   - изучение параметров; \n",
    "   - изучение зависимостей между параметрами\n",
    "4. Оформление общего вывода\n"
   ]
  },
  {
   "cell_type": "markdown",
   "metadata": {},
   "source": [
    "### Откройте файл с данными и изучите общую информацию. "
   ]
  },
  {
   "cell_type": "code",
   "execution_count": 3,
   "metadata": {},
   "outputs": [],
   "source": [
    "import pandas as pd\n",
    "import matplotlib.pyplot as plt\n",
    "from IPython.display import display"
   ]
  },
  {
   "cell_type": "code",
   "execution_count": 7,
   "metadata": {},
   "outputs": [
    {
     "name": "stdout",
     "output_type": "stream",
     "text": [
      "<class 'pandas.core.frame.DataFrame'>\n",
      "RangeIndex: 23699 entries, 0 to 23698\n",
      "Data columns (total 22 columns):\n",
      " #   Column                Non-Null Count  Dtype  \n",
      "---  ------                --------------  -----  \n",
      " 0   total_images          23699 non-null  int64  \n",
      " 1   last_price            23699 non-null  float64\n",
      " 2   total_area            23699 non-null  float64\n",
      " 3   first_day_exposition  23699 non-null  object \n",
      " 4   rooms                 23699 non-null  int64  \n",
      " 5   ceiling_height        14504 non-null  float64\n",
      " 6   floors_total          23613 non-null  float64\n",
      " 7   living_area           21796 non-null  float64\n",
      " 8   floor                 23699 non-null  int64  \n",
      " 9   is_apartment          2775 non-null   object \n",
      " 10  studio                23699 non-null  bool   \n",
      " 11  open_plan             23699 non-null  bool   \n",
      " 12  kitchen_area          21421 non-null  float64\n",
      " 13  balcony               12180 non-null  float64\n",
      " 14  locality_name         23650 non-null  object \n",
      " 15  airports_nearest      18157 non-null  float64\n",
      " 16  cityCenters_nearest   18180 non-null  float64\n",
      " 17  parks_around3000      18181 non-null  float64\n",
      " 18  parks_nearest         8079 non-null   float64\n",
      " 19  ponds_around3000      18181 non-null  float64\n",
      " 20  ponds_nearest         9110 non-null   float64\n",
      " 21  days_exposition       20518 non-null  float64\n",
      "dtypes: bool(2), float64(14), int64(3), object(3)\n",
      "memory usage: 3.7+ MB\n"
     ]
    },
    {
     "data": {
      "text/html": [
       "<div>\n",
       "<style scoped>\n",
       "    .dataframe tbody tr th:only-of-type {\n",
       "        vertical-align: middle;\n",
       "    }\n",
       "\n",
       "    .dataframe tbody tr th {\n",
       "        vertical-align: top;\n",
       "    }\n",
       "\n",
       "    .dataframe thead th {\n",
       "        text-align: right;\n",
       "    }\n",
       "</style>\n",
       "<table border=\"1\" class=\"dataframe\">\n",
       "  <thead>\n",
       "    <tr style=\"text-align: right;\">\n",
       "      <th></th>\n",
       "      <th>total_images</th>\n",
       "      <th>last_price</th>\n",
       "      <th>total_area</th>\n",
       "      <th>first_day_exposition</th>\n",
       "      <th>rooms</th>\n",
       "      <th>ceiling_height</th>\n",
       "      <th>floors_total</th>\n",
       "      <th>living_area</th>\n",
       "      <th>floor</th>\n",
       "      <th>is_apartment</th>\n",
       "      <th>...</th>\n",
       "      <th>kitchen_area</th>\n",
       "      <th>balcony</th>\n",
       "      <th>locality_name</th>\n",
       "      <th>airports_nearest</th>\n",
       "      <th>cityCenters_nearest</th>\n",
       "      <th>parks_around3000</th>\n",
       "      <th>parks_nearest</th>\n",
       "      <th>ponds_around3000</th>\n",
       "      <th>ponds_nearest</th>\n",
       "      <th>days_exposition</th>\n",
       "    </tr>\n",
       "  </thead>\n",
       "  <tbody>\n",
       "    <tr>\n",
       "      <th>0</th>\n",
       "      <td>20</td>\n",
       "      <td>13000000.0</td>\n",
       "      <td>108.00</td>\n",
       "      <td>2019-03-07T00:00:00</td>\n",
       "      <td>3</td>\n",
       "      <td>2.70</td>\n",
       "      <td>16.0</td>\n",
       "      <td>51.0</td>\n",
       "      <td>8</td>\n",
       "      <td>NaN</td>\n",
       "      <td>...</td>\n",
       "      <td>25.00</td>\n",
       "      <td>NaN</td>\n",
       "      <td>Санкт-Петербург</td>\n",
       "      <td>18863.0</td>\n",
       "      <td>16028.0</td>\n",
       "      <td>1.0</td>\n",
       "      <td>482.0</td>\n",
       "      <td>2.0</td>\n",
       "      <td>755.0</td>\n",
       "      <td>NaN</td>\n",
       "    </tr>\n",
       "    <tr>\n",
       "      <th>1</th>\n",
       "      <td>7</td>\n",
       "      <td>3350000.0</td>\n",
       "      <td>40.40</td>\n",
       "      <td>2018-12-04T00:00:00</td>\n",
       "      <td>1</td>\n",
       "      <td>NaN</td>\n",
       "      <td>11.0</td>\n",
       "      <td>18.6</td>\n",
       "      <td>1</td>\n",
       "      <td>NaN</td>\n",
       "      <td>...</td>\n",
       "      <td>11.00</td>\n",
       "      <td>2.0</td>\n",
       "      <td>посёлок Шушары</td>\n",
       "      <td>12817.0</td>\n",
       "      <td>18603.0</td>\n",
       "      <td>0.0</td>\n",
       "      <td>NaN</td>\n",
       "      <td>0.0</td>\n",
       "      <td>NaN</td>\n",
       "      <td>81.0</td>\n",
       "    </tr>\n",
       "    <tr>\n",
       "      <th>2</th>\n",
       "      <td>10</td>\n",
       "      <td>5196000.0</td>\n",
       "      <td>56.00</td>\n",
       "      <td>2015-08-20T00:00:00</td>\n",
       "      <td>2</td>\n",
       "      <td>NaN</td>\n",
       "      <td>5.0</td>\n",
       "      <td>34.3</td>\n",
       "      <td>4</td>\n",
       "      <td>NaN</td>\n",
       "      <td>...</td>\n",
       "      <td>8.30</td>\n",
       "      <td>0.0</td>\n",
       "      <td>Санкт-Петербург</td>\n",
       "      <td>21741.0</td>\n",
       "      <td>13933.0</td>\n",
       "      <td>1.0</td>\n",
       "      <td>90.0</td>\n",
       "      <td>2.0</td>\n",
       "      <td>574.0</td>\n",
       "      <td>558.0</td>\n",
       "    </tr>\n",
       "    <tr>\n",
       "      <th>3</th>\n",
       "      <td>0</td>\n",
       "      <td>64900000.0</td>\n",
       "      <td>159.00</td>\n",
       "      <td>2015-07-24T00:00:00</td>\n",
       "      <td>3</td>\n",
       "      <td>NaN</td>\n",
       "      <td>14.0</td>\n",
       "      <td>NaN</td>\n",
       "      <td>9</td>\n",
       "      <td>NaN</td>\n",
       "      <td>...</td>\n",
       "      <td>NaN</td>\n",
       "      <td>0.0</td>\n",
       "      <td>Санкт-Петербург</td>\n",
       "      <td>28098.0</td>\n",
       "      <td>6800.0</td>\n",
       "      <td>2.0</td>\n",
       "      <td>84.0</td>\n",
       "      <td>3.0</td>\n",
       "      <td>234.0</td>\n",
       "      <td>424.0</td>\n",
       "    </tr>\n",
       "    <tr>\n",
       "      <th>4</th>\n",
       "      <td>2</td>\n",
       "      <td>10000000.0</td>\n",
       "      <td>100.00</td>\n",
       "      <td>2018-06-19T00:00:00</td>\n",
       "      <td>2</td>\n",
       "      <td>3.03</td>\n",
       "      <td>14.0</td>\n",
       "      <td>32.0</td>\n",
       "      <td>13</td>\n",
       "      <td>NaN</td>\n",
       "      <td>...</td>\n",
       "      <td>41.00</td>\n",
       "      <td>NaN</td>\n",
       "      <td>Санкт-Петербург</td>\n",
       "      <td>31856.0</td>\n",
       "      <td>8098.0</td>\n",
       "      <td>2.0</td>\n",
       "      <td>112.0</td>\n",
       "      <td>1.0</td>\n",
       "      <td>48.0</td>\n",
       "      <td>121.0</td>\n",
       "    </tr>\n",
       "    <tr>\n",
       "      <th>...</th>\n",
       "      <td>...</td>\n",
       "      <td>...</td>\n",
       "      <td>...</td>\n",
       "      <td>...</td>\n",
       "      <td>...</td>\n",
       "      <td>...</td>\n",
       "      <td>...</td>\n",
       "      <td>...</td>\n",
       "      <td>...</td>\n",
       "      <td>...</td>\n",
       "      <td>...</td>\n",
       "      <td>...</td>\n",
       "      <td>...</td>\n",
       "      <td>...</td>\n",
       "      <td>...</td>\n",
       "      <td>...</td>\n",
       "      <td>...</td>\n",
       "      <td>...</td>\n",
       "      <td>...</td>\n",
       "      <td>...</td>\n",
       "      <td>...</td>\n",
       "    </tr>\n",
       "    <tr>\n",
       "      <th>23694</th>\n",
       "      <td>9</td>\n",
       "      <td>9700000.0</td>\n",
       "      <td>133.81</td>\n",
       "      <td>2017-03-21T00:00:00</td>\n",
       "      <td>3</td>\n",
       "      <td>3.70</td>\n",
       "      <td>5.0</td>\n",
       "      <td>73.3</td>\n",
       "      <td>3</td>\n",
       "      <td>NaN</td>\n",
       "      <td>...</td>\n",
       "      <td>13.83</td>\n",
       "      <td>NaN</td>\n",
       "      <td>Санкт-Петербург</td>\n",
       "      <td>24665.0</td>\n",
       "      <td>4232.0</td>\n",
       "      <td>1.0</td>\n",
       "      <td>796.0</td>\n",
       "      <td>3.0</td>\n",
       "      <td>381.0</td>\n",
       "      <td>NaN</td>\n",
       "    </tr>\n",
       "    <tr>\n",
       "      <th>23695</th>\n",
       "      <td>14</td>\n",
       "      <td>3100000.0</td>\n",
       "      <td>59.00</td>\n",
       "      <td>2018-01-15T00:00:00</td>\n",
       "      <td>3</td>\n",
       "      <td>NaN</td>\n",
       "      <td>5.0</td>\n",
       "      <td>38.0</td>\n",
       "      <td>4</td>\n",
       "      <td>NaN</td>\n",
       "      <td>...</td>\n",
       "      <td>8.50</td>\n",
       "      <td>NaN</td>\n",
       "      <td>Тосно</td>\n",
       "      <td>NaN</td>\n",
       "      <td>NaN</td>\n",
       "      <td>NaN</td>\n",
       "      <td>NaN</td>\n",
       "      <td>NaN</td>\n",
       "      <td>NaN</td>\n",
       "      <td>45.0</td>\n",
       "    </tr>\n",
       "    <tr>\n",
       "      <th>23696</th>\n",
       "      <td>18</td>\n",
       "      <td>2500000.0</td>\n",
       "      <td>56.70</td>\n",
       "      <td>2018-02-11T00:00:00</td>\n",
       "      <td>2</td>\n",
       "      <td>NaN</td>\n",
       "      <td>3.0</td>\n",
       "      <td>29.7</td>\n",
       "      <td>1</td>\n",
       "      <td>NaN</td>\n",
       "      <td>...</td>\n",
       "      <td>NaN</td>\n",
       "      <td>NaN</td>\n",
       "      <td>село Рождествено</td>\n",
       "      <td>NaN</td>\n",
       "      <td>NaN</td>\n",
       "      <td>NaN</td>\n",
       "      <td>NaN</td>\n",
       "      <td>NaN</td>\n",
       "      <td>NaN</td>\n",
       "      <td>NaN</td>\n",
       "    </tr>\n",
       "    <tr>\n",
       "      <th>23697</th>\n",
       "      <td>13</td>\n",
       "      <td>11475000.0</td>\n",
       "      <td>76.75</td>\n",
       "      <td>2017-03-28T00:00:00</td>\n",
       "      <td>2</td>\n",
       "      <td>3.00</td>\n",
       "      <td>17.0</td>\n",
       "      <td>NaN</td>\n",
       "      <td>12</td>\n",
       "      <td>NaN</td>\n",
       "      <td>...</td>\n",
       "      <td>23.30</td>\n",
       "      <td>2.0</td>\n",
       "      <td>Санкт-Петербург</td>\n",
       "      <td>39140.0</td>\n",
       "      <td>10364.0</td>\n",
       "      <td>2.0</td>\n",
       "      <td>173.0</td>\n",
       "      <td>3.0</td>\n",
       "      <td>196.0</td>\n",
       "      <td>602.0</td>\n",
       "    </tr>\n",
       "    <tr>\n",
       "      <th>23698</th>\n",
       "      <td>4</td>\n",
       "      <td>1350000.0</td>\n",
       "      <td>32.30</td>\n",
       "      <td>2017-07-21T00:00:00</td>\n",
       "      <td>1</td>\n",
       "      <td>2.50</td>\n",
       "      <td>5.0</td>\n",
       "      <td>12.3</td>\n",
       "      <td>1</td>\n",
       "      <td>NaN</td>\n",
       "      <td>...</td>\n",
       "      <td>9.00</td>\n",
       "      <td>NaN</td>\n",
       "      <td>поселок Новый Учхоз</td>\n",
       "      <td>NaN</td>\n",
       "      <td>NaN</td>\n",
       "      <td>NaN</td>\n",
       "      <td>NaN</td>\n",
       "      <td>NaN</td>\n",
       "      <td>NaN</td>\n",
       "      <td>NaN</td>\n",
       "    </tr>\n",
       "  </tbody>\n",
       "</table>\n",
       "<p>23699 rows × 22 columns</p>\n",
       "</div>"
      ],
      "text/plain": [
       "       total_images  last_price  total_area first_day_exposition  rooms  \\\n",
       "0                20  13000000.0      108.00  2019-03-07T00:00:00      3   \n",
       "1                 7   3350000.0       40.40  2018-12-04T00:00:00      1   \n",
       "2                10   5196000.0       56.00  2015-08-20T00:00:00      2   \n",
       "3                 0  64900000.0      159.00  2015-07-24T00:00:00      3   \n",
       "4                 2  10000000.0      100.00  2018-06-19T00:00:00      2   \n",
       "...             ...         ...         ...                  ...    ...   \n",
       "23694             9   9700000.0      133.81  2017-03-21T00:00:00      3   \n",
       "23695            14   3100000.0       59.00  2018-01-15T00:00:00      3   \n",
       "23696            18   2500000.0       56.70  2018-02-11T00:00:00      2   \n",
       "23697            13  11475000.0       76.75  2017-03-28T00:00:00      2   \n",
       "23698             4   1350000.0       32.30  2017-07-21T00:00:00      1   \n",
       "\n",
       "       ceiling_height  floors_total  living_area  floor is_apartment  ...  \\\n",
       "0                2.70          16.0         51.0      8          NaN  ...   \n",
       "1                 NaN          11.0         18.6      1          NaN  ...   \n",
       "2                 NaN           5.0         34.3      4          NaN  ...   \n",
       "3                 NaN          14.0          NaN      9          NaN  ...   \n",
       "4                3.03          14.0         32.0     13          NaN  ...   \n",
       "...               ...           ...          ...    ...          ...  ...   \n",
       "23694            3.70           5.0         73.3      3          NaN  ...   \n",
       "23695             NaN           5.0         38.0      4          NaN  ...   \n",
       "23696             NaN           3.0         29.7      1          NaN  ...   \n",
       "23697            3.00          17.0          NaN     12          NaN  ...   \n",
       "23698            2.50           5.0         12.3      1          NaN  ...   \n",
       "\n",
       "       kitchen_area  balcony        locality_name  airports_nearest  \\\n",
       "0             25.00      NaN      Санкт-Петербург           18863.0   \n",
       "1             11.00      2.0       посёлок Шушары           12817.0   \n",
       "2              8.30      0.0      Санкт-Петербург           21741.0   \n",
       "3               NaN      0.0      Санкт-Петербург           28098.0   \n",
       "4             41.00      NaN      Санкт-Петербург           31856.0   \n",
       "...             ...      ...                  ...               ...   \n",
       "23694         13.83      NaN      Санкт-Петербург           24665.0   \n",
       "23695          8.50      NaN                Тосно               NaN   \n",
       "23696           NaN      NaN     село Рождествено               NaN   \n",
       "23697         23.30      2.0      Санкт-Петербург           39140.0   \n",
       "23698          9.00      NaN  поселок Новый Учхоз               NaN   \n",
       "\n",
       "      cityCenters_nearest  parks_around3000  parks_nearest  ponds_around3000  \\\n",
       "0                 16028.0               1.0          482.0               2.0   \n",
       "1                 18603.0               0.0            NaN               0.0   \n",
       "2                 13933.0               1.0           90.0               2.0   \n",
       "3                  6800.0               2.0           84.0               3.0   \n",
       "4                  8098.0               2.0          112.0               1.0   \n",
       "...                   ...               ...            ...               ...   \n",
       "23694              4232.0               1.0          796.0               3.0   \n",
       "23695                 NaN               NaN            NaN               NaN   \n",
       "23696                 NaN               NaN            NaN               NaN   \n",
       "23697             10364.0               2.0          173.0               3.0   \n",
       "23698                 NaN               NaN            NaN               NaN   \n",
       "\n",
       "       ponds_nearest  days_exposition  \n",
       "0              755.0              NaN  \n",
       "1                NaN             81.0  \n",
       "2              574.0            558.0  \n",
       "3              234.0            424.0  \n",
       "4               48.0            121.0  \n",
       "...              ...              ...  \n",
       "23694          381.0              NaN  \n",
       "23695            NaN             45.0  \n",
       "23696            NaN              NaN  \n",
       "23697          196.0            602.0  \n",
       "23698            NaN              NaN  \n",
       "\n",
       "[23699 rows x 22 columns]"
      ]
     },
     "metadata": {},
     "output_type": "display_data"
    }
   ],
   "source": [
    "data = pd.read_csv('/datasets/real_estate_data.csv', sep='\\t')\n",
    "data.info()\n",
    "display(data)\n"
   ]
  },
  {
   "cell_type": "code",
   "execution_count": 3,
   "metadata": {},
   "outputs": [
    {
     "data": {
      "image/png": "[encoded data removed]",
      "text/plain": [
       "<Figure size 1080x1440 with 20 Axes>"
      ]
     },
     "metadata": {
      "needs_background": "light"
     },
     "output_type": "display_data"
    }
   ],
   "source": [
    "data.hist(figsize=(15, 20));"
   ]
  },
  {
   "cell_type": "markdown",
   "metadata": {},
   "source": [
    "*Вывод:* В данных цен на момент снятия с публикации, количества комнат,жилой площади в кв.м., числа балконов,расстояния до ближайшего аэропорта в метрах (м), расстояние до центра города (м),числа водоёмов в радиусе 3 км ,число парков в радиусе 3 км,расстояние до ближайшего парка (м),сколько дней было размещено объявление (от публикации до снятия) есть нулевые значения. В данных есть пропуски и несоответствующие типы, например, число парков и водоемов логичнее выразить в целых числах. "
   ]
  },
  {
   "cell_type": "markdown",
   "metadata": {},
   "source": [
    "### Предобработка данных"
   ]
  },
  {
   "cell_type": "code",
   "execution_count": 4,
   "metadata": {},
   "outputs": [
    {
     "data": {
      "text/plain": [
       "total_images                0\n",
       "last_price                  0\n",
       "total_area                  0\n",
       "first_day_exposition        0\n",
       "rooms                       0\n",
       "ceiling_height           9195\n",
       "floors_total               86\n",
       "living_area              1903\n",
       "floor                       0\n",
       "is_apartment            20924\n",
       "studio                      0\n",
       "open_plan                   0\n",
       "kitchen_area             2278\n",
       "balcony                 11519\n",
       "locality_name              49\n",
       "airports_nearest         5542\n",
       "cityCenters_nearest      5519\n",
       "parks_around3000         5518\n",
       "parks_nearest           15620\n",
       "ponds_around3000         5518\n",
       "ponds_nearest           14589\n",
       "days_exposition          3181\n",
       "dtype: int64"
      ]
     },
     "execution_count": 4,
     "metadata": {},
     "output_type": "execute_result"
    }
   ],
   "source": [
    "data.isna().sum()"
   ]
  },
  {
   "cell_type": "markdown",
   "metadata": {},
   "source": [
    "*Вывод*: \n",
    "1. Наибольшее количество пропусков в данных апартаменты, что может быть связано с тем, что при подаче объявлений большинство владельцев не придают этому показателю большого значения, возможно не знают критерии отнесения квартир к апартаментам. А владельцы апартаментов, точно зная категорию своей собственности, ее указывают. Поэтому можно заменить пропуски можно заменить на булево значение.\n",
    "2. Примерно схожее количество пропусков  в указании расстояния до ближайшего аэропорта, центра города,  водоёма и парка - показателей, которые указываются автоматически на основе картографических данных, может быть вызвано отсутствием указанных объектов вблизи недвижимости, например, в сельской местности. Можно не трогать эти данные, т.к. для анализа они второстепенны. \n",
    "3. Пропуски в расстояниях до ближайших водоема и парка могут быть обусловлены тем, что рядом с объектом нет ближайших водоемов и парков. \n",
    "4. Пропуски в таких показателях как высота потолков, жилая площадь в кв. м., площадь кухни в кв. м. и всего этажей в доме могут быть обусловлены тем, что владельцы недвижимости не сочли важным указать эти данные, а возможно и не знают их. Данные, где не указана этажность, можно удалить, а в показателях площади оставим пропуски.  \n",
    "5. Настораживает наличие пропусков в названиях населенных пунктах, возможно данные записи ошибочны и можно их удалить.\n",
    "6. Наличие пропусков в сроках размещения объявления, может говорить об ошибках в данных, но так как данных много (13%), не будем их удалять.\n"
   ]
  },
  {
   "cell_type": "code",
   "execution_count": 5,
   "metadata": {},
   "outputs": [
    {
     "data": {
      "text/plain": [
       "total_images                0\n",
       "last_price                  0\n",
       "total_area                  0\n",
       "first_day_exposition        0\n",
       "rooms                       0\n",
       "ceiling_height              0\n",
       "floors_total                0\n",
       "living_area              1865\n",
       "floor                       0\n",
       "is_apartment                0\n",
       "studio                      0\n",
       "open_plan                   0\n",
       "kitchen_area             2222\n",
       "balcony                     0\n",
       "locality_name               0\n",
       "airports_nearest         5524\n",
       "cityCenters_nearest      5501\n",
       "parks_around3000            0\n",
       "parks_nearest           15535\n",
       "ponds_around3000            0\n",
       "ponds_nearest           14529\n",
       "days_exposition          3171\n",
       "dtype: int64"
      ]
     },
     "execution_count": 5,
     "metadata": {},
     "output_type": "execute_result"
    }
   ],
   "source": [
    "data['balcony'] = data['balcony'].fillna(value=0)\n",
    "data['is_apartment'] = data['is_apartment'].fillna(value=False)\n",
    "data['parks_around3000'] = data['parks_around3000'].fillna(value=0)\n",
    "data['ponds_around3000'] = data['ponds_around3000'].fillna(value=0)\n",
    "data['ceiling_height'].fillna(data['ceiling_height'].mean(), inplace=True)\n",
    "data.dropna(subset=['locality_name'], inplace=True)\n",
    "data.dropna(subset=['floors_total'], inplace=True)\n",
    "\n",
    "data.isna().sum()"
   ]
  },
  {
   "cell_type": "code",
   "execution_count": 6,
   "metadata": {},
   "outputs": [
    {
     "name": "stdout",
     "output_type": "stream",
     "text": [
      "<class 'pandas.core.frame.DataFrame'>\n",
      "Int64Index: 23565 entries, 0 to 23698\n",
      "Data columns (total 22 columns):\n",
      " #   Column                Non-Null Count  Dtype  \n",
      "---  ------                --------------  -----  \n",
      " 0   total_images          23565 non-null  int64  \n",
      " 1   last_price            23565 non-null  float64\n",
      " 2   total_area            23565 non-null  float64\n",
      " 3   first_day_exposition  23565 non-null  object \n",
      " 4   rooms                 23565 non-null  int64  \n",
      " 5   ceiling_height        23565 non-null  float64\n",
      " 6   floors_total          23565 non-null  float64\n",
      " 7   living_area           21700 non-null  float64\n",
      " 8   floor                 23565 non-null  int64  \n",
      " 9   is_apartment          23565 non-null  bool   \n",
      " 10  studio                23565 non-null  bool   \n",
      " 11  open_plan             23565 non-null  bool   \n",
      " 12  kitchen_area          21343 non-null  float64\n",
      " 13  balcony               23565 non-null  float64\n",
      " 14  locality_name         23565 non-null  object \n",
      " 15  airports_nearest      18041 non-null  float64\n",
      " 16  cityCenters_nearest   18064 non-null  float64\n",
      " 17  parks_around3000      23565 non-null  float64\n",
      " 18  parks_nearest         8030 non-null   float64\n",
      " 19  ponds_around3000      23565 non-null  float64\n",
      " 20  ponds_nearest         9036 non-null   float64\n",
      " 21  days_exposition       20394 non-null  float64\n",
      "dtypes: bool(3), float64(14), int64(3), object(2)\n",
      "memory usage: 3.7+ MB\n"
     ]
    }
   ],
   "source": [
    "data.info()"
   ]
  },
  {
   "cell_type": "code",
   "execution_count": 7,
   "metadata": {},
   "outputs": [
    {
     "data": {
      "text/html": [
       "<div>\n",
       "<style scoped>\n",
       "    .dataframe tbody tr th:only-of-type {\n",
       "        vertical-align: middle;\n",
       "    }\n",
       "\n",
       "    .dataframe tbody tr th {\n",
       "        vertical-align: top;\n",
       "    }\n",
       "\n",
       "    .dataframe thead th {\n",
       "        text-align: right;\n",
       "    }\n",
       "</style>\n",
       "<table border=\"1\" class=\"dataframe\">\n",
       "  <thead>\n",
       "    <tr style=\"text-align: right;\">\n",
       "      <th></th>\n",
       "      <th>total_images</th>\n",
       "      <th>last_price</th>\n",
       "      <th>total_area</th>\n",
       "      <th>first_day_exposition</th>\n",
       "      <th>rooms</th>\n",
       "      <th>ceiling_height</th>\n",
       "      <th>floors_total</th>\n",
       "      <th>living_area</th>\n",
       "      <th>floor</th>\n",
       "      <th>is_apartment</th>\n",
       "      <th>...</th>\n",
       "      <th>kitchen_area</th>\n",
       "      <th>balcony</th>\n",
       "      <th>locality_name</th>\n",
       "      <th>airports_nearest</th>\n",
       "      <th>cityCenters_nearest</th>\n",
       "      <th>parks_around3000</th>\n",
       "      <th>parks_nearest</th>\n",
       "      <th>ponds_around3000</th>\n",
       "      <th>ponds_nearest</th>\n",
       "      <th>days_exposition</th>\n",
       "    </tr>\n",
       "  </thead>\n",
       "  <tbody>\n",
       "    <tr>\n",
       "      <th>0</th>\n",
       "      <td>20</td>\n",
       "      <td>13000000.0</td>\n",
       "      <td>108.0</td>\n",
       "      <td>2019-03-07T00:00:00</td>\n",
       "      <td>3</td>\n",
       "      <td>2.700000</td>\n",
       "      <td>16.0</td>\n",
       "      <td>51.0</td>\n",
       "      <td>8</td>\n",
       "      <td>False</td>\n",
       "      <td>...</td>\n",
       "      <td>25.0</td>\n",
       "      <td>0.0</td>\n",
       "      <td>Санкт-Петербург</td>\n",
       "      <td>18863.0</td>\n",
       "      <td>16028.0</td>\n",
       "      <td>1.0</td>\n",
       "      <td>482.0</td>\n",
       "      <td>2.0</td>\n",
       "      <td>755.0</td>\n",
       "      <td>NaN</td>\n",
       "    </tr>\n",
       "    <tr>\n",
       "      <th>1</th>\n",
       "      <td>7</td>\n",
       "      <td>3350000.0</td>\n",
       "      <td>40.4</td>\n",
       "      <td>2018-12-04T00:00:00</td>\n",
       "      <td>1</td>\n",
       "      <td>2.771499</td>\n",
       "      <td>11.0</td>\n",
       "      <td>18.6</td>\n",
       "      <td>1</td>\n",
       "      <td>False</td>\n",
       "      <td>...</td>\n",
       "      <td>11.0</td>\n",
       "      <td>2.0</td>\n",
       "      <td>посёлок Шушары</td>\n",
       "      <td>12817.0</td>\n",
       "      <td>18603.0</td>\n",
       "      <td>0.0</td>\n",
       "      <td>NaN</td>\n",
       "      <td>0.0</td>\n",
       "      <td>NaN</td>\n",
       "      <td>81.0</td>\n",
       "    </tr>\n",
       "    <tr>\n",
       "      <th>2</th>\n",
       "      <td>10</td>\n",
       "      <td>5196000.0</td>\n",
       "      <td>56.0</td>\n",
       "      <td>2015-08-20T00:00:00</td>\n",
       "      <td>2</td>\n",
       "      <td>2.771499</td>\n",
       "      <td>5.0</td>\n",
       "      <td>34.3</td>\n",
       "      <td>4</td>\n",
       "      <td>False</td>\n",
       "      <td>...</td>\n",
       "      <td>8.3</td>\n",
       "      <td>0.0</td>\n",
       "      <td>Санкт-Петербург</td>\n",
       "      <td>21741.0</td>\n",
       "      <td>13933.0</td>\n",
       "      <td>1.0</td>\n",
       "      <td>90.0</td>\n",
       "      <td>2.0</td>\n",
       "      <td>574.0</td>\n",
       "      <td>558.0</td>\n",
       "    </tr>\n",
       "    <tr>\n",
       "      <th>3</th>\n",
       "      <td>0</td>\n",
       "      <td>64900000.0</td>\n",
       "      <td>159.0</td>\n",
       "      <td>2015-07-24T00:00:00</td>\n",
       "      <td>3</td>\n",
       "      <td>2.771499</td>\n",
       "      <td>14.0</td>\n",
       "      <td>NaN</td>\n",
       "      <td>9</td>\n",
       "      <td>False</td>\n",
       "      <td>...</td>\n",
       "      <td>NaN</td>\n",
       "      <td>0.0</td>\n",
       "      <td>Санкт-Петербург</td>\n",
       "      <td>28098.0</td>\n",
       "      <td>6800.0</td>\n",
       "      <td>2.0</td>\n",
       "      <td>84.0</td>\n",
       "      <td>3.0</td>\n",
       "      <td>234.0</td>\n",
       "      <td>424.0</td>\n",
       "    </tr>\n",
       "    <tr>\n",
       "      <th>4</th>\n",
       "      <td>2</td>\n",
       "      <td>10000000.0</td>\n",
       "      <td>100.0</td>\n",
       "      <td>2018-06-19T00:00:00</td>\n",
       "      <td>2</td>\n",
       "      <td>3.030000</td>\n",
       "      <td>14.0</td>\n",
       "      <td>32.0</td>\n",
       "      <td>13</td>\n",
       "      <td>False</td>\n",
       "      <td>...</td>\n",
       "      <td>41.0</td>\n",
       "      <td>0.0</td>\n",
       "      <td>Санкт-Петербург</td>\n",
       "      <td>31856.0</td>\n",
       "      <td>8098.0</td>\n",
       "      <td>2.0</td>\n",
       "      <td>112.0</td>\n",
       "      <td>1.0</td>\n",
       "      <td>48.0</td>\n",
       "      <td>121.0</td>\n",
       "    </tr>\n",
       "  </tbody>\n",
       "</table>\n",
       "<p>5 rows × 22 columns</p>\n",
       "</div>"
      ],
      "text/plain": [
       "   total_images  last_price  total_area first_day_exposition  rooms  \\\n",
       "0            20  13000000.0       108.0  2019-03-07T00:00:00      3   \n",
       "1             7   3350000.0        40.4  2018-12-04T00:00:00      1   \n",
       "2            10   5196000.0        56.0  2015-08-20T00:00:00      2   \n",
       "3             0  64900000.0       159.0  2015-07-24T00:00:00      3   \n",
       "4             2  10000000.0       100.0  2018-06-19T00:00:00      2   \n",
       "\n",
       "   ceiling_height  floors_total  living_area  floor  is_apartment  ...  \\\n",
       "0        2.700000          16.0         51.0      8         False  ...   \n",
       "1        2.771499          11.0         18.6      1         False  ...   \n",
       "2        2.771499           5.0         34.3      4         False  ...   \n",
       "3        2.771499          14.0          NaN      9         False  ...   \n",
       "4        3.030000          14.0         32.0     13         False  ...   \n",
       "\n",
       "   kitchen_area  balcony    locality_name  airports_nearest  \\\n",
       "0          25.0      0.0  Санкт-Петербург           18863.0   \n",
       "1          11.0      2.0   посёлок Шушары           12817.0   \n",
       "2           8.3      0.0  Санкт-Петербург           21741.0   \n",
       "3           NaN      0.0  Санкт-Петербург           28098.0   \n",
       "4          41.0      0.0  Санкт-Петербург           31856.0   \n",
       "\n",
       "  cityCenters_nearest  parks_around3000  parks_nearest  ponds_around3000  \\\n",
       "0             16028.0               1.0          482.0               2.0   \n",
       "1             18603.0               0.0            NaN               0.0   \n",
       "2             13933.0               1.0           90.0               2.0   \n",
       "3              6800.0               2.0           84.0               3.0   \n",
       "4              8098.0               2.0          112.0               1.0   \n",
       "\n",
       "   ponds_nearest  days_exposition  \n",
       "0          755.0              NaN  \n",
       "1            NaN             81.0  \n",
       "2          574.0            558.0  \n",
       "3          234.0            424.0  \n",
       "4           48.0            121.0  \n",
       "\n",
       "[5 rows x 22 columns]"
      ]
     },
     "execution_count": 7,
     "metadata": {},
     "output_type": "execute_result"
    }
   ],
   "source": [
    "data.head()"
   ]
  },
  {
   "cell_type": "code",
   "execution_count": 8,
   "metadata": {},
   "outputs": [
    {
     "name": "stdout",
     "output_type": "stream",
     "text": [
      "<class 'pandas.core.frame.DataFrame'>\n",
      "Int64Index: 23565 entries, 0 to 23698\n",
      "Data columns (total 22 columns):\n",
      " #   Column                Non-Null Count  Dtype         \n",
      "---  ------                --------------  -----         \n",
      " 0   total_images          23565 non-null  int64         \n",
      " 1   last_price            23565 non-null  float64       \n",
      " 2   total_area            23565 non-null  float64       \n",
      " 3   first_day_exposition  23565 non-null  datetime64[ns]\n",
      " 4   rooms                 23565 non-null  int64         \n",
      " 5   ceiling_height        23565 non-null  float64       \n",
      " 6   floors_total          23565 non-null  int64         \n",
      " 7   living_area           21700 non-null  float64       \n",
      " 8   floor                 23565 non-null  int64         \n",
      " 9   is_apartment          23565 non-null  bool          \n",
      " 10  studio                23565 non-null  bool          \n",
      " 11  open_plan             23565 non-null  bool          \n",
      " 12  kitchen_area          21343 non-null  float64       \n",
      " 13  balcony               23565 non-null  int64         \n",
      " 14  locality_name         23565 non-null  object        \n",
      " 15  airports_nearest      18041 non-null  float64       \n",
      " 16  cityCenters_nearest   18064 non-null  float64       \n",
      " 17  parks_around3000      23565 non-null  int64         \n",
      " 18  parks_nearest         8030 non-null   float64       \n",
      " 19  ponds_around3000      23565 non-null  int64         \n",
      " 20  ponds_nearest         9036 non-null   float64       \n",
      " 21  days_exposition       20394 non-null  float64       \n",
      "dtypes: bool(3), datetime64[ns](1), float64(10), int64(7), object(1)\n",
      "memory usage: 3.7+ MB\n"
     ]
    }
   ],
   "source": [
    "# меняем типы данных с следующих столбцах:\n",
    "data['first_day_exposition'] = pd.to_datetime(data['first_day_exposition'], format='%Y-%m-%dT%H:%M:%S')\n",
    "data['floors_total'] = data['floors_total'].astype(int)\n",
    "data['balcony'] = data['balcony'].astype(int)\n",
    "data['parks_around3000'] = data['parks_around3000'].astype(int)\n",
    "data['ponds_around3000'] = data['ponds_around3000'].astype(int)\n",
    "\n",
    "data.info()"
   ]
  },
  {
   "cell_type": "markdown",
   "metadata": {},
   "source": [
    "*Вывод*:\n",
    "1. Дату публикации меняем на тип данных даты;\n",
    "2. Число этажей, балконов, парков, водоемов  может быть только целым."
   ]
  },
  {
   "cell_type": "code",
   "execution_count": 9,
   "metadata": {},
   "outputs": [
    {
     "data": {
      "text/plain": [
       "array(['Санкт-Петербург', 'посёлок Шушары', 'городской посёлок Янино-1',\n",
       "       'посёлок Парголово', 'посёлок Мурино', 'Ломоносов', 'Сертолово',\n",
       "       'Петергоф', 'Пушкин', 'деревня Кудрово', 'Коммунар', 'Колпино',\n",
       "       'поселок городского типа Красный Бор', 'Гатчина', 'поселок Мурино',\n",
       "       'деревня Фёдоровское', 'Выборг', 'Кронштадт', 'Кировск',\n",
       "       'деревня Новое Девяткино', 'посёлок Металлострой',\n",
       "       'посёлок городского типа Лебяжье',\n",
       "       'посёлок городского типа Сиверский', 'поселок Молодцово',\n",
       "       'поселок городского типа Кузьмоловский',\n",
       "       'садовое товарищество Новая Ропша', 'Павловск',\n",
       "       'деревня Пикколово', 'Всеволожск', 'Волхов', 'Кингисепп',\n",
       "       'Приозерск', 'Сестрорецк', 'деревня Куттузи', 'посёлок Аннино',\n",
       "       'поселок городского типа Ефимовский', 'посёлок Плодовое',\n",
       "       'деревня Заклинье', 'поселок Торковичи', 'поселок Первомайское',\n",
       "       'Красное Село', 'посёлок Понтонный', 'Сясьстрой', 'деревня Старая',\n",
       "       'деревня Лесколово', 'посёлок Новый Свет', 'Сланцы',\n",
       "       'село Путилово', 'Ивангород', 'Мурино', 'Шлиссельбург',\n",
       "       'Никольское', 'Зеленогорск', 'Сосновый Бор', 'поселок Новый Свет',\n",
       "       'деревня Оржицы', 'деревня Кальтино', 'Кудрово',\n",
       "       'поселок Романовка', 'посёлок Бугры', 'поселок Бугры',\n",
       "       'поселок городского типа Рощино', 'Кириши', 'Луга', 'Волосово',\n",
       "       'Отрадное', 'село Павлово', 'поселок Оредеж', 'село Копорье',\n",
       "       'посёлок городского типа Красный Бор', 'посёлок Молодёжное',\n",
       "       'Тихвин', 'посёлок Победа', 'деревня Нурма',\n",
       "       'поселок городского типа Синявино', 'Тосно',\n",
       "       'посёлок городского типа Кузьмоловский', 'посёлок Стрельна',\n",
       "       'Бокситогорск', 'посёлок Александровская', 'деревня Лопухинка',\n",
       "       'Пикалёво', 'поселок Терволово',\n",
       "       'поселок городского типа Советский', 'Подпорожье',\n",
       "       'посёлок Петровское', 'посёлок городского типа Токсово',\n",
       "       'поселок Сельцо', 'посёлок городского типа Вырица',\n",
       "       'деревня Кипень', 'деревня Келози', 'деревня Вартемяги',\n",
       "       'посёлок Тельмана', 'поселок Севастьяново',\n",
       "       'городской поселок Большая Ижора', 'городской посёлок Павлово',\n",
       "       'деревня Агалатово', 'посёлок Новогорелово',\n",
       "       'городской посёлок Лесогорский', 'деревня Лаголово',\n",
       "       'поселок Цвелодубово', 'поселок городского типа Рахья',\n",
       "       'поселок городского типа Вырица', 'деревня Белогорка',\n",
       "       'поселок Заводской', 'городской посёлок Новоселье',\n",
       "       'деревня Большие Колпаны', 'деревня Горбунки', 'деревня Батово',\n",
       "       'деревня Заневка', 'деревня Иссад', 'Приморск',\n",
       "       'городской посёлок Фёдоровское', 'деревня Мистолово',\n",
       "       'Новая Ладога', 'поселок Зимитицы', 'поселок Барышево',\n",
       "       'деревня Разметелево', 'поселок городского типа имени Свердлова',\n",
       "       'деревня Пеники', 'поселок Рябово', 'деревня Пудомяги',\n",
       "       'поселок станции Корнево', 'деревня Низино', 'деревня Бегуницы',\n",
       "       'посёлок Поляны', 'городской посёлок Мга', 'поселок Елизаветино',\n",
       "       'посёлок городского типа Кузнечное', 'деревня Колтуши',\n",
       "       'поселок Запорожское', 'посёлок городского типа Рощино',\n",
       "       'деревня Гостилицы', 'деревня Малое Карлино',\n",
       "       'посёлок Мичуринское', 'посёлок городского типа имени Морозова',\n",
       "       'посёлок Песочный', 'посёлок Сосново', 'деревня Аро',\n",
       "       'поселок Ильичёво', 'посёлок городского типа Тайцы',\n",
       "       'деревня Малое Верево', 'деревня Извара', 'поселок станции Вещево',\n",
       "       'село Паша', 'деревня Калитино',\n",
       "       'посёлок городского типа Ульяновка', 'деревня Чудской Бор',\n",
       "       'поселок городского типа Дубровка', 'деревня Мины',\n",
       "       'поселок Войсковицы', 'посёлок городского типа имени Свердлова',\n",
       "       'деревня Коркино', 'посёлок Ропша',\n",
       "       'поселок городского типа Приладожский', 'посёлок Щеглово',\n",
       "       'посёлок Гаврилово', 'Лодейное Поле', 'деревня Рабитицы',\n",
       "       'поселок городского типа Никольский', 'деревня Кузьмолово',\n",
       "       'деревня Малые Колпаны', 'поселок Тельмана',\n",
       "       'посёлок Петро-Славянка', 'городской посёлок Назия',\n",
       "       'посёлок Репино', 'посёлок Ильичёво', 'поселок Углово',\n",
       "       'поселок Старая Малукса', 'садовое товарищество Рахья',\n",
       "       'поселок Аннино', 'поселок Победа', 'деревня Меньково',\n",
       "       'деревня Старые Бегуницы', 'посёлок Сапёрный', 'поселок Семрино',\n",
       "       'поселок Гаврилово', 'поселок Глажево', 'поселок Кобринское',\n",
       "       'деревня Гарболово', 'деревня Юкки',\n",
       "       'поселок станции Приветнинское', 'деревня Мануйлово',\n",
       "       'деревня Пчева', 'поселок Поляны', 'поселок Цвылёво',\n",
       "       'поселок Мельниково', 'посёлок Пудость', 'посёлок Усть-Луга',\n",
       "       'Светогорск', 'Любань', 'поселок Селезнёво',\n",
       "       'поселок городского типа Рябово', 'Каменногорск', 'деревня Кривко',\n",
       "       'поселок Глебычево', 'деревня Парицы', 'поселок Жилпосёлок',\n",
       "       'посёлок городского типа Мга', 'городской поселок Янино-1',\n",
       "       'посёлок Войскорово', 'село Никольское', 'посёлок Терволово',\n",
       "       'поселок Стеклянный', 'посёлок городского типа Важины',\n",
       "       'посёлок Мыза-Ивановка', 'село Русско-Высоцкое',\n",
       "       'поселок городского типа Лебяжье',\n",
       "       'поселок городского типа Форносово', 'село Старая Ладога',\n",
       "       'поселок Житково', 'городской посёлок Виллози', 'деревня Лампово',\n",
       "       'деревня Шпаньково', 'деревня Лаврики', 'посёлок Сумино',\n",
       "       'посёлок Возрождение', 'деревня Старосиверская',\n",
       "       'посёлок Кикерино', 'поселок Возрождение',\n",
       "       'деревня Старое Хинколово', 'посёлок Пригородный',\n",
       "       'посёлок Торфяное', 'городской посёлок Будогощь',\n",
       "       'поселок Суходолье', 'поселок Красная Долина', 'деревня Хапо-Ое',\n",
       "       'поселок городского типа Дружная Горка', 'поселок Лисий Нос',\n",
       "       'деревня Яльгелево', 'посёлок Стеклянный', 'село Рождествено',\n",
       "       'деревня Старополье', 'посёлок Левашово', 'деревня Сяськелево',\n",
       "       'деревня Камышовка',\n",
       "       'садоводческое некоммерческое товарищество Лесная Поляна',\n",
       "       'деревня Хязельки', 'поселок Жилгородок',\n",
       "       'посёлок городского типа Павлово', 'деревня Ялгино',\n",
       "       'поселок Новый Учхоз', 'городской посёлок Рощино',\n",
       "       'поселок Гончарово', 'поселок Почап', 'посёлок Сапёрное',\n",
       "       'посёлок Платформа 69-й километр', 'поселок Каложицы',\n",
       "       'деревня Фалилеево', 'деревня Пельгора',\n",
       "       'поселок городского типа Лесогорский', 'деревня Торошковичи',\n",
       "       'посёлок Белоостров', 'посёлок Алексеевка', 'поселок Серебрянский',\n",
       "       'поселок Лукаши', 'поселок Петровское', 'деревня Щеглово',\n",
       "       'поселок Мичуринское', 'деревня Тарасово', 'поселок Кингисеппский',\n",
       "       'посёлок при железнодорожной станции Вещево', 'поселок Ушаки',\n",
       "       'деревня Котлы', 'деревня Сижно', 'деревня Торосово',\n",
       "       'посёлок Форт Красная Горка', 'деревня Новолисино',\n",
       "       'посёлок станции Громово', 'деревня Глинка', 'посёлок Мельниково',\n",
       "       'поселок городского типа Назия', 'деревня Старая Пустошь',\n",
       "       'поселок Коммунары', 'поселок Починок',\n",
       "       'посёлок городского типа Вознесенье', 'деревня Разбегаево',\n",
       "       'посёлок городского типа Рябово', 'поселок Гладкое',\n",
       "       'посёлок при железнодорожной станции Приветнинское',\n",
       "       'поселок Тёсово-4', 'посёлок Жилгородок', 'деревня Бор',\n",
       "       'посёлок Коробицыно', 'деревня Большая Вруда', 'деревня Курковицы',\n",
       "       'посёлок Лисий Нос', 'городской посёлок Советский',\n",
       "       'посёлок Кобралово', 'деревня Суоранда', 'поселок Кобралово',\n",
       "       'поселок городского типа Кондратьево',\n",
       "       'коттеджный поселок Счастье', 'поселок Любань', 'деревня Реброво',\n",
       "       'деревня Зимитицы', 'деревня Тойворово', 'поселок Семиозерье',\n",
       "       'поселок Лесное', 'поселок Совхозный', 'поселок Усть-Луга',\n",
       "       'посёлок Ленинское', 'посёлок Суйда',\n",
       "       'посёлок городского типа Форносово', 'деревня Нижние Осельки',\n",
       "       'посёлок станции Свирь', 'поселок Перово', 'Высоцк',\n",
       "       'поселок Гарболово', 'село Шум', 'поселок Котельский',\n",
       "       'поселок станции Лужайка', 'деревня Большая Пустомержа',\n",
       "       'поселок Красносельское', 'деревня Вахнова Кара', 'деревня Пижма',\n",
       "       'коттеджный поселок Кивеннапа Север', 'поселок Коробицыно',\n",
       "       'поселок Ромашки', 'посёлок Перово', 'деревня Каськово',\n",
       "       'деревня Куровицы', 'посёлок Плоское', 'поселок Сумино',\n",
       "       'поселок городского типа Большая Ижора', 'поселок Кирпичное',\n",
       "       'деревня Ям-Тесово', 'деревня Раздолье', 'деревня Терпилицы',\n",
       "       'поселок городского типа Токсово', 'посёлок Шугозеро',\n",
       "       'деревня Ваганово', 'поселок Пушное', 'садовое товарищество Садко',\n",
       "       'посёлок Усть-Ижора', 'деревня Выскатка',\n",
       "       'городской посёлок Свирьстрой', 'поселок Громово',\n",
       "       'деревня Кисельня', 'посёлок Старая Малукса',\n",
       "       'деревня Трубников Бор', 'поселок Калитино',\n",
       "       'посёлок Высокоключевой', 'садовое товарищество Приладожский',\n",
       "       'посёлок Пансионат Зелёный Бор', 'деревня Ненимяки',\n",
       "       'поселок Пансионат Зелёный Бор', 'деревня Снегирёвка',\n",
       "       'деревня Рапполово', 'деревня Пустынка', 'поселок Рабитицы',\n",
       "       'деревня Большой Сабск', 'деревня Русско', 'деревня Лупполово',\n",
       "       'деревня Большое Рейзино', 'деревня Малая Романовка',\n",
       "       'поселок Дружноселье', 'поселок Пчевжа', 'поселок Володарское',\n",
       "       'деревня Нижняя', 'коттеджный посёлок Лесное', 'деревня Тихковицы',\n",
       "       'деревня Борисова Грива', 'посёлок Дзержинского'], dtype=object)"
      ]
     },
     "execution_count": 9,
     "metadata": {},
     "output_type": "execute_result"
    }
   ],
   "source": [
    "#узнаем уникальные названия населенных пунктов\n",
    "data['locality_name'].unique()\n",
    "\n",
    "\n"
   ]
  },
  {
   "cell_type": "code",
   "execution_count": 10,
   "metadata": {},
   "outputs": [
    {
     "data": {
      "text/plain": [
       "Санкт-Петербург      15651\n",
       "посёлок Мурино         520\n",
       "посёлок Шушары         439\n",
       "Всеволожск             398\n",
       "Пушкин                 369\n",
       "                     ...  \n",
       "поселок Кирпичное        1\n",
       "деревня Иссад            1\n",
       "посёлок Сумино           1\n",
       "деревня Шпаньково        1\n",
       "деревня Хязельки         1\n",
       "Name: locality_name, Length: 364, dtype: int64"
      ]
     },
     "execution_count": 10,
     "metadata": {},
     "output_type": "execute_result"
    }
   ],
   "source": [
    "#количество уникальных названий:\n",
    "data['locality_name'].value_counts()"
   ]
  },
  {
   "cell_type": "code",
   "execution_count": 11,
   "metadata": {},
   "outputs": [
    {
     "data": {
      "text/plain": [
       "array(['Санкт-Петербург', 'Шушары', 'Янино-1', 'Парголово', 'Мурино',\n",
       "       'Ломоносов', 'Сертолово', 'Петергоф', 'Пушкин', 'Кудрово',\n",
       "       'Коммунар', 'Колпино', 'Красный Бор', 'Гатчина', 'Фёдоровское',\n",
       "       'Выборг', 'Кронштадт', 'Кировск', 'Новое Девяткино',\n",
       "       'Металлострой', 'Лебяжье', 'Сиверский', 'Молодцово',\n",
       "       'Кузьмоловский', 'Новая Ропша', 'Павловск', 'Пикколово',\n",
       "       'Всеволожск', 'Волхов', 'Кингисепп', 'Приозерск', 'Сестрорецк',\n",
       "       'Куттузи', 'Аннино', 'Ефимовский', 'Плодовое', 'Заклинье',\n",
       "       'Торковичи', 'Первомайское', 'Красное Село', 'Понтонный',\n",
       "       'Сясьстрой', 'Старая', 'Лесколово', 'Новый Свет', 'Сланцы',\n",
       "       'Путилово', 'Ивангород', 'Шлиссельбург', 'Никольское',\n",
       "       'Зеленогорск', 'Сосновый Бор', 'Оржицы', 'Кальтино', 'Романовка',\n",
       "       'Бугры', 'Рощино', 'Кириши', 'Луга', 'Волосово', 'Отрадное',\n",
       "       'Павлово', 'Оредеж', 'Копорье', 'Молодёжное', 'Тихвин', 'Победа',\n",
       "       'Нурма', 'Синявино', 'Тосно', 'Стрельна', 'Бокситогорск',\n",
       "       'Александровская', 'Лопухинка', 'Пикалёво', 'Терволово',\n",
       "       'Советский', 'Подпорожье', 'Петровское', 'Токсово', 'Сельцо',\n",
       "       'Вырица', 'Кипень', 'Келози', 'Вартемяги', 'Тельмана',\n",
       "       'Севастьяново', 'Большая Ижора', 'Агалатово', 'Новогорелово',\n",
       "       'Лесогорский', 'Лаголово', 'Цвелодубово', 'Рахья', 'Белогорка',\n",
       "       'Заводской', 'Новоселье', 'Большие Колпаны', 'Горбунки', 'Батово',\n",
       "       'Заневка', 'Иссад', 'Приморск', 'Мистолово', 'Новая Ладога',\n",
       "       'Зимитицы', 'Барышево', 'Разметелево', 'имени Свердлова', 'Пеники',\n",
       "       'Рябово', 'Пудомяги', 'Корнево', 'Низино', 'Бегуницы', 'Поляны',\n",
       "       'Мга', 'Елизаветино', 'Кузнечное', 'Колтуши', 'Запорожское',\n",
       "       'Гостилицы', 'Малое Карлино', 'Мичуринское', 'имени Морозова',\n",
       "       'Песочный', 'Сосново', 'Аро', 'Ильичёво', 'Тайцы', 'Малое Верево',\n",
       "       'Извара', 'Вещево', 'Паша', 'Калитино', 'Ульяновка', 'Чудской Бор',\n",
       "       'Дубровка', 'Мины', 'Войсковицы', 'Коркино', 'Ропша',\n",
       "       'Приладожский', 'Щеглово', 'Гаврилово', 'Лодейное Поле',\n",
       "       'Рабитицы', 'Никольский', 'Кузьмолово', 'Малые Колпаны',\n",
       "       'Петро-Славянка', 'Назия', 'Репино', 'Углово', 'Старая Малукса',\n",
       "       'Меньково', 'Старые Бегуницы', 'Сапёрный', 'Семрино', 'Глажево',\n",
       "       'Кобринское', 'Гарболово', 'Юкки', 'Приветнинское', 'Мануйлово',\n",
       "       'Пчева', 'Цвылёво', 'Мельниково', 'Пудость', 'Усть-Луга',\n",
       "       'Светогорск', 'Любань', 'Селезнёво', 'Каменногорск', 'Кривко',\n",
       "       'Глебычево', 'Парицы', 'Жилпосёлок', 'Войскорово', 'Стеклянный',\n",
       "       'Важины', 'Мыза-Ивановка', 'Русско-Высоцкое', 'Форносово',\n",
       "       'Старая Ладога', 'Житково', 'Виллози', 'Лампово', 'Шпаньково',\n",
       "       'Лаврики', 'Сумино', 'Возрождение', 'Старосиверская', 'Кикерино',\n",
       "       'Старое Хинколово', 'Пригородный', 'Торфяное', 'Будогощь',\n",
       "       'Суходолье', 'Красная Долина', 'Хапо-Ое', 'Дружная Горка',\n",
       "       'Лисий Нос', 'Яльгелево', 'Рождествено', 'Старополье', 'Левашово',\n",
       "       'Сяськелево', 'Камышовка', 'Лесная Поляна', 'Хязельки',\n",
       "       'Жилгородок', 'Ялгино', 'Новый Учхоз', 'Гончарово', 'Почап',\n",
       "       'Сапёрное', 'Платформа 69-й километр', 'Каложицы', 'Фалилеево',\n",
       "       'Пельгора', 'Торошковичи', 'Белоостров', 'Алексеевка',\n",
       "       'Серебрянский', 'Лукаши', 'Тарасово', 'Кингисеппский', 'Ушаки',\n",
       "       'Котлы', 'Сижно', 'Торосово', 'Форт Красная Горка', 'Новолисино',\n",
       "       'Громово', 'Глинка', 'Старая Пустошь', 'Коммунары', 'Починок',\n",
       "       'Вознесенье', 'Разбегаево', 'Гладкое', 'Тёсово-4', 'Бор',\n",
       "       'Коробицыно', 'Большая Вруда', 'Курковицы', 'Кобралово',\n",
       "       'Суоранда', 'Кондратьево', 'Счастье', 'Реброво', 'Тойворово',\n",
       "       'Семиозерье', 'Лесное', 'Совхозный', 'Ленинское', 'Суйда',\n",
       "       'Нижние Осельки', 'Свирь', 'Перово', 'Высоцк', 'Шум', 'Котельский',\n",
       "       'Лужайка', 'Большая Пустомержа', 'Красносельское', 'Вахнова Кара',\n",
       "       'Пижма', 'Кивеннапа Север', 'Ромашки', 'Каськово', 'Куровицы',\n",
       "       'Плоское', 'Кирпичное', 'Ям-Тесово', 'Раздолье', 'Терпилицы',\n",
       "       'Шугозеро', 'Ваганово', 'Пушное', 'Садко', 'Усть-Ижора',\n",
       "       'Выскатка', 'Свирьстрой', 'Кисельня', 'Трубников Бор',\n",
       "       'Высокоключевой', 'Пансионат Зелёный Бор', 'Ненимяки',\n",
       "       'Снегирёвка', 'Рапполово', 'Пустынка', 'Большой Сабск', 'Русско',\n",
       "       'Лупполово', 'Большое Рейзино', 'Малая Романовка', 'Дружноселье',\n",
       "       'Пчевжа', 'Володарское', 'Нижняя', 'Тихковицы', 'Борисова Грива',\n",
       "       'Дзержинского'], dtype=object)"
      ]
     },
     "execution_count": 11,
     "metadata": {},
     "output_type": "execute_result"
    }
   ],
   "source": [
    "#устраняем неявные дубликаты: убираем типы населенных пунктов в названиях:\n",
    "\n",
    "data['locality_name'] = (\n",
    "    data['locality_name'].replace(['поселок ','посёлок ','садоводческое некоммерческое товарищество ', 'городской ','при железнодорожной ','станции ', 'городского типа ', 'деревня ', 'коттеджный ','садовое товарищество ','село '],'', regex=True)\n",
    ") \n",
    "data['locality_name'].unique()"
   ]
  },
  {
   "cell_type": "code",
   "execution_count": 12,
   "metadata": {},
   "outputs": [
    {
     "data": {
      "text/plain": [
       "Санкт-Петербург    15651\n",
       "Мурино               586\n",
       "Кудрово              470\n",
       "Шушары               439\n",
       "Всеволожск           398\n",
       "                   ...  \n",
       "Вахнова Кара           1\n",
       "Левашово               1\n",
       "Большой Сабск          1\n",
       "Кисельня               1\n",
       "Корнево                1\n",
       "Name: locality_name, Length: 305, dtype: int64"
      ]
     },
     "execution_count": 12,
     "metadata": {},
     "output_type": "execute_result"
    }
   ],
   "source": [
    "#количество уникальных названий после удаления:\n",
    "data['locality_name'].value_counts()"
   ]
  },
  {
   "cell_type": "markdown",
   "metadata": {},
   "source": [
    "*Вывод*: В результате удаления типов населенных пунктов их количество уменьшилось с 364 до 305.\n"
   ]
  },
  {
   "cell_type": "markdown",
   "metadata": {},
   "source": [
    "### Посчитайте и добавьте в таблицу новые столбцы"
   ]
  },
  {
   "cell_type": "code",
   "execution_count": 13,
   "metadata": {},
   "outputs": [
    {
     "data": {
      "text/html": [
       "<div>\n",
       "<style scoped>\n",
       "    .dataframe tbody tr th:only-of-type {\n",
       "        vertical-align: middle;\n",
       "    }\n",
       "\n",
       "    .dataframe tbody tr th {\n",
       "        vertical-align: top;\n",
       "    }\n",
       "\n",
       "    .dataframe thead th {\n",
       "        text-align: right;\n",
       "    }\n",
       "</style>\n",
       "<table border=\"1\" class=\"dataframe\">\n",
       "  <thead>\n",
       "    <tr style=\"text-align: right;\">\n",
       "      <th></th>\n",
       "      <th>total_images</th>\n",
       "      <th>last_price</th>\n",
       "      <th>total_area</th>\n",
       "      <th>first_day_exposition</th>\n",
       "      <th>rooms</th>\n",
       "      <th>ceiling_height</th>\n",
       "      <th>floors_total</th>\n",
       "      <th>living_area</th>\n",
       "      <th>floor</th>\n",
       "      <th>is_apartment</th>\n",
       "      <th>...</th>\n",
       "      <th>parks_nearest</th>\n",
       "      <th>ponds_around3000</th>\n",
       "      <th>ponds_nearest</th>\n",
       "      <th>days_exposition</th>\n",
       "      <th>price_sqm</th>\n",
       "      <th>weekday</th>\n",
       "      <th>month</th>\n",
       "      <th>year</th>\n",
       "      <th>floor_type</th>\n",
       "      <th>cityCenters_nearest_km</th>\n",
       "    </tr>\n",
       "  </thead>\n",
       "  <tbody>\n",
       "    <tr>\n",
       "      <th>0</th>\n",
       "      <td>20</td>\n",
       "      <td>13000000.0</td>\n",
       "      <td>108.0</td>\n",
       "      <td>2019-03-07</td>\n",
       "      <td>3</td>\n",
       "      <td>2.700000</td>\n",
       "      <td>16</td>\n",
       "      <td>51.0</td>\n",
       "      <td>8</td>\n",
       "      <td>False</td>\n",
       "      <td>...</td>\n",
       "      <td>482.0</td>\n",
       "      <td>2</td>\n",
       "      <td>755.0</td>\n",
       "      <td>NaN</td>\n",
       "      <td>120370.37</td>\n",
       "      <td>3</td>\n",
       "      <td>3</td>\n",
       "      <td>2019</td>\n",
       "      <td>другой</td>\n",
       "      <td>16.0</td>\n",
       "    </tr>\n",
       "    <tr>\n",
       "      <th>1</th>\n",
       "      <td>7</td>\n",
       "      <td>3350000.0</td>\n",
       "      <td>40.4</td>\n",
       "      <td>2018-12-04</td>\n",
       "      <td>1</td>\n",
       "      <td>2.771499</td>\n",
       "      <td>11</td>\n",
       "      <td>18.6</td>\n",
       "      <td>1</td>\n",
       "      <td>False</td>\n",
       "      <td>...</td>\n",
       "      <td>NaN</td>\n",
       "      <td>0</td>\n",
       "      <td>NaN</td>\n",
       "      <td>81.0</td>\n",
       "      <td>82920.79</td>\n",
       "      <td>1</td>\n",
       "      <td>12</td>\n",
       "      <td>2018</td>\n",
       "      <td>первый</td>\n",
       "      <td>19.0</td>\n",
       "    </tr>\n",
       "    <tr>\n",
       "      <th>2</th>\n",
       "      <td>10</td>\n",
       "      <td>5196000.0</td>\n",
       "      <td>56.0</td>\n",
       "      <td>2015-08-20</td>\n",
       "      <td>2</td>\n",
       "      <td>2.771499</td>\n",
       "      <td>5</td>\n",
       "      <td>34.3</td>\n",
       "      <td>4</td>\n",
       "      <td>False</td>\n",
       "      <td>...</td>\n",
       "      <td>90.0</td>\n",
       "      <td>2</td>\n",
       "      <td>574.0</td>\n",
       "      <td>558.0</td>\n",
       "      <td>92785.71</td>\n",
       "      <td>3</td>\n",
       "      <td>8</td>\n",
       "      <td>2015</td>\n",
       "      <td>другой</td>\n",
       "      <td>14.0</td>\n",
       "    </tr>\n",
       "    <tr>\n",
       "      <th>3</th>\n",
       "      <td>0</td>\n",
       "      <td>64900000.0</td>\n",
       "      <td>159.0</td>\n",
       "      <td>2015-07-24</td>\n",
       "      <td>3</td>\n",
       "      <td>2.771499</td>\n",
       "      <td>14</td>\n",
       "      <td>NaN</td>\n",
       "      <td>9</td>\n",
       "      <td>False</td>\n",
       "      <td>...</td>\n",
       "      <td>84.0</td>\n",
       "      <td>3</td>\n",
       "      <td>234.0</td>\n",
       "      <td>424.0</td>\n",
       "      <td>408176.10</td>\n",
       "      <td>4</td>\n",
       "      <td>7</td>\n",
       "      <td>2015</td>\n",
       "      <td>другой</td>\n",
       "      <td>7.0</td>\n",
       "    </tr>\n",
       "    <tr>\n",
       "      <th>4</th>\n",
       "      <td>2</td>\n",
       "      <td>10000000.0</td>\n",
       "      <td>100.0</td>\n",
       "      <td>2018-06-19</td>\n",
       "      <td>2</td>\n",
       "      <td>3.030000</td>\n",
       "      <td>14</td>\n",
       "      <td>32.0</td>\n",
       "      <td>13</td>\n",
       "      <td>False</td>\n",
       "      <td>...</td>\n",
       "      <td>112.0</td>\n",
       "      <td>1</td>\n",
       "      <td>48.0</td>\n",
       "      <td>121.0</td>\n",
       "      <td>100000.00</td>\n",
       "      <td>1</td>\n",
       "      <td>6</td>\n",
       "      <td>2018</td>\n",
       "      <td>другой</td>\n",
       "      <td>8.0</td>\n",
       "    </tr>\n",
       "  </tbody>\n",
       "</table>\n",
       "<p>5 rows × 28 columns</p>\n",
       "</div>"
      ],
      "text/plain": [
       "   total_images  last_price  total_area first_day_exposition  rooms  \\\n",
       "0            20  13000000.0       108.0           2019-03-07      3   \n",
       "1             7   3350000.0        40.4           2018-12-04      1   \n",
       "2            10   5196000.0        56.0           2015-08-20      2   \n",
       "3             0  64900000.0       159.0           2015-07-24      3   \n",
       "4             2  10000000.0       100.0           2018-06-19      2   \n",
       "\n",
       "   ceiling_height  floors_total  living_area  floor  is_apartment  ...  \\\n",
       "0        2.700000            16         51.0      8         False  ...   \n",
       "1        2.771499            11         18.6      1         False  ...   \n",
       "2        2.771499             5         34.3      4         False  ...   \n",
       "3        2.771499            14          NaN      9         False  ...   \n",
       "4        3.030000            14         32.0     13         False  ...   \n",
       "\n",
       "   parks_nearest  ponds_around3000  ponds_nearest  days_exposition  price_sqm  \\\n",
       "0          482.0                 2          755.0              NaN  120370.37   \n",
       "1            NaN                 0            NaN             81.0   82920.79   \n",
       "2           90.0                 2          574.0            558.0   92785.71   \n",
       "3           84.0                 3          234.0            424.0  408176.10   \n",
       "4          112.0                 1           48.0            121.0  100000.00   \n",
       "\n",
       "   weekday  month  year  floor_type  cityCenters_nearest_km  \n",
       "0        3      3  2019      другой                    16.0  \n",
       "1        1     12  2018      первый                    19.0  \n",
       "2        3      8  2015      другой                    14.0  \n",
       "3        4      7  2015      другой                     7.0  \n",
       "4        1      6  2018      другой                     8.0  \n",
       "\n",
       "[5 rows x 28 columns]"
      ]
     },
     "execution_count": 13,
     "metadata": {},
     "output_type": "execute_result"
    }
   ],
   "source": [
    "# рассчитаем цену одного квадратного метра и добавим в таблицу новый столбец:\n",
    "data ['price_sqm'] =round(data ['last_price']/data ['total_area'],2)\n",
    "\n",
    "# определим день недели публикации объявления:\n",
    "data['weekday'] = data['first_day_exposition'].dt.weekday\n",
    "\n",
    "# определим месяц публикации объявления:\n",
    "data['month'] = data['first_day_exposition'].dt.month\n",
    "\n",
    "# определим год публикации объявления:\n",
    "data['year'] = data['first_day_exposition'].dt.year\n",
    "\n",
    "# определим тип этажа квартиры:\n",
    "def floor_(row):\n",
    "    if row['floor'] == 1:\n",
    "        return 'первый'\n",
    "    elif row['floor'] == row['floors_total']:\n",
    "        return 'последний'\n",
    "    else:\n",
    "        return 'другой'\n",
    "data['floor_type'] = data.apply(floor_, axis=1)\n",
    "\n",
    "# определим расстояние до центра города в килшометрах:\n",
    "data['cityCenters_nearest_km'] = round(data['cityCenters_nearest']/1000,0)\n",
    "\n",
    "data.head()"
   ]
  },
  {
   "cell_type": "markdown",
   "metadata": {},
   "source": [
    "### Проведите исследовательский анализ данных"
   ]
  },
  {
   "cell_type": "markdown",
   "metadata": {},
   "source": [
    "####  Изучение параметров "
   ]
  },
  {
   "cell_type": "code",
   "execution_count": 14,
   "metadata": {},
   "outputs": [
    {
     "data": {
      "text/html": [
       "<div>\n",
       "<style scoped>\n",
       "    .dataframe tbody tr th:only-of-type {\n",
       "        vertical-align: middle;\n",
       "    }\n",
       "\n",
       "    .dataframe tbody tr th {\n",
       "        vertical-align: top;\n",
       "    }\n",
       "\n",
       "    .dataframe thead th {\n",
       "        text-align: right;\n",
       "    }\n",
       "</style>\n",
       "<table border=\"1\" class=\"dataframe\">\n",
       "  <thead>\n",
       "    <tr style=\"text-align: right;\">\n",
       "      <th></th>\n",
       "      <th>total_images</th>\n",
       "      <th>last_price</th>\n",
       "      <th>total_area</th>\n",
       "      <th>rooms</th>\n",
       "      <th>ceiling_height</th>\n",
       "      <th>floors_total</th>\n",
       "      <th>living_area</th>\n",
       "      <th>floor</th>\n",
       "      <th>kitchen_area</th>\n",
       "      <th>balcony</th>\n",
       "      <th>...</th>\n",
       "      <th>parks_around3000</th>\n",
       "      <th>parks_nearest</th>\n",
       "      <th>ponds_around3000</th>\n",
       "      <th>ponds_nearest</th>\n",
       "      <th>days_exposition</th>\n",
       "      <th>price_sqm</th>\n",
       "      <th>weekday</th>\n",
       "      <th>month</th>\n",
       "      <th>year</th>\n",
       "      <th>cityCenters_nearest_km</th>\n",
       "    </tr>\n",
       "  </thead>\n",
       "  <tbody>\n",
       "    <tr>\n",
       "      <th>count</th>\n",
       "      <td>23565.000000</td>\n",
       "      <td>2.151900e+04</td>\n",
       "      <td>22326.000000</td>\n",
       "      <td>23475.000000</td>\n",
       "      <td>22033.000000</td>\n",
       "      <td>23533.000000</td>\n",
       "      <td>20930.000000</td>\n",
       "      <td>23565.000000</td>\n",
       "      <td>20161.000000</td>\n",
       "      <td>23565.000000</td>\n",
       "      <td>...</td>\n",
       "      <td>23565.000000</td>\n",
       "      <td>7719.000000</td>\n",
       "      <td>23565.000000</td>\n",
       "      <td>9036.000000</td>\n",
       "      <td>20394.000000</td>\n",
       "      <td>2.356500e+04</td>\n",
       "      <td>23565.000000</td>\n",
       "      <td>23565.000000</td>\n",
       "      <td>23565.000000</td>\n",
       "      <td>18064.000000</td>\n",
       "    </tr>\n",
       "    <tr>\n",
       "      <th>mean</th>\n",
       "      <td>9.878421</td>\n",
       "      <td>4.837115e+06</td>\n",
       "      <td>54.319704</td>\n",
       "      <td>2.047796</td>\n",
       "      <td>2.703062</td>\n",
       "      <td>10.640930</td>\n",
       "      <td>31.544592</td>\n",
       "      <td>5.878124</td>\n",
       "      <td>9.504972</td>\n",
       "      <td>0.593677</td>\n",
       "      <td>...</td>\n",
       "      <td>0.468831</td>\n",
       "      <td>440.516388</td>\n",
       "      <td>0.589900</td>\n",
       "      <td>518.289509</td>\n",
       "      <td>180.741395</td>\n",
       "      <td>9.940584e+04</td>\n",
       "      <td>2.567367</td>\n",
       "      <td>6.401570</td>\n",
       "      <td>2017.371016</td>\n",
       "      <td>14.186504</td>\n",
       "    </tr>\n",
       "    <tr>\n",
       "      <th>std</th>\n",
       "      <td>5.681156</td>\n",
       "      <td>2.215774e+06</td>\n",
       "      <td>19.331030</td>\n",
       "      <td>1.006547</td>\n",
       "      <td>0.130367</td>\n",
       "      <td>6.527996</td>\n",
       "      <td>13.934545</td>\n",
       "      <td>4.871485</td>\n",
       "      <td>3.132379</td>\n",
       "      <td>0.960660</td>\n",
       "      <td>...</td>\n",
       "      <td>0.748403</td>\n",
       "      <td>215.857536</td>\n",
       "      <td>0.883966</td>\n",
       "      <td>278.009558</td>\n",
       "      <td>219.732782</td>\n",
       "      <td>5.038943e+04</td>\n",
       "      <td>1.788279</td>\n",
       "      <td>3.492948</td>\n",
       "      <td>1.037393</td>\n",
       "      <td>8.621131</td>\n",
       "    </tr>\n",
       "    <tr>\n",
       "      <th>min</th>\n",
       "      <td>0.000000</td>\n",
       "      <td>1.219000e+04</td>\n",
       "      <td>12.000000</td>\n",
       "      <td>0.000000</td>\n",
       "      <td>2.400000</td>\n",
       "      <td>1.000000</td>\n",
       "      <td>2.000000</td>\n",
       "      <td>1.000000</td>\n",
       "      <td>1.300000</td>\n",
       "      <td>0.000000</td>\n",
       "      <td>...</td>\n",
       "      <td>0.000000</td>\n",
       "      <td>1.000000</td>\n",
       "      <td>0.000000</td>\n",
       "      <td>13.000000</td>\n",
       "      <td>1.000000</td>\n",
       "      <td>1.118300e+02</td>\n",
       "      <td>0.000000</td>\n",
       "      <td>1.000000</td>\n",
       "      <td>2014.000000</td>\n",
       "      <td>0.000000</td>\n",
       "    </tr>\n",
       "    <tr>\n",
       "      <th>25%</th>\n",
       "      <td>6.000000</td>\n",
       "      <td>3.300000e+06</td>\n",
       "      <td>39.400000</td>\n",
       "      <td>1.000000</td>\n",
       "      <td>2.600000</td>\n",
       "      <td>5.000000</td>\n",
       "      <td>18.400000</td>\n",
       "      <td>2.000000</td>\n",
       "      <td>7.000000</td>\n",
       "      <td>0.000000</td>\n",
       "      <td>...</td>\n",
       "      <td>0.000000</td>\n",
       "      <td>281.000000</td>\n",
       "      <td>0.000000</td>\n",
       "      <td>293.000000</td>\n",
       "      <td>45.000000</td>\n",
       "      <td>7.656613e+04</td>\n",
       "      <td>1.000000</td>\n",
       "      <td>3.000000</td>\n",
       "      <td>2017.000000</td>\n",
       "      <td>9.000000</td>\n",
       "    </tr>\n",
       "    <tr>\n",
       "      <th>50%</th>\n",
       "      <td>9.000000</td>\n",
       "      <td>4.400000e+06</td>\n",
       "      <td>50.000000</td>\n",
       "      <td>2.000000</td>\n",
       "      <td>2.771499</td>\n",
       "      <td>9.000000</td>\n",
       "      <td>30.000000</td>\n",
       "      <td>4.000000</td>\n",
       "      <td>9.000000</td>\n",
       "      <td>0.000000</td>\n",
       "      <td>...</td>\n",
       "      <td>0.000000</td>\n",
       "      <td>441.000000</td>\n",
       "      <td>0.000000</td>\n",
       "      <td>503.000000</td>\n",
       "      <td>95.000000</td>\n",
       "      <td>9.500000e+04</td>\n",
       "      <td>3.000000</td>\n",
       "      <td>6.000000</td>\n",
       "      <td>2017.000000</td>\n",
       "      <td>13.000000</td>\n",
       "    </tr>\n",
       "    <tr>\n",
       "      <th>75%</th>\n",
       "      <td>14.000000</td>\n",
       "      <td>6.000000e+06</td>\n",
       "      <td>65.500000</td>\n",
       "      <td>3.000000</td>\n",
       "      <td>2.771499</td>\n",
       "      <td>16.000000</td>\n",
       "      <td>41.000000</td>\n",
       "      <td>8.000000</td>\n",
       "      <td>11.100000</td>\n",
       "      <td>1.000000</td>\n",
       "      <td>...</td>\n",
       "      <td>1.000000</td>\n",
       "      <td>592.000000</td>\n",
       "      <td>1.000000</td>\n",
       "      <td>730.000000</td>\n",
       "      <td>231.000000</td>\n",
       "      <td>1.142132e+05</td>\n",
       "      <td>4.000000</td>\n",
       "      <td>10.000000</td>\n",
       "      <td>2018.000000</td>\n",
       "      <td>16.000000</td>\n",
       "    </tr>\n",
       "    <tr>\n",
       "      <th>max</th>\n",
       "      <td>50.000000</td>\n",
       "      <td>1.186686e+07</td>\n",
       "      <td>114.200000</td>\n",
       "      <td>6.000000</td>\n",
       "      <td>3.020000</td>\n",
       "      <td>29.000000</td>\n",
       "      <td>77.800000</td>\n",
       "      <td>33.000000</td>\n",
       "      <td>19.500000</td>\n",
       "      <td>5.000000</td>\n",
       "      <td>...</td>\n",
       "      <td>3.000000</td>\n",
       "      <td>1098.000000</td>\n",
       "      <td>3.000000</td>\n",
       "      <td>1344.000000</td>\n",
       "      <td>1580.000000</td>\n",
       "      <td>1.907500e+06</td>\n",
       "      <td>6.000000</td>\n",
       "      <td>12.000000</td>\n",
       "      <td>2019.000000</td>\n",
       "      <td>66.000000</td>\n",
       "    </tr>\n",
       "  </tbody>\n",
       "</table>\n",
       "<p>8 rows × 22 columns</p>\n",
       "</div>"
      ],
      "text/plain": [
       "       total_images    last_price    total_area         rooms  ceiling_height  \\\n",
       "count  23565.000000  2.151900e+04  22326.000000  23475.000000    22033.000000   \n",
       "mean       9.878421  4.837115e+06     54.319704      2.047796        2.703062   \n",
       "std        5.681156  2.215774e+06     19.331030      1.006547        0.130367   \n",
       "min        0.000000  1.219000e+04     12.000000      0.000000        2.400000   \n",
       "25%        6.000000  3.300000e+06     39.400000      1.000000        2.600000   \n",
       "50%        9.000000  4.400000e+06     50.000000      2.000000        2.771499   \n",
       "75%       14.000000  6.000000e+06     65.500000      3.000000        2.771499   \n",
       "max       50.000000  1.186686e+07    114.200000      6.000000        3.020000   \n",
       "\n",
       "       floors_total   living_area         floor  kitchen_area       balcony  \\\n",
       "count  23533.000000  20930.000000  23565.000000  20161.000000  23565.000000   \n",
       "mean      10.640930     31.544592      5.878124      9.504972      0.593677   \n",
       "std        6.527996     13.934545      4.871485      3.132379      0.960660   \n",
       "min        1.000000      2.000000      1.000000      1.300000      0.000000   \n",
       "25%        5.000000     18.400000      2.000000      7.000000      0.000000   \n",
       "50%        9.000000     30.000000      4.000000      9.000000      0.000000   \n",
       "75%       16.000000     41.000000      8.000000     11.100000      1.000000   \n",
       "max       29.000000     77.800000     33.000000     19.500000      5.000000   \n",
       "\n",
       "       ...  parks_around3000  parks_nearest  ponds_around3000  ponds_nearest  \\\n",
       "count  ...      23565.000000    7719.000000      23565.000000    9036.000000   \n",
       "mean   ...          0.468831     440.516388          0.589900     518.289509   \n",
       "std    ...          0.748403     215.857536          0.883966     278.009558   \n",
       "min    ...          0.000000       1.000000          0.000000      13.000000   \n",
       "25%    ...          0.000000     281.000000          0.000000     293.000000   \n",
       "50%    ...          0.000000     441.000000          0.000000     503.000000   \n",
       "75%    ...          1.000000     592.000000          1.000000     730.000000   \n",
       "max    ...          3.000000    1098.000000          3.000000    1344.000000   \n",
       "\n",
       "       days_exposition     price_sqm       weekday         month  \\\n",
       "count     20394.000000  2.356500e+04  23565.000000  23565.000000   \n",
       "mean        180.741395  9.940584e+04      2.567367      6.401570   \n",
       "std         219.732782  5.038943e+04      1.788279      3.492948   \n",
       "min           1.000000  1.118300e+02      0.000000      1.000000   \n",
       "25%          45.000000  7.656613e+04      1.000000      3.000000   \n",
       "50%          95.000000  9.500000e+04      3.000000      6.000000   \n",
       "75%         231.000000  1.142132e+05      4.000000     10.000000   \n",
       "max        1580.000000  1.907500e+06      6.000000     12.000000   \n",
       "\n",
       "               year  cityCenters_nearest_km  \n",
       "count  23565.000000            18064.000000  \n",
       "mean    2017.371016               14.186504  \n",
       "std        1.037393                8.621131  \n",
       "min     2014.000000                0.000000  \n",
       "25%     2017.000000                9.000000  \n",
       "50%     2017.000000               13.000000  \n",
       "75%     2018.000000               16.000000  \n",
       "max     2019.000000               66.000000  \n",
       "\n",
       "[8 rows x 22 columns]"
      ]
     },
     "execution_count": 14,
     "metadata": {},
     "output_type": "execute_result"
    }
   ],
   "source": [
    "# удалим сильно отклоняющиеся значения:\n",
    "col = ['ceiling_height', 'cityCenters_nearest', 'floors_total', \n",
    "       'kitchen_area', 'last_price', 'living_area', 'parks_nearest','rooms', \n",
    "        'total_area']\n",
    "data_clean = data.copy()\n",
    "for column in col:\n",
    "    q1 = data[column].quantile(.25)\n",
    "    q3 = data[column].quantile(.75)\n",
    "    iqr = q3 - q1\n",
    "    lower_bound = q1 - 1.5 * iqr\n",
    "    upper_bound = q3 + 1.5 * iqr\n",
    "    data_clean.loc[(data_clean[column] < lower_bound) | (data_clean[column] > upper_bound), column] = None\n",
    "    \n",
    "data_clean = data_clean.dropna(how='all')    \n",
    " \n",
    "\n",
    "data_clean.describe()"
   ]
  },
  {
   "cell_type": "code",
   "execution_count": null,
   "metadata": {},
   "outputs": [],
   "source": []
  },
  {
   "cell_type": "code",
   "execution_count": 15,
   "metadata": {},
   "outputs": [
    {
     "data": {
      "image/png": "[encoded data removed]",
      "text/plain": [
       "<Figure size 432x288 with 1 Axes>"
      ]
     },
     "metadata": {
      "needs_background": "light"
     },
     "output_type": "display_data"
    }
   ],
   "source": [
    "#построим гистограмму:\n",
    "data_clean.hist('total_area',bins=60, range=(10,150));"
   ]
  },
  {
   "cell_type": "markdown",
   "metadata": {},
   "source": [
    "**Вывод**: Большинство объектов недвижимости имеют общую площадь до 100 кв.м. "
   ]
  },
  {
   "cell_type": "code",
   "execution_count": 16,
   "metadata": {},
   "outputs": [
    {
     "data": {
      "image/png": "[encoded data removed]",
      "text/plain": [
       "<Figure size 432x288 with 1 Axes>"
      ]
     },
     "metadata": {
      "needs_background": "light"
     },
     "output_type": "display_data"
    }
   ],
   "source": [
    "data_clean.hist('living_area',bins=40, range=(2,100));"
   ]
  },
  {
   "cell_type": "markdown",
   "metadata": {},
   "source": [
    "**Вывод**: Большинство объектов недвижимости имеют жилую площадь до 55 кв.м. "
   ]
  },
  {
   "cell_type": "code",
   "execution_count": 17,
   "metadata": {},
   "outputs": [
    {
     "data": {
      "image/png": "[encoded data removed]",
      "text/plain": [
       "<Figure size 432x288 with 1 Axes>"
      ]
     },
     "metadata": {
      "needs_background": "light"
     },
     "output_type": "display_data"
    }
   ],
   "source": [
    "data_clean.hist('kitchen_area',bins=30, range=(5,20));"
   ]
  },
  {
   "cell_type": "markdown",
   "metadata": {},
   "source": [
    "**Вывод**: Большинство объектов недвижимости имеют площадь кухни до 15 кв.м. "
   ]
  },
  {
   "cell_type": "code",
   "execution_count": 18,
   "metadata": {},
   "outputs": [
    {
     "data": {
      "image/png": "[encoded data removed]",
      "text/plain": [
       "<Figure size 432x288 with 1 Axes>"
      ]
     },
     "metadata": {
      "needs_background": "light"
     },
     "output_type": "display_data"
    }
   ],
   "source": [
    "data_clean['last_price'] = data_clean['last_price'].apply(lambda x: x/1000000)\n",
    "data_clean.hist('last_price',bins=50, range=(1,20));"
   ]
  },
  {
   "cell_type": "markdown",
   "metadata": {},
   "source": [
    "**Вывод**: Средняя стоимость проданных объектов недвижимости составляла 6,5 млн. руб. "
   ]
  },
  {
   "cell_type": "code",
   "execution_count": 19,
   "metadata": {},
   "outputs": [
    {
     "data": {
      "image/png": "[encoded data removed]",
      "text/plain": [
       "<Figure size 432x288 with 1 Axes>"
      ]
     },
     "metadata": {
      "needs_background": "light"
     },
     "output_type": "display_data"
    }
   ],
   "source": [
    "data_clean.hist('rooms',bins=40, range=(0,6));"
   ]
  },
  {
   "cell_type": "markdown",
   "metadata": {},
   "source": [
    "**Вывод**: Большинство объектов недвижимости  имеют 1-2 комнаты. Есть объекты, где указано ноль комнат."
   ]
  },
  {
   "cell_type": "code",
   "execution_count": 20,
   "metadata": {},
   "outputs": [
    {
     "data": {
      "text/plain": [
       "22869    100.0\n",
       "3148      32.0\n",
       "22336     32.0\n",
       "21377     27.5\n",
       "20478     27.0\n",
       "10773     27.0\n",
       "4876      27.0\n",
       "22938     27.0\n",
       "21824     27.0\n",
       "5246      27.0\n",
       "Name: ceiling_height, dtype: float64"
      ]
     },
     "execution_count": 20,
     "metadata": {},
     "output_type": "execute_result"
    }
   ],
   "source": [
    "data['ceiling_height'].sort_values(ascending=False).head(10)"
   ]
  },
  {
   "cell_type": "markdown",
   "metadata": {},
   "source": [
    "**Вывод**: Средняя высота потолков в объектах недвижимости 2.7 м. Есть объекты с аномальной высотой 100 м. и объекты с высотой 32 м. и 27 м. Логично предположить, что на самом деле это вещественные значения: 2.7 м и 3.2 м."
   ]
  },
  {
   "cell_type": "code",
   "execution_count": 21,
   "metadata": {},
   "outputs": [
    {
     "data": {
      "text/plain": [
       "15061    14.0\n",
       "22309    10.3\n",
       "22869    10.0\n",
       "5863      8.3\n",
       "15743     8.0\n",
       "3474      8.0\n",
       "17442     8.0\n",
       "20264     6.0\n",
       "21227     5.8\n",
       "1388      5.6\n",
       "Name: ceiling_height, dtype: float64"
      ]
     },
     "execution_count": 21,
     "metadata": {},
     "output_type": "execute_result"
    }
   ],
   "source": [
    "#Поменяем аномальные значение высоты потолков:\n",
    "for i in data['ceiling_height']:\n",
    "     if i >= 20:\n",
    "        data['ceiling_height'] = data['ceiling_height'].replace({i: i/10})\n",
    "data['ceiling_height'].sort_values(ascending=False).head(10)"
   ]
  },
  {
   "cell_type": "code",
   "execution_count": 22,
   "metadata": {},
   "outputs": [
    {
     "data": {
      "image/png": "[encoded data removed]",
      "text/plain": [
       "<Figure size 432x288 with 1 Axes>"
      ]
     },
     "metadata": {
      "needs_background": "light"
     },
     "output_type": "display_data"
    }
   ],
   "source": [
    "data.hist('ceiling_height',bins=20, range=(1,4));"
   ]
  },
  {
   "cell_type": "code",
   "execution_count": 23,
   "metadata": {},
   "outputs": [
    {
     "data": {
      "image/png": "[encoded data removed]",
      "text/plain": [
       "<Figure size 432x288 with 1 Axes>"
      ]
     },
     "metadata": {
      "needs_background": "light"
     },
     "output_type": "display_data"
    }
   ],
   "source": [
    "data_clean.hist('floors_total',bins=30, range=(1,30));"
   ]
  },
  {
   "cell_type": "markdown",
   "metadata": {},
   "source": [
    "**Вывод**: Среднее количество этажей в домах 16. "
   ]
  },
  {
   "cell_type": "code",
   "execution_count": 24,
   "metadata": {},
   "outputs": [
    {
     "data": {
      "image/png": "[encoded data removed]",
      "text/plain": [
       "<Figure size 432x288 with 1 Axes>"
      ]
     },
     "metadata": {
      "needs_background": "light"
     },
     "output_type": "display_data"
    }
   ],
   "source": [
    "data_clean.hist('cityCenters_nearest',bins=30, range=(150,60000));"
   ]
  },
  {
   "cell_type": "markdown",
   "metadata": {},
   "source": [
    "**Вывод**: В среднем расстояние о центра города составляет 14 км. Есть значения свыше 50 км., возможно расстояние указано из другого населенного пункта до  центра ближайшего города."
   ]
  },
  {
   "cell_type": "code",
   "execution_count": 25,
   "metadata": {},
   "outputs": [
    {
     "data": {
      "image/png": "[encoded data removed]",
      "text/plain": [
       "<Figure size 432x288 with 1 Axes>"
      ]
     },
     "metadata": {
      "needs_background": "light"
     },
     "output_type": "display_data"
    }
   ],
   "source": [
    "data_clean.hist('parks_nearest',bins=30, range=(10,3000));"
   ]
  },
  {
   "cell_type": "markdown",
   "metadata": {},
   "source": [
    "**Вывод**: В среднем расстояние до парка составляет 500 м. "
   ]
  },
  {
   "cell_type": "code",
   "execution_count": 26,
   "metadata": {},
   "outputs": [
    {
     "data": {
      "text/plain": [
       "другой       17326\n",
       "последний     3330\n",
       "первый        2909\n",
       "Name: floor_type, dtype: int64"
      ]
     },
     "execution_count": 26,
     "metadata": {},
     "output_type": "execute_result"
    }
   ],
   "source": [
    "data['floor_type'].value_counts()\n"
   ]
  },
  {
   "cell_type": "code",
   "execution_count": 27,
   "metadata": {
    "scrolled": true
   },
   "outputs": [
    {
     "data": {
      "image/png": "[encoded data removed]",
      "text/plain": [
       "<Figure size 360x360 with 1 Axes>"
      ]
     },
     "metadata": {
      "needs_background": "light"
     },
     "output_type": "display_data"
    }
   ],
   "source": [
    "data.pivot_table(index='floor_type', values='floor', aggfunc='count') .plot(grid=True,kind ='bar', figsize=(5, 5));"
   ]
  },
  {
   "cell_type": "markdown",
   "metadata": {},
   "source": [
    "**Вывод**: Большинство объектов недвижимости расположены не на первом и не на последнем этажах."
   ]
  },
  {
   "cell_type": "code",
   "execution_count": 28,
   "metadata": {},
   "outputs": [
    {
     "data": {
      "text/plain": [
       "count    23565.000000\n",
       "mean         6.540058\n",
       "std         10.910935\n",
       "min          0.012190\n",
       "25%          3.400000\n",
       "50%          4.646000\n",
       "75%          6.790000\n",
       "max        763.000000\n",
       "Name: last_price, dtype: float64"
      ]
     },
     "execution_count": 28,
     "metadata": {},
     "output_type": "execute_result"
    }
   ],
   "source": [
    "data['last_price'] = data['last_price'].apply(lambda x: x/1000000)\n",
    "data['last_price'].describe()\n",
    "\n"
   ]
  },
  {
   "cell_type": "code",
   "execution_count": 29,
   "metadata": {},
   "outputs": [
    {
     "data": {
      "image/png": "[encoded data removed]",
      "text/plain": [
       "<Figure size 432x288 with 1 Axes>"
      ]
     },
     "metadata": {
      "needs_background": "light"
     },
     "output_type": "display_data"
    }
   ],
   "source": [
    "data.boxplot(column=['last_price']);"
   ]
  },
  {
   "cell_type": "code",
   "execution_count": 30,
   "metadata": {},
   "outputs": [
    {
     "data": {
      "text/plain": [
       "count    21519.000000\n",
       "mean         4.837115\n",
       "std          2.215774\n",
       "min          0.012190\n",
       "25%          3.300000\n",
       "50%          4.400000\n",
       "75%          5.999999\n",
       "max         11.866860\n",
       "Name: last_price, dtype: float64"
      ]
     },
     "execution_count": 30,
     "metadata": {},
     "output_type": "execute_result"
    }
   ],
   "source": [
    "data_clean['last_price'].describe()\n"
   ]
  },
  {
   "cell_type": "code",
   "execution_count": 31,
   "metadata": {},
   "outputs": [
    {
     "data": {
      "image/png": "[encoded data removed]",
      "text/plain": [
       "<Figure size 432x288 with 1 Axes>"
      ]
     },
     "metadata": {
      "needs_background": "light"
     },
     "output_type": "display_data"
    }
   ],
   "source": [
    "data_clean.boxplot(column=['last_price']);"
   ]
  },
  {
   "cell_type": "code",
   "execution_count": 32,
   "metadata": {},
   "outputs": [
    {
     "data": {
      "text/plain": [
       "count    23565.000000\n",
       "mean         2.070656\n",
       "std          1.078591\n",
       "min          0.000000\n",
       "25%          1.000000\n",
       "50%          2.000000\n",
       "75%          3.000000\n",
       "max         19.000000\n",
       "Name: rooms, dtype: float64"
      ]
     },
     "execution_count": 32,
     "metadata": {},
     "output_type": "execute_result"
    }
   ],
   "source": [
    "data['rooms'].describe()"
   ]
  },
  {
   "cell_type": "code",
   "execution_count": 33,
   "metadata": {},
   "outputs": [
    {
     "data": {
      "image/png": "[encoded data removed]",
      "text/plain": [
       "<Figure size 432x288 with 1 Axes>"
      ]
     },
     "metadata": {
      "needs_background": "light"
     },
     "output_type": "display_data"
    }
   ],
   "source": [
    "data.boxplot(column=['rooms']);"
   ]
  },
  {
   "cell_type": "code",
   "execution_count": 34,
   "metadata": {},
   "outputs": [
    {
     "data": {
      "text/plain": [
       "count    23475.000000\n",
       "mean         2.047796\n",
       "std          1.006547\n",
       "min          0.000000\n",
       "25%          1.000000\n",
       "50%          2.000000\n",
       "75%          3.000000\n",
       "max          6.000000\n",
       "Name: rooms, dtype: float64"
      ]
     },
     "execution_count": 34,
     "metadata": {},
     "output_type": "execute_result"
    }
   ],
   "source": [
    "data_clean['rooms'].describe()"
   ]
  },
  {
   "cell_type": "code",
   "execution_count": 35,
   "metadata": {},
   "outputs": [
    {
     "data": {
      "image/png": "[encoded data removed]",
      "text/plain": [
       "<Figure size 432x288 with 1 Axes>"
      ]
     },
     "metadata": {
      "needs_background": "light"
     },
     "output_type": "display_data"
    }
   ],
   "source": [
    "data_clean.boxplot(column=['rooms']);"
   ]
  },
  {
   "cell_type": "code",
   "execution_count": 36,
   "metadata": {},
   "outputs": [
    {
     "data": {
      "text/plain": [
       "count    23565.000000\n",
       "mean        60.322824\n",
       "std         35.657060\n",
       "min         12.000000\n",
       "25%         40.000000\n",
       "50%         52.000000\n",
       "75%         69.700000\n",
       "max        900.000000\n",
       "Name: total_area, dtype: float64"
      ]
     },
     "execution_count": 36,
     "metadata": {},
     "output_type": "execute_result"
    }
   ],
   "source": [
    "data['total_area'].describe()"
   ]
  },
  {
   "cell_type": "code",
   "execution_count": 37,
   "metadata": {},
   "outputs": [
    {
     "data": {
      "image/png": "[encoded data removed]",
      "text/plain": [
       "<Figure size 432x288 with 1 Axes>"
      ]
     },
     "metadata": {
      "needs_background": "light"
     },
     "output_type": "display_data"
    }
   ],
   "source": [
    "data.boxplot(column=['total_area']);"
   ]
  },
  {
   "cell_type": "code",
   "execution_count": 38,
   "metadata": {},
   "outputs": [
    {
     "data": {
      "text/plain": [
       "count    22326.000000\n",
       "mean        54.319704\n",
       "std         19.331030\n",
       "min         12.000000\n",
       "25%         39.400000\n",
       "50%         50.000000\n",
       "75%         65.500000\n",
       "max        114.200000\n",
       "Name: total_area, dtype: float64"
      ]
     },
     "execution_count": 38,
     "metadata": {},
     "output_type": "execute_result"
    }
   ],
   "source": [
    "data_clean['total_area'].describe()"
   ]
  },
  {
   "cell_type": "code",
   "execution_count": 39,
   "metadata": {},
   "outputs": [
    {
     "data": {
      "image/png": "[encoded data removed]",
      "text/plain": [
       "<Figure size 432x288 with 1 Axes>"
      ]
     },
     "metadata": {
      "needs_background": "light"
     },
     "output_type": "display_data"
    }
   ],
   "source": [
    "data_clean.boxplot(column=['total_area']);"
   ]
  },
  {
   "cell_type": "code",
   "execution_count": 40,
   "metadata": {},
   "outputs": [
    {
     "data": {
      "text/plain": [
       "1.0"
      ]
     },
     "execution_count": 40,
     "metadata": {},
     "output_type": "execute_result"
    }
   ],
   "source": [
    "data_clean.shape[0] / data.shape[0]"
   ]
  },
  {
   "cell_type": "code",
   "execution_count": 54,
   "metadata": {},
   "outputs": [
    {
     "data": {
      "text/html": [
       "<div>\n",
       "<style scoped>\n",
       "    .dataframe tbody tr th:only-of-type {\n",
       "        vertical-align: middle;\n",
       "    }\n",
       "\n",
       "    .dataframe tbody tr th {\n",
       "        vertical-align: top;\n",
       "    }\n",
       "\n",
       "    .dataframe thead th {\n",
       "        text-align: right;\n",
       "    }\n",
       "</style>\n",
       "<table border=\"1\" class=\"dataframe\">\n",
       "  <thead>\n",
       "    <tr style=\"text-align: right;\">\n",
       "      <th></th>\n",
       "      <th>total_images</th>\n",
       "      <th>last_price</th>\n",
       "      <th>total_area</th>\n",
       "      <th>rooms</th>\n",
       "      <th>ceiling_height</th>\n",
       "      <th>floors_total</th>\n",
       "      <th>living_area</th>\n",
       "      <th>floor</th>\n",
       "      <th>kitchen_area</th>\n",
       "      <th>balcony</th>\n",
       "      <th>...</th>\n",
       "      <th>parks_around3000</th>\n",
       "      <th>parks_nearest</th>\n",
       "      <th>ponds_around3000</th>\n",
       "      <th>ponds_nearest</th>\n",
       "      <th>days_exposition</th>\n",
       "      <th>price_sqm</th>\n",
       "      <th>weekday</th>\n",
       "      <th>month</th>\n",
       "      <th>year</th>\n",
       "      <th>cityCenters_nearest_km</th>\n",
       "    </tr>\n",
       "  </thead>\n",
       "  <tbody>\n",
       "    <tr>\n",
       "      <th>count</th>\n",
       "      <td>23565.000000</td>\n",
       "      <td>21519.000000</td>\n",
       "      <td>22326.000000</td>\n",
       "      <td>23475.000000</td>\n",
       "      <td>22033.000000</td>\n",
       "      <td>23533.000000</td>\n",
       "      <td>20930.000000</td>\n",
       "      <td>23565.000000</td>\n",
       "      <td>20161.000000</td>\n",
       "      <td>23565.000000</td>\n",
       "      <td>...</td>\n",
       "      <td>23565.000000</td>\n",
       "      <td>7719.000000</td>\n",
       "      <td>23565.000000</td>\n",
       "      <td>9036.000000</td>\n",
       "      <td>20394.000000</td>\n",
       "      <td>2.356500e+04</td>\n",
       "      <td>23565.000000</td>\n",
       "      <td>23565.000000</td>\n",
       "      <td>23565.000000</td>\n",
       "      <td>18064.000000</td>\n",
       "    </tr>\n",
       "    <tr>\n",
       "      <th>mean</th>\n",
       "      <td>9.878421</td>\n",
       "      <td>4.837115</td>\n",
       "      <td>54.319704</td>\n",
       "      <td>2.047796</td>\n",
       "      <td>2.703062</td>\n",
       "      <td>10.640930</td>\n",
       "      <td>31.544592</td>\n",
       "      <td>5.878124</td>\n",
       "      <td>9.504972</td>\n",
       "      <td>0.593677</td>\n",
       "      <td>...</td>\n",
       "      <td>0.468831</td>\n",
       "      <td>440.516388</td>\n",
       "      <td>0.589900</td>\n",
       "      <td>518.289509</td>\n",
       "      <td>180.741395</td>\n",
       "      <td>9.940584e+04</td>\n",
       "      <td>2.567367</td>\n",
       "      <td>6.401570</td>\n",
       "      <td>2017.371016</td>\n",
       "      <td>14.186504</td>\n",
       "    </tr>\n",
       "    <tr>\n",
       "      <th>std</th>\n",
       "      <td>5.681156</td>\n",
       "      <td>2.215774</td>\n",
       "      <td>19.331030</td>\n",
       "      <td>1.006547</td>\n",
       "      <td>0.130367</td>\n",
       "      <td>6.527996</td>\n",
       "      <td>13.934545</td>\n",
       "      <td>4.871485</td>\n",
       "      <td>3.132379</td>\n",
       "      <td>0.960660</td>\n",
       "      <td>...</td>\n",
       "      <td>0.748403</td>\n",
       "      <td>215.857536</td>\n",
       "      <td>0.883966</td>\n",
       "      <td>278.009558</td>\n",
       "      <td>219.732782</td>\n",
       "      <td>5.038943e+04</td>\n",
       "      <td>1.788279</td>\n",
       "      <td>3.492948</td>\n",
       "      <td>1.037393</td>\n",
       "      <td>8.621131</td>\n",
       "    </tr>\n",
       "    <tr>\n",
       "      <th>min</th>\n",
       "      <td>0.000000</td>\n",
       "      <td>0.012190</td>\n",
       "      <td>12.000000</td>\n",
       "      <td>0.000000</td>\n",
       "      <td>2.400000</td>\n",
       "      <td>1.000000</td>\n",
       "      <td>2.000000</td>\n",
       "      <td>1.000000</td>\n",
       "      <td>1.300000</td>\n",
       "      <td>0.000000</td>\n",
       "      <td>...</td>\n",
       "      <td>0.000000</td>\n",
       "      <td>1.000000</td>\n",
       "      <td>0.000000</td>\n",
       "      <td>13.000000</td>\n",
       "      <td>1.000000</td>\n",
       "      <td>1.118300e+02</td>\n",
       "      <td>0.000000</td>\n",
       "      <td>1.000000</td>\n",
       "      <td>2014.000000</td>\n",
       "      <td>0.000000</td>\n",
       "    </tr>\n",
       "    <tr>\n",
       "      <th>25%</th>\n",
       "      <td>6.000000</td>\n",
       "      <td>3.300000</td>\n",
       "      <td>39.400000</td>\n",
       "      <td>1.000000</td>\n",
       "      <td>2.600000</td>\n",
       "      <td>5.000000</td>\n",
       "      <td>18.400000</td>\n",
       "      <td>2.000000</td>\n",
       "      <td>7.000000</td>\n",
       "      <td>0.000000</td>\n",
       "      <td>...</td>\n",
       "      <td>0.000000</td>\n",
       "      <td>281.000000</td>\n",
       "      <td>0.000000</td>\n",
       "      <td>293.000000</td>\n",
       "      <td>45.000000</td>\n",
       "      <td>7.656613e+04</td>\n",
       "      <td>1.000000</td>\n",
       "      <td>3.000000</td>\n",
       "      <td>2017.000000</td>\n",
       "      <td>9.000000</td>\n",
       "    </tr>\n",
       "    <tr>\n",
       "      <th>50%</th>\n",
       "      <td>9.000000</td>\n",
       "      <td>4.400000</td>\n",
       "      <td>50.000000</td>\n",
       "      <td>2.000000</td>\n",
       "      <td>2.771499</td>\n",
       "      <td>9.000000</td>\n",
       "      <td>30.000000</td>\n",
       "      <td>4.000000</td>\n",
       "      <td>9.000000</td>\n",
       "      <td>0.000000</td>\n",
       "      <td>...</td>\n",
       "      <td>0.000000</td>\n",
       "      <td>441.000000</td>\n",
       "      <td>0.000000</td>\n",
       "      <td>503.000000</td>\n",
       "      <td>95.000000</td>\n",
       "      <td>9.500000e+04</td>\n",
       "      <td>3.000000</td>\n",
       "      <td>6.000000</td>\n",
       "      <td>2017.000000</td>\n",
       "      <td>13.000000</td>\n",
       "    </tr>\n",
       "    <tr>\n",
       "      <th>75%</th>\n",
       "      <td>14.000000</td>\n",
       "      <td>5.999999</td>\n",
       "      <td>65.500000</td>\n",
       "      <td>3.000000</td>\n",
       "      <td>2.771499</td>\n",
       "      <td>16.000000</td>\n",
       "      <td>41.000000</td>\n",
       "      <td>8.000000</td>\n",
       "      <td>11.100000</td>\n",
       "      <td>1.000000</td>\n",
       "      <td>...</td>\n",
       "      <td>1.000000</td>\n",
       "      <td>592.000000</td>\n",
       "      <td>1.000000</td>\n",
       "      <td>730.000000</td>\n",
       "      <td>231.000000</td>\n",
       "      <td>1.142132e+05</td>\n",
       "      <td>4.000000</td>\n",
       "      <td>10.000000</td>\n",
       "      <td>2018.000000</td>\n",
       "      <td>16.000000</td>\n",
       "    </tr>\n",
       "    <tr>\n",
       "      <th>max</th>\n",
       "      <td>50.000000</td>\n",
       "      <td>11.866860</td>\n",
       "      <td>114.200000</td>\n",
       "      <td>6.000000</td>\n",
       "      <td>3.020000</td>\n",
       "      <td>29.000000</td>\n",
       "      <td>77.800000</td>\n",
       "      <td>33.000000</td>\n",
       "      <td>19.500000</td>\n",
       "      <td>5.000000</td>\n",
       "      <td>...</td>\n",
       "      <td>3.000000</td>\n",
       "      <td>1098.000000</td>\n",
       "      <td>3.000000</td>\n",
       "      <td>1344.000000</td>\n",
       "      <td>1580.000000</td>\n",
       "      <td>1.907500e+06</td>\n",
       "      <td>6.000000</td>\n",
       "      <td>12.000000</td>\n",
       "      <td>2019.000000</td>\n",
       "      <td>66.000000</td>\n",
       "    </tr>\n",
       "  </tbody>\n",
       "</table>\n",
       "<p>8 rows × 22 columns</p>\n",
       "</div>"
      ],
      "text/plain": [
       "       total_images    last_price    total_area         rooms  ceiling_height  \\\n",
       "count  23565.000000  21519.000000  22326.000000  23475.000000    22033.000000   \n",
       "mean       9.878421      4.837115     54.319704      2.047796        2.703062   \n",
       "std        5.681156      2.215774     19.331030      1.006547        0.130367   \n",
       "min        0.000000      0.012190     12.000000      0.000000        2.400000   \n",
       "25%        6.000000      3.300000     39.400000      1.000000        2.600000   \n",
       "50%        9.000000      4.400000     50.000000      2.000000        2.771499   \n",
       "75%       14.000000      5.999999     65.500000      3.000000        2.771499   \n",
       "max       50.000000     11.866860    114.200000      6.000000        3.020000   \n",
       "\n",
       "       floors_total   living_area         floor  kitchen_area       balcony  \\\n",
       "count  23533.000000  20930.000000  23565.000000  20161.000000  23565.000000   \n",
       "mean      10.640930     31.544592      5.878124      9.504972      0.593677   \n",
       "std        6.527996     13.934545      4.871485      3.132379      0.960660   \n",
       "min        1.000000      2.000000      1.000000      1.300000      0.000000   \n",
       "25%        5.000000     18.400000      2.000000      7.000000      0.000000   \n",
       "50%        9.000000     30.000000      4.000000      9.000000      0.000000   \n",
       "75%       16.000000     41.000000      8.000000     11.100000      1.000000   \n",
       "max       29.000000     77.800000     33.000000     19.500000      5.000000   \n",
       "\n",
       "       ...  parks_around3000  parks_nearest  ponds_around3000  ponds_nearest  \\\n",
       "count  ...      23565.000000    7719.000000      23565.000000    9036.000000   \n",
       "mean   ...          0.468831     440.516388          0.589900     518.289509   \n",
       "std    ...          0.748403     215.857536          0.883966     278.009558   \n",
       "min    ...          0.000000       1.000000          0.000000      13.000000   \n",
       "25%    ...          0.000000     281.000000          0.000000     293.000000   \n",
       "50%    ...          0.000000     441.000000          0.000000     503.000000   \n",
       "75%    ...          1.000000     592.000000          1.000000     730.000000   \n",
       "max    ...          3.000000    1098.000000          3.000000    1344.000000   \n",
       "\n",
       "       days_exposition     price_sqm       weekday         month  \\\n",
       "count     20394.000000  2.356500e+04  23565.000000  23565.000000   \n",
       "mean        180.741395  9.940584e+04      2.567367      6.401570   \n",
       "std         219.732782  5.038943e+04      1.788279      3.492948   \n",
       "min           1.000000  1.118300e+02      0.000000      1.000000   \n",
       "25%          45.000000  7.656613e+04      1.000000      3.000000   \n",
       "50%          95.000000  9.500000e+04      3.000000      6.000000   \n",
       "75%         231.000000  1.142132e+05      4.000000     10.000000   \n",
       "max        1580.000000  1.907500e+06      6.000000     12.000000   \n",
       "\n",
       "               year  cityCenters_nearest_km  \n",
       "count  23565.000000            18064.000000  \n",
       "mean    2017.371016               14.186504  \n",
       "std        1.037393                8.621131  \n",
       "min     2014.000000                0.000000  \n",
       "25%     2017.000000                9.000000  \n",
       "50%     2017.000000               13.000000  \n",
       "75%     2018.000000               16.000000  \n",
       "max     2019.000000               66.000000  \n",
       "\n",
       "[8 rows x 22 columns]"
      ]
     },
     "execution_count": 54,
     "metadata": {},
     "output_type": "execute_result"
    }
   ],
   "source": [
    "data_clean.describe()"
   ]
  },
  {
   "cell_type": "markdown",
   "metadata": {},
   "source": [
    "####  Как быстро продавались квартиры? "
   ]
  },
  {
   "cell_type": "code",
   "execution_count": 41,
   "metadata": {},
   "outputs": [
    {
     "data": {
      "text/plain": [
       "count    20394.000000\n",
       "mean       180.741395\n",
       "std        219.732782\n",
       "min          1.000000\n",
       "25%         45.000000\n",
       "50%         95.000000\n",
       "75%        231.000000\n",
       "max       1580.000000\n",
       "Name: days_exposition, dtype: float64"
      ]
     },
     "execution_count": 41,
     "metadata": {},
     "output_type": "execute_result"
    },
    {
     "data": {
      "image/png": "[encoded data removed]",
      "text/plain": [
       "<Figure size 432x288 with 1 Axes>"
      ]
     },
     "metadata": {
      "needs_background": "light"
     },
     "output_type": "display_data"
    }
   ],
   "source": [
    "# пропущенные значения меняем на число, чтобы привести к типу целых чисел\n",
    "data['days_exposition'].fillna(10000, inplace=True)\n",
    "data['days_exposition'] = data['days_exposition'].astype(int)\n",
    "\n",
    "round(data.query('days_exposition !=10000')['days_exposition'].median())\n",
    "round(data.query('days_exposition != 10000')['days_exposition'].mean())\n",
    "\n",
    "# строим гистрограмму\n",
    "\n",
    "plt.hist(data.query('days_exposition != 10000')['days_exposition'], bins=100, range=(0,250))\n",
    "\n",
    "# Изучаем значения срока продажи\n",
    "data.query('days_exposition != 10000')['days_exposition'].describe()"
   ]
  },
  {
   "cell_type": "markdown",
   "metadata": {},
   "source": [
    "*Вывод*: В среднем объекты недвижимости продаются за 180 дней, медианное значение меньше 95 дней. Быстрой можно назвать продажу до 10 дней, необычно долгой - свыше 4 лет.  "
   ]
  },
  {
   "cell_type": "markdown",
   "metadata": {},
   "source": [
    "####  Факторы, влияющие на общую стоимость объекта"
   ]
  },
  {
   "cell_type": "code",
   "execution_count": 42,
   "metadata": {},
   "outputs": [],
   "source": [
    "#data_clean[['last_price', 'total_area', 'living_area', 'kitchen_area', 'rooms', 'weekday','month','year']].corr()"
   ]
  },
  {
   "cell_type": "code",
   "execution_count": 43,
   "metadata": {},
   "outputs": [
    {
     "data": {
      "image/png": "[encoded data removed]",
      "text/plain": [
       "<Figure size 360x360 with 1 Axes>"
      ]
     },
     "metadata": {
      "needs_background": "light"
     },
     "output_type": "display_data"
    }
   ],
   "source": [
    "data_clean.plot(x='total_area', y='last_price', kind='scatter',alpha=0.3, figsize=(5, 5));"
   ]
  },
  {
   "cell_type": "code",
   "execution_count": 44,
   "metadata": {},
   "outputs": [
    {
     "data": {
      "image/png": "[encoded data removed]",
      "text/plain": [
       "<Figure size 360x360 with 1 Axes>"
      ]
     },
     "metadata": {
      "needs_background": "light"
     },
     "output_type": "display_data"
    }
   ],
   "source": [
    "data_clean.plot(x='living_area', y='last_price', kind='scatter',alpha=0.3, figsize=(5, 5));"
   ]
  },
  {
   "cell_type": "code",
   "execution_count": 45,
   "metadata": {},
   "outputs": [
    {
     "data": {
      "image/png": "[encoded data removed]",
      "text/plain": [
       "<Figure size 360x360 with 1 Axes>"
      ]
     },
     "metadata": {
      "needs_background": "light"
     },
     "output_type": "display_data"
    }
   ],
   "source": [
    "data_clean.plot(x='kitchen_area', y='last_price', kind='scatter',alpha=0.3, figsize=(5, 5));"
   ]
  },
  {
   "cell_type": "code",
   "execution_count": 46,
   "metadata": {},
   "outputs": [
    {
     "data": {
      "image/png": "[encoded data removed]",
      "text/plain": [
       "<Figure size 360x360 with 1 Axes>"
      ]
     },
     "metadata": {
      "needs_background": "light"
     },
     "output_type": "display_data"
    }
   ],
   "source": [
    "data_clean.query('rooms > 0').pivot_table(index='rooms', values='last_price').plot(grid=True, style='o-', figsize=(5, 5));"
   ]
  },
  {
   "cell_type": "code",
   "execution_count": 47,
   "metadata": {},
   "outputs": [
    {
     "data": {
      "image/png": "[encoded data removed]",
      "text/plain": [
       "<Figure size 360x360 with 1 Axes>"
      ]
     },
     "metadata": {
      "needs_background": "light"
     },
     "output_type": "display_data"
    }
   ],
   "source": [
    "data.pivot_table(index='floor_type', values='last_price', aggfunc='median').plot(grid=True, style='o-', figsize=(5, 5));"
   ]
  },
  {
   "cell_type": "code",
   "execution_count": 48,
   "metadata": {},
   "outputs": [
    {
     "data": {
      "image/png": "[encoded data removed]",
      "text/plain": [
       "<Figure size 360x360 with 1 Axes>"
      ]
     },
     "metadata": {
      "needs_background": "light"
     },
     "output_type": "display_data"
    }
   ],
   "source": [
    "data.pivot_table(index='weekday', values='last_price', aggfunc='median').plot(grid=True, style='o-', figsize=(5, 5));"
   ]
  },
  {
   "cell_type": "code",
   "execution_count": 49,
   "metadata": {},
   "outputs": [
    {
     "data": {
      "image/png": "[encoded data removed]",
      "text/plain": [
       "<Figure size 360x360 with 1 Axes>"
      ]
     },
     "metadata": {
      "needs_background": "light"
     },
     "output_type": "display_data"
    }
   ],
   "source": [
    "data.pivot_table(index='month', values='last_price', aggfunc='median').plot(grid=True, style='o-', figsize=(5, 5));"
   ]
  },
  {
   "cell_type": "code",
   "execution_count": 50,
   "metadata": {},
   "outputs": [
    {
     "data": {
      "image/png": "[encoded data removed]",
      "text/plain": [
       "<Figure size 360x360 with 1 Axes>"
      ]
     },
     "metadata": {
      "needs_background": "light"
     },
     "output_type": "display_data"
    }
   ],
   "source": [
    "data.pivot_table(index='year', values='last_price', aggfunc='median').plot(grid=True, style='o-', figsize=(5, 5));"
   ]
  },
  {
   "cell_type": "markdown",
   "metadata": {},
   "source": [
    "*Вывод*: Самая высокая зависимость среди рассматриваемых факторов, влияющих на стоимость квартиры, между ценой и общей площадью квартиры и количеством комнат, т.е. чем больше площадь и чем больше комнат в квартире, тем выше цена. Самые низкие цены у квартир на первом этаже. И цена квартиры незначительно, но зависит от срока продажи, чем дольше продается квартира, чем ниже ее цена.\n",
    "Выше цена квартир, которые продают с понедельника по четверг. Ниже всех цены на квартиры в июне. \n",
    "Цены продаваемых квартир 2014 году были самые высокими в рассматриваемом периоде, после прозошло значительно снижение цен, которое продолжалось до 2019 года.  \n"
   ]
  },
  {
   "cell_type": "markdown",
   "metadata": {},
   "source": [
    "#### Расчет средней цены 1 кв. м. в 10 населенных пунктах"
   ]
  },
  {
   "cell_type": "code",
   "execution_count": 51,
   "metadata": {},
   "outputs": [
    {
     "data": {
      "text/html": [
       "<div>\n",
       "<style scoped>\n",
       "    .dataframe tbody tr th:only-of-type {\n",
       "        vertical-align: middle;\n",
       "    }\n",
       "\n",
       "    .dataframe tbody tr th {\n",
       "        vertical-align: top;\n",
       "    }\n",
       "\n",
       "    .dataframe thead th {\n",
       "        text-align: right;\n",
       "    }\n",
       "</style>\n",
       "<table border=\"1\" class=\"dataframe\">\n",
       "  <thead>\n",
       "    <tr style=\"text-align: right;\">\n",
       "      <th></th>\n",
       "      <th>first_day_exposition</th>\n",
       "      <th>price_sqm</th>\n",
       "    </tr>\n",
       "    <tr>\n",
       "      <th>locality_name</th>\n",
       "      <th></th>\n",
       "      <th></th>\n",
       "    </tr>\n",
       "  </thead>\n",
       "  <tbody>\n",
       "    <tr>\n",
       "      <th>Санкт-Петербург</th>\n",
       "      <td>15651</td>\n",
       "      <td>104774.540</td>\n",
       "    </tr>\n",
       "    <tr>\n",
       "      <th>Мурино</th>\n",
       "      <td>586</td>\n",
       "      <td>86250.375</td>\n",
       "    </tr>\n",
       "    <tr>\n",
       "      <th>Кудрово</th>\n",
       "      <td>470</td>\n",
       "      <td>95555.315</td>\n",
       "    </tr>\n",
       "    <tr>\n",
       "      <th>Шушары</th>\n",
       "      <td>439</td>\n",
       "      <td>76829.270</td>\n",
       "    </tr>\n",
       "    <tr>\n",
       "      <th>Всеволожск</th>\n",
       "      <td>398</td>\n",
       "      <td>65789.470</td>\n",
       "    </tr>\n",
       "    <tr>\n",
       "      <th>Пушкин</th>\n",
       "      <td>369</td>\n",
       "      <td>100000.000</td>\n",
       "    </tr>\n",
       "    <tr>\n",
       "      <th>Колпино</th>\n",
       "      <td>338</td>\n",
       "      <td>74723.745</td>\n",
       "    </tr>\n",
       "    <tr>\n",
       "      <th>Парголово</th>\n",
       "      <td>327</td>\n",
       "      <td>91642.860</td>\n",
       "    </tr>\n",
       "    <tr>\n",
       "      <th>Гатчина</th>\n",
       "      <td>307</td>\n",
       "      <td>67796.610</td>\n",
       "    </tr>\n",
       "    <tr>\n",
       "      <th>Выборг</th>\n",
       "      <td>237</td>\n",
       "      <td>58158.320</td>\n",
       "    </tr>\n",
       "  </tbody>\n",
       "</table>\n",
       "</div>"
      ],
      "text/plain": [
       "                 first_day_exposition   price_sqm\n",
       "locality_name                                    \n",
       "Санкт-Петербург                 15651  104774.540\n",
       "Мурино                            586   86250.375\n",
       "Кудрово                           470   95555.315\n",
       "Шушары                            439   76829.270\n",
       "Всеволожск                        398   65789.470\n",
       "Пушкин                            369  100000.000\n",
       "Колпино                           338   74723.745\n",
       "Парголово                         327   91642.860\n",
       "Гатчина                           307   67796.610\n",
       "Выборг                            237   58158.320"
      ]
     },
     "execution_count": 51,
     "metadata": {},
     "output_type": "execute_result"
    }
   ],
   "source": [
    "data.groupby('locality_name').agg({'first_day_exposition':'count','price_sqm':'median'}).sort_values(by='first_day_exposition',ascending=False).head(10)"
   ]
  },
  {
   "cell_type": "markdown",
   "metadata": {},
   "source": [
    "**Вывод**: Наибольшее количество объявлений вышло в Санкт-Петербурге, здесь и самая высокая стоимость 1 квадратного метра - 104774,54 руб. Среди 10 населённых пунктах с наибольшим числом объявлений самая низкая стоимость 1 кв.м. в Выборге - 58158,32 руб."
   ]
  },
  {
   "cell_type": "markdown",
   "metadata": {},
   "source": [
    "#### Изменение средней цены от расстояния до центра города"
   ]
  },
  {
   "cell_type": "code",
   "execution_count": 52,
   "metadata": {},
   "outputs": [
    {
     "data": {
      "image/png": "[encoded data removed]",
      "text/plain": [
       "<Figure size 720x360 with 1 Axes>"
      ]
     },
     "metadata": {
      "needs_background": "light"
     },
     "output_type": "display_data"
    }
   ],
   "source": [
    "data.query('locality_name == \"Санкт-Петербург\"').pivot_table(index='cityCenters_nearest_km', values='last_price').plot(grid=True, style='o-', figsize=(10, 5));"
   ]
  },
  {
   "cell_type": "markdown",
   "metadata": {},
   "source": [
    "**Вывод**: Цены выше на квартиры, которые находятся в радиусе 7 км от центра города."
   ]
  },
  {
   "cell_type": "markdown",
   "metadata": {},
   "source": [
    "### Общий вывод"
   ]
  },
  {
   "cell_type": "markdown",
   "metadata": {},
   "source": [
    "#### 1. Описание проекта:\n",
    "На основании данных о размещенных объявлений о продаже квартир в Санкт-Петербурге и соседних населённых пунктах за несколько лет был проведен провести исследовательский анализ данных, который должен помочь установить параметры, влияющие на цену объектов.\n",
    "\n",
    "#### 2. Порядок обработки аномалий, пропусков и дубликатов, предобработка данных для анализа:\n",
    "В процессе ознакомления с данными было установлено наличие следующих аномалий: \n",
    "   1. Наличие пропусков в следующих данных:\n",
    " - Наибольшее количество пропусков в данных апартаменты, что может быть связано с тем, что при подаче объявлений большинство владельцев не придают этому показателю большого значения, возможно не знают критерии отнесения квартир к апартаментам. А владельцы апартаментов, точно зная категорию своей собственности, ее указывают. Поэтому можно заменить пропуски можно заменить на булево значение.\n",
    " - Примерно схожее количество пропусков  в указании расстояния до ближайшего аэропорта, центра города,  водоёма и парка - показателей, которые указываются автоматически на основе картографических данных, может быть вызвано отсутствием указанных объектов вблизи недвижимости, например, в сельской местности. \n",
    " - Пропуски в расстояниях до ближайших водоема и парка могут быть обусловлены тем, что рядом с объектом нет ближайших водоемов и парков. \n",
    " - Пропуски в таких показателях как высота потолков, жилая площадь в кв. м., площадь кухни в кв. м. и всего этажей в доме могут быть обусловлены тем, что владельцы недвижимости не сочли важным указать эти данные, а возможно и не знают их. Данные, где не указана этажность, можно удалить, а площади оставить с пропусками.  \n",
    " - Настораживает наличие пропусков в названиях населенных пунктах, возможно данные записи ошибочны и можно их удалить.\n",
    " - Наличие пропусков в сроках размещения объявления, может говорить об ошибках в данных, но так как данных много (13%), не будем их удалять.\n",
    "   2. Разное написание одних и тех же населенных пунктов.\n",
    "   В результате удаления типов населенных пунктов их количество уменьшилось с 364 до 305.\n",
    "   3. Слишком маленькие или большие значения некоторых показателей, например, высота потолка 100 м. или площадь квартиры 900 кв. м. \n",
    "   Сильно отличающиеся значения (выбросы) были удалены.\n",
    "Для последующего анализа были рассчитаны показатели и добавлены новые столбцы в данные: \n",
    " - цена одного квадратного метра;\n",
    " - день недели публикации объявления (0 — понедельник, 1 — вторник и так далее);\n",
    " - месяц публикации объявления;\n",
    " - год публикации объявления;\n",
    " - тип этажа квартиры (значения — «первый», «последний», «другой»);\n",
    " - расстояние до центра города в километрах.\n",
    "#### 3. Анализ:\n",
    "В ходе анализа были сделаны следующие выводы:\n",
    " - большинство объектов недвижимости имеют общую площадь до 100 кв.м., жилую площадь до 55 кв.м., площадь кухни до 15 кв.м.;\n",
    " - средняя стоимость проданных объектов недвижимости составляла 6,5 млн. руб.;\n",
    " - большинство объектов расположены не на первом и последнем этажах;\n",
    " - в среднем объекты недвижимости продаются за 180 дней, медианное значение меньше 95 дней. Быстрой можно назвать продажу до 10 дней, необычно долгой - свыше 4 лет;  \n",
    " - самая высокая зависимость среди рассматриваемых факторов, влияющих на стоимость квартиры, между ценой и общей площадью квартиры и количеством комнат, т.е. чем больше площадь и чем больше комнат в квартире, тем выше цена; \n",
    " - самые низкие цены у квартир на первом этаже; \n",
    " - цена квартиры незначительно, но зависит от срока продажи, чем дольше продается квартира, чем ниже ее цена;\n",
    " - выше цена квартир, которые продают с понедельника по четверг. Ниже всех цены на квартиры в июне. \n",
    "Цены продаваемых квартир 2014 году были самые высокими в рассматриваемом периоде, после произошло значительно снижение цен, которое продолжалось до 2019 года;  \n",
    " - наибольшее количество объявлений вышло в Санкт-Петербурге, здесь и самая высокая стоимость 1 квадратного метра - 104774,54 руб. Среди 10 населённых пунктах с наибольшим числом объявлений самая низкая стоимость 1 кв.м. в Выборге - 58158,32 руб;\n",
    " - в Санкт-Петербурге цены выше на квартиры, которые находятся в радиусе 7 км от центра города.\n",
    "\n",
    " "
   ]
  }
 ],
 "metadata": {
  "ExecuteTimeLog": [
   {
    "duration": 909,
    "start_time": "2023-10-10T08:02:30.206Z"
   },
   {
    "duration": 97,
    "start_time": "2023-10-10T08:03:48.546Z"
   },
   {
    "duration": 92,
    "start_time": "2023-10-10T08:04:29.882Z"
   },
   {
    "duration": 92,
    "start_time": "2023-10-10T08:06:02.976Z"
   },
   {
    "duration": 92,
    "start_time": "2023-10-10T08:06:11.463Z"
   },
   {
    "duration": 91,
    "start_time": "2023-10-10T08:06:20.039Z"
   },
   {
    "duration": 95,
    "start_time": "2023-10-10T08:06:40.263Z"
   },
   {
    "duration": 101,
    "start_time": "2023-10-10T08:07:12.317Z"
   },
   {
    "duration": 105,
    "start_time": "2023-10-10T08:07:19.566Z"
   },
   {
    "duration": 91,
    "start_time": "2023-10-10T08:07:48.158Z"
   },
   {
    "duration": 87,
    "start_time": "2023-10-10T08:08:22.397Z"
   },
   {
    "duration": 89,
    "start_time": "2023-10-10T08:09:39.211Z"
   },
   {
    "duration": 95,
    "start_time": "2023-10-10T08:09:43.458Z"
   },
   {
    "duration": 99,
    "start_time": "2023-10-10T08:09:54.402Z"
   },
   {
    "duration": 94,
    "start_time": "2023-10-10T08:10:06.178Z"
   },
   {
    "duration": 98,
    "start_time": "2023-10-10T08:10:34.994Z"
   },
   {
    "duration": 88,
    "start_time": "2023-10-10T08:11:19.200Z"
   },
   {
    "duration": 85,
    "start_time": "2023-10-10T08:11:27.744Z"
   },
   {
    "duration": 87,
    "start_time": "2023-10-10T08:11:49.009Z"
   },
   {
    "duration": 92,
    "start_time": "2023-10-10T08:11:55.816Z"
   },
   {
    "duration": 494,
    "start_time": "2023-10-10T08:12:14.168Z"
   },
   {
    "duration": 103,
    "start_time": "2023-10-10T08:12:26.799Z"
   },
   {
    "duration": 115,
    "start_time": "2023-10-10T08:12:57.822Z"
   },
   {
    "duration": 2338,
    "start_time": "2023-10-10T08:31:43.256Z"
   },
   {
    "duration": 9,
    "start_time": "2023-10-10T08:44:52.383Z"
   },
   {
    "duration": 25,
    "start_time": "2023-10-10T08:45:41.398Z"
   },
   {
    "duration": 8,
    "start_time": "2023-10-10T08:45:53.583Z"
   },
   {
    "duration": 2198,
    "start_time": "2023-10-10T08:56:22.874Z"
   },
   {
    "duration": 15,
    "start_time": "2023-10-10T08:57:54.833Z"
   },
   {
    "duration": 19,
    "start_time": "2023-10-10T09:23:07.202Z"
   },
   {
    "duration": 14,
    "start_time": "2023-10-10T09:35:51.312Z"
   },
   {
    "duration": 10,
    "start_time": "2023-10-10T09:37:53.510Z"
   },
   {
    "duration": 13,
    "start_time": "2023-10-10T09:38:03.238Z"
   },
   {
    "duration": 2661,
    "start_time": "2023-10-10T09:38:19.265Z"
   },
   {
    "duration": 10,
    "start_time": "2023-10-10T09:38:26.589Z"
   },
   {
    "duration": 57,
    "start_time": "2023-10-10T13:06:20.955Z"
   },
   {
    "duration": 3368,
    "start_time": "2023-10-10T13:06:35.857Z"
   },
   {
    "duration": 2935,
    "start_time": "2023-10-10T13:06:53.822Z"
   },
   {
    "duration": 11,
    "start_time": "2023-10-10T13:07:00.286Z"
   },
   {
    "duration": 16,
    "start_time": "2023-10-10T13:07:03.852Z"
   },
   {
    "duration": 23,
    "start_time": "2023-10-10T13:09:38.956Z"
   },
   {
    "duration": 43,
    "start_time": "2023-10-10T13:18:06.918Z"
   },
   {
    "duration": 39,
    "start_time": "2023-10-10T13:19:15.190Z"
   },
   {
    "duration": 67,
    "start_time": "2023-10-10T13:20:16.941Z"
   },
   {
    "duration": 3112,
    "start_time": "2023-10-10T13:20:30.805Z"
   },
   {
    "duration": 11,
    "start_time": "2023-10-10T13:20:38.142Z"
   },
   {
    "duration": 38,
    "start_time": "2023-10-10T13:20:41.878Z"
   },
   {
    "duration": 27,
    "start_time": "2023-10-10T13:22:15.244Z"
   },
   {
    "duration": 2224,
    "start_time": "2023-10-10T13:26:24.649Z"
   },
   {
    "duration": 29,
    "start_time": "2023-10-10T13:27:37.792Z"
   },
   {
    "duration": 16,
    "start_time": "2023-10-10T13:29:17.175Z"
   },
   {
    "duration": 57,
    "start_time": "2023-10-10T13:36:46.247Z"
   },
   {
    "duration": 16,
    "start_time": "2023-10-10T13:37:47.913Z"
   },
   {
    "duration": 35,
    "start_time": "2023-10-10T13:38:00.233Z"
   },
   {
    "duration": 31,
    "start_time": "2023-10-10T13:38:41.632Z"
   },
   {
    "duration": 22,
    "start_time": "2023-10-10T13:38:44.872Z"
   },
   {
    "duration": 3213,
    "start_time": "2023-10-10T13:38:56.472Z"
   },
   {
    "duration": 16,
    "start_time": "2023-10-10T13:39:03.170Z"
   },
   {
    "duration": 51,
    "start_time": "2023-10-10T13:39:08.056Z"
   },
   {
    "duration": 17,
    "start_time": "2023-10-10T13:39:11.415Z"
   },
   {
    "duration": 24,
    "start_time": "2023-10-10T13:39:14.792Z"
   },
   {
    "duration": 38,
    "start_time": "2023-10-10T13:40:09.327Z"
   },
   {
    "duration": 30,
    "start_time": "2023-10-10T13:42:53.581Z"
   },
   {
    "duration": 105,
    "start_time": "2023-10-10T13:43:34.373Z"
   },
   {
    "duration": 36,
    "start_time": "2023-10-10T13:45:07.266Z"
   },
   {
    "duration": 17,
    "start_time": "2023-10-10T13:45:14.835Z"
   },
   {
    "duration": 39,
    "start_time": "2023-10-10T13:45:20.434Z"
   },
   {
    "duration": 31,
    "start_time": "2023-10-10T13:45:28.220Z"
   },
   {
    "duration": 8,
    "start_time": "2023-10-10T13:50:30.815Z"
   },
   {
    "duration": 8,
    "start_time": "2023-10-10T13:52:15.087Z"
   },
   {
    "duration": 31,
    "start_time": "2023-10-10T14:00:39.329Z"
   },
   {
    "duration": 8,
    "start_time": "2023-10-10T14:00:47.594Z"
   },
   {
    "duration": 43,
    "start_time": "2023-10-11T06:27:52.725Z"
   },
   {
    "duration": 2577,
    "start_time": "2023-10-11T06:28:06.873Z"
   },
   {
    "duration": 1683,
    "start_time": "2023-10-11T06:28:23.425Z"
   },
   {
    "duration": 8,
    "start_time": "2023-10-11T06:28:32.033Z"
   },
   {
    "duration": 26,
    "start_time": "2023-10-11T06:28:36.138Z"
   },
   {
    "duration": 11,
    "start_time": "2023-10-11T06:28:39.481Z"
   },
   {
    "duration": 24,
    "start_time": "2023-10-11T06:28:42.735Z"
   },
   {
    "duration": 6,
    "start_time": "2023-10-11T06:28:47.489Z"
   },
   {
    "duration": 20,
    "start_time": "2023-10-11T06:28:54.369Z"
   },
   {
    "duration": 98,
    "start_time": "2023-10-11T06:34:27.613Z"
   },
   {
    "duration": 103,
    "start_time": "2023-10-11T06:34:38.501Z"
   },
   {
    "duration": 8,
    "start_time": "2023-10-11T06:44:59.861Z"
   },
   {
    "duration": 6,
    "start_time": "2023-10-11T06:45:16.829Z"
   },
   {
    "duration": 7,
    "start_time": "2023-10-11T06:45:42.837Z"
   },
   {
    "duration": 2330,
    "start_time": "2023-10-11T06:45:56.723Z"
   },
   {
    "duration": 9,
    "start_time": "2023-10-11T06:45:59.055Z"
   },
   {
    "duration": 27,
    "start_time": "2023-10-11T06:45:59.065Z"
   },
   {
    "duration": 12,
    "start_time": "2023-10-11T06:45:59.094Z"
   },
   {
    "duration": 38,
    "start_time": "2023-10-11T06:45:59.107Z"
   },
   {
    "duration": 23,
    "start_time": "2023-10-11T06:45:59.147Z"
   },
   {
    "duration": 8,
    "start_time": "2023-10-11T06:45:59.171Z"
   },
   {
    "duration": 114,
    "start_time": "2023-10-11T06:45:59.181Z"
   },
   {
    "duration": 85,
    "start_time": "2023-10-11T06:54:38.158Z"
   },
   {
    "duration": 183,
    "start_time": "2023-10-11T06:57:06.483Z"
   },
   {
    "duration": 171,
    "start_time": "2023-10-11T06:57:54.575Z"
   },
   {
    "duration": 156,
    "start_time": "2023-10-11T06:58:14.345Z"
   },
   {
    "duration": 32,
    "start_time": "2023-10-11T06:58:26.521Z"
   },
   {
    "duration": 4,
    "start_time": "2023-10-11T07:01:10.518Z"
   },
   {
    "duration": 174,
    "start_time": "2023-10-11T07:01:26.857Z"
   },
   {
    "duration": 2233,
    "start_time": "2023-10-11T07:01:38.589Z"
   },
   {
    "duration": 11,
    "start_time": "2023-10-11T07:01:40.824Z"
   },
   {
    "duration": 31,
    "start_time": "2023-10-11T07:01:40.836Z"
   },
   {
    "duration": 11,
    "start_time": "2023-10-11T07:01:40.869Z"
   },
   {
    "duration": 21,
    "start_time": "2023-10-11T07:01:40.881Z"
   },
   {
    "duration": 48,
    "start_time": "2023-10-11T07:01:40.903Z"
   },
   {
    "duration": 5,
    "start_time": "2023-10-11T07:01:40.953Z"
   },
   {
    "duration": 181,
    "start_time": "2023-10-11T07:01:40.959Z"
   },
   {
    "duration": 2,
    "start_time": "2023-10-11T07:01:41.142Z"
   },
   {
    "duration": 162,
    "start_time": "2023-10-11T07:02:45.207Z"
   },
   {
    "duration": 158,
    "start_time": "2023-10-11T07:04:03.539Z"
   },
   {
    "duration": 210,
    "start_time": "2023-10-11T07:05:41.440Z"
   },
   {
    "duration": 8,
    "start_time": "2023-10-11T07:06:43.191Z"
   },
   {
    "duration": 2253,
    "start_time": "2023-10-11T07:06:49.896Z"
   },
   {
    "duration": 11,
    "start_time": "2023-10-11T07:06:52.151Z"
   },
   {
    "duration": 50,
    "start_time": "2023-10-11T07:06:52.163Z"
   },
   {
    "duration": 23,
    "start_time": "2023-10-11T07:06:52.216Z"
   },
   {
    "duration": 29,
    "start_time": "2023-10-11T07:06:52.241Z"
   },
   {
    "duration": 50,
    "start_time": "2023-10-11T07:06:52.272Z"
   },
   {
    "duration": 19,
    "start_time": "2023-10-11T07:06:52.323Z"
   },
   {
    "duration": 255,
    "start_time": "2023-10-11T07:06:52.343Z"
   },
   {
    "duration": 3,
    "start_time": "2023-10-11T07:06:52.599Z"
   },
   {
    "duration": 8,
    "start_time": "2023-10-11T07:07:13.359Z"
   },
   {
    "duration": 2318,
    "start_time": "2023-10-11T07:07:58.591Z"
   },
   {
    "duration": 9,
    "start_time": "2023-10-11T07:08:00.911Z"
   },
   {
    "duration": 70,
    "start_time": "2023-10-11T07:08:00.921Z"
   },
   {
    "duration": 47,
    "start_time": "2023-10-11T07:08:00.993Z"
   },
   {
    "duration": 57,
    "start_time": "2023-10-11T07:08:01.041Z"
   },
   {
    "duration": 45,
    "start_time": "2023-10-11T07:08:01.099Z"
   },
   {
    "duration": 68,
    "start_time": "2023-10-11T07:08:01.145Z"
   },
   {
    "duration": 247,
    "start_time": "2023-10-11T07:08:01.215Z"
   },
   {
    "duration": 3,
    "start_time": "2023-10-11T07:08:01.463Z"
   },
   {
    "duration": 8,
    "start_time": "2023-10-11T07:09:09.421Z"
   },
   {
    "duration": 209,
    "start_time": "2023-10-11T07:10:36.539Z"
   },
   {
    "duration": 10,
    "start_time": "2023-10-11T07:11:20.187Z"
   },
   {
    "duration": 2424,
    "start_time": "2023-10-11T07:11:32.457Z"
   },
   {
    "duration": 9,
    "start_time": "2023-10-11T07:11:34.883Z"
   },
   {
    "duration": 31,
    "start_time": "2023-10-11T07:11:34.893Z"
   },
   {
    "duration": 20,
    "start_time": "2023-10-11T07:11:34.926Z"
   },
   {
    "duration": 24,
    "start_time": "2023-10-11T07:11:34.947Z"
   },
   {
    "duration": 35,
    "start_time": "2023-10-11T07:11:34.973Z"
   },
   {
    "duration": 30,
    "start_time": "2023-10-11T07:11:35.009Z"
   },
   {
    "duration": 11,
    "start_time": "2023-10-11T07:11:35.041Z"
   },
   {
    "duration": 318,
    "start_time": "2023-10-11T07:11:35.055Z"
   },
   {
    "duration": 7,
    "start_time": "2023-10-11T07:11:35.375Z"
   },
   {
    "duration": 16,
    "start_time": "2023-10-11T07:11:35.384Z"
   },
   {
    "duration": 1728,
    "start_time": "2023-10-11T07:17:13.677Z"
   },
   {
    "duration": 448,
    "start_time": "2023-10-11T07:18:12.867Z"
   },
   {
    "duration": 1916,
    "start_time": "2023-10-11T07:18:13.317Z"
   },
   {
    "duration": 8,
    "start_time": "2023-10-11T07:18:15.235Z"
   },
   {
    "duration": 37,
    "start_time": "2023-10-11T07:18:15.245Z"
   },
   {
    "duration": 12,
    "start_time": "2023-10-11T07:18:15.283Z"
   },
   {
    "duration": 22,
    "start_time": "2023-10-11T07:18:15.296Z"
   },
   {
    "duration": 38,
    "start_time": "2023-10-11T07:18:15.319Z"
   },
   {
    "duration": 6,
    "start_time": "2023-10-11T07:18:15.358Z"
   },
   {
    "duration": 7,
    "start_time": "2023-10-11T07:18:15.365Z"
   },
   {
    "duration": 251,
    "start_time": "2023-10-11T07:18:15.374Z"
   },
   {
    "duration": 15,
    "start_time": "2023-10-11T07:18:15.626Z"
   },
   {
    "duration": 17,
    "start_time": "2023-10-11T07:18:15.643Z"
   },
   {
    "duration": 27,
    "start_time": "2023-10-11T07:35:15.030Z"
   },
   {
    "duration": 507,
    "start_time": "2023-10-11T07:35:20.953Z"
   },
   {
    "duration": 2048,
    "start_time": "2023-10-11T07:35:21.461Z"
   },
   {
    "duration": 13,
    "start_time": "2023-10-11T07:35:23.511Z"
   },
   {
    "duration": 67,
    "start_time": "2023-10-11T07:35:23.526Z"
   },
   {
    "duration": 15,
    "start_time": "2023-10-11T07:35:23.595Z"
   },
   {
    "duration": 40,
    "start_time": "2023-10-11T07:35:23.612Z"
   },
   {
    "duration": 91,
    "start_time": "2023-10-11T07:35:23.653Z"
   },
   {
    "duration": 0,
    "start_time": "2023-10-11T07:35:23.745Z"
   },
   {
    "duration": 0,
    "start_time": "2023-10-11T07:35:23.746Z"
   },
   {
    "duration": 0,
    "start_time": "2023-10-11T07:35:23.746Z"
   },
   {
    "duration": 0,
    "start_time": "2023-10-11T07:35:23.747Z"
   },
   {
    "duration": 0,
    "start_time": "2023-10-11T07:35:23.748Z"
   },
   {
    "duration": 528,
    "start_time": "2023-10-11T07:36:19.949Z"
   },
   {
    "duration": 2056,
    "start_time": "2023-10-11T07:36:20.478Z"
   },
   {
    "duration": 35,
    "start_time": "2023-10-11T07:36:22.536Z"
   },
   {
    "duration": 43,
    "start_time": "2023-10-11T07:36:22.576Z"
   },
   {
    "duration": 31,
    "start_time": "2023-10-11T07:36:22.621Z"
   },
   {
    "duration": 31,
    "start_time": "2023-10-11T07:36:22.667Z"
   },
   {
    "duration": 27,
    "start_time": "2023-10-11T07:36:22.700Z"
   },
   {
    "duration": 8,
    "start_time": "2023-10-11T07:36:22.728Z"
   },
   {
    "duration": 43,
    "start_time": "2023-10-11T07:36:22.738Z"
   },
   {
    "duration": 308,
    "start_time": "2023-10-11T07:36:22.784Z"
   },
   {
    "duration": 7,
    "start_time": "2023-10-11T07:36:23.093Z"
   },
   {
    "duration": 37,
    "start_time": "2023-10-11T07:36:23.102Z"
   },
   {
    "duration": 235,
    "start_time": "2023-10-11T07:44:21.813Z"
   },
   {
    "duration": 91,
    "start_time": "2023-10-11T07:44:35.666Z"
   },
   {
    "duration": 3,
    "start_time": "2023-10-11T07:45:57.572Z"
   },
   {
    "duration": 23,
    "start_time": "2023-10-11T07:46:22.802Z"
   },
   {
    "duration": 68,
    "start_time": "2023-10-11T07:47:11.168Z"
   },
   {
    "duration": 129,
    "start_time": "2023-10-11T07:48:53.809Z"
   },
   {
    "duration": 21,
    "start_time": "2023-10-11T07:49:41.896Z"
   },
   {
    "duration": 3,
    "start_time": "2023-10-11T07:49:57.357Z"
   },
   {
    "duration": 3,
    "start_time": "2023-10-11T08:52:41.729Z"
   },
   {
    "duration": 108,
    "start_time": "2023-10-11T08:53:35.873Z"
   },
   {
    "duration": 156,
    "start_time": "2023-10-11T08:54:00.503Z"
   },
   {
    "duration": 122,
    "start_time": "2023-10-11T08:54:11.063Z"
   },
   {
    "duration": 175,
    "start_time": "2023-10-11T08:54:37.215Z"
   },
   {
    "duration": 328,
    "start_time": "2023-10-11T08:57:43.293Z"
   },
   {
    "duration": 353,
    "start_time": "2023-10-11T08:59:26.099Z"
   },
   {
    "duration": 90,
    "start_time": "2023-10-11T09:01:49.081Z"
   },
   {
    "duration": 379,
    "start_time": "2023-10-11T09:03:13.215Z"
   },
   {
    "duration": 333,
    "start_time": "2023-10-11T09:03:29.015Z"
   },
   {
    "duration": 317,
    "start_time": "2023-10-11T09:03:37.200Z"
   },
   {
    "duration": 454,
    "start_time": "2023-10-11T09:03:51.661Z"
   },
   {
    "duration": 1973,
    "start_time": "2023-10-11T09:03:52.116Z"
   },
   {
    "duration": 8,
    "start_time": "2023-10-11T09:03:54.091Z"
   },
   {
    "duration": 50,
    "start_time": "2023-10-11T09:03:54.100Z"
   },
   {
    "duration": 11,
    "start_time": "2023-10-11T09:03:54.152Z"
   },
   {
    "duration": 21,
    "start_time": "2023-10-11T09:03:54.164Z"
   },
   {
    "duration": 20,
    "start_time": "2023-10-11T09:03:54.186Z"
   },
   {
    "duration": 33,
    "start_time": "2023-10-11T09:03:54.207Z"
   },
   {
    "duration": 6,
    "start_time": "2023-10-11T09:03:54.242Z"
   },
   {
    "duration": 243,
    "start_time": "2023-10-11T09:03:54.251Z"
   },
   {
    "duration": 7,
    "start_time": "2023-10-11T09:03:54.496Z"
   },
   {
    "duration": 347,
    "start_time": "2023-10-11T09:03:54.505Z"
   },
   {
    "duration": 2445,
    "start_time": "2023-10-11T09:16:39.613Z"
   },
   {
    "duration": 197,
    "start_time": "2023-10-11T09:29:58.803Z"
   },
   {
    "duration": 115,
    "start_time": "2023-10-11T09:30:09.748Z"
   },
   {
    "duration": 139,
    "start_time": "2023-10-11T09:41:53.137Z"
   },
   {
    "duration": 194,
    "start_time": "2023-10-11T09:47:05.093Z"
   },
   {
    "duration": 146,
    "start_time": "2023-10-11T09:47:13.180Z"
   },
   {
    "duration": 122,
    "start_time": "2023-10-11T09:47:23.468Z"
   },
   {
    "duration": 125,
    "start_time": "2023-10-11T09:47:43.868Z"
   },
   {
    "duration": 142,
    "start_time": "2023-10-11T09:47:49.140Z"
   },
   {
    "duration": 132,
    "start_time": "2023-10-11T09:47:56.876Z"
   },
   {
    "duration": 79,
    "start_time": "2023-10-11T09:56:26.110Z"
   },
   {
    "duration": 153,
    "start_time": "2023-10-11T09:56:31.446Z"
   },
   {
    "duration": 137,
    "start_time": "2023-10-11T09:56:38.069Z"
   },
   {
    "duration": 870,
    "start_time": "2023-10-11T10:02:05.409Z"
   },
   {
    "duration": 1235,
    "start_time": "2023-10-11T10:03:08.832Z"
   },
   {
    "duration": 1345,
    "start_time": "2023-10-11T10:03:30.233Z"
   },
   {
    "duration": 1247,
    "start_time": "2023-10-11T10:03:54.471Z"
   },
   {
    "duration": 27,
    "start_time": "2023-10-11T10:09:05.932Z"
   },
   {
    "duration": 6,
    "start_time": "2023-10-11T10:09:17.867Z"
   },
   {
    "duration": 7,
    "start_time": "2023-10-11T10:09:31.563Z"
   },
   {
    "duration": 127,
    "start_time": "2023-10-11T10:10:22.034Z"
   },
   {
    "duration": 129,
    "start_time": "2023-10-11T10:10:35.722Z"
   },
   {
    "duration": 7,
    "start_time": "2023-10-11T10:12:29.352Z"
   },
   {
    "duration": 8,
    "start_time": "2023-10-11T10:13:00.416Z"
   },
   {
    "duration": 127,
    "start_time": "2023-10-11T10:13:03.335Z"
   },
   {
    "duration": 144,
    "start_time": "2023-10-11T10:13:32.488Z"
   },
   {
    "duration": 127,
    "start_time": "2023-10-11T10:13:46.072Z"
   },
   {
    "duration": 147,
    "start_time": "2023-10-11T10:13:59.079Z"
   },
   {
    "duration": 130,
    "start_time": "2023-10-11T10:14:19.335Z"
   },
   {
    "duration": 9,
    "start_time": "2023-10-11T10:14:57.902Z"
   },
   {
    "duration": 123,
    "start_time": "2023-10-11T10:15:27.958Z"
   },
   {
    "duration": 9,
    "start_time": "2023-10-11T10:16:06.253Z"
   },
   {
    "duration": 137,
    "start_time": "2023-10-11T10:16:55.501Z"
   },
   {
    "duration": 150,
    "start_time": "2023-10-11T10:17:01.651Z"
   },
   {
    "duration": 266,
    "start_time": "2023-10-11T10:17:21.580Z"
   },
   {
    "duration": 155,
    "start_time": "2023-10-11T10:18:00.467Z"
   },
   {
    "duration": 164,
    "start_time": "2023-10-11T10:18:06.723Z"
   },
   {
    "duration": 137,
    "start_time": "2023-10-11T10:18:30.884Z"
   },
   {
    "duration": 153,
    "start_time": "2023-10-11T10:18:41.259Z"
   },
   {
    "duration": 156,
    "start_time": "2023-10-11T10:18:45.144Z"
   },
   {
    "duration": 7,
    "start_time": "2023-10-11T10:18:51.178Z"
   },
   {
    "duration": 155,
    "start_time": "2023-10-11T10:18:53.651Z"
   },
   {
    "duration": 7,
    "start_time": "2023-10-11T10:20:03.898Z"
   },
   {
    "duration": 122,
    "start_time": "2023-10-11T10:20:19.250Z"
   },
   {
    "duration": 153,
    "start_time": "2023-10-11T10:20:32.124Z"
   },
   {
    "duration": 201,
    "start_time": "2023-10-11T10:20:43.506Z"
   },
   {
    "duration": 128,
    "start_time": "2023-10-11T10:20:49.049Z"
   },
   {
    "duration": 148,
    "start_time": "2023-10-11T10:20:57.073Z"
   },
   {
    "duration": 143,
    "start_time": "2023-10-11T10:21:10.329Z"
   },
   {
    "duration": 8,
    "start_time": "2023-10-11T10:21:42.817Z"
   },
   {
    "duration": 136,
    "start_time": "2023-10-11T10:22:00.756Z"
   },
   {
    "duration": 7,
    "start_time": "2023-10-11T10:22:36.872Z"
   },
   {
    "duration": 157,
    "start_time": "2023-10-11T10:22:52.457Z"
   },
   {
    "duration": 8,
    "start_time": "2023-10-11T10:23:32.024Z"
   },
   {
    "duration": 128,
    "start_time": "2023-10-11T10:23:47.808Z"
   },
   {
    "duration": 135,
    "start_time": "2023-10-11T10:24:06.088Z"
   },
   {
    "duration": 8,
    "start_time": "2023-10-11T10:24:43.999Z"
   },
   {
    "duration": 135,
    "start_time": "2023-10-11T10:25:07.782Z"
   },
   {
    "duration": 138,
    "start_time": "2023-10-11T10:25:23.790Z"
   },
   {
    "duration": 132,
    "start_time": "2023-10-11T10:25:36.454Z"
   },
   {
    "duration": 196,
    "start_time": "2023-10-11T10:25:51.350Z"
   },
   {
    "duration": 131,
    "start_time": "2023-10-11T10:25:58.726Z"
   },
   {
    "duration": 467,
    "start_time": "2023-10-11T10:26:32.375Z"
   },
   {
    "duration": 1846,
    "start_time": "2023-10-11T10:26:32.843Z"
   },
   {
    "duration": 8,
    "start_time": "2023-10-11T10:26:34.690Z"
   },
   {
    "duration": 42,
    "start_time": "2023-10-11T10:26:34.700Z"
   },
   {
    "duration": 11,
    "start_time": "2023-10-11T10:26:34.744Z"
   },
   {
    "duration": 31,
    "start_time": "2023-10-11T10:26:34.756Z"
   },
   {
    "duration": 21,
    "start_time": "2023-10-11T10:26:34.788Z"
   },
   {
    "duration": 19,
    "start_time": "2023-10-11T10:26:34.810Z"
   },
   {
    "duration": 10,
    "start_time": "2023-10-11T10:26:34.840Z"
   },
   {
    "duration": 223,
    "start_time": "2023-10-11T10:26:34.853Z"
   },
   {
    "duration": 7,
    "start_time": "2023-10-11T10:26:35.077Z"
   },
   {
    "duration": 355,
    "start_time": "2023-10-11T10:26:35.085Z"
   },
   {
    "duration": 7,
    "start_time": "2023-10-11T10:26:35.441Z"
   },
   {
    "duration": 145,
    "start_time": "2023-10-11T10:26:35.449Z"
   },
   {
    "duration": 9,
    "start_time": "2023-10-11T10:26:35.596Z"
   },
   {
    "duration": 176,
    "start_time": "2023-10-11T10:26:35.606Z"
   },
   {
    "duration": 7,
    "start_time": "2023-10-11T10:26:35.783Z"
   },
   {
    "duration": 141,
    "start_time": "2023-10-11T10:26:35.791Z"
   },
   {
    "duration": 10,
    "start_time": "2023-10-11T10:26:35.933Z"
   },
   {
    "duration": 230,
    "start_time": "2023-10-11T10:26:35.944Z"
   },
   {
    "duration": 7,
    "start_time": "2023-10-11T10:26:36.175Z"
   },
   {
    "duration": 182,
    "start_time": "2023-10-11T10:26:36.184Z"
   },
   {
    "duration": 8,
    "start_time": "2023-10-11T10:26:36.368Z"
   },
   {
    "duration": 152,
    "start_time": "2023-10-11T10:26:36.378Z"
   },
   {
    "duration": 7,
    "start_time": "2023-10-11T10:26:36.539Z"
   },
   {
    "duration": 137,
    "start_time": "2023-10-11T10:26:36.548Z"
   },
   {
    "duration": 10,
    "start_time": "2023-10-11T10:26:36.687Z"
   },
   {
    "duration": 154,
    "start_time": "2023-10-11T10:26:36.701Z"
   },
   {
    "duration": 7,
    "start_time": "2023-10-11T10:26:36.857Z"
   },
   {
    "duration": 148,
    "start_time": "2023-10-11T10:26:36.866Z"
   },
   {
    "duration": 155,
    "start_time": "2023-10-11T10:26:54.456Z"
   },
   {
    "duration": 166,
    "start_time": "2023-10-11T10:27:01.118Z"
   },
   {
    "duration": 150,
    "start_time": "2023-10-11T10:27:08.365Z"
   },
   {
    "duration": 153,
    "start_time": "2023-10-11T10:27:15.764Z"
   },
   {
    "duration": 169,
    "start_time": "2023-10-11T10:27:26.117Z"
   },
   {
    "duration": 211,
    "start_time": "2023-10-11T10:27:35.451Z"
   },
   {
    "duration": 7,
    "start_time": "2023-10-11T10:28:39.757Z"
   },
   {
    "duration": 67,
    "start_time": "2023-10-11T10:31:40.769Z"
   },
   {
    "duration": 459,
    "start_time": "2023-10-11T10:33:49.969Z"
   },
   {
    "duration": 1849,
    "start_time": "2023-10-11T10:33:50.430Z"
   },
   {
    "duration": 9,
    "start_time": "2023-10-11T10:33:52.280Z"
   },
   {
    "duration": 25,
    "start_time": "2023-10-11T10:33:52.290Z"
   },
   {
    "duration": 33,
    "start_time": "2023-10-11T10:33:52.316Z"
   },
   {
    "duration": 28,
    "start_time": "2023-10-11T10:33:52.351Z"
   },
   {
    "duration": 42,
    "start_time": "2023-10-11T10:33:52.381Z"
   },
   {
    "duration": 19,
    "start_time": "2023-10-11T10:33:52.424Z"
   },
   {
    "duration": 8,
    "start_time": "2023-10-11T10:33:52.445Z"
   },
   {
    "duration": 244,
    "start_time": "2023-10-11T10:33:52.457Z"
   },
   {
    "duration": 6,
    "start_time": "2023-10-11T10:33:52.703Z"
   },
   {
    "duration": 354,
    "start_time": "2023-10-11T10:33:52.710Z"
   },
   {
    "duration": 8,
    "start_time": "2023-10-11T10:33:53.065Z"
   },
   {
    "duration": 152,
    "start_time": "2023-10-11T10:33:53.074Z"
   },
   {
    "duration": 14,
    "start_time": "2023-10-11T10:33:53.227Z"
   },
   {
    "duration": 159,
    "start_time": "2023-10-11T10:33:53.242Z"
   },
   {
    "duration": 7,
    "start_time": "2023-10-11T10:33:53.402Z"
   },
   {
    "duration": 137,
    "start_time": "2023-10-11T10:33:53.410Z"
   },
   {
    "duration": 7,
    "start_time": "2023-10-11T10:33:53.549Z"
   },
   {
    "duration": 230,
    "start_time": "2023-10-11T10:33:53.557Z"
   },
   {
    "duration": 6,
    "start_time": "2023-10-11T10:33:53.789Z"
   },
   {
    "duration": 151,
    "start_time": "2023-10-11T10:33:53.797Z"
   },
   {
    "duration": 6,
    "start_time": "2023-10-11T10:33:53.950Z"
   },
   {
    "duration": 149,
    "start_time": "2023-10-11T10:33:53.958Z"
   },
   {
    "duration": 500,
    "start_time": "2023-10-11T10:34:58.332Z"
   },
   {
    "duration": 1939,
    "start_time": "2023-10-11T10:34:58.834Z"
   },
   {
    "duration": 8,
    "start_time": "2023-10-11T10:35:00.775Z"
   },
   {
    "duration": 76,
    "start_time": "2023-10-11T10:35:00.785Z"
   },
   {
    "duration": 21,
    "start_time": "2023-10-11T10:35:00.862Z"
   },
   {
    "duration": 49,
    "start_time": "2023-10-11T10:35:00.884Z"
   },
   {
    "duration": 30,
    "start_time": "2023-10-11T10:35:00.934Z"
   },
   {
    "duration": 21,
    "start_time": "2023-10-11T10:35:00.966Z"
   },
   {
    "duration": 35,
    "start_time": "2023-10-11T10:35:00.988Z"
   },
   {
    "duration": 258,
    "start_time": "2023-10-11T10:35:01.026Z"
   },
   {
    "duration": 6,
    "start_time": "2023-10-11T10:35:01.286Z"
   },
   {
    "duration": 379,
    "start_time": "2023-10-11T10:35:01.293Z"
   },
   {
    "duration": 7,
    "start_time": "2023-10-11T10:35:01.674Z"
   },
   {
    "duration": 228,
    "start_time": "2023-10-11T10:35:01.682Z"
   },
   {
    "duration": 8,
    "start_time": "2023-10-11T10:35:01.911Z"
   },
   {
    "duration": 225,
    "start_time": "2023-10-11T10:35:01.921Z"
   },
   {
    "duration": 7,
    "start_time": "2023-10-11T10:35:02.148Z"
   },
   {
    "duration": 174,
    "start_time": "2023-10-11T10:35:02.157Z"
   },
   {
    "duration": 11,
    "start_time": "2023-10-11T10:35:02.339Z"
   },
   {
    "duration": 298,
    "start_time": "2023-10-11T10:35:02.351Z"
   },
   {
    "duration": 7,
    "start_time": "2023-10-11T10:35:02.651Z"
   },
   {
    "duration": 157,
    "start_time": "2023-10-11T10:35:02.660Z"
   },
   {
    "duration": 7,
    "start_time": "2023-10-11T10:35:02.818Z"
   },
   {
    "duration": 146,
    "start_time": "2023-10-11T10:35:02.827Z"
   },
   {
    "duration": 493,
    "start_time": "2023-10-11T10:35:24.108Z"
   },
   {
    "duration": 1863,
    "start_time": "2023-10-11T10:35:24.602Z"
   },
   {
    "duration": 8,
    "start_time": "2023-10-11T10:35:26.467Z"
   },
   {
    "duration": 50,
    "start_time": "2023-10-11T10:35:26.477Z"
   },
   {
    "duration": 11,
    "start_time": "2023-10-11T10:35:26.528Z"
   },
   {
    "duration": 30,
    "start_time": "2023-10-11T10:35:26.541Z"
   },
   {
    "duration": 39,
    "start_time": "2023-10-11T10:35:26.572Z"
   },
   {
    "duration": 16,
    "start_time": "2023-10-11T10:35:26.613Z"
   },
   {
    "duration": 8,
    "start_time": "2023-10-11T10:35:26.631Z"
   },
   {
    "duration": 244,
    "start_time": "2023-10-11T10:35:26.642Z"
   },
   {
    "duration": 7,
    "start_time": "2023-10-11T10:35:26.887Z"
   },
   {
    "duration": 352,
    "start_time": "2023-10-11T10:35:26.895Z"
   },
   {
    "duration": 7,
    "start_time": "2023-10-11T10:35:27.248Z"
   },
   {
    "duration": 142,
    "start_time": "2023-10-11T10:35:27.256Z"
   },
   {
    "duration": 8,
    "start_time": "2023-10-11T10:35:27.399Z"
   },
   {
    "duration": 167,
    "start_time": "2023-10-11T10:35:27.408Z"
   },
   {
    "duration": 7,
    "start_time": "2023-10-11T10:35:27.576Z"
   },
   {
    "duration": 149,
    "start_time": "2023-10-11T10:35:27.584Z"
   },
   {
    "duration": 10,
    "start_time": "2023-10-11T10:35:27.735Z"
   },
   {
    "duration": 234,
    "start_time": "2023-10-11T10:35:27.746Z"
   },
   {
    "duration": 8,
    "start_time": "2023-10-11T10:35:27.982Z"
   },
   {
    "duration": 161,
    "start_time": "2023-10-11T10:35:27.992Z"
   },
   {
    "duration": 9,
    "start_time": "2023-10-11T10:35:28.154Z"
   },
   {
    "duration": 146,
    "start_time": "2023-10-11T10:35:28.165Z"
   },
   {
    "duration": 8,
    "start_time": "2023-10-11T10:35:28.313Z"
   },
   {
    "duration": 148,
    "start_time": "2023-10-11T10:35:28.323Z"
   },
   {
    "duration": 7,
    "start_time": "2023-10-11T10:35:28.473Z"
   },
   {
    "duration": 149,
    "start_time": "2023-10-11T10:35:28.483Z"
   },
   {
    "duration": 10,
    "start_time": "2023-10-11T10:35:28.633Z"
   },
   {
    "duration": 153,
    "start_time": "2023-10-11T10:35:28.645Z"
   },
   {
    "duration": 67,
    "start_time": "2023-10-11T10:37:12.222Z"
   },
   {
    "duration": 136,
    "start_time": "2023-10-11T10:42:26.097Z"
   },
   {
    "duration": 142,
    "start_time": "2023-10-11T10:43:02.497Z"
   },
   {
    "duration": 114,
    "start_time": "2023-10-11T10:43:23.080Z"
   },
   {
    "duration": 3,
    "start_time": "2023-10-11T10:44:31.392Z"
   },
   {
    "duration": 7,
    "start_time": "2023-10-11T10:44:41.215Z"
   },
   {
    "duration": 8,
    "start_time": "2023-10-11T10:44:48.966Z"
   },
   {
    "duration": 7,
    "start_time": "2023-10-11T10:44:59.119Z"
   },
   {
    "duration": 9,
    "start_time": "2023-10-11T10:45:10.798Z"
   },
   {
    "duration": 144,
    "start_time": "2023-10-11T10:45:25.190Z"
   },
   {
    "duration": 156,
    "start_time": "2023-10-11T10:45:30.203Z"
   },
   {
    "duration": 234,
    "start_time": "2023-10-11T10:45:41.262Z"
   },
   {
    "duration": 148,
    "start_time": "2023-10-11T10:45:52.753Z"
   },
   {
    "duration": 160,
    "start_time": "2023-10-11T10:45:59.174Z"
   },
   {
    "duration": 8,
    "start_time": "2023-10-11T10:46:37.014Z"
   },
   {
    "duration": 137,
    "start_time": "2023-10-11T10:46:48.981Z"
   },
   {
    "duration": 8,
    "start_time": "2023-10-11T10:46:58.157Z"
   },
   {
    "duration": 6,
    "start_time": "2023-10-11T10:47:17.686Z"
   },
   {
    "duration": 132,
    "start_time": "2023-10-11T10:47:30.561Z"
   },
   {
    "duration": 7,
    "start_time": "2023-10-11T10:48:33.212Z"
   },
   {
    "duration": 6,
    "start_time": "2023-10-11T10:49:13.875Z"
   },
   {
    "duration": 138,
    "start_time": "2023-10-11T10:49:24.287Z"
   },
   {
    "duration": 8,
    "start_time": "2023-10-11T10:49:54.052Z"
   },
   {
    "duration": 5,
    "start_time": "2023-10-11T10:50:33.227Z"
   },
   {
    "duration": 8,
    "start_time": "2023-10-11T10:51:24.858Z"
   },
   {
    "duration": 6,
    "start_time": "2023-10-11T10:52:01.531Z"
   },
   {
    "duration": 14,
    "start_time": "2023-10-11T10:52:29.449Z"
   },
   {
    "duration": 13,
    "start_time": "2023-10-11T10:52:45.721Z"
   },
   {
    "duration": 3,
    "start_time": "2023-10-11T10:54:08.800Z"
   },
   {
    "duration": 11,
    "start_time": "2023-10-11T10:54:37.624Z"
   },
   {
    "duration": 3,
    "start_time": "2023-10-11T10:58:48.471Z"
   },
   {
    "duration": 6,
    "start_time": "2023-10-11T10:58:53.359Z"
   },
   {
    "duration": 6,
    "start_time": "2023-10-11T10:59:01.903Z"
   },
   {
    "duration": 429,
    "start_time": "2023-10-11T10:59:31.590Z"
   },
   {
    "duration": 1960,
    "start_time": "2023-10-11T10:59:32.021Z"
   },
   {
    "duration": 11,
    "start_time": "2023-10-11T10:59:33.982Z"
   },
   {
    "duration": 45,
    "start_time": "2023-10-11T10:59:33.996Z"
   },
   {
    "duration": 15,
    "start_time": "2023-10-11T10:59:34.042Z"
   },
   {
    "duration": 26,
    "start_time": "2023-10-11T10:59:34.059Z"
   },
   {
    "duration": 21,
    "start_time": "2023-10-11T10:59:34.086Z"
   },
   {
    "duration": 8,
    "start_time": "2023-10-11T10:59:34.109Z"
   },
   {
    "duration": 25,
    "start_time": "2023-10-11T10:59:34.119Z"
   },
   {
    "duration": 240,
    "start_time": "2023-10-11T10:59:34.146Z"
   },
   {
    "duration": 8,
    "start_time": "2023-10-11T10:59:34.387Z"
   },
   {
    "duration": 414,
    "start_time": "2023-10-11T10:59:34.396Z"
   },
   {
    "duration": 7,
    "start_time": "2023-10-11T10:59:34.811Z"
   },
   {
    "duration": 21,
    "start_time": "2023-10-11T10:59:34.819Z"
   },
   {
    "duration": 166,
    "start_time": "2023-10-11T10:59:34.841Z"
   },
   {
    "duration": 8,
    "start_time": "2023-10-11T10:59:35.008Z"
   },
   {
    "duration": 23,
    "start_time": "2023-10-11T10:59:35.017Z"
   },
   {
    "duration": 153,
    "start_time": "2023-10-11T10:59:35.042Z"
   },
   {
    "duration": 9,
    "start_time": "2023-10-11T10:59:35.197Z"
   },
   {
    "duration": 8,
    "start_time": "2023-10-11T10:59:35.207Z"
   },
   {
    "duration": 215,
    "start_time": "2023-10-11T10:59:35.216Z"
   },
   {
    "duration": 8,
    "start_time": "2023-10-11T10:59:35.439Z"
   },
   {
    "duration": 7,
    "start_time": "2023-10-11T10:59:35.448Z"
   },
   {
    "duration": 177,
    "start_time": "2023-10-11T10:59:35.456Z"
   },
   {
    "duration": 10,
    "start_time": "2023-10-11T10:59:35.635Z"
   },
   {
    "duration": 16,
    "start_time": "2023-10-11T10:59:35.647Z"
   },
   {
    "duration": 170,
    "start_time": "2023-10-11T10:59:35.665Z"
   },
   {
    "duration": 7,
    "start_time": "2023-10-11T10:59:35.838Z"
   },
   {
    "duration": 13,
    "start_time": "2023-10-11T10:59:35.846Z"
   },
   {
    "duration": 142,
    "start_time": "2023-10-11T10:59:35.860Z"
   },
   {
    "duration": 7,
    "start_time": "2023-10-11T10:59:36.004Z"
   },
   {
    "duration": 13,
    "start_time": "2023-10-11T10:59:36.013Z"
   },
   {
    "duration": 145,
    "start_time": "2023-10-11T10:59:36.028Z"
   },
   {
    "duration": 8,
    "start_time": "2023-10-11T10:59:36.174Z"
   },
   {
    "duration": 18,
    "start_time": "2023-10-11T10:59:36.184Z"
   },
   {
    "duration": 167,
    "start_time": "2023-10-11T10:59:36.204Z"
   },
   {
    "duration": 9,
    "start_time": "2023-10-11T10:59:36.372Z"
   },
   {
    "duration": 6,
    "start_time": "2023-10-11T10:59:36.382Z"
   },
   {
    "duration": 157,
    "start_time": "2023-10-11T10:59:36.390Z"
   },
   {
    "duration": 7,
    "start_time": "2023-10-11T10:59:36.548Z"
   },
   {
    "duration": 129,
    "start_time": "2023-10-11T10:59:36.556Z"
   },
   {
    "duration": 140,
    "start_time": "2023-10-11T11:15:39.756Z"
   },
   {
    "duration": 65,
    "start_time": "2023-10-11T11:18:57.492Z"
   },
   {
    "duration": 7,
    "start_time": "2023-10-11T11:19:06.047Z"
   },
   {
    "duration": 6,
    "start_time": "2023-10-11T11:19:10.236Z"
   },
   {
    "duration": 7,
    "start_time": "2023-10-11T11:19:13.971Z"
   },
   {
    "duration": 6,
    "start_time": "2023-10-11T11:19:36.228Z"
   },
   {
    "duration": 7,
    "start_time": "2023-10-11T11:19:49.716Z"
   },
   {
    "duration": 7,
    "start_time": "2023-10-11T11:20:06.459Z"
   },
   {
    "duration": 7,
    "start_time": "2023-10-11T11:20:27.523Z"
   },
   {
    "duration": 7,
    "start_time": "2023-10-11T11:20:34.523Z"
   },
   {
    "duration": 7,
    "start_time": "2023-10-11T11:20:56.187Z"
   },
   {
    "duration": 158,
    "start_time": "2023-10-11T11:21:28.171Z"
   },
   {
    "duration": 168,
    "start_time": "2023-10-11T11:21:35.484Z"
   },
   {
    "duration": 205,
    "start_time": "2023-10-11T11:24:58.713Z"
   },
   {
    "duration": 6,
    "start_time": "2023-10-11T11:25:08.240Z"
   },
   {
    "duration": 5,
    "start_time": "2023-10-11T11:25:17.929Z"
   },
   {
    "duration": 136,
    "start_time": "2023-10-11T11:36:16.176Z"
   },
   {
    "duration": 131,
    "start_time": "2023-10-11T11:36:22.804Z"
   },
   {
    "duration": 436,
    "start_time": "2023-10-11T11:42:51.780Z"
   },
   {
    "duration": 1899,
    "start_time": "2023-10-11T11:42:52.218Z"
   },
   {
    "duration": 8,
    "start_time": "2023-10-11T11:42:54.119Z"
   },
   {
    "duration": 24,
    "start_time": "2023-10-11T11:42:54.128Z"
   },
   {
    "duration": 11,
    "start_time": "2023-10-11T11:42:54.154Z"
   },
   {
    "duration": 22,
    "start_time": "2023-10-11T11:42:54.166Z"
   },
   {
    "duration": 19,
    "start_time": "2023-10-11T11:42:54.190Z"
   },
   {
    "duration": 31,
    "start_time": "2023-10-11T11:42:54.210Z"
   },
   {
    "duration": 6,
    "start_time": "2023-10-11T11:42:54.242Z"
   },
   {
    "duration": 220,
    "start_time": "2023-10-11T11:42:54.249Z"
   },
   {
    "duration": 6,
    "start_time": "2023-10-11T11:42:54.470Z"
   },
   {
    "duration": 350,
    "start_time": "2023-10-11T11:42:54.477Z"
   },
   {
    "duration": 13,
    "start_time": "2023-10-11T11:42:54.829Z"
   },
   {
    "duration": 6,
    "start_time": "2023-10-11T11:42:54.844Z"
   },
   {
    "duration": 172,
    "start_time": "2023-10-11T11:42:54.851Z"
   },
   {
    "duration": 16,
    "start_time": "2023-10-11T11:42:55.025Z"
   },
   {
    "duration": 9,
    "start_time": "2023-10-11T11:42:55.042Z"
   },
   {
    "duration": 155,
    "start_time": "2023-10-11T11:42:55.052Z"
   },
   {
    "duration": 7,
    "start_time": "2023-10-11T11:42:55.209Z"
   },
   {
    "duration": 6,
    "start_time": "2023-10-11T11:42:55.217Z"
   },
   {
    "duration": 219,
    "start_time": "2023-10-11T11:42:55.225Z"
   },
   {
    "duration": 7,
    "start_time": "2023-10-11T11:42:55.445Z"
   },
   {
    "duration": 31,
    "start_time": "2023-10-11T11:42:55.453Z"
   },
   {
    "duration": 152,
    "start_time": "2023-10-11T11:42:55.485Z"
   },
   {
    "duration": 7,
    "start_time": "2023-10-11T11:42:55.638Z"
   },
   {
    "duration": 21,
    "start_time": "2023-10-11T11:42:55.646Z"
   },
   {
    "duration": 148,
    "start_time": "2023-10-11T11:42:55.668Z"
   },
   {
    "duration": 7,
    "start_time": "2023-10-11T11:42:55.817Z"
   },
   {
    "duration": 21,
    "start_time": "2023-10-11T11:42:55.825Z"
   },
   {
    "duration": 144,
    "start_time": "2023-10-11T11:42:55.848Z"
   },
   {
    "duration": 6,
    "start_time": "2023-10-11T11:42:55.993Z"
   },
   {
    "duration": 5,
    "start_time": "2023-10-11T11:42:56.001Z"
   },
   {
    "duration": 147,
    "start_time": "2023-10-11T11:42:56.007Z"
   },
   {
    "duration": 7,
    "start_time": "2023-10-11T11:42:56.156Z"
   },
   {
    "duration": 42,
    "start_time": "2023-10-11T11:42:56.165Z"
   },
   {
    "duration": 158,
    "start_time": "2023-10-11T11:42:56.208Z"
   },
   {
    "duration": 7,
    "start_time": "2023-10-11T11:42:56.368Z"
   },
   {
    "duration": 6,
    "start_time": "2023-10-11T11:42:56.376Z"
   },
   {
    "duration": 151,
    "start_time": "2023-10-11T11:42:56.383Z"
   },
   {
    "duration": 11,
    "start_time": "2023-10-11T11:42:56.539Z"
   },
   {
    "duration": 125,
    "start_time": "2023-10-11T11:42:56.554Z"
   },
   {
    "duration": 7,
    "start_time": "2023-10-11T11:48:57.135Z"
   },
   {
    "duration": 3,
    "start_time": "2023-10-11T11:49:11.949Z"
   },
   {
    "duration": 7,
    "start_time": "2023-10-11T11:49:16.541Z"
   },
   {
    "duration": 101,
    "start_time": "2023-10-11T11:50:55.492Z"
   },
   {
    "duration": 120,
    "start_time": "2023-10-11T11:51:05.604Z"
   },
   {
    "duration": 104,
    "start_time": "2023-10-11T11:51:14.788Z"
   },
   {
    "duration": 299,
    "start_time": "2023-10-11T11:51:33.995Z"
   },
   {
    "duration": 4,
    "start_time": "2023-10-11T11:51:52.523Z"
   },
   {
    "duration": 7,
    "start_time": "2023-10-11T11:52:06.180Z"
   },
   {
    "duration": 9,
    "start_time": "2023-10-11T11:52:16.651Z"
   },
   {
    "duration": 7,
    "start_time": "2023-10-11T11:52:36.100Z"
   },
   {
    "duration": 7,
    "start_time": "2023-10-11T11:52:50.682Z"
   },
   {
    "duration": 7,
    "start_time": "2023-10-11T11:53:04.181Z"
   },
   {
    "duration": 7,
    "start_time": "2023-10-11T11:53:20.994Z"
   },
   {
    "duration": 445,
    "start_time": "2023-10-11T11:53:27.778Z"
   },
   {
    "duration": 1864,
    "start_time": "2023-10-11T11:53:28.225Z"
   },
   {
    "duration": 8,
    "start_time": "2023-10-11T11:53:30.091Z"
   },
   {
    "duration": 88,
    "start_time": "2023-10-11T11:53:30.100Z"
   },
   {
    "duration": 41,
    "start_time": "2023-10-11T11:53:30.190Z"
   },
   {
    "duration": 57,
    "start_time": "2023-10-11T11:53:30.232Z"
   },
   {
    "duration": 63,
    "start_time": "2023-10-11T11:53:30.291Z"
   },
   {
    "duration": 17,
    "start_time": "2023-10-11T11:53:30.355Z"
   },
   {
    "duration": 60,
    "start_time": "2023-10-11T11:53:30.373Z"
   },
   {
    "duration": 313,
    "start_time": "2023-10-11T11:53:30.435Z"
   },
   {
    "duration": 37,
    "start_time": "2023-10-11T11:53:30.750Z"
   },
   {
    "duration": 486,
    "start_time": "2023-10-11T11:53:30.789Z"
   },
   {
    "duration": 8,
    "start_time": "2023-10-11T11:53:31.276Z"
   },
   {
    "duration": 31,
    "start_time": "2023-10-11T11:53:31.286Z"
   },
   {
    "duration": 213,
    "start_time": "2023-10-11T11:53:31.318Z"
   },
   {
    "duration": 10,
    "start_time": "2023-10-11T11:53:31.533Z"
   },
   {
    "duration": 26,
    "start_time": "2023-10-11T11:53:31.544Z"
   },
   {
    "duration": 186,
    "start_time": "2023-10-11T11:53:31.571Z"
   },
   {
    "duration": 9,
    "start_time": "2023-10-11T11:53:31.758Z"
   },
   {
    "duration": 11,
    "start_time": "2023-10-11T11:53:31.769Z"
   },
   {
    "duration": 213,
    "start_time": "2023-10-11T11:53:31.782Z"
   },
   {
    "duration": 8,
    "start_time": "2023-10-11T11:53:31.996Z"
   },
   {
    "duration": 36,
    "start_time": "2023-10-11T11:53:32.006Z"
   },
   {
    "duration": 199,
    "start_time": "2023-10-11T11:53:32.044Z"
   },
   {
    "duration": 8,
    "start_time": "2023-10-11T11:53:32.245Z"
   },
   {
    "duration": 16,
    "start_time": "2023-10-11T11:53:32.255Z"
   },
   {
    "duration": 200,
    "start_time": "2023-10-11T11:53:32.272Z"
   },
   {
    "duration": 10,
    "start_time": "2023-10-11T11:53:32.474Z"
   },
   {
    "duration": 22,
    "start_time": "2023-10-11T11:53:32.485Z"
   },
   {
    "duration": 170,
    "start_time": "2023-10-11T11:53:32.509Z"
   },
   {
    "duration": 7,
    "start_time": "2023-10-11T11:53:32.681Z"
   },
   {
    "duration": 10,
    "start_time": "2023-10-11T11:53:32.689Z"
   },
   {
    "duration": 9,
    "start_time": "2023-10-11T11:53:32.700Z"
   },
   {
    "duration": 154,
    "start_time": "2023-10-11T11:53:32.710Z"
   },
   {
    "duration": 8,
    "start_time": "2023-10-11T11:53:32.865Z"
   },
   {
    "duration": 44,
    "start_time": "2023-10-11T11:53:32.874Z"
   },
   {
    "duration": 137,
    "start_time": "2023-10-11T11:53:32.920Z"
   },
   {
    "duration": 9,
    "start_time": "2023-10-11T11:53:33.059Z"
   },
   {
    "duration": 38,
    "start_time": "2023-10-11T11:53:33.069Z"
   },
   {
    "duration": 143,
    "start_time": "2023-10-11T11:53:33.108Z"
   },
   {
    "duration": 6,
    "start_time": "2023-10-11T11:53:33.256Z"
   },
   {
    "duration": 134,
    "start_time": "2023-10-11T11:53:33.263Z"
   },
   {
    "duration": 144,
    "start_time": "2023-10-11T12:01:09.775Z"
   },
   {
    "duration": 139,
    "start_time": "2023-10-11T12:01:17.306Z"
   },
   {
    "duration": 131,
    "start_time": "2023-10-11T12:01:22.797Z"
   },
   {
    "duration": 14,
    "start_time": "2023-10-11T12:01:57.830Z"
   },
   {
    "duration": 193,
    "start_time": "2023-10-11T12:03:29.430Z"
   },
   {
    "duration": 121,
    "start_time": "2023-10-11T12:03:38.405Z"
   },
   {
    "duration": 129,
    "start_time": "2023-10-11T12:03:46.533Z"
   },
   {
    "duration": 128,
    "start_time": "2023-10-11T12:03:53.741Z"
   },
   {
    "duration": 128,
    "start_time": "2023-10-11T12:03:59.389Z"
   },
   {
    "duration": 10,
    "start_time": "2023-10-11T12:04:05.405Z"
   },
   {
    "duration": 10,
    "start_time": "2023-10-11T12:04:35.749Z"
   },
   {
    "duration": 2,
    "start_time": "2023-10-11T12:13:51.931Z"
   },
   {
    "duration": 5,
    "start_time": "2023-10-11T12:18:36.804Z"
   },
   {
    "duration": 208,
    "start_time": "2023-10-11T12:21:44.800Z"
   },
   {
    "duration": 90,
    "start_time": "2023-10-11T12:21:53.655Z"
   },
   {
    "duration": 98,
    "start_time": "2023-10-11T12:22:16.847Z"
   },
   {
    "duration": 42,
    "start_time": "2023-10-11T12:25:48.675Z"
   },
   {
    "duration": 724,
    "start_time": "2023-10-11T12:26:06.240Z"
   },
   {
    "duration": 1961,
    "start_time": "2023-10-11T12:26:06.966Z"
   },
   {
    "duration": 19,
    "start_time": "2023-10-11T12:26:08.929Z"
   },
   {
    "duration": 53,
    "start_time": "2023-10-11T12:26:08.950Z"
   },
   {
    "duration": 13,
    "start_time": "2023-10-11T12:26:09.005Z"
   },
   {
    "duration": 39,
    "start_time": "2023-10-11T12:26:09.019Z"
   },
   {
    "duration": 21,
    "start_time": "2023-10-11T12:26:09.059Z"
   },
   {
    "duration": 19,
    "start_time": "2023-10-11T12:26:09.082Z"
   },
   {
    "duration": 14,
    "start_time": "2023-10-11T12:26:09.102Z"
   },
   {
    "duration": 218,
    "start_time": "2023-10-11T12:26:09.118Z"
   },
   {
    "duration": 6,
    "start_time": "2023-10-11T12:26:09.339Z"
   },
   {
    "duration": 353,
    "start_time": "2023-10-11T12:26:09.347Z"
   },
   {
    "duration": 7,
    "start_time": "2023-10-11T12:26:09.701Z"
   },
   {
    "duration": 12,
    "start_time": "2023-10-11T12:26:09.709Z"
   },
   {
    "duration": 181,
    "start_time": "2023-10-11T12:26:09.722Z"
   },
   {
    "duration": 8,
    "start_time": "2023-10-11T12:26:09.904Z"
   },
   {
    "duration": 29,
    "start_time": "2023-10-11T12:26:09.913Z"
   },
   {
    "duration": 181,
    "start_time": "2023-10-11T12:26:09.944Z"
   },
   {
    "duration": 19,
    "start_time": "2023-10-11T12:26:10.127Z"
   },
   {
    "duration": 33,
    "start_time": "2023-10-11T12:26:10.147Z"
   },
   {
    "duration": 195,
    "start_time": "2023-10-11T12:26:10.181Z"
   },
   {
    "duration": 98,
    "start_time": "2023-10-11T12:26:10.378Z"
   },
   {
    "duration": 47,
    "start_time": "2023-10-11T12:26:10.478Z"
   },
   {
    "duration": 164,
    "start_time": "2023-10-11T12:26:10.526Z"
   },
   {
    "duration": 7,
    "start_time": "2023-10-11T12:26:10.691Z"
   },
   {
    "duration": 20,
    "start_time": "2023-10-11T12:26:10.699Z"
   },
   {
    "duration": 167,
    "start_time": "2023-10-11T12:26:10.720Z"
   },
   {
    "duration": 8,
    "start_time": "2023-10-11T12:26:10.890Z"
   },
   {
    "duration": 249,
    "start_time": "2023-10-11T12:26:10.900Z"
   },
   {
    "duration": 29,
    "start_time": "2023-10-11T12:26:11.150Z"
   },
   {
    "duration": 147,
    "start_time": "2023-10-11T12:26:11.180Z"
   },
   {
    "duration": 12,
    "start_time": "2023-10-11T12:26:11.328Z"
   },
   {
    "duration": 5,
    "start_time": "2023-10-11T12:26:11.341Z"
   },
   {
    "duration": 152,
    "start_time": "2023-10-11T12:26:11.347Z"
   },
   {
    "duration": 8,
    "start_time": "2023-10-11T12:26:11.500Z"
   },
   {
    "duration": 7,
    "start_time": "2023-10-11T12:26:11.509Z"
   },
   {
    "duration": 149,
    "start_time": "2023-10-11T12:26:11.540Z"
   },
   {
    "duration": 8,
    "start_time": "2023-10-11T12:26:11.690Z"
   },
   {
    "duration": 28,
    "start_time": "2023-10-11T12:26:11.699Z"
   },
   {
    "duration": 169,
    "start_time": "2023-10-11T12:26:11.728Z"
   },
   {
    "duration": 5,
    "start_time": "2023-10-11T12:26:11.899Z"
   },
   {
    "duration": 146,
    "start_time": "2023-10-11T12:26:11.906Z"
   },
   {
    "duration": 203,
    "start_time": "2023-10-11T12:26:12.053Z"
   },
   {
    "duration": 79,
    "start_time": "2023-10-11T12:26:54.486Z"
   },
   {
    "duration": 216,
    "start_time": "2023-10-11T12:27:13.837Z"
   },
   {
    "duration": 55,
    "start_time": "2023-10-12T07:58:42.391Z"
   },
   {
    "duration": 723,
    "start_time": "2023-10-12T07:58:53.539Z"
   },
   {
    "duration": 2680,
    "start_time": "2023-10-12T07:58:54.266Z"
   },
   {
    "duration": 20,
    "start_time": "2023-10-12T07:58:56.949Z"
   },
   {
    "duration": 47,
    "start_time": "2023-10-12T07:58:56.972Z"
   },
   {
    "duration": 39,
    "start_time": "2023-10-12T07:58:57.021Z"
   },
   {
    "duration": 32,
    "start_time": "2023-10-12T07:58:57.062Z"
   },
   {
    "duration": 25,
    "start_time": "2023-10-12T07:58:57.095Z"
   },
   {
    "duration": 30,
    "start_time": "2023-10-12T07:58:57.122Z"
   },
   {
    "duration": 43,
    "start_time": "2023-10-12T07:58:57.155Z"
   },
   {
    "duration": 237,
    "start_time": "2023-10-12T07:58:57.201Z"
   },
   {
    "duration": 15,
    "start_time": "2023-10-12T07:58:57.448Z"
   },
   {
    "duration": 398,
    "start_time": "2023-10-12T07:58:57.466Z"
   },
   {
    "duration": 11,
    "start_time": "2023-10-12T07:58:57.866Z"
   },
   {
    "duration": 19,
    "start_time": "2023-10-12T07:58:57.879Z"
   },
   {
    "duration": 239,
    "start_time": "2023-10-12T07:58:57.899Z"
   },
   {
    "duration": 17,
    "start_time": "2023-10-12T07:58:58.140Z"
   },
   {
    "duration": 16,
    "start_time": "2023-10-12T07:58:58.160Z"
   },
   {
    "duration": 309,
    "start_time": "2023-10-12T07:58:58.178Z"
   },
   {
    "duration": 10,
    "start_time": "2023-10-12T07:58:58.489Z"
   },
   {
    "duration": 21,
    "start_time": "2023-10-12T07:58:58.501Z"
   },
   {
    "duration": 203,
    "start_time": "2023-10-12T07:58:58.524Z"
   },
   {
    "duration": 20,
    "start_time": "2023-10-12T07:58:58.729Z"
   },
   {
    "duration": 13,
    "start_time": "2023-10-12T07:58:58.752Z"
   },
   {
    "duration": 224,
    "start_time": "2023-10-12T07:58:58.768Z"
   },
   {
    "duration": 10,
    "start_time": "2023-10-12T07:58:58.994Z"
   },
   {
    "duration": 6,
    "start_time": "2023-10-12T07:58:59.005Z"
   },
   {
    "duration": 214,
    "start_time": "2023-10-12T07:58:59.013Z"
   },
   {
    "duration": 18,
    "start_time": "2023-10-12T07:58:59.231Z"
   },
   {
    "duration": 11,
    "start_time": "2023-10-12T07:58:59.251Z"
   },
   {
    "duration": 16,
    "start_time": "2023-10-12T07:58:59.265Z"
   },
   {
    "duration": 168,
    "start_time": "2023-10-12T07:58:59.283Z"
   },
   {
    "duration": 10,
    "start_time": "2023-10-12T07:58:59.452Z"
   },
   {
    "duration": 26,
    "start_time": "2023-10-12T07:58:59.464Z"
   },
   {
    "duration": 178,
    "start_time": "2023-10-12T07:58:59.491Z"
   },
   {
    "duration": 10,
    "start_time": "2023-10-12T07:58:59.671Z"
   },
   {
    "duration": 11,
    "start_time": "2023-10-12T07:58:59.683Z"
   },
   {
    "duration": 199,
    "start_time": "2023-10-12T07:58:59.695Z"
   },
   {
    "duration": 13,
    "start_time": "2023-10-12T07:58:59.896Z"
   },
   {
    "duration": 18,
    "start_time": "2023-10-12T07:58:59.910Z"
   },
   {
    "duration": 205,
    "start_time": "2023-10-12T07:58:59.929Z"
   },
   {
    "duration": 15,
    "start_time": "2023-10-12T07:59:00.137Z"
   },
   {
    "duration": 164,
    "start_time": "2023-10-12T07:59:00.154Z"
   },
   {
    "duration": 6,
    "start_time": "2023-10-12T07:59:00.320Z"
   },
   {
    "duration": 586,
    "start_time": "2023-10-12T08:03:38.397Z"
   },
   {
    "duration": 2356,
    "start_time": "2023-10-12T08:03:38.986Z"
   },
   {
    "duration": 9,
    "start_time": "2023-10-12T08:03:41.344Z"
   },
   {
    "duration": 71,
    "start_time": "2023-10-12T08:03:41.355Z"
   },
   {
    "duration": 20,
    "start_time": "2023-10-12T08:03:41.428Z"
   },
   {
    "duration": 41,
    "start_time": "2023-10-12T08:03:41.450Z"
   },
   {
    "duration": 26,
    "start_time": "2023-10-12T08:03:41.493Z"
   },
   {
    "duration": 10,
    "start_time": "2023-10-12T08:03:41.521Z"
   },
   {
    "duration": 18,
    "start_time": "2023-10-12T08:03:41.532Z"
   },
   {
    "duration": 232,
    "start_time": "2023-10-12T08:03:41.554Z"
   },
   {
    "duration": 8,
    "start_time": "2023-10-12T08:03:41.788Z"
   },
   {
    "duration": 367,
    "start_time": "2023-10-12T08:03:41.797Z"
   },
   {
    "duration": 12,
    "start_time": "2023-10-12T08:03:42.166Z"
   },
   {
    "duration": 25,
    "start_time": "2023-10-12T08:03:42.179Z"
   },
   {
    "duration": 205,
    "start_time": "2023-10-12T08:03:42.206Z"
   },
   {
    "duration": 8,
    "start_time": "2023-10-12T08:03:42.413Z"
   },
   {
    "duration": 21,
    "start_time": "2023-10-12T08:03:42.423Z"
   },
   {
    "duration": 222,
    "start_time": "2023-10-12T08:03:42.446Z"
   },
   {
    "duration": 12,
    "start_time": "2023-10-12T08:03:42.670Z"
   },
   {
    "duration": 8,
    "start_time": "2023-10-12T08:03:42.685Z"
   },
   {
    "duration": 291,
    "start_time": "2023-10-12T08:03:42.695Z"
   },
   {
    "duration": 8,
    "start_time": "2023-10-12T08:03:42.988Z"
   },
   {
    "duration": 26,
    "start_time": "2023-10-12T08:03:42.998Z"
   },
   {
    "duration": 224,
    "start_time": "2023-10-12T08:03:43.026Z"
   },
   {
    "duration": 10,
    "start_time": "2023-10-12T08:03:43.252Z"
   },
   {
    "duration": 8,
    "start_time": "2023-10-12T08:03:43.264Z"
   },
   {
    "duration": 212,
    "start_time": "2023-10-12T08:03:43.274Z"
   },
   {
    "duration": 9,
    "start_time": "2023-10-12T08:03:43.489Z"
   },
   {
    "duration": 15,
    "start_time": "2023-10-12T08:03:43.499Z"
   },
   {
    "duration": 32,
    "start_time": "2023-10-12T08:03:43.516Z"
   },
   {
    "duration": 178,
    "start_time": "2023-10-12T08:03:43.551Z"
   },
   {
    "duration": 16,
    "start_time": "2023-10-12T08:03:43.731Z"
   },
   {
    "duration": 7,
    "start_time": "2023-10-12T08:03:43.748Z"
   },
   {
    "duration": 165,
    "start_time": "2023-10-12T08:03:43.756Z"
   },
   {
    "duration": 9,
    "start_time": "2023-10-12T08:03:43.923Z"
   },
   {
    "duration": 33,
    "start_time": "2023-10-12T08:03:43.933Z"
   },
   {
    "duration": 213,
    "start_time": "2023-10-12T08:03:43.968Z"
   },
   {
    "duration": 14,
    "start_time": "2023-10-12T08:03:44.183Z"
   },
   {
    "duration": 8,
    "start_time": "2023-10-12T08:03:44.199Z"
   },
   {
    "duration": 212,
    "start_time": "2023-10-12T08:03:44.209Z"
   },
   {
    "duration": 7,
    "start_time": "2023-10-12T08:03:44.423Z"
   },
   {
    "duration": 170,
    "start_time": "2023-10-12T08:03:44.431Z"
   },
   {
    "duration": 6,
    "start_time": "2023-10-12T08:03:44.602Z"
   },
   {
    "duration": 86,
    "start_time": "2023-10-12T08:21:05.017Z"
   },
   {
    "duration": 9,
    "start_time": "2023-10-12T08:21:51.010Z"
   },
   {
    "duration": 12,
    "start_time": "2023-10-12T08:22:12.042Z"
   },
   {
    "duration": 8,
    "start_time": "2023-10-12T08:22:56.066Z"
   },
   {
    "duration": 10,
    "start_time": "2023-10-12T08:30:31.197Z"
   },
   {
    "duration": 9,
    "start_time": "2023-10-12T08:30:49.582Z"
   },
   {
    "duration": 500,
    "start_time": "2023-10-12T08:31:00.807Z"
   },
   {
    "duration": 2185,
    "start_time": "2023-10-12T08:31:01.309Z"
   },
   {
    "duration": 10,
    "start_time": "2023-10-12T08:31:03.496Z"
   },
   {
    "duration": 32,
    "start_time": "2023-10-12T08:31:03.508Z"
   },
   {
    "duration": 14,
    "start_time": "2023-10-12T08:31:03.542Z"
   },
   {
    "duration": 49,
    "start_time": "2023-10-12T08:31:03.558Z"
   },
   {
    "duration": 31,
    "start_time": "2023-10-12T08:31:03.609Z"
   },
   {
    "duration": 37,
    "start_time": "2023-10-12T08:31:03.642Z"
   },
   {
    "duration": 37,
    "start_time": "2023-10-12T08:31:03.681Z"
   },
   {
    "duration": 233,
    "start_time": "2023-10-12T08:31:03.721Z"
   },
   {
    "duration": 13,
    "start_time": "2023-10-12T08:31:03.956Z"
   },
   {
    "duration": 446,
    "start_time": "2023-10-12T08:31:03.970Z"
   },
   {
    "duration": 9,
    "start_time": "2023-10-12T08:31:04.417Z"
   },
   {
    "duration": 19,
    "start_time": "2023-10-12T08:31:04.427Z"
   },
   {
    "duration": 73,
    "start_time": "2023-10-12T08:31:04.447Z"
   },
   {
    "duration": 0,
    "start_time": "2023-10-12T08:31:04.522Z"
   },
   {
    "duration": 0,
    "start_time": "2023-10-12T08:31:04.523Z"
   },
   {
    "duration": 0,
    "start_time": "2023-10-12T08:31:04.524Z"
   },
   {
    "duration": 0,
    "start_time": "2023-10-12T08:31:04.525Z"
   },
   {
    "duration": 0,
    "start_time": "2023-10-12T08:31:04.526Z"
   },
   {
    "duration": 0,
    "start_time": "2023-10-12T08:31:04.544Z"
   },
   {
    "duration": 0,
    "start_time": "2023-10-12T08:31:04.545Z"
   },
   {
    "duration": 0,
    "start_time": "2023-10-12T08:31:04.546Z"
   },
   {
    "duration": 0,
    "start_time": "2023-10-12T08:31:04.547Z"
   },
   {
    "duration": 0,
    "start_time": "2023-10-12T08:31:04.548Z"
   },
   {
    "duration": 0,
    "start_time": "2023-10-12T08:31:04.549Z"
   },
   {
    "duration": 0,
    "start_time": "2023-10-12T08:31:04.550Z"
   },
   {
    "duration": 0,
    "start_time": "2023-10-12T08:31:04.551Z"
   },
   {
    "duration": 1,
    "start_time": "2023-10-12T08:31:04.551Z"
   },
   {
    "duration": 0,
    "start_time": "2023-10-12T08:31:04.552Z"
   },
   {
    "duration": 0,
    "start_time": "2023-10-12T08:31:04.553Z"
   },
   {
    "duration": 0,
    "start_time": "2023-10-12T08:31:04.555Z"
   },
   {
    "duration": 0,
    "start_time": "2023-10-12T08:31:04.555Z"
   },
   {
    "duration": 1,
    "start_time": "2023-10-12T08:31:04.556Z"
   },
   {
    "duration": 0,
    "start_time": "2023-10-12T08:31:04.558Z"
   },
   {
    "duration": 0,
    "start_time": "2023-10-12T08:31:04.559Z"
   },
   {
    "duration": 0,
    "start_time": "2023-10-12T08:31:04.560Z"
   },
   {
    "duration": 0,
    "start_time": "2023-10-12T08:31:04.561Z"
   },
   {
    "duration": 0,
    "start_time": "2023-10-12T08:31:04.562Z"
   },
   {
    "duration": 0,
    "start_time": "2023-10-12T08:31:04.563Z"
   },
   {
    "duration": 0,
    "start_time": "2023-10-12T08:31:04.565Z"
   },
   {
    "duration": 0,
    "start_time": "2023-10-12T08:31:04.566Z"
   },
   {
    "duration": 0,
    "start_time": "2023-10-12T08:31:04.568Z"
   },
   {
    "duration": 0,
    "start_time": "2023-10-12T08:31:04.569Z"
   },
   {
    "duration": 12,
    "start_time": "2023-10-12T08:31:57.693Z"
   },
   {
    "duration": 9,
    "start_time": "2023-10-12T08:32:21.630Z"
   },
   {
    "duration": 10,
    "start_time": "2023-10-12T08:32:34.649Z"
   },
   {
    "duration": 72,
    "start_time": "2023-10-12T08:32:53.974Z"
   },
   {
    "duration": 58,
    "start_time": "2023-10-12T08:33:27.550Z"
   },
   {
    "duration": 206,
    "start_time": "2023-10-12T08:33:34.518Z"
   },
   {
    "duration": 9,
    "start_time": "2023-10-12T08:34:00.718Z"
   },
   {
    "duration": 537,
    "start_time": "2023-10-12T08:34:20.528Z"
   },
   {
    "duration": 2159,
    "start_time": "2023-10-12T08:34:21.067Z"
   },
   {
    "duration": 11,
    "start_time": "2023-10-12T08:34:23.227Z"
   },
   {
    "duration": 40,
    "start_time": "2023-10-12T08:34:23.240Z"
   },
   {
    "duration": 13,
    "start_time": "2023-10-12T08:34:23.281Z"
   },
   {
    "duration": 23,
    "start_time": "2023-10-12T08:34:23.295Z"
   },
   {
    "duration": 34,
    "start_time": "2023-10-12T08:34:23.320Z"
   },
   {
    "duration": 6,
    "start_time": "2023-10-12T08:34:23.356Z"
   },
   {
    "duration": 9,
    "start_time": "2023-10-12T08:34:23.363Z"
   },
   {
    "duration": 227,
    "start_time": "2023-10-12T08:34:23.374Z"
   },
   {
    "duration": 8,
    "start_time": "2023-10-12T08:34:23.603Z"
   },
   {
    "duration": 355,
    "start_time": "2023-10-12T08:34:23.613Z"
   },
   {
    "duration": 7,
    "start_time": "2023-10-12T08:34:23.970Z"
   },
   {
    "duration": 78,
    "start_time": "2023-10-12T08:34:23.978Z"
   },
   {
    "duration": 265,
    "start_time": "2023-10-12T08:34:24.058Z"
   },
   {
    "duration": 19,
    "start_time": "2023-10-12T08:34:24.325Z"
   },
   {
    "duration": 10,
    "start_time": "2023-10-12T08:34:24.346Z"
   },
   {
    "duration": 182,
    "start_time": "2023-10-12T08:34:24.358Z"
   },
   {
    "duration": 8,
    "start_time": "2023-10-12T08:34:24.545Z"
   },
   {
    "duration": 21,
    "start_time": "2023-10-12T08:34:24.554Z"
   },
   {
    "duration": 252,
    "start_time": "2023-10-12T08:34:24.576Z"
   },
   {
    "duration": 16,
    "start_time": "2023-10-12T08:34:24.830Z"
   },
   {
    "duration": 18,
    "start_time": "2023-10-12T08:34:24.848Z"
   },
   {
    "duration": 217,
    "start_time": "2023-10-12T08:34:24.868Z"
   },
   {
    "duration": 9,
    "start_time": "2023-10-12T08:34:25.087Z"
   },
   {
    "duration": 20,
    "start_time": "2023-10-12T08:34:25.098Z"
   },
   {
    "duration": 176,
    "start_time": "2023-10-12T08:34:25.120Z"
   },
   {
    "duration": 10,
    "start_time": "2023-10-12T08:34:25.299Z"
   },
   {
    "duration": 5,
    "start_time": "2023-10-12T08:34:25.311Z"
   },
   {
    "duration": 32,
    "start_time": "2023-10-12T08:34:25.318Z"
   },
   {
    "duration": 150,
    "start_time": "2023-10-12T08:34:25.351Z"
   },
   {
    "duration": 10,
    "start_time": "2023-10-12T08:34:25.502Z"
   },
   {
    "duration": 11,
    "start_time": "2023-10-12T08:34:25.514Z"
   },
   {
    "duration": 167,
    "start_time": "2023-10-12T08:34:25.526Z"
   },
   {
    "duration": 9,
    "start_time": "2023-10-12T08:34:25.695Z"
   },
   {
    "duration": 18,
    "start_time": "2023-10-12T08:34:25.706Z"
   },
   {
    "duration": 247,
    "start_time": "2023-10-12T08:34:25.726Z"
   },
   {
    "duration": 10,
    "start_time": "2023-10-12T08:34:25.975Z"
   },
   {
    "duration": 8,
    "start_time": "2023-10-12T08:34:25.987Z"
   },
   {
    "duration": 174,
    "start_time": "2023-10-12T08:34:25.997Z"
   },
   {
    "duration": 7,
    "start_time": "2023-10-12T08:34:26.173Z"
   },
   {
    "duration": 163,
    "start_time": "2023-10-12T08:34:26.182Z"
   },
   {
    "duration": 6,
    "start_time": "2023-10-12T08:34:26.347Z"
   },
   {
    "duration": 69,
    "start_time": "2023-10-12T08:35:04.937Z"
   },
   {
    "duration": 9,
    "start_time": "2023-10-12T08:35:12.065Z"
   },
   {
    "duration": 511,
    "start_time": "2023-10-12T08:35:31.608Z"
   },
   {
    "duration": 2317,
    "start_time": "2023-10-12T08:35:32.121Z"
   },
   {
    "duration": 10,
    "start_time": "2023-10-12T08:35:34.440Z"
   },
   {
    "duration": 57,
    "start_time": "2023-10-12T08:35:34.452Z"
   },
   {
    "duration": 20,
    "start_time": "2023-10-12T08:35:34.511Z"
   },
   {
    "duration": 59,
    "start_time": "2023-10-12T08:35:34.533Z"
   },
   {
    "duration": 64,
    "start_time": "2023-10-12T08:35:34.594Z"
   },
   {
    "duration": 31,
    "start_time": "2023-10-12T08:35:34.660Z"
   },
   {
    "duration": 45,
    "start_time": "2023-10-12T08:35:34.693Z"
   },
   {
    "duration": 267,
    "start_time": "2023-10-12T08:35:34.740Z"
   },
   {
    "duration": 11,
    "start_time": "2023-10-12T08:35:35.010Z"
   },
   {
    "duration": 391,
    "start_time": "2023-10-12T08:35:35.023Z"
   },
   {
    "duration": 61,
    "start_time": "2023-10-12T08:35:35.416Z"
   },
   {
    "duration": 37,
    "start_time": "2023-10-12T08:35:35.479Z"
   },
   {
    "duration": 252,
    "start_time": "2023-10-12T08:35:35.518Z"
   },
   {
    "duration": 9,
    "start_time": "2023-10-12T08:35:35.771Z"
   },
   {
    "duration": 38,
    "start_time": "2023-10-12T08:35:35.781Z"
   },
   {
    "duration": 177,
    "start_time": "2023-10-12T08:35:35.820Z"
   },
   {
    "duration": 9,
    "start_time": "2023-10-12T08:35:35.998Z"
   },
   {
    "duration": 30,
    "start_time": "2023-10-12T08:35:36.008Z"
   },
   {
    "duration": 270,
    "start_time": "2023-10-12T08:35:36.039Z"
   },
   {
    "duration": 9,
    "start_time": "2023-10-12T08:35:36.310Z"
   },
   {
    "duration": 26,
    "start_time": "2023-10-12T08:35:36.321Z"
   },
   {
    "duration": 195,
    "start_time": "2023-10-12T08:35:36.349Z"
   },
   {
    "duration": 8,
    "start_time": "2023-10-12T08:35:36.546Z"
   },
   {
    "duration": 13,
    "start_time": "2023-10-12T08:35:36.555Z"
   },
   {
    "duration": 183,
    "start_time": "2023-10-12T08:35:36.570Z"
   },
   {
    "duration": 9,
    "start_time": "2023-10-12T08:35:36.757Z"
   },
   {
    "duration": 14,
    "start_time": "2023-10-12T08:35:36.768Z"
   },
   {
    "duration": 24,
    "start_time": "2023-10-12T08:35:36.784Z"
   },
   {
    "duration": 160,
    "start_time": "2023-10-12T08:35:36.809Z"
   },
   {
    "duration": 8,
    "start_time": "2023-10-12T08:35:36.970Z"
   },
   {
    "duration": 19,
    "start_time": "2023-10-12T08:35:36.979Z"
   },
   {
    "duration": 183,
    "start_time": "2023-10-12T08:35:37.000Z"
   },
   {
    "duration": 10,
    "start_time": "2023-10-12T08:35:37.184Z"
   },
   {
    "duration": 7,
    "start_time": "2023-10-12T08:35:37.196Z"
   },
   {
    "duration": 194,
    "start_time": "2023-10-12T08:35:37.204Z"
   },
   {
    "duration": 11,
    "start_time": "2023-10-12T08:35:37.400Z"
   },
   {
    "duration": 7,
    "start_time": "2023-10-12T08:35:37.413Z"
   },
   {
    "duration": 179,
    "start_time": "2023-10-12T08:35:37.421Z"
   },
   {
    "duration": 7,
    "start_time": "2023-10-12T08:35:37.602Z"
   },
   {
    "duration": 159,
    "start_time": "2023-10-12T08:35:37.610Z"
   },
   {
    "duration": 6,
    "start_time": "2023-10-12T08:35:37.771Z"
   },
   {
    "duration": 76,
    "start_time": "2023-10-12T08:36:22.396Z"
   },
   {
    "duration": 832,
    "start_time": "2023-10-12T08:46:37.792Z"
   },
   {
    "duration": 490,
    "start_time": "2023-10-12T08:46:55.696Z"
   },
   {
    "duration": 2187,
    "start_time": "2023-10-12T08:46:56.187Z"
   },
   {
    "duration": 11,
    "start_time": "2023-10-12T08:46:58.375Z"
   },
   {
    "duration": 36,
    "start_time": "2023-10-12T08:46:58.389Z"
   },
   {
    "duration": 15,
    "start_time": "2023-10-12T08:46:58.426Z"
   },
   {
    "duration": 27,
    "start_time": "2023-10-12T08:46:58.443Z"
   },
   {
    "duration": 24,
    "start_time": "2023-10-12T08:46:58.473Z"
   },
   {
    "duration": 7,
    "start_time": "2023-10-12T08:46:58.499Z"
   },
   {
    "duration": 36,
    "start_time": "2023-10-12T08:46:58.508Z"
   },
   {
    "duration": 224,
    "start_time": "2023-10-12T08:46:58.547Z"
   },
   {
    "duration": 9,
    "start_time": "2023-10-12T08:46:58.772Z"
   },
   {
    "duration": 395,
    "start_time": "2023-10-12T08:46:58.782Z"
   },
   {
    "duration": 868,
    "start_time": "2023-10-12T08:46:59.178Z"
   },
   {
    "duration": 8,
    "start_time": "2023-10-12T08:47:00.048Z"
   },
   {
    "duration": 372,
    "start_time": "2023-10-12T08:47:00.057Z"
   },
   {
    "duration": 19,
    "start_time": "2023-10-12T08:47:00.431Z"
   },
   {
    "duration": 148,
    "start_time": "2023-10-12T08:47:00.451Z"
   },
   {
    "duration": 203,
    "start_time": "2023-10-12T08:47:00.600Z"
   },
   {
    "duration": 9,
    "start_time": "2023-10-12T08:47:00.805Z"
   },
   {
    "duration": 57,
    "start_time": "2023-10-12T08:47:00.815Z"
   },
   {
    "duration": 215,
    "start_time": "2023-10-12T08:47:00.873Z"
   },
   {
    "duration": 10,
    "start_time": "2023-10-12T08:47:01.090Z"
   },
   {
    "duration": 89,
    "start_time": "2023-10-12T08:47:01.101Z"
   },
   {
    "duration": 250,
    "start_time": "2023-10-12T08:47:01.191Z"
   },
   {
    "duration": 8,
    "start_time": "2023-10-12T08:47:01.442Z"
   },
   {
    "duration": 70,
    "start_time": "2023-10-12T08:47:01.452Z"
   },
   {
    "duration": 250,
    "start_time": "2023-10-12T08:47:01.524Z"
   },
   {
    "duration": 8,
    "start_time": "2023-10-12T08:47:01.778Z"
   },
   {
    "duration": 132,
    "start_time": "2023-10-12T08:47:01.787Z"
   },
   {
    "duration": 47,
    "start_time": "2023-10-12T08:47:01.920Z"
   },
   {
    "duration": 160,
    "start_time": "2023-10-12T08:47:01.968Z"
   },
   {
    "duration": 15,
    "start_time": "2023-10-12T08:47:02.130Z"
   },
   {
    "duration": 47,
    "start_time": "2023-10-12T08:47:02.147Z"
   },
   {
    "duration": 249,
    "start_time": "2023-10-12T08:47:02.195Z"
   },
   {
    "duration": 10,
    "start_time": "2023-10-12T08:47:02.446Z"
   },
   {
    "duration": 32,
    "start_time": "2023-10-12T08:47:02.458Z"
   },
   {
    "duration": 169,
    "start_time": "2023-10-12T08:47:02.492Z"
   },
   {
    "duration": 10,
    "start_time": "2023-10-12T08:47:02.663Z"
   },
   {
    "duration": 20,
    "start_time": "2023-10-12T08:47:02.675Z"
   },
   {
    "duration": 189,
    "start_time": "2023-10-12T08:47:02.697Z"
   },
   {
    "duration": 7,
    "start_time": "2023-10-12T08:47:02.887Z"
   },
   {
    "duration": 147,
    "start_time": "2023-10-12T08:47:02.895Z"
   },
   {
    "duration": 5,
    "start_time": "2023-10-12T08:47:03.043Z"
   },
   {
    "duration": 9,
    "start_time": "2023-10-12T08:48:11.912Z"
   },
   {
    "duration": 324,
    "start_time": "2023-10-12T08:48:36.087Z"
   },
   {
    "duration": 12,
    "start_time": "2023-10-12T08:48:44.175Z"
   },
   {
    "duration": 9,
    "start_time": "2023-10-12T08:48:48.319Z"
   },
   {
    "duration": 172,
    "start_time": "2023-10-12T08:50:17.535Z"
   },
   {
    "duration": 6,
    "start_time": "2023-10-12T08:50:49.846Z"
   },
   {
    "duration": 154,
    "start_time": "2023-10-12T08:51:16.373Z"
   },
   {
    "duration": 163,
    "start_time": "2023-10-12T08:51:28.958Z"
   },
   {
    "duration": 8,
    "start_time": "2023-10-12T08:52:03.702Z"
   },
   {
    "duration": 138,
    "start_time": "2023-10-12T08:52:08.317Z"
   },
   {
    "duration": 9,
    "start_time": "2023-10-12T08:52:24.222Z"
   },
   {
    "duration": 468,
    "start_time": "2023-10-12T08:52:39.097Z"
   },
   {
    "duration": 2151,
    "start_time": "2023-10-12T08:52:39.567Z"
   },
   {
    "duration": 10,
    "start_time": "2023-10-12T08:52:41.720Z"
   },
   {
    "duration": 35,
    "start_time": "2023-10-12T08:52:41.732Z"
   },
   {
    "duration": 13,
    "start_time": "2023-10-12T08:52:41.769Z"
   },
   {
    "duration": 25,
    "start_time": "2023-10-12T08:52:41.783Z"
   },
   {
    "duration": 43,
    "start_time": "2023-10-12T08:52:41.809Z"
   },
   {
    "duration": 6,
    "start_time": "2023-10-12T08:52:41.854Z"
   },
   {
    "duration": 19,
    "start_time": "2023-10-12T08:52:41.861Z"
   },
   {
    "duration": 220,
    "start_time": "2023-10-12T08:52:41.882Z"
   },
   {
    "duration": 8,
    "start_time": "2023-10-12T08:52:42.103Z"
   },
   {
    "duration": 367,
    "start_time": "2023-10-12T08:52:42.112Z"
   },
   {
    "duration": 850,
    "start_time": "2023-10-12T08:52:42.480Z"
   },
   {
    "duration": 287,
    "start_time": "2023-10-12T08:52:43.332Z"
   },
   {
    "duration": 173,
    "start_time": "2023-10-12T08:52:43.621Z"
   },
   {
    "duration": 184,
    "start_time": "2023-10-12T08:52:43.796Z"
   },
   {
    "duration": 252,
    "start_time": "2023-10-12T08:52:43.982Z"
   },
   {
    "duration": 211,
    "start_time": "2023-10-12T08:52:44.236Z"
   },
   {
    "duration": 7,
    "start_time": "2023-10-12T08:52:44.449Z"
   },
   {
    "duration": 34,
    "start_time": "2023-10-12T08:52:44.457Z"
   },
   {
    "duration": 141,
    "start_time": "2023-10-12T08:52:44.493Z"
   },
   {
    "duration": 164,
    "start_time": "2023-10-12T08:52:44.636Z"
   },
   {
    "duration": 162,
    "start_time": "2023-10-12T08:52:44.801Z"
   },
   {
    "duration": 159,
    "start_time": "2023-10-12T08:52:44.965Z"
   },
   {
    "duration": 8,
    "start_time": "2023-10-12T08:52:45.125Z"
   },
   {
    "duration": 142,
    "start_time": "2023-10-12T08:52:45.145Z"
   },
   {
    "duration": 5,
    "start_time": "2023-10-12T08:52:45.288Z"
   },
   {
    "duration": 245,
    "start_time": "2023-10-12T08:53:59.373Z"
   },
   {
    "duration": 4,
    "start_time": "2023-10-12T08:54:26.653Z"
   },
   {
    "duration": 555,
    "start_time": "2023-10-12T08:58:58.826Z"
   },
   {
    "duration": 2319,
    "start_time": "2023-10-12T08:58:59.383Z"
   },
   {
    "duration": 10,
    "start_time": "2023-10-12T08:59:01.704Z"
   },
   {
    "duration": 161,
    "start_time": "2023-10-12T08:59:01.716Z"
   },
   {
    "duration": 199,
    "start_time": "2023-10-12T08:59:01.879Z"
   },
   {
    "duration": 181,
    "start_time": "2023-10-12T08:59:02.079Z"
   },
   {
    "duration": 34,
    "start_time": "2023-10-12T08:59:02.263Z"
   },
   {
    "duration": 47,
    "start_time": "2023-10-12T08:59:02.299Z"
   },
   {
    "duration": 88,
    "start_time": "2023-10-12T08:59:02.348Z"
   },
   {
    "duration": 255,
    "start_time": "2023-10-12T08:59:02.439Z"
   },
   {
    "duration": 9,
    "start_time": "2023-10-12T08:59:02.696Z"
   },
   {
    "duration": 382,
    "start_time": "2023-10-12T08:59:02.707Z"
   },
   {
    "duration": 890,
    "start_time": "2023-10-12T08:59:03.092Z"
   },
   {
    "duration": 400,
    "start_time": "2023-10-12T08:59:03.984Z"
   },
   {
    "duration": 173,
    "start_time": "2023-10-12T08:59:04.387Z"
   },
   {
    "duration": 185,
    "start_time": "2023-10-12T08:59:04.563Z"
   },
   {
    "duration": 196,
    "start_time": "2023-10-12T08:59:04.750Z"
   },
   {
    "duration": 202,
    "start_time": "2023-10-12T08:59:04.948Z"
   },
   {
    "duration": 7,
    "start_time": "2023-10-12T08:59:05.152Z"
   },
   {
    "duration": 18,
    "start_time": "2023-10-12T08:59:05.161Z"
   },
   {
    "duration": 191,
    "start_time": "2023-10-12T08:59:05.181Z"
   },
   {
    "duration": 162,
    "start_time": "2023-10-12T08:59:05.374Z"
   },
   {
    "duration": 168,
    "start_time": "2023-10-12T08:59:05.537Z"
   },
   {
    "duration": 163,
    "start_time": "2023-10-12T08:59:05.706Z"
   },
   {
    "duration": 8,
    "start_time": "2023-10-12T08:59:05.871Z"
   },
   {
    "duration": 140,
    "start_time": "2023-10-12T08:59:05.880Z"
   },
   {
    "duration": 5,
    "start_time": "2023-10-12T08:59:06.022Z"
   },
   {
    "duration": 7,
    "start_time": "2023-10-12T09:00:43.337Z"
   },
   {
    "duration": 5,
    "start_time": "2023-10-12T09:03:52.745Z"
   },
   {
    "duration": 163,
    "start_time": "2023-10-12T09:05:27.713Z"
   },
   {
    "duration": 18,
    "start_time": "2023-10-12T09:06:04.643Z"
   },
   {
    "duration": 21,
    "start_time": "2023-10-12T09:06:40.224Z"
   },
   {
    "duration": 33,
    "start_time": "2023-10-12T09:06:59.720Z"
   },
   {
    "duration": 243,
    "start_time": "2023-10-12T09:07:51.791Z"
   },
   {
    "duration": 15,
    "start_time": "2023-10-12T09:14:51.278Z"
   },
   {
    "duration": 2535,
    "start_time": "2023-10-12T09:17:34.909Z"
   },
   {
    "duration": 2619,
    "start_time": "2023-10-12T09:17:59.445Z"
   },
   {
    "duration": 481,
    "start_time": "2023-10-12T09:18:32.139Z"
   },
   {
    "duration": 155,
    "start_time": "2023-10-12T09:18:43.690Z"
   },
   {
    "duration": 0,
    "start_time": "2023-10-12T09:19:48.306Z"
   },
   {
    "duration": 8,
    "start_time": "2023-10-12T09:21:27.467Z"
   },
   {
    "duration": 205,
    "start_time": "2023-10-12T09:21:47.082Z"
   },
   {
    "duration": 177,
    "start_time": "2023-10-12T09:22:06.265Z"
   },
   {
    "duration": 170,
    "start_time": "2023-10-12T09:22:50.418Z"
   },
   {
    "duration": 208,
    "start_time": "2023-10-12T09:22:59.258Z"
   },
   {
    "duration": 233,
    "start_time": "2023-10-12T09:23:48.127Z"
   },
   {
    "duration": 238,
    "start_time": "2023-10-12T09:25:26.760Z"
   },
   {
    "duration": 334,
    "start_time": "2023-10-12T09:26:06.810Z"
   },
   {
    "duration": 208,
    "start_time": "2023-10-12T09:26:48.696Z"
   },
   {
    "duration": 191,
    "start_time": "2023-10-12T09:27:11.256Z"
   },
   {
    "duration": 724,
    "start_time": "2023-10-12T09:28:38.495Z"
   },
   {
    "duration": 797,
    "start_time": "2023-10-12T09:29:23.249Z"
   },
   {
    "duration": 806,
    "start_time": "2023-10-12T09:29:31.727Z"
   },
   {
    "duration": 83,
    "start_time": "2023-10-12T09:30:21.951Z"
   },
   {
    "duration": 109,
    "start_time": "2023-10-12T09:30:43.038Z"
   },
   {
    "duration": 170,
    "start_time": "2023-10-12T09:31:51.925Z"
   },
   {
    "duration": 195,
    "start_time": "2023-10-12T09:32:19.245Z"
   },
   {
    "duration": 218,
    "start_time": "2023-10-12T09:33:13.969Z"
   },
   {
    "duration": 190,
    "start_time": "2023-10-12T09:33:21.589Z"
   },
   {
    "duration": 192,
    "start_time": "2023-10-12T09:33:29.861Z"
   },
   {
    "duration": 168,
    "start_time": "2023-10-12T09:33:37.749Z"
   },
   {
    "duration": 11,
    "start_time": "2023-10-12T09:36:25.506Z"
   },
   {
    "duration": 540,
    "start_time": "2023-10-12T09:36:39.214Z"
   },
   {
    "duration": 2192,
    "start_time": "2023-10-12T09:36:39.755Z"
   },
   {
    "duration": 13,
    "start_time": "2023-10-12T09:36:41.949Z"
   },
   {
    "duration": 50,
    "start_time": "2023-10-12T09:36:41.965Z"
   },
   {
    "duration": 35,
    "start_time": "2023-10-12T09:36:42.017Z"
   },
   {
    "duration": 49,
    "start_time": "2023-10-12T09:36:42.054Z"
   },
   {
    "duration": 46,
    "start_time": "2023-10-12T09:36:42.105Z"
   },
   {
    "duration": 17,
    "start_time": "2023-10-12T09:36:42.153Z"
   },
   {
    "duration": 28,
    "start_time": "2023-10-12T09:36:42.171Z"
   },
   {
    "duration": 250,
    "start_time": "2023-10-12T09:36:42.201Z"
   },
   {
    "duration": 8,
    "start_time": "2023-10-12T09:36:42.453Z"
   },
   {
    "duration": 377,
    "start_time": "2023-10-12T09:36:42.463Z"
   },
   {
    "duration": 1380,
    "start_time": "2023-10-12T09:36:42.844Z"
   },
   {
    "duration": 0,
    "start_time": "2023-10-12T09:36:44.227Z"
   },
   {
    "duration": 0,
    "start_time": "2023-10-12T09:36:44.228Z"
   },
   {
    "duration": 0,
    "start_time": "2023-10-12T09:36:44.230Z"
   },
   {
    "duration": 0,
    "start_time": "2023-10-12T09:36:44.232Z"
   },
   {
    "duration": 0,
    "start_time": "2023-10-12T09:36:44.233Z"
   },
   {
    "duration": 0,
    "start_time": "2023-10-12T09:36:44.235Z"
   },
   {
    "duration": 0,
    "start_time": "2023-10-12T09:36:44.236Z"
   },
   {
    "duration": 0,
    "start_time": "2023-10-12T09:36:44.238Z"
   },
   {
    "duration": 0,
    "start_time": "2023-10-12T09:36:44.240Z"
   },
   {
    "duration": 0,
    "start_time": "2023-10-12T09:36:44.241Z"
   },
   {
    "duration": 0,
    "start_time": "2023-10-12T09:36:44.243Z"
   },
   {
    "duration": 0,
    "start_time": "2023-10-12T09:36:44.245Z"
   },
   {
    "duration": 0,
    "start_time": "2023-10-12T09:36:44.246Z"
   },
   {
    "duration": 0,
    "start_time": "2023-10-12T09:36:44.248Z"
   },
   {
    "duration": 0,
    "start_time": "2023-10-12T09:36:44.249Z"
   },
   {
    "duration": 0,
    "start_time": "2023-10-12T09:36:44.250Z"
   },
   {
    "duration": 0,
    "start_time": "2023-10-12T09:36:44.252Z"
   },
   {
    "duration": 0,
    "start_time": "2023-10-12T09:36:44.253Z"
   },
   {
    "duration": 0,
    "start_time": "2023-10-12T09:36:44.254Z"
   },
   {
    "duration": 844,
    "start_time": "2023-10-12T09:38:20.905Z"
   },
   {
    "duration": 477,
    "start_time": "2023-10-12T09:38:26.191Z"
   },
   {
    "duration": 2160,
    "start_time": "2023-10-12T09:38:26.670Z"
   },
   {
    "duration": 10,
    "start_time": "2023-10-12T09:38:28.832Z"
   },
   {
    "duration": 65,
    "start_time": "2023-10-12T09:38:28.844Z"
   },
   {
    "duration": 13,
    "start_time": "2023-10-12T09:38:28.911Z"
   },
   {
    "duration": 32,
    "start_time": "2023-10-12T09:38:28.926Z"
   },
   {
    "duration": 25,
    "start_time": "2023-10-12T09:38:28.960Z"
   },
   {
    "duration": 9,
    "start_time": "2023-10-12T09:38:28.987Z"
   },
   {
    "duration": 20,
    "start_time": "2023-10-12T09:38:28.998Z"
   },
   {
    "duration": 299,
    "start_time": "2023-10-12T09:38:29.021Z"
   },
   {
    "duration": 9,
    "start_time": "2023-10-12T09:38:29.321Z"
   },
   {
    "duration": 423,
    "start_time": "2023-10-12T09:38:29.331Z"
   },
   {
    "duration": 841,
    "start_time": "2023-10-12T09:38:29.756Z"
   },
   {
    "duration": 294,
    "start_time": "2023-10-12T09:38:30.599Z"
   },
   {
    "duration": 174,
    "start_time": "2023-10-12T09:38:30.895Z"
   },
   {
    "duration": 179,
    "start_time": "2023-10-12T09:38:31.071Z"
   },
   {
    "duration": 185,
    "start_time": "2023-10-12T09:38:31.252Z"
   },
   {
    "duration": 193,
    "start_time": "2023-10-12T09:38:31.439Z"
   },
   {
    "duration": 10,
    "start_time": "2023-10-12T09:38:31.634Z"
   },
   {
    "duration": 149,
    "start_time": "2023-10-12T09:38:31.646Z"
   },
   {
    "duration": 199,
    "start_time": "2023-10-12T09:38:31.797Z"
   },
   {
    "duration": 157,
    "start_time": "2023-10-12T09:38:31.998Z"
   },
   {
    "duration": 162,
    "start_time": "2023-10-12T09:38:32.157Z"
   },
   {
    "duration": 182,
    "start_time": "2023-10-12T09:38:32.321Z"
   },
   {
    "duration": 8,
    "start_time": "2023-10-12T09:38:32.505Z"
   },
   {
    "duration": 175,
    "start_time": "2023-10-12T09:38:32.515Z"
   },
   {
    "duration": 344,
    "start_time": "2023-10-12T09:38:32.691Z"
   },
   {
    "duration": 87,
    "start_time": "2023-10-12T09:38:33.039Z"
   },
   {
    "duration": 0,
    "start_time": "2023-10-12T09:38:33.127Z"
   },
   {
    "duration": 0,
    "start_time": "2023-10-12T09:38:33.128Z"
   },
   {
    "duration": 0,
    "start_time": "2023-10-12T09:38:33.144Z"
   },
   {
    "duration": 0,
    "start_time": "2023-10-12T09:38:33.145Z"
   },
   {
    "duration": 16,
    "start_time": "2023-10-12T12:20:27.115Z"
   },
   {
    "duration": 184,
    "start_time": "2023-10-12T12:21:48.014Z"
   },
   {
    "duration": 152,
    "start_time": "2023-10-12T12:23:20.900Z"
   },
   {
    "duration": 162,
    "start_time": "2023-10-12T12:24:51.060Z"
   },
   {
    "duration": 304,
    "start_time": "2023-10-12T12:25:22.129Z"
   },
   {
    "duration": 295,
    "start_time": "2023-10-12T12:25:55.433Z"
   },
   {
    "duration": 313,
    "start_time": "2023-10-12T12:25:59.097Z"
   },
   {
    "duration": 479,
    "start_time": "2023-10-12T12:26:12.488Z"
   },
   {
    "duration": 2297,
    "start_time": "2023-10-12T12:26:12.969Z"
   },
   {
    "duration": 9,
    "start_time": "2023-10-12T12:26:15.268Z"
   },
   {
    "duration": 56,
    "start_time": "2023-10-12T12:26:15.279Z"
   },
   {
    "duration": 38,
    "start_time": "2023-10-12T12:26:15.336Z"
   },
   {
    "duration": 56,
    "start_time": "2023-10-12T12:26:15.376Z"
   },
   {
    "duration": 25,
    "start_time": "2023-10-12T12:26:15.433Z"
   },
   {
    "duration": 10,
    "start_time": "2023-10-12T12:26:15.460Z"
   },
   {
    "duration": 25,
    "start_time": "2023-10-12T12:26:15.472Z"
   },
   {
    "duration": 231,
    "start_time": "2023-10-12T12:26:15.499Z"
   },
   {
    "duration": 15,
    "start_time": "2023-10-12T12:26:15.732Z"
   },
   {
    "duration": 350,
    "start_time": "2023-10-12T12:26:15.749Z"
   },
   {
    "duration": 912,
    "start_time": "2023-10-12T12:26:16.101Z"
   },
   {
    "duration": 342,
    "start_time": "2023-10-12T12:26:17.015Z"
   },
   {
    "duration": 183,
    "start_time": "2023-10-12T12:26:17.358Z"
   },
   {
    "duration": 161,
    "start_time": "2023-10-12T12:26:17.543Z"
   },
   {
    "duration": 193,
    "start_time": "2023-10-12T12:26:17.706Z"
   },
   {
    "duration": 196,
    "start_time": "2023-10-12T12:26:17.901Z"
   },
   {
    "duration": 7,
    "start_time": "2023-10-12T12:26:18.099Z"
   },
   {
    "duration": 41,
    "start_time": "2023-10-12T12:26:18.108Z"
   },
   {
    "duration": 160,
    "start_time": "2023-10-12T12:26:18.151Z"
   },
   {
    "duration": 173,
    "start_time": "2023-10-12T12:26:18.313Z"
   },
   {
    "duration": 171,
    "start_time": "2023-10-12T12:26:18.487Z"
   },
   {
    "duration": 169,
    "start_time": "2023-10-12T12:26:18.659Z"
   },
   {
    "duration": 14,
    "start_time": "2023-10-12T12:26:18.829Z"
   },
   {
    "duration": 201,
    "start_time": "2023-10-12T12:26:18.845Z"
   },
   {
    "duration": 324,
    "start_time": "2023-10-12T12:26:19.048Z"
   },
   {
    "duration": 14,
    "start_time": "2023-10-12T12:26:19.375Z"
   },
   {
    "duration": 198,
    "start_time": "2023-10-12T12:26:19.391Z"
   },
   {
    "duration": 202,
    "start_time": "2023-10-12T12:26:19.591Z"
   },
   {
    "duration": 213,
    "start_time": "2023-10-12T12:26:19.795Z"
   },
   {
    "duration": 186,
    "start_time": "2023-10-12T12:26:20.011Z"
   },
   {
    "duration": 299,
    "start_time": "2023-10-12T12:26:20.199Z"
   },
   {
    "duration": 194,
    "start_time": "2023-10-12T12:26:20.500Z"
   },
   {
    "duration": 92,
    "start_time": "2023-10-12T12:27:37.759Z"
   },
   {
    "duration": 161,
    "start_time": "2023-10-12T12:27:55.271Z"
   },
   {
    "duration": 17,
    "start_time": "2023-10-12T12:27:57.520Z"
   },
   {
    "duration": 16,
    "start_time": "2023-10-12T12:28:03.080Z"
   },
   {
    "duration": 18,
    "start_time": "2023-10-12T12:28:17.706Z"
   },
   {
    "duration": 10,
    "start_time": "2023-10-12T12:28:37.871Z"
   },
   {
    "duration": 19,
    "start_time": "2023-10-12T12:28:43.391Z"
   },
   {
    "duration": 473,
    "start_time": "2023-10-12T12:28:51.086Z"
   },
   {
    "duration": 2093,
    "start_time": "2023-10-12T12:28:51.561Z"
   },
   {
    "duration": 10,
    "start_time": "2023-10-12T12:28:53.655Z"
   },
   {
    "duration": 30,
    "start_time": "2023-10-12T12:28:53.667Z"
   },
   {
    "duration": 12,
    "start_time": "2023-10-12T12:28:53.699Z"
   },
   {
    "duration": 48,
    "start_time": "2023-10-12T12:28:53.713Z"
   },
   {
    "duration": 22,
    "start_time": "2023-10-12T12:28:53.763Z"
   },
   {
    "duration": 6,
    "start_time": "2023-10-12T12:28:53.787Z"
   },
   {
    "duration": 12,
    "start_time": "2023-10-12T12:28:53.794Z"
   },
   {
    "duration": 255,
    "start_time": "2023-10-12T12:28:53.809Z"
   },
   {
    "duration": 10,
    "start_time": "2023-10-12T12:28:54.066Z"
   },
   {
    "duration": 398,
    "start_time": "2023-10-12T12:28:54.077Z"
   },
   {
    "duration": 830,
    "start_time": "2023-10-12T12:28:54.476Z"
   },
   {
    "duration": 274,
    "start_time": "2023-10-12T12:28:55.307Z"
   },
   {
    "duration": 164,
    "start_time": "2023-10-12T12:28:55.582Z"
   },
   {
    "duration": 172,
    "start_time": "2023-10-12T12:28:55.748Z"
   },
   {
    "duration": 183,
    "start_time": "2023-10-12T12:28:55.922Z"
   },
   {
    "duration": 183,
    "start_time": "2023-10-12T12:28:56.107Z"
   },
   {
    "duration": 6,
    "start_time": "2023-10-12T12:28:56.292Z"
   },
   {
    "duration": 14,
    "start_time": "2023-10-12T12:28:56.300Z"
   },
   {
    "duration": 159,
    "start_time": "2023-10-12T12:28:56.315Z"
   },
   {
    "duration": 156,
    "start_time": "2023-10-12T12:28:56.475Z"
   },
   {
    "duration": 161,
    "start_time": "2023-10-12T12:28:56.633Z"
   },
   {
    "duration": 166,
    "start_time": "2023-10-12T12:28:56.795Z"
   },
   {
    "duration": 7,
    "start_time": "2023-10-12T12:28:56.963Z"
   },
   {
    "duration": 147,
    "start_time": "2023-10-12T12:28:56.972Z"
   },
   {
    "duration": 321,
    "start_time": "2023-10-12T12:28:57.120Z"
   },
   {
    "duration": 13,
    "start_time": "2023-10-12T12:28:57.446Z"
   },
   {
    "duration": 219,
    "start_time": "2023-10-12T12:28:57.461Z"
   },
   {
    "duration": 200,
    "start_time": "2023-10-12T12:28:57.682Z"
   },
   {
    "duration": 210,
    "start_time": "2023-10-12T12:28:57.884Z"
   },
   {
    "duration": 197,
    "start_time": "2023-10-12T12:28:58.096Z"
   },
   {
    "duration": 89,
    "start_time": "2023-10-12T12:28:58.295Z"
   },
   {
    "duration": 0,
    "start_time": "2023-10-12T12:28:58.386Z"
   },
   {
    "duration": 193,
    "start_time": "2023-10-12T12:29:13.126Z"
   },
   {
    "duration": 29,
    "start_time": "2023-10-12T12:30:12.614Z"
   },
   {
    "duration": 27,
    "start_time": "2023-10-12T12:30:14.997Z"
   },
   {
    "duration": 76,
    "start_time": "2023-10-12T12:31:23.396Z"
   },
   {
    "duration": 168,
    "start_time": "2023-10-12T12:31:37.012Z"
   },
   {
    "duration": 518,
    "start_time": "2023-10-12T12:33:00.038Z"
   },
   {
    "duration": 2124,
    "start_time": "2023-10-12T12:33:00.558Z"
   },
   {
    "duration": 13,
    "start_time": "2023-10-12T12:33:02.684Z"
   },
   {
    "duration": 62,
    "start_time": "2023-10-12T12:33:02.698Z"
   },
   {
    "duration": 20,
    "start_time": "2023-10-12T12:33:02.763Z"
   },
   {
    "duration": 70,
    "start_time": "2023-10-12T12:33:02.785Z"
   },
   {
    "duration": 37,
    "start_time": "2023-10-12T12:33:02.857Z"
   },
   {
    "duration": 50,
    "start_time": "2023-10-12T12:33:02.896Z"
   },
   {
    "duration": 61,
    "start_time": "2023-10-12T12:33:02.948Z"
   },
   {
    "duration": 240,
    "start_time": "2023-10-12T12:33:03.011Z"
   },
   {
    "duration": 8,
    "start_time": "2023-10-12T12:33:03.252Z"
   },
   {
    "duration": 378,
    "start_time": "2023-10-12T12:33:03.262Z"
   },
   {
    "duration": 894,
    "start_time": "2023-10-12T12:33:03.645Z"
   },
   {
    "duration": 288,
    "start_time": "2023-10-12T12:33:04.541Z"
   },
   {
    "duration": 172,
    "start_time": "2023-10-12T12:33:04.831Z"
   },
   {
    "duration": 175,
    "start_time": "2023-10-12T12:33:05.005Z"
   },
   {
    "duration": 189,
    "start_time": "2023-10-12T12:33:05.182Z"
   },
   {
    "duration": 174,
    "start_time": "2023-10-12T12:33:05.373Z"
   },
   {
    "duration": 7,
    "start_time": "2023-10-12T12:33:05.549Z"
   },
   {
    "duration": 16,
    "start_time": "2023-10-12T12:33:05.557Z"
   },
   {
    "duration": 167,
    "start_time": "2023-10-12T12:33:05.574Z"
   },
   {
    "duration": 153,
    "start_time": "2023-10-12T12:33:05.742Z"
   },
   {
    "duration": 160,
    "start_time": "2023-10-12T12:33:05.896Z"
   },
   {
    "duration": 162,
    "start_time": "2023-10-12T12:33:06.058Z"
   },
   {
    "duration": 7,
    "start_time": "2023-10-12T12:33:06.222Z"
   },
   {
    "duration": 160,
    "start_time": "2023-10-12T12:33:06.230Z"
   },
   {
    "duration": 319,
    "start_time": "2023-10-12T12:33:06.392Z"
   },
   {
    "duration": 17,
    "start_time": "2023-10-12T12:33:06.713Z"
   },
   {
    "duration": 189,
    "start_time": "2023-10-12T12:33:06.743Z"
   },
   {
    "duration": 222,
    "start_time": "2023-10-12T12:33:06.934Z"
   },
   {
    "duration": 215,
    "start_time": "2023-10-12T12:33:07.158Z"
   },
   {
    "duration": 196,
    "start_time": "2023-10-12T12:33:07.375Z"
   },
   {
    "duration": 470,
    "start_time": "2023-10-12T12:33:59.479Z"
   },
   {
    "duration": 2139,
    "start_time": "2023-10-12T12:33:59.951Z"
   },
   {
    "duration": 9,
    "start_time": "2023-10-12T12:34:02.092Z"
   },
   {
    "duration": 58,
    "start_time": "2023-10-12T12:34:02.103Z"
   },
   {
    "duration": 46,
    "start_time": "2023-10-12T12:34:02.163Z"
   },
   {
    "duration": 72,
    "start_time": "2023-10-12T12:34:02.210Z"
   },
   {
    "duration": 88,
    "start_time": "2023-10-12T12:34:02.283Z"
   },
   {
    "duration": 38,
    "start_time": "2023-10-12T12:34:02.373Z"
   },
   {
    "duration": 39,
    "start_time": "2023-10-12T12:34:02.413Z"
   },
   {
    "duration": 218,
    "start_time": "2023-10-12T12:34:02.455Z"
   },
   {
    "duration": 7,
    "start_time": "2023-10-12T12:34:02.675Z"
   },
   {
    "duration": 410,
    "start_time": "2023-10-12T12:34:02.683Z"
   },
   {
    "duration": 851,
    "start_time": "2023-10-12T12:34:03.095Z"
   },
   {
    "duration": 350,
    "start_time": "2023-10-12T12:34:03.948Z"
   },
   {
    "duration": 169,
    "start_time": "2023-10-12T12:34:04.299Z"
   },
   {
    "duration": 162,
    "start_time": "2023-10-12T12:34:04.470Z"
   },
   {
    "duration": 196,
    "start_time": "2023-10-12T12:34:04.633Z"
   },
   {
    "duration": 199,
    "start_time": "2023-10-12T12:34:04.830Z"
   },
   {
    "duration": 15,
    "start_time": "2023-10-12T12:34:05.031Z"
   },
   {
    "duration": 32,
    "start_time": "2023-10-12T12:34:05.048Z"
   },
   {
    "duration": 154,
    "start_time": "2023-10-12T12:34:05.082Z"
   },
   {
    "duration": 168,
    "start_time": "2023-10-12T12:34:05.238Z"
   },
   {
    "duration": 164,
    "start_time": "2023-10-12T12:34:05.408Z"
   },
   {
    "duration": 161,
    "start_time": "2023-10-12T12:34:05.574Z"
   },
   {
    "duration": 7,
    "start_time": "2023-10-12T12:34:05.744Z"
   },
   {
    "duration": 146,
    "start_time": "2023-10-12T12:34:05.752Z"
   },
   {
    "duration": 314,
    "start_time": "2023-10-12T12:34:05.899Z"
   },
   {
    "duration": 12,
    "start_time": "2023-10-12T12:34:06.216Z"
   },
   {
    "duration": 207,
    "start_time": "2023-10-12T12:34:06.229Z"
   },
   {
    "duration": 197,
    "start_time": "2023-10-12T12:34:06.443Z"
   },
   {
    "duration": 197,
    "start_time": "2023-10-12T12:34:06.641Z"
   },
   {
    "duration": 171,
    "start_time": "2023-10-12T12:34:06.840Z"
   },
   {
    "duration": 507,
    "start_time": "2023-10-12T12:35:44.060Z"
   },
   {
    "duration": 2109,
    "start_time": "2023-10-12T12:35:44.569Z"
   },
   {
    "duration": 9,
    "start_time": "2023-10-12T12:35:46.679Z"
   },
   {
    "duration": 42,
    "start_time": "2023-10-12T12:35:46.690Z"
   },
   {
    "duration": 30,
    "start_time": "2023-10-12T12:35:46.734Z"
   },
   {
    "duration": 28,
    "start_time": "2023-10-12T12:35:46.766Z"
   },
   {
    "duration": 27,
    "start_time": "2023-10-12T12:35:46.795Z"
   },
   {
    "duration": 42,
    "start_time": "2023-10-12T12:35:46.825Z"
   },
   {
    "duration": 30,
    "start_time": "2023-10-12T12:35:46.869Z"
   },
   {
    "duration": 231,
    "start_time": "2023-10-12T12:35:46.902Z"
   },
   {
    "duration": 15,
    "start_time": "2023-10-12T12:35:47.135Z"
   },
   {
    "duration": 369,
    "start_time": "2023-10-12T12:35:47.152Z"
   },
   {
    "duration": 877,
    "start_time": "2023-10-12T12:35:47.523Z"
   },
   {
    "duration": 287,
    "start_time": "2023-10-12T12:35:48.402Z"
   },
   {
    "duration": 172,
    "start_time": "2023-10-12T12:35:48.690Z"
   },
   {
    "duration": 167,
    "start_time": "2023-10-12T12:35:48.864Z"
   },
   {
    "duration": 195,
    "start_time": "2023-10-12T12:35:49.033Z"
   },
   {
    "duration": 176,
    "start_time": "2023-10-12T12:35:49.230Z"
   },
   {
    "duration": 9,
    "start_time": "2023-10-12T12:35:49.408Z"
   },
   {
    "duration": 41,
    "start_time": "2023-10-12T12:35:49.419Z"
   },
   {
    "duration": 151,
    "start_time": "2023-10-12T12:35:49.462Z"
   },
   {
    "duration": 175,
    "start_time": "2023-10-12T12:35:49.615Z"
   },
   {
    "duration": 160,
    "start_time": "2023-10-12T12:35:49.792Z"
   },
   {
    "duration": 170,
    "start_time": "2023-10-12T12:35:49.953Z"
   },
   {
    "duration": 7,
    "start_time": "2023-10-12T12:35:50.125Z"
   },
   {
    "duration": 141,
    "start_time": "2023-10-12T12:35:50.133Z"
   },
   {
    "duration": 321,
    "start_time": "2023-10-12T12:35:50.276Z"
   },
   {
    "duration": 12,
    "start_time": "2023-10-12T12:35:50.600Z"
   },
   {
    "duration": 196,
    "start_time": "2023-10-12T12:35:50.614Z"
   },
   {
    "duration": 194,
    "start_time": "2023-10-12T12:35:50.812Z"
   },
   {
    "duration": 216,
    "start_time": "2023-10-12T12:35:51.008Z"
   },
   {
    "duration": 173,
    "start_time": "2023-10-12T12:35:51.226Z"
   },
   {
    "duration": 48,
    "start_time": "2023-10-12T12:38:25.927Z"
   },
   {
    "duration": 6,
    "start_time": "2023-10-12T12:38:37.886Z"
   },
   {
    "duration": 496,
    "start_time": "2023-10-12T12:38:46.076Z"
   },
   {
    "duration": 2085,
    "start_time": "2023-10-12T12:38:46.573Z"
   },
   {
    "duration": 10,
    "start_time": "2023-10-12T12:38:48.660Z"
   },
   {
    "duration": 35,
    "start_time": "2023-10-12T12:38:48.672Z"
   },
   {
    "duration": 12,
    "start_time": "2023-10-12T12:38:48.710Z"
   },
   {
    "duration": 37,
    "start_time": "2023-10-12T12:38:48.723Z"
   },
   {
    "duration": 38,
    "start_time": "2023-10-12T12:38:48.762Z"
   },
   {
    "duration": 13,
    "start_time": "2023-10-12T12:38:48.801Z"
   },
   {
    "duration": 28,
    "start_time": "2023-10-12T12:38:48.816Z"
   },
   {
    "duration": 212,
    "start_time": "2023-10-12T12:38:48.846Z"
   },
   {
    "duration": 8,
    "start_time": "2023-10-12T12:38:49.060Z"
   },
   {
    "duration": 361,
    "start_time": "2023-10-12T12:38:49.069Z"
   },
   {
    "duration": 807,
    "start_time": "2023-10-12T12:38:49.431Z"
   },
   {
    "duration": 274,
    "start_time": "2023-10-12T12:38:50.243Z"
   },
   {
    "duration": 162,
    "start_time": "2023-10-12T12:38:50.518Z"
   },
   {
    "duration": 167,
    "start_time": "2023-10-12T12:38:50.681Z"
   },
   {
    "duration": 181,
    "start_time": "2023-10-12T12:38:50.850Z"
   },
   {
    "duration": 182,
    "start_time": "2023-10-12T12:38:51.033Z"
   },
   {
    "duration": 7,
    "start_time": "2023-10-12T12:38:51.216Z"
   },
   {
    "duration": 45,
    "start_time": "2023-10-12T12:38:51.224Z"
   },
   {
    "duration": 156,
    "start_time": "2023-10-12T12:38:51.271Z"
   },
   {
    "duration": 154,
    "start_time": "2023-10-12T12:38:51.429Z"
   },
   {
    "duration": 159,
    "start_time": "2023-10-12T12:38:51.585Z"
   },
   {
    "duration": 157,
    "start_time": "2023-10-12T12:38:51.745Z"
   },
   {
    "duration": 7,
    "start_time": "2023-10-12T12:38:51.904Z"
   },
   {
    "duration": 201,
    "start_time": "2023-10-12T12:38:51.913Z"
   },
   {
    "duration": 321,
    "start_time": "2023-10-12T12:38:52.116Z"
   },
   {
    "duration": 15,
    "start_time": "2023-10-12T12:38:52.439Z"
   },
   {
    "duration": 207,
    "start_time": "2023-10-12T12:38:52.455Z"
   },
   {
    "duration": 208,
    "start_time": "2023-10-12T12:38:52.664Z"
   },
   {
    "duration": 200,
    "start_time": "2023-10-12T12:38:52.873Z"
   },
   {
    "duration": 188,
    "start_time": "2023-10-12T12:38:53.075Z"
   },
   {
    "duration": 488,
    "start_time": "2023-10-12T12:39:19.307Z"
   },
   {
    "duration": 2077,
    "start_time": "2023-10-12T12:39:19.797Z"
   },
   {
    "duration": 9,
    "start_time": "2023-10-12T12:39:21.876Z"
   },
   {
    "duration": 49,
    "start_time": "2023-10-12T12:39:21.887Z"
   },
   {
    "duration": 12,
    "start_time": "2023-10-12T12:39:21.938Z"
   },
   {
    "duration": 29,
    "start_time": "2023-10-12T12:39:21.952Z"
   },
   {
    "duration": 36,
    "start_time": "2023-10-12T12:39:21.983Z"
   },
   {
    "duration": 14,
    "start_time": "2023-10-12T12:39:22.022Z"
   },
   {
    "duration": 21,
    "start_time": "2023-10-12T12:39:22.038Z"
   },
   {
    "duration": 205,
    "start_time": "2023-10-12T12:39:22.062Z"
   },
   {
    "duration": 10,
    "start_time": "2023-10-12T12:39:22.269Z"
   },
   {
    "duration": 391,
    "start_time": "2023-10-12T12:39:22.280Z"
   },
   {
    "duration": 825,
    "start_time": "2023-10-12T12:39:22.673Z"
   },
   {
    "duration": 287,
    "start_time": "2023-10-12T12:39:23.500Z"
   },
   {
    "duration": 165,
    "start_time": "2023-10-12T12:39:23.790Z"
   },
   {
    "duration": 200,
    "start_time": "2023-10-12T12:39:23.956Z"
   },
   {
    "duration": 217,
    "start_time": "2023-10-12T12:39:24.157Z"
   },
   {
    "duration": 179,
    "start_time": "2023-10-12T12:39:24.376Z"
   },
   {
    "duration": 7,
    "start_time": "2023-10-12T12:39:24.556Z"
   },
   {
    "duration": 26,
    "start_time": "2023-10-12T12:39:24.564Z"
   },
   {
    "duration": 142,
    "start_time": "2023-10-12T12:39:24.591Z"
   },
   {
    "duration": 149,
    "start_time": "2023-10-12T12:39:24.735Z"
   },
   {
    "duration": 165,
    "start_time": "2023-10-12T12:39:24.886Z"
   },
   {
    "duration": 165,
    "start_time": "2023-10-12T12:39:25.052Z"
   },
   {
    "duration": 8,
    "start_time": "2023-10-12T12:39:25.219Z"
   },
   {
    "duration": 139,
    "start_time": "2023-10-12T12:39:25.228Z"
   },
   {
    "duration": 316,
    "start_time": "2023-10-12T12:39:25.369Z"
   },
   {
    "duration": 13,
    "start_time": "2023-10-12T12:39:25.688Z"
   },
   {
    "duration": 193,
    "start_time": "2023-10-12T12:39:25.702Z"
   },
   {
    "duration": 204,
    "start_time": "2023-10-12T12:39:25.897Z"
   },
   {
    "duration": 207,
    "start_time": "2023-10-12T12:39:26.103Z"
   },
   {
    "duration": 189,
    "start_time": "2023-10-12T12:39:26.312Z"
   },
   {
    "duration": 537,
    "start_time": "2023-10-12T12:40:42.416Z"
   },
   {
    "duration": 2180,
    "start_time": "2023-10-12T12:40:42.954Z"
   },
   {
    "duration": 10,
    "start_time": "2023-10-12T12:40:45.136Z"
   },
   {
    "duration": 30,
    "start_time": "2023-10-12T12:40:45.148Z"
   },
   {
    "duration": 13,
    "start_time": "2023-10-12T12:40:45.179Z"
   },
   {
    "duration": 24,
    "start_time": "2023-10-12T12:40:45.193Z"
   },
   {
    "duration": 44,
    "start_time": "2023-10-12T12:40:45.219Z"
   },
   {
    "duration": 8,
    "start_time": "2023-10-12T12:40:45.265Z"
   },
   {
    "duration": 10,
    "start_time": "2023-10-12T12:40:45.275Z"
   },
   {
    "duration": 242,
    "start_time": "2023-10-12T12:40:45.288Z"
   },
   {
    "duration": 17,
    "start_time": "2023-10-12T12:40:45.532Z"
   },
   {
    "duration": 356,
    "start_time": "2023-10-12T12:40:45.551Z"
   },
   {
    "duration": 877,
    "start_time": "2023-10-12T12:40:45.909Z"
   },
   {
    "duration": 314,
    "start_time": "2023-10-12T12:40:46.788Z"
   },
   {
    "duration": 184,
    "start_time": "2023-10-12T12:40:47.104Z"
   },
   {
    "duration": 173,
    "start_time": "2023-10-12T12:40:47.289Z"
   },
   {
    "duration": 188,
    "start_time": "2023-10-12T12:40:47.464Z"
   },
   {
    "duration": 180,
    "start_time": "2023-10-12T12:40:47.654Z"
   },
   {
    "duration": 13,
    "start_time": "2023-10-12T12:40:47.836Z"
   },
   {
    "duration": 39,
    "start_time": "2023-10-12T12:40:47.851Z"
   },
   {
    "duration": 146,
    "start_time": "2023-10-12T12:40:47.892Z"
   },
   {
    "duration": 153,
    "start_time": "2023-10-12T12:40:48.040Z"
   },
   {
    "duration": 163,
    "start_time": "2023-10-12T12:40:48.195Z"
   },
   {
    "duration": 160,
    "start_time": "2023-10-12T12:40:48.360Z"
   },
   {
    "duration": 8,
    "start_time": "2023-10-12T12:40:48.521Z"
   },
   {
    "duration": 148,
    "start_time": "2023-10-12T12:40:48.530Z"
   },
   {
    "duration": 335,
    "start_time": "2023-10-12T12:40:48.680Z"
   },
   {
    "duration": 14,
    "start_time": "2023-10-12T12:40:49.018Z"
   },
   {
    "duration": 206,
    "start_time": "2023-10-12T12:40:49.034Z"
   },
   {
    "duration": 202,
    "start_time": "2023-10-12T12:40:49.243Z"
   },
   {
    "duration": 204,
    "start_time": "2023-10-12T12:40:49.446Z"
   },
   {
    "duration": 166,
    "start_time": "2023-10-12T12:40:49.651Z"
   },
   {
    "duration": 138,
    "start_time": "2023-10-12T12:40:49.818Z"
   },
   {
    "duration": 185,
    "start_time": "2023-10-12T12:40:49.957Z"
   },
   {
    "duration": 537,
    "start_time": "2023-10-12T12:46:56.018Z"
   },
   {
    "duration": 2057,
    "start_time": "2023-10-12T12:46:56.557Z"
   },
   {
    "duration": 10,
    "start_time": "2023-10-12T12:46:58.617Z"
   },
   {
    "duration": 55,
    "start_time": "2023-10-12T12:46:58.629Z"
   },
   {
    "duration": 68,
    "start_time": "2023-10-12T12:46:58.686Z"
   },
   {
    "duration": 42,
    "start_time": "2023-10-12T12:46:58.755Z"
   },
   {
    "duration": 48,
    "start_time": "2023-10-12T12:46:58.799Z"
   },
   {
    "duration": 22,
    "start_time": "2023-10-12T12:46:58.849Z"
   },
   {
    "duration": 53,
    "start_time": "2023-10-12T12:46:58.872Z"
   },
   {
    "duration": 243,
    "start_time": "2023-10-12T12:46:58.928Z"
   },
   {
    "duration": 8,
    "start_time": "2023-10-12T12:46:59.172Z"
   },
   {
    "duration": 383,
    "start_time": "2023-10-12T12:46:59.182Z"
   },
   {
    "duration": 824,
    "start_time": "2023-10-12T12:46:59.566Z"
   },
   {
    "duration": 296,
    "start_time": "2023-10-12T12:47:00.391Z"
   },
   {
    "duration": 170,
    "start_time": "2023-10-12T12:47:00.688Z"
   },
   {
    "duration": 162,
    "start_time": "2023-10-12T12:47:00.859Z"
   },
   {
    "duration": 191,
    "start_time": "2023-10-12T12:47:01.023Z"
   },
   {
    "duration": 169,
    "start_time": "2023-10-12T12:47:01.216Z"
   },
   {
    "duration": 143,
    "start_time": "2023-10-12T12:47:01.386Z"
   },
   {
    "duration": 359,
    "start_time": "2023-10-12T12:47:01.530Z"
   },
   {
    "duration": 240,
    "start_time": "2023-10-12T12:47:01.890Z"
   },
   {
    "duration": 178,
    "start_time": "2023-10-12T12:47:02.132Z"
   },
   {
    "duration": 161,
    "start_time": "2023-10-12T12:47:02.311Z"
   },
   {
    "duration": 246,
    "start_time": "2023-10-12T12:47:02.474Z"
   },
   {
    "duration": 13,
    "start_time": "2023-10-12T12:47:02.721Z"
   },
   {
    "duration": 170,
    "start_time": "2023-10-12T12:47:02.735Z"
   },
   {
    "duration": 324,
    "start_time": "2023-10-12T12:47:02.907Z"
   },
   {
    "duration": 16,
    "start_time": "2023-10-12T12:47:03.234Z"
   },
   {
    "duration": 181,
    "start_time": "2023-10-12T12:47:03.251Z"
   },
   {
    "duration": 191,
    "start_time": "2023-10-12T12:47:03.433Z"
   },
   {
    "duration": 208,
    "start_time": "2023-10-12T12:47:03.625Z"
   },
   {
    "duration": 186,
    "start_time": "2023-10-12T12:47:03.835Z"
   },
   {
    "duration": 485,
    "start_time": "2023-10-12T12:47:40.466Z"
   },
   {
    "duration": 2089,
    "start_time": "2023-10-12T12:47:40.953Z"
   },
   {
    "duration": 9,
    "start_time": "2023-10-12T12:47:43.044Z"
   },
   {
    "duration": 37,
    "start_time": "2023-10-12T12:47:43.056Z"
   },
   {
    "duration": 13,
    "start_time": "2023-10-12T12:47:43.095Z"
   },
   {
    "duration": 52,
    "start_time": "2023-10-12T12:47:43.109Z"
   },
   {
    "duration": 23,
    "start_time": "2023-10-12T12:47:43.163Z"
   },
   {
    "duration": 7,
    "start_time": "2023-10-12T12:47:43.188Z"
   },
   {
    "duration": 10,
    "start_time": "2023-10-12T12:47:43.197Z"
   },
   {
    "duration": 238,
    "start_time": "2023-10-12T12:47:43.209Z"
   },
   {
    "duration": 9,
    "start_time": "2023-10-12T12:47:43.449Z"
   },
   {
    "duration": 386,
    "start_time": "2023-10-12T12:47:43.459Z"
   },
   {
    "duration": 897,
    "start_time": "2023-10-12T12:47:43.847Z"
   },
   {
    "duration": 287,
    "start_time": "2023-10-12T12:47:44.745Z"
   },
   {
    "duration": 186,
    "start_time": "2023-10-12T12:47:45.034Z"
   },
   {
    "duration": 169,
    "start_time": "2023-10-12T12:47:45.221Z"
   },
   {
    "duration": 183,
    "start_time": "2023-10-12T12:47:45.392Z"
   },
   {
    "duration": 178,
    "start_time": "2023-10-12T12:47:45.577Z"
   },
   {
    "duration": 7,
    "start_time": "2023-10-12T12:47:45.757Z"
   },
   {
    "duration": 31,
    "start_time": "2023-10-12T12:47:45.765Z"
   },
   {
    "duration": 149,
    "start_time": "2023-10-12T12:47:45.798Z"
   },
   {
    "duration": 164,
    "start_time": "2023-10-12T12:47:45.949Z"
   },
   {
    "duration": 161,
    "start_time": "2023-10-12T12:47:46.115Z"
   },
   {
    "duration": 175,
    "start_time": "2023-10-12T12:47:46.278Z"
   },
   {
    "duration": 8,
    "start_time": "2023-10-12T12:47:46.455Z"
   },
   {
    "duration": 139,
    "start_time": "2023-10-12T12:47:46.465Z"
   },
   {
    "duration": 321,
    "start_time": "2023-10-12T12:47:46.606Z"
   },
   {
    "duration": 20,
    "start_time": "2023-10-12T12:47:46.931Z"
   },
   {
    "duration": 242,
    "start_time": "2023-10-12T12:47:46.953Z"
   },
   {
    "duration": 221,
    "start_time": "2023-10-12T12:47:47.197Z"
   },
   {
    "duration": 228,
    "start_time": "2023-10-12T12:47:47.420Z"
   },
   {
    "duration": 221,
    "start_time": "2023-10-12T12:47:47.650Z"
   },
   {
    "duration": 41087,
    "start_time": "2023-10-12T12:47:47.872Z"
   },
   {
    "duration": 217,
    "start_time": "2023-10-12T12:48:28.961Z"
   },
   {
    "duration": 227,
    "start_time": "2023-10-12T12:48:29.181Z"
   },
   {
    "duration": 532,
    "start_time": "2023-10-12T12:48:33.753Z"
   },
   {
    "duration": 2099,
    "start_time": "2023-10-12T12:48:34.287Z"
   },
   {
    "duration": 13,
    "start_time": "2023-10-12T12:48:36.388Z"
   },
   {
    "duration": 31,
    "start_time": "2023-10-12T12:48:36.404Z"
   },
   {
    "duration": 12,
    "start_time": "2023-10-12T12:48:36.444Z"
   },
   {
    "duration": 34,
    "start_time": "2023-10-12T12:48:36.458Z"
   },
   {
    "duration": 27,
    "start_time": "2023-10-12T12:48:36.494Z"
   },
   {
    "duration": 29,
    "start_time": "2023-10-12T12:48:36.522Z"
   },
   {
    "duration": 9,
    "start_time": "2023-10-12T12:48:36.553Z"
   },
   {
    "duration": 237,
    "start_time": "2023-10-12T12:48:36.565Z"
   },
   {
    "duration": 8,
    "start_time": "2023-10-12T12:48:36.803Z"
   },
   {
    "duration": 363,
    "start_time": "2023-10-12T12:48:36.812Z"
   },
   {
    "duration": 837,
    "start_time": "2023-10-12T12:48:37.177Z"
   },
   {
    "duration": 292,
    "start_time": "2023-10-12T12:48:38.015Z"
   },
   {
    "duration": 174,
    "start_time": "2023-10-12T12:48:38.309Z"
   },
   {
    "duration": 175,
    "start_time": "2023-10-12T12:48:38.485Z"
   },
   {
    "duration": 205,
    "start_time": "2023-10-12T12:48:38.662Z"
   },
   {
    "duration": 206,
    "start_time": "2023-10-12T12:48:38.868Z"
   },
   {
    "duration": 8,
    "start_time": "2023-10-12T12:48:39.076Z"
   },
   {
    "duration": 37,
    "start_time": "2023-10-12T12:48:39.085Z"
   },
   {
    "duration": 167,
    "start_time": "2023-10-12T12:48:39.124Z"
   },
   {
    "duration": 192,
    "start_time": "2023-10-12T12:48:39.293Z"
   },
   {
    "duration": 176,
    "start_time": "2023-10-12T12:48:39.487Z"
   },
   {
    "duration": 172,
    "start_time": "2023-10-12T12:48:39.665Z"
   },
   {
    "duration": 11,
    "start_time": "2023-10-12T12:48:39.839Z"
   },
   {
    "duration": 143,
    "start_time": "2023-10-12T12:48:39.852Z"
   },
   {
    "duration": 334,
    "start_time": "2023-10-12T12:48:39.996Z"
   },
   {
    "duration": 16,
    "start_time": "2023-10-12T12:48:40.333Z"
   },
   {
    "duration": 185,
    "start_time": "2023-10-12T12:48:40.350Z"
   },
   {
    "duration": 194,
    "start_time": "2023-10-12T12:48:40.543Z"
   },
   {
    "duration": 206,
    "start_time": "2023-10-12T12:48:40.738Z"
   },
   {
    "duration": 249,
    "start_time": "2023-10-12T12:48:40.946Z"
   },
   {
    "duration": 520,
    "start_time": "2023-10-12T12:49:20.563Z"
   },
   {
    "duration": 2061,
    "start_time": "2023-10-12T12:49:21.085Z"
   },
   {
    "duration": 10,
    "start_time": "2023-10-12T12:49:23.148Z"
   },
   {
    "duration": 45,
    "start_time": "2023-10-12T12:49:23.160Z"
   },
   {
    "duration": 27,
    "start_time": "2023-10-12T12:49:23.206Z"
   },
   {
    "duration": 31,
    "start_time": "2023-10-12T12:49:23.234Z"
   },
   {
    "duration": 47,
    "start_time": "2023-10-12T12:49:23.266Z"
   },
   {
    "duration": 23,
    "start_time": "2023-10-12T12:49:23.315Z"
   },
   {
    "duration": 14,
    "start_time": "2023-10-12T12:49:23.339Z"
   },
   {
    "duration": 232,
    "start_time": "2023-10-12T12:49:23.356Z"
   },
   {
    "duration": 8,
    "start_time": "2023-10-12T12:49:23.589Z"
   },
   {
    "duration": 356,
    "start_time": "2023-10-12T12:49:23.599Z"
   },
   {
    "duration": 854,
    "start_time": "2023-10-12T12:49:23.957Z"
   },
   {
    "duration": 292,
    "start_time": "2023-10-12T12:49:24.813Z"
   },
   {
    "duration": 178,
    "start_time": "2023-10-12T12:49:25.107Z"
   },
   {
    "duration": 163,
    "start_time": "2023-10-12T12:49:25.286Z"
   },
   {
    "duration": 191,
    "start_time": "2023-10-12T12:49:25.450Z"
   },
   {
    "duration": 170,
    "start_time": "2023-10-12T12:49:25.642Z"
   },
   {
    "duration": 6,
    "start_time": "2023-10-12T12:49:25.813Z"
   },
   {
    "duration": 31,
    "start_time": "2023-10-12T12:49:25.821Z"
   },
   {
    "duration": 147,
    "start_time": "2023-10-12T12:49:25.854Z"
   },
   {
    "duration": 151,
    "start_time": "2023-10-12T12:49:26.003Z"
   },
   {
    "duration": 168,
    "start_time": "2023-10-12T12:49:26.156Z"
   },
   {
    "duration": 161,
    "start_time": "2023-10-12T12:49:26.325Z"
   },
   {
    "duration": 7,
    "start_time": "2023-10-12T12:49:26.488Z"
   },
   {
    "duration": 146,
    "start_time": "2023-10-12T12:49:26.496Z"
   },
   {
    "duration": 316,
    "start_time": "2023-10-12T12:49:26.644Z"
   },
   {
    "duration": 12,
    "start_time": "2023-10-12T12:49:26.963Z"
   },
   {
    "duration": 193,
    "start_time": "2023-10-12T12:49:26.976Z"
   },
   {
    "duration": 202,
    "start_time": "2023-10-12T12:49:27.171Z"
   },
   {
    "duration": 198,
    "start_time": "2023-10-12T12:49:27.374Z"
   },
   {
    "duration": 194,
    "start_time": "2023-10-12T12:49:27.574Z"
   },
   {
    "duration": 40366,
    "start_time": "2023-10-12T12:49:27.770Z"
   },
   {
    "duration": 197,
    "start_time": "2023-10-12T12:50:08.144Z"
   },
   {
    "duration": 90,
    "start_time": "2023-10-12T12:51:15.429Z"
   },
   {
    "duration": 81,
    "start_time": "2023-10-12T12:51:45.363Z"
   },
   {
    "duration": 91,
    "start_time": "2023-10-12T12:51:50.252Z"
   },
   {
    "duration": 137,
    "start_time": "2023-10-12T12:52:06.019Z"
   },
   {
    "duration": 132,
    "start_time": "2023-10-12T12:52:24.491Z"
   },
   {
    "duration": 142,
    "start_time": "2023-10-12T12:52:33.843Z"
   },
   {
    "duration": 106,
    "start_time": "2023-10-12T12:52:56.858Z"
   },
   {
    "duration": 137,
    "start_time": "2023-10-12T12:53:03.722Z"
   },
   {
    "duration": 142,
    "start_time": "2023-10-12T12:53:14.946Z"
   },
   {
    "duration": 78,
    "start_time": "2023-10-12T12:53:50.578Z"
   },
   {
    "duration": 134,
    "start_time": "2023-10-12T12:54:51.689Z"
   },
   {
    "duration": 135,
    "start_time": "2023-10-12T12:55:05.040Z"
   },
   {
    "duration": 182,
    "start_time": "2023-10-12T12:55:44.071Z"
   },
   {
    "duration": 14,
    "start_time": "2023-10-12T12:56:06.464Z"
   },
   {
    "duration": 10,
    "start_time": "2023-10-12T12:56:22.823Z"
   },
   {
    "duration": 10,
    "start_time": "2023-10-12T12:56:31.231Z"
   },
   {
    "duration": 10,
    "start_time": "2023-10-12T12:56:36.991Z"
   },
   {
    "duration": 11,
    "start_time": "2023-10-12T12:56:50.982Z"
   },
   {
    "duration": 14,
    "start_time": "2023-10-12T12:56:55.313Z"
   },
   {
    "duration": 481,
    "start_time": "2023-10-12T12:57:30.182Z"
   },
   {
    "duration": 2133,
    "start_time": "2023-10-12T12:57:30.665Z"
   },
   {
    "duration": 9,
    "start_time": "2023-10-12T12:57:32.800Z"
   },
   {
    "duration": 77,
    "start_time": "2023-10-12T12:57:32.811Z"
   },
   {
    "duration": 48,
    "start_time": "2023-10-12T12:57:32.889Z"
   },
   {
    "duration": 137,
    "start_time": "2023-10-12T12:57:32.939Z"
   },
   {
    "duration": 45,
    "start_time": "2023-10-12T12:57:33.078Z"
   },
   {
    "duration": 233,
    "start_time": "2023-10-12T12:57:33.126Z"
   },
   {
    "duration": 173,
    "start_time": "2023-10-12T12:57:33.361Z"
   },
   {
    "duration": 381,
    "start_time": "2023-10-12T12:57:33.538Z"
   },
   {
    "duration": 8,
    "start_time": "2023-10-12T12:57:33.920Z"
   },
   {
    "duration": 439,
    "start_time": "2023-10-12T12:57:33.930Z"
   },
   {
    "duration": 856,
    "start_time": "2023-10-12T12:57:34.371Z"
   },
   {
    "duration": 285,
    "start_time": "2023-10-12T12:57:35.229Z"
   },
   {
    "duration": 173,
    "start_time": "2023-10-12T12:57:35.515Z"
   },
   {
    "duration": 159,
    "start_time": "2023-10-12T12:57:35.690Z"
   },
   {
    "duration": 181,
    "start_time": "2023-10-12T12:57:35.850Z"
   },
   {
    "duration": 176,
    "start_time": "2023-10-12T12:57:36.033Z"
   },
   {
    "duration": 7,
    "start_time": "2023-10-12T12:57:36.210Z"
   },
   {
    "duration": 33,
    "start_time": "2023-10-12T12:57:36.218Z"
   },
   {
    "duration": 160,
    "start_time": "2023-10-12T12:57:36.253Z"
   },
   {
    "duration": 157,
    "start_time": "2023-10-12T12:57:36.415Z"
   },
   {
    "duration": 166,
    "start_time": "2023-10-12T12:57:36.574Z"
   },
   {
    "duration": 163,
    "start_time": "2023-10-12T12:57:36.742Z"
   },
   {
    "duration": 7,
    "start_time": "2023-10-12T12:57:36.906Z"
   },
   {
    "duration": 162,
    "start_time": "2023-10-12T12:57:36.914Z"
   },
   {
    "duration": 325,
    "start_time": "2023-10-12T12:57:37.078Z"
   },
   {
    "duration": 12,
    "start_time": "2023-10-12T12:57:37.406Z"
   },
   {
    "duration": 196,
    "start_time": "2023-10-12T12:57:37.419Z"
   },
   {
    "duration": 198,
    "start_time": "2023-10-12T12:57:37.616Z"
   },
   {
    "duration": 201,
    "start_time": "2023-10-12T12:57:37.815Z"
   },
   {
    "duration": 142,
    "start_time": "2023-10-12T12:57:38.017Z"
   },
   {
    "duration": 138,
    "start_time": "2023-10-12T12:57:38.161Z"
   },
   {
    "duration": 480,
    "start_time": "2023-10-12T12:58:11.504Z"
   },
   {
    "duration": 2148,
    "start_time": "2023-10-12T12:58:11.986Z"
   },
   {
    "duration": 13,
    "start_time": "2023-10-12T12:58:14.136Z"
   },
   {
    "duration": 67,
    "start_time": "2023-10-12T12:58:14.152Z"
   },
   {
    "duration": 20,
    "start_time": "2023-10-12T12:58:14.221Z"
   },
   {
    "duration": 40,
    "start_time": "2023-10-12T12:58:14.242Z"
   },
   {
    "duration": 35,
    "start_time": "2023-10-12T12:58:14.284Z"
   },
   {
    "duration": 7,
    "start_time": "2023-10-12T12:58:14.321Z"
   },
   {
    "duration": 22,
    "start_time": "2023-10-12T12:58:14.330Z"
   },
   {
    "duration": 236,
    "start_time": "2023-10-12T12:58:14.356Z"
   },
   {
    "duration": 11,
    "start_time": "2023-10-12T12:58:14.594Z"
   },
   {
    "duration": 366,
    "start_time": "2023-10-12T12:58:14.607Z"
   },
   {
    "duration": 892,
    "start_time": "2023-10-12T12:58:14.975Z"
   },
   {
    "duration": 303,
    "start_time": "2023-10-12T12:58:15.868Z"
   },
   {
    "duration": 196,
    "start_time": "2023-10-12T12:58:16.172Z"
   },
   {
    "duration": 184,
    "start_time": "2023-10-12T12:58:16.369Z"
   },
   {
    "duration": 183,
    "start_time": "2023-10-12T12:58:16.554Z"
   },
   {
    "duration": 172,
    "start_time": "2023-10-12T12:58:16.738Z"
   },
   {
    "duration": 7,
    "start_time": "2023-10-12T12:58:16.911Z"
   },
   {
    "duration": 15,
    "start_time": "2023-10-12T12:58:16.919Z"
   },
   {
    "duration": 185,
    "start_time": "2023-10-12T12:58:16.935Z"
   },
   {
    "duration": 225,
    "start_time": "2023-10-12T12:58:17.121Z"
   },
   {
    "duration": 163,
    "start_time": "2023-10-12T12:58:17.348Z"
   },
   {
    "duration": 165,
    "start_time": "2023-10-12T12:58:17.512Z"
   },
   {
    "duration": 7,
    "start_time": "2023-10-12T12:58:17.679Z"
   },
   {
    "duration": 155,
    "start_time": "2023-10-12T12:58:17.687Z"
   },
   {
    "duration": 319,
    "start_time": "2023-10-12T12:58:17.843Z"
   },
   {
    "duration": 14,
    "start_time": "2023-10-12T12:58:18.165Z"
   },
   {
    "duration": 248,
    "start_time": "2023-10-12T12:58:18.180Z"
   },
   {
    "duration": 206,
    "start_time": "2023-10-12T12:58:18.429Z"
   },
   {
    "duration": 215,
    "start_time": "2023-10-12T12:58:18.644Z"
   },
   {
    "duration": 161,
    "start_time": "2023-10-12T12:58:18.861Z"
   },
   {
    "duration": 156,
    "start_time": "2023-10-12T12:58:19.023Z"
   },
   {
    "duration": 217,
    "start_time": "2023-10-12T12:58:19.181Z"
   },
   {
    "duration": 131,
    "start_time": "2023-10-12T13:01:32.387Z"
   },
   {
    "duration": 19,
    "start_time": "2023-10-12T13:02:47.963Z"
   },
   {
    "duration": 173,
    "start_time": "2023-10-12T13:04:00.875Z"
   },
   {
    "duration": 175,
    "start_time": "2023-10-12T13:04:33.915Z"
   },
   {
    "duration": 197,
    "start_time": "2023-10-12T13:04:57.955Z"
   },
   {
    "duration": 19,
    "start_time": "2023-10-12T13:19:43.277Z"
   },
   {
    "duration": 78,
    "start_time": "2023-10-12T13:20:20.420Z"
   },
   {
    "duration": 8,
    "start_time": "2023-10-12T13:20:33.299Z"
   },
   {
    "duration": 33,
    "start_time": "2023-10-12T13:21:18.115Z"
   },
   {
    "duration": 22,
    "start_time": "2023-10-12T13:21:54.268Z"
   },
   {
    "duration": 24,
    "start_time": "2023-10-12T13:22:12.331Z"
   },
   {
    "duration": 38,
    "start_time": "2023-10-12T13:22:36.962Z"
   },
   {
    "duration": 23,
    "start_time": "2023-10-12T13:22:57.083Z"
   },
   {
    "duration": 17,
    "start_time": "2023-10-12T13:24:32.374Z"
   },
   {
    "duration": 17,
    "start_time": "2023-10-12T13:24:42.417Z"
   },
   {
    "duration": 17,
    "start_time": "2023-10-12T13:25:34.393Z"
   },
   {
    "duration": 21,
    "start_time": "2023-10-12T13:26:02.824Z"
   },
   {
    "duration": 49,
    "start_time": "2023-10-12T13:26:38.544Z"
   },
   {
    "duration": 27,
    "start_time": "2023-10-12T13:27:03.145Z"
   },
   {
    "duration": 15,
    "start_time": "2023-10-12T13:27:25.504Z"
   },
   {
    "duration": 15,
    "start_time": "2023-10-12T13:27:41.695Z"
   },
   {
    "duration": 22,
    "start_time": "2023-10-12T13:33:54.574Z"
   },
   {
    "duration": 12,
    "start_time": "2023-10-12T13:34:24.685Z"
   },
   {
    "duration": 14,
    "start_time": "2023-10-12T13:37:19.721Z"
   },
   {
    "duration": 13,
    "start_time": "2023-10-12T13:42:50.223Z"
   },
   {
    "duration": 8,
    "start_time": "2023-10-12T13:51:00.089Z"
   },
   {
    "duration": 12,
    "start_time": "2023-10-12T13:51:07.104Z"
   },
   {
    "duration": 160,
    "start_time": "2023-10-12T13:54:10.055Z"
   },
   {
    "duration": 155,
    "start_time": "2023-10-12T13:54:27.134Z"
   },
   {
    "duration": 79,
    "start_time": "2023-10-12T13:56:22.341Z"
   },
   {
    "duration": 635,
    "start_time": "2023-10-12T15:00:47.750Z"
   },
   {
    "duration": 4291,
    "start_time": "2023-10-12T15:00:48.387Z"
   },
   {
    "duration": 11,
    "start_time": "2023-10-12T15:00:52.680Z"
   },
   {
    "duration": 94,
    "start_time": "2023-10-12T15:00:52.692Z"
   },
   {
    "duration": 70,
    "start_time": "2023-10-12T15:00:52.789Z"
   },
   {
    "duration": 33,
    "start_time": "2023-10-12T15:00:52.861Z"
   },
   {
    "duration": 87,
    "start_time": "2023-10-12T15:00:52.896Z"
   },
   {
    "duration": 7,
    "start_time": "2023-10-12T15:00:52.985Z"
   },
   {
    "duration": 72,
    "start_time": "2023-10-12T15:00:52.994Z"
   },
   {
    "duration": 490,
    "start_time": "2023-10-12T15:00:53.068Z"
   },
   {
    "duration": 10,
    "start_time": "2023-10-12T15:00:53.559Z"
   },
   {
    "duration": 828,
    "start_time": "2023-10-12T15:00:53.570Z"
   },
   {
    "duration": 1982,
    "start_time": "2023-10-12T15:00:54.400Z"
   },
   {
    "duration": 772,
    "start_time": "2023-10-12T15:00:56.385Z"
   },
   {
    "duration": 320,
    "start_time": "2023-10-12T15:00:57.159Z"
   },
   {
    "duration": 398,
    "start_time": "2023-10-12T15:00:57.481Z"
   },
   {
    "duration": 506,
    "start_time": "2023-10-12T15:00:57.881Z"
   },
   {
    "duration": 494,
    "start_time": "2023-10-12T15:00:58.389Z"
   },
   {
    "duration": 10,
    "start_time": "2023-10-12T15:00:58.886Z"
   },
   {
    "duration": 28,
    "start_time": "2023-10-12T15:00:58.958Z"
   },
   {
    "duration": 415,
    "start_time": "2023-10-12T15:00:58.989Z"
   },
   {
    "duration": 334,
    "start_time": "2023-10-12T15:00:59.456Z"
   },
   {
    "duration": 472,
    "start_time": "2023-10-12T15:00:59.792Z"
   },
   {
    "duration": 403,
    "start_time": "2023-10-12T15:01:00.267Z"
   },
   {
    "duration": 9,
    "start_time": "2023-10-12T15:01:00.672Z"
   },
   {
    "duration": 383,
    "start_time": "2023-10-12T15:01:00.682Z"
   },
   {
    "duration": 809,
    "start_time": "2023-10-12T15:01:01.068Z"
   },
   {
    "duration": 19,
    "start_time": "2023-10-12T15:01:01.879Z"
   },
   {
    "duration": 1175,
    "start_time": "2023-10-12T15:01:01.900Z"
   },
   {
    "duration": 489,
    "start_time": "2023-10-12T15:01:03.078Z"
   },
   {
    "duration": 506,
    "start_time": "2023-10-12T15:01:03.569Z"
   },
   {
    "duration": 384,
    "start_time": "2023-10-12T15:01:04.078Z"
   },
   {
    "duration": 323,
    "start_time": "2023-10-12T15:01:04.464Z"
   },
   {
    "duration": 397,
    "start_time": "2023-10-12T15:01:04.790Z"
   },
   {
    "duration": 393,
    "start_time": "2023-10-12T15:01:05.189Z"
   },
   {
    "duration": 396,
    "start_time": "2023-10-12T15:01:05.584Z"
   },
   {
    "duration": 77,
    "start_time": "2023-10-12T15:01:05.982Z"
   },
   {
    "duration": 431,
    "start_time": "2023-10-12T15:01:06.062Z"
   },
   {
    "duration": 8,
    "start_time": "2023-10-12T15:12:04.124Z"
   },
   {
    "duration": 184,
    "start_time": "2023-10-12T15:17:16.281Z"
   },
   {
    "duration": 844,
    "start_time": "2023-10-13T05:26:36.071Z"
   },
   {
    "duration": 701,
    "start_time": "2023-10-13T05:26:38.550Z"
   },
   {
    "duration": 3,
    "start_time": "2023-10-13T05:30:03.139Z"
   },
   {
    "duration": 170,
    "start_time": "2023-10-13T05:30:04.923Z"
   },
   {
    "duration": 148,
    "start_time": "2023-10-13T05:30:17.413Z"
   },
   {
    "duration": 138,
    "start_time": "2023-10-13T05:30:41.557Z"
   },
   {
    "duration": 29,
    "start_time": "2023-10-13T05:34:53.603Z"
   },
   {
    "duration": 13,
    "start_time": "2023-10-13T05:38:33.711Z"
   },
   {
    "duration": 25,
    "start_time": "2023-10-13T05:38:37.575Z"
   },
   {
    "duration": 9,
    "start_time": "2023-10-13T05:43:16.724Z"
   },
   {
    "duration": 707,
    "start_time": "2023-10-13T05:43:25.475Z"
   },
   {
    "duration": 156,
    "start_time": "2023-10-13T05:43:26.184Z"
   },
   {
    "duration": 1947,
    "start_time": "2023-10-13T05:43:26.342Z"
   },
   {
    "duration": 11,
    "start_time": "2023-10-13T05:43:28.292Z"
   },
   {
    "duration": 26,
    "start_time": "2023-10-13T05:43:28.305Z"
   },
   {
    "duration": 14,
    "start_time": "2023-10-13T05:43:28.332Z"
   },
   {
    "duration": 24,
    "start_time": "2023-10-13T05:43:28.348Z"
   },
   {
    "duration": 49,
    "start_time": "2023-10-13T05:43:28.373Z"
   },
   {
    "duration": 6,
    "start_time": "2023-10-13T05:43:28.424Z"
   },
   {
    "duration": 25,
    "start_time": "2023-10-13T05:43:28.433Z"
   },
   {
    "duration": 226,
    "start_time": "2023-10-13T05:43:28.460Z"
   },
   {
    "duration": 8,
    "start_time": "2023-10-13T05:43:28.688Z"
   },
   {
    "duration": 340,
    "start_time": "2023-10-13T05:43:28.706Z"
   },
   {
    "duration": 852,
    "start_time": "2023-10-13T05:43:29.047Z"
   },
   {
    "duration": 331,
    "start_time": "2023-10-13T05:43:29.901Z"
   },
   {
    "duration": 179,
    "start_time": "2023-10-13T05:43:30.234Z"
   },
   {
    "duration": 182,
    "start_time": "2023-10-13T05:43:30.415Z"
   },
   {
    "duration": 69,
    "start_time": "2023-10-13T05:43:30.598Z"
   },
   {
    "duration": 0,
    "start_time": "2023-10-13T05:43:30.668Z"
   },
   {
    "duration": 0,
    "start_time": "2023-10-13T05:43:30.670Z"
   },
   {
    "duration": 0,
    "start_time": "2023-10-13T05:43:30.671Z"
   },
   {
    "duration": 0,
    "start_time": "2023-10-13T05:43:30.672Z"
   },
   {
    "duration": 0,
    "start_time": "2023-10-13T05:43:30.673Z"
   },
   {
    "duration": 0,
    "start_time": "2023-10-13T05:43:30.674Z"
   },
   {
    "duration": 0,
    "start_time": "2023-10-13T05:43:30.675Z"
   },
   {
    "duration": 0,
    "start_time": "2023-10-13T05:43:30.677Z"
   },
   {
    "duration": 1,
    "start_time": "2023-10-13T05:43:30.677Z"
   },
   {
    "duration": 0,
    "start_time": "2023-10-13T05:43:30.678Z"
   },
   {
    "duration": 0,
    "start_time": "2023-10-13T05:43:30.706Z"
   },
   {
    "duration": 0,
    "start_time": "2023-10-13T05:43:30.709Z"
   },
   {
    "duration": 0,
    "start_time": "2023-10-13T05:43:30.710Z"
   },
   {
    "duration": 0,
    "start_time": "2023-10-13T05:43:30.711Z"
   },
   {
    "duration": 0,
    "start_time": "2023-10-13T05:43:30.713Z"
   },
   {
    "duration": 0,
    "start_time": "2023-10-13T05:43:30.714Z"
   },
   {
    "duration": 0,
    "start_time": "2023-10-13T05:43:30.716Z"
   },
   {
    "duration": 0,
    "start_time": "2023-10-13T05:43:30.717Z"
   },
   {
    "duration": 0,
    "start_time": "2023-10-13T05:43:30.719Z"
   },
   {
    "duration": 0,
    "start_time": "2023-10-13T05:43:30.720Z"
   },
   {
    "duration": 0,
    "start_time": "2023-10-13T05:43:30.722Z"
   },
   {
    "duration": 8,
    "start_time": "2023-10-13T05:43:54.139Z"
   },
   {
    "duration": 1493,
    "start_time": "2023-10-13T05:44:00.285Z"
   },
   {
    "duration": 182,
    "start_time": "2023-10-13T05:48:25.170Z"
   },
   {
    "duration": 174,
    "start_time": "2023-10-13T05:48:33.466Z"
   },
   {
    "duration": 222,
    "start_time": "2023-10-13T05:48:46.241Z"
   },
   {
    "duration": 655,
    "start_time": "2023-10-13T05:48:51.941Z"
   },
   {
    "duration": 151,
    "start_time": "2023-10-13T05:48:52.598Z"
   },
   {
    "duration": 1836,
    "start_time": "2023-10-13T05:48:52.750Z"
   },
   {
    "duration": 11,
    "start_time": "2023-10-13T05:48:54.588Z"
   },
   {
    "duration": 47,
    "start_time": "2023-10-13T05:48:54.600Z"
   },
   {
    "duration": 18,
    "start_time": "2023-10-13T05:48:54.649Z"
   },
   {
    "duration": 24,
    "start_time": "2023-10-13T05:48:54.669Z"
   },
   {
    "duration": 31,
    "start_time": "2023-10-13T05:48:54.694Z"
   },
   {
    "duration": 17,
    "start_time": "2023-10-13T05:48:54.727Z"
   },
   {
    "duration": 21,
    "start_time": "2023-10-13T05:48:54.747Z"
   },
   {
    "duration": 228,
    "start_time": "2023-10-13T05:48:54.770Z"
   },
   {
    "duration": 10,
    "start_time": "2023-10-13T05:48:54.999Z"
   },
   {
    "duration": 357,
    "start_time": "2023-10-13T05:48:55.011Z"
   },
   {
    "duration": 903,
    "start_time": "2023-10-13T05:48:55.370Z"
   },
   {
    "duration": 285,
    "start_time": "2023-10-13T05:48:56.275Z"
   },
   {
    "duration": 170,
    "start_time": "2023-10-13T05:48:56.561Z"
   },
   {
    "duration": 175,
    "start_time": "2023-10-13T05:48:56.732Z"
   },
   {
    "duration": 207,
    "start_time": "2023-10-13T05:48:56.908Z"
   },
   {
    "duration": 191,
    "start_time": "2023-10-13T05:48:57.117Z"
   },
   {
    "duration": 8,
    "start_time": "2023-10-13T05:48:57.310Z"
   },
   {
    "duration": 43,
    "start_time": "2023-10-13T05:48:57.319Z"
   },
   {
    "duration": 151,
    "start_time": "2023-10-13T05:48:57.364Z"
   },
   {
    "duration": 161,
    "start_time": "2023-10-13T05:48:57.517Z"
   },
   {
    "duration": 164,
    "start_time": "2023-10-13T05:48:57.680Z"
   },
   {
    "duration": 163,
    "start_time": "2023-10-13T05:48:57.846Z"
   },
   {
    "duration": 7,
    "start_time": "2023-10-13T05:48:58.010Z"
   },
   {
    "duration": 214,
    "start_time": "2023-10-13T05:48:58.019Z"
   },
   {
    "duration": 234,
    "start_time": "2023-10-13T05:48:58.236Z"
   },
   {
    "duration": 19,
    "start_time": "2023-10-13T05:48:58.472Z"
   },
   {
    "duration": 174,
    "start_time": "2023-10-13T05:48:58.506Z"
   },
   {
    "duration": 199,
    "start_time": "2023-10-13T05:48:58.682Z"
   },
   {
    "duration": 198,
    "start_time": "2023-10-13T05:48:58.883Z"
   },
   {
    "duration": 146,
    "start_time": "2023-10-13T05:48:59.082Z"
   },
   {
    "duration": 134,
    "start_time": "2023-10-13T05:48:59.229Z"
   },
   {
    "duration": 165,
    "start_time": "2023-10-13T05:48:59.365Z"
   },
   {
    "duration": 152,
    "start_time": "2023-10-13T05:48:59.531Z"
   },
   {
    "duration": 139,
    "start_time": "2023-10-13T05:48:59.685Z"
   },
   {
    "duration": 13,
    "start_time": "2023-10-13T05:48:59.826Z"
   },
   {
    "duration": 229,
    "start_time": "2023-10-13T05:48:59.840Z"
   },
   {
    "duration": 764,
    "start_time": "2023-10-13T05:49:19.962Z"
   },
   {
    "duration": 83,
    "start_time": "2023-10-13T05:50:24.402Z"
   },
   {
    "duration": 123,
    "start_time": "2023-10-13T05:50:30.271Z"
   },
   {
    "duration": 66,
    "start_time": "2023-10-13T05:52:12.342Z"
   },
   {
    "duration": 4,
    "start_time": "2023-10-13T05:52:48.238Z"
   },
   {
    "duration": 8,
    "start_time": "2023-10-13T05:53:44.053Z"
   },
   {
    "duration": 4,
    "start_time": "2023-10-13T05:53:55.629Z"
   },
   {
    "duration": 123,
    "start_time": "2023-10-13T05:55:00.443Z"
   },
   {
    "duration": 4,
    "start_time": "2023-10-13T05:55:17.084Z"
   },
   {
    "duration": 8,
    "start_time": "2023-10-13T05:55:38.012Z"
   },
   {
    "duration": 4,
    "start_time": "2023-10-13T05:55:47.340Z"
   },
   {
    "duration": 4,
    "start_time": "2023-10-13T05:55:49.915Z"
   },
   {
    "duration": 4,
    "start_time": "2023-10-13T05:56:13.547Z"
   },
   {
    "duration": 10,
    "start_time": "2023-10-13T06:03:18.742Z"
   },
   {
    "duration": 22,
    "start_time": "2023-10-13T06:04:14.790Z"
   },
   {
    "duration": 24,
    "start_time": "2023-10-13T06:04:45.550Z"
   },
   {
    "duration": 20,
    "start_time": "2023-10-13T06:04:55.366Z"
   },
   {
    "duration": 18,
    "start_time": "2023-10-13T06:05:02.549Z"
   },
   {
    "duration": 14,
    "start_time": "2023-10-13T06:05:06.486Z"
   },
   {
    "duration": 5,
    "start_time": "2023-10-13T06:05:20.886Z"
   },
   {
    "duration": 612,
    "start_time": "2023-10-13T06:05:27.447Z"
   },
   {
    "duration": 153,
    "start_time": "2023-10-13T06:05:28.061Z"
   },
   {
    "duration": 1906,
    "start_time": "2023-10-13T06:05:28.216Z"
   },
   {
    "duration": 13,
    "start_time": "2023-10-13T06:05:30.125Z"
   },
   {
    "duration": 70,
    "start_time": "2023-10-13T06:05:30.140Z"
   },
   {
    "duration": 33,
    "start_time": "2023-10-13T06:05:30.212Z"
   },
   {
    "duration": 64,
    "start_time": "2023-10-13T06:05:30.247Z"
   },
   {
    "duration": 61,
    "start_time": "2023-10-13T06:05:30.313Z"
   },
   {
    "duration": 36,
    "start_time": "2023-10-13T06:05:30.375Z"
   },
   {
    "duration": 25,
    "start_time": "2023-10-13T06:05:30.414Z"
   },
   {
    "duration": 226,
    "start_time": "2023-10-13T06:05:30.441Z"
   },
   {
    "duration": 9,
    "start_time": "2023-10-13T06:05:30.669Z"
   },
   {
    "duration": 427,
    "start_time": "2023-10-13T06:05:30.680Z"
   },
   {
    "duration": 135,
    "start_time": "2023-10-13T06:05:31.109Z"
   },
   {
    "duration": 218,
    "start_time": "2023-10-13T06:05:31.246Z"
   },
   {
    "duration": 187,
    "start_time": "2023-10-13T06:05:31.465Z"
   },
   {
    "duration": 285,
    "start_time": "2023-10-13T06:05:31.654Z"
   },
   {
    "duration": 216,
    "start_time": "2023-10-13T06:05:31.941Z"
   },
   {
    "duration": 209,
    "start_time": "2023-10-13T06:05:32.159Z"
   },
   {
    "duration": 9,
    "start_time": "2023-10-13T06:05:32.370Z"
   },
   {
    "duration": 35,
    "start_time": "2023-10-13T06:05:32.380Z"
   },
   {
    "duration": 169,
    "start_time": "2023-10-13T06:05:32.417Z"
   },
   {
    "duration": 152,
    "start_time": "2023-10-13T06:05:32.587Z"
   },
   {
    "duration": 161,
    "start_time": "2023-10-13T06:05:32.741Z"
   },
   {
    "duration": 170,
    "start_time": "2023-10-13T06:05:32.904Z"
   },
   {
    "duration": 7,
    "start_time": "2023-10-13T06:05:33.076Z"
   },
   {
    "duration": 144,
    "start_time": "2023-10-13T06:05:33.085Z"
   },
   {
    "duration": 14,
    "start_time": "2023-10-13T06:05:33.232Z"
   },
   {
    "duration": 31,
    "start_time": "2023-10-13T06:05:33.248Z"
   },
   {
    "duration": 255,
    "start_time": "2023-10-13T06:05:33.281Z"
   },
   {
    "duration": 19,
    "start_time": "2023-10-13T06:05:33.537Z"
   },
   {
    "duration": 267,
    "start_time": "2023-10-13T06:05:33.557Z"
   },
   {
    "duration": 194,
    "start_time": "2023-10-13T06:05:33.826Z"
   },
   {
    "duration": 203,
    "start_time": "2023-10-13T06:05:34.022Z"
   },
   {
    "duration": 141,
    "start_time": "2023-10-13T06:05:34.226Z"
   },
   {
    "duration": 135,
    "start_time": "2023-10-13T06:05:34.369Z"
   },
   {
    "duration": 155,
    "start_time": "2023-10-13T06:05:34.507Z"
   },
   {
    "duration": 153,
    "start_time": "2023-10-13T06:05:34.664Z"
   },
   {
    "duration": 143,
    "start_time": "2023-10-13T06:05:34.819Z"
   },
   {
    "duration": 16,
    "start_time": "2023-10-13T06:05:34.964Z"
   },
   {
    "duration": 172,
    "start_time": "2023-10-13T06:05:34.981Z"
   },
   {
    "duration": 2,
    "start_time": "2023-10-13T06:06:32.029Z"
   },
   {
    "duration": 17,
    "start_time": "2023-10-13T06:18:59.846Z"
   },
   {
    "duration": 16,
    "start_time": "2023-10-13T06:19:16.477Z"
   },
   {
    "duration": 10,
    "start_time": "2023-10-13T06:19:24.772Z"
   },
   {
    "duration": 15,
    "start_time": "2023-10-13T06:19:27.637Z"
   },
   {
    "duration": 624,
    "start_time": "2023-10-13T06:19:41.635Z"
   },
   {
    "duration": 160,
    "start_time": "2023-10-13T06:19:42.260Z"
   },
   {
    "duration": 1933,
    "start_time": "2023-10-13T06:19:42.421Z"
   },
   {
    "duration": 11,
    "start_time": "2023-10-13T06:19:44.356Z"
   },
   {
    "duration": 27,
    "start_time": "2023-10-13T06:19:44.370Z"
   },
   {
    "duration": 14,
    "start_time": "2023-10-13T06:19:44.399Z"
   },
   {
    "duration": 24,
    "start_time": "2023-10-13T06:19:44.414Z"
   },
   {
    "duration": 39,
    "start_time": "2023-10-13T06:19:44.440Z"
   },
   {
    "duration": 7,
    "start_time": "2023-10-13T06:19:44.481Z"
   },
   {
    "duration": 8,
    "start_time": "2023-10-13T06:19:44.489Z"
   },
   {
    "duration": 221,
    "start_time": "2023-10-13T06:19:44.507Z"
   },
   {
    "duration": 7,
    "start_time": "2023-10-13T06:19:44.730Z"
   },
   {
    "duration": 343,
    "start_time": "2023-10-13T06:19:44.739Z"
   },
   {
    "duration": 127,
    "start_time": "2023-10-13T06:19:45.086Z"
   },
   {
    "duration": 207,
    "start_time": "2023-10-13T06:19:45.214Z"
   },
   {
    "duration": 186,
    "start_time": "2023-10-13T06:19:45.422Z"
   },
   {
    "duration": 258,
    "start_time": "2023-10-13T06:19:45.609Z"
   },
   {
    "duration": 245,
    "start_time": "2023-10-13T06:19:45.869Z"
   },
   {
    "duration": 244,
    "start_time": "2023-10-13T06:19:46.116Z"
   },
   {
    "duration": 7,
    "start_time": "2023-10-13T06:19:46.362Z"
   },
   {
    "duration": 140,
    "start_time": "2023-10-13T06:19:46.371Z"
   },
   {
    "duration": 170,
    "start_time": "2023-10-13T06:19:46.515Z"
   },
   {
    "duration": 173,
    "start_time": "2023-10-13T06:19:46.687Z"
   },
   {
    "duration": 192,
    "start_time": "2023-10-13T06:19:46.862Z"
   },
   {
    "duration": 209,
    "start_time": "2023-10-13T06:19:47.056Z"
   },
   {
    "duration": 8,
    "start_time": "2023-10-13T06:19:47.266Z"
   },
   {
    "duration": 170,
    "start_time": "2023-10-13T06:19:47.275Z"
   },
   {
    "duration": 14,
    "start_time": "2023-10-13T06:19:47.447Z"
   },
   {
    "duration": 25,
    "start_time": "2023-10-13T06:19:47.462Z"
   },
   {
    "duration": 21,
    "start_time": "2023-10-13T06:19:47.489Z"
   },
   {
    "duration": 274,
    "start_time": "2023-10-13T06:19:47.514Z"
   },
   {
    "duration": 2,
    "start_time": "2023-10-13T06:19:47.790Z"
   },
   {
    "duration": 303,
    "start_time": "2023-10-13T06:19:47.794Z"
   },
   {
    "duration": 209,
    "start_time": "2023-10-13T06:19:48.098Z"
   },
   {
    "duration": 206,
    "start_time": "2023-10-13T06:19:48.309Z"
   },
   {
    "duration": 159,
    "start_time": "2023-10-13T06:19:48.516Z"
   },
   {
    "duration": 138,
    "start_time": "2023-10-13T06:19:48.677Z"
   },
   {
    "duration": 152,
    "start_time": "2023-10-13T06:19:48.817Z"
   },
   {
    "duration": 145,
    "start_time": "2023-10-13T06:19:48.970Z"
   },
   {
    "duration": 134,
    "start_time": "2023-10-13T06:19:49.116Z"
   },
   {
    "duration": 12,
    "start_time": "2023-10-13T06:19:49.254Z"
   },
   {
    "duration": 173,
    "start_time": "2023-10-13T06:19:49.268Z"
   },
   {
    "duration": 13,
    "start_time": "2023-10-13T06:21:38.499Z"
   },
   {
    "duration": 12,
    "start_time": "2023-10-13T06:22:19.538Z"
   },
   {
    "duration": 81,
    "start_time": "2023-10-13T06:22:42.361Z"
   },
   {
    "duration": 9,
    "start_time": "2023-10-13T06:23:22.242Z"
   },
   {
    "duration": 15,
    "start_time": "2023-10-13T06:24:03.098Z"
   },
   {
    "duration": 8,
    "start_time": "2023-10-13T06:25:24.879Z"
   },
   {
    "duration": 8,
    "start_time": "2023-10-13T06:25:43.938Z"
   },
   {
    "duration": 13,
    "start_time": "2023-10-13T06:25:49.303Z"
   },
   {
    "duration": 12,
    "start_time": "2023-10-13T06:27:41.783Z"
   },
   {
    "duration": 9,
    "start_time": "2023-10-13T06:28:04.392Z"
   },
   {
    "duration": 4,
    "start_time": "2023-10-13T06:28:32.922Z"
   },
   {
    "duration": 28,
    "start_time": "2023-10-13T06:29:44.429Z"
   },
   {
    "duration": 19,
    "start_time": "2023-10-13T06:30:15.543Z"
   },
   {
    "duration": 16,
    "start_time": "2023-10-13T06:30:18.221Z"
   },
   {
    "duration": 18,
    "start_time": "2023-10-13T06:31:11.843Z"
   },
   {
    "duration": 9,
    "start_time": "2023-10-13T06:31:13.798Z"
   },
   {
    "duration": 17,
    "start_time": "2023-10-13T06:31:54.163Z"
   },
   {
    "duration": 655,
    "start_time": "2023-10-13T06:32:14.654Z"
   },
   {
    "duration": 155,
    "start_time": "2023-10-13T06:32:15.311Z"
   },
   {
    "duration": 2047,
    "start_time": "2023-10-13T06:32:15.467Z"
   },
   {
    "duration": 9,
    "start_time": "2023-10-13T06:32:17.516Z"
   },
   {
    "duration": 51,
    "start_time": "2023-10-13T06:32:17.526Z"
   },
   {
    "duration": 14,
    "start_time": "2023-10-13T06:32:17.578Z"
   },
   {
    "duration": 29,
    "start_time": "2023-10-13T06:32:17.593Z"
   },
   {
    "duration": 23,
    "start_time": "2023-10-13T06:32:17.624Z"
   },
   {
    "duration": 8,
    "start_time": "2023-10-13T06:32:17.649Z"
   },
   {
    "duration": 25,
    "start_time": "2023-10-13T06:32:17.660Z"
   },
   {
    "duration": 246,
    "start_time": "2023-10-13T06:32:17.687Z"
   },
   {
    "duration": 8,
    "start_time": "2023-10-13T06:32:17.934Z"
   },
   {
    "duration": 372,
    "start_time": "2023-10-13T06:32:17.944Z"
   },
   {
    "duration": 132,
    "start_time": "2023-10-13T06:32:18.317Z"
   },
   {
    "duration": 206,
    "start_time": "2023-10-13T06:32:18.450Z"
   },
   {
    "duration": 173,
    "start_time": "2023-10-13T06:32:18.658Z"
   },
   {
    "duration": 256,
    "start_time": "2023-10-13T06:32:18.833Z"
   },
   {
    "duration": 193,
    "start_time": "2023-10-13T06:32:19.090Z"
   },
   {
    "duration": 194,
    "start_time": "2023-10-13T06:32:19.284Z"
   },
   {
    "duration": 9,
    "start_time": "2023-10-13T06:32:19.480Z"
   },
   {
    "duration": 28,
    "start_time": "2023-10-13T06:32:19.490Z"
   },
   {
    "duration": 151,
    "start_time": "2023-10-13T06:32:19.519Z"
   },
   {
    "duration": 167,
    "start_time": "2023-10-13T06:32:19.671Z"
   },
   {
    "duration": 167,
    "start_time": "2023-10-13T06:32:19.839Z"
   },
   {
    "duration": 182,
    "start_time": "2023-10-13T06:32:20.008Z"
   },
   {
    "duration": 16,
    "start_time": "2023-10-13T06:32:20.192Z"
   },
   {
    "duration": 145,
    "start_time": "2023-10-13T06:32:20.209Z"
   },
   {
    "duration": 83,
    "start_time": "2023-10-13T06:32:20.357Z"
   },
   {
    "duration": 0,
    "start_time": "2023-10-13T06:32:20.441Z"
   },
   {
    "duration": 0,
    "start_time": "2023-10-13T06:32:20.442Z"
   },
   {
    "duration": 0,
    "start_time": "2023-10-13T06:32:20.443Z"
   },
   {
    "duration": 0,
    "start_time": "2023-10-13T06:32:20.444Z"
   },
   {
    "duration": 0,
    "start_time": "2023-10-13T06:32:20.445Z"
   },
   {
    "duration": 0,
    "start_time": "2023-10-13T06:32:20.446Z"
   },
   {
    "duration": 0,
    "start_time": "2023-10-13T06:32:20.447Z"
   },
   {
    "duration": 0,
    "start_time": "2023-10-13T06:32:20.449Z"
   },
   {
    "duration": 0,
    "start_time": "2023-10-13T06:32:20.450Z"
   },
   {
    "duration": 0,
    "start_time": "2023-10-13T06:32:20.451Z"
   },
   {
    "duration": 0,
    "start_time": "2023-10-13T06:32:20.452Z"
   },
   {
    "duration": 0,
    "start_time": "2023-10-13T06:32:20.453Z"
   },
   {
    "duration": 0,
    "start_time": "2023-10-13T06:32:20.454Z"
   },
   {
    "duration": 0,
    "start_time": "2023-10-13T06:32:20.455Z"
   },
   {
    "duration": 0,
    "start_time": "2023-10-13T06:32:20.456Z"
   },
   {
    "duration": 0,
    "start_time": "2023-10-13T06:32:20.457Z"
   },
   {
    "duration": 0,
    "start_time": "2023-10-13T06:32:20.458Z"
   },
   {
    "duration": 0,
    "start_time": "2023-10-13T06:32:20.460Z"
   },
   {
    "duration": 132,
    "start_time": "2023-10-13T06:33:56.353Z"
   },
   {
    "duration": 114,
    "start_time": "2023-10-13T06:34:25.489Z"
   },
   {
    "duration": 192,
    "start_time": "2023-10-13T06:37:21.671Z"
   },
   {
    "duration": 117,
    "start_time": "2023-10-13T06:37:32.806Z"
   },
   {
    "duration": 125,
    "start_time": "2023-10-13T06:37:38.190Z"
   },
   {
    "duration": 128,
    "start_time": "2023-10-13T06:37:45.240Z"
   },
   {
    "duration": 131,
    "start_time": "2023-10-13T06:37:50.286Z"
   },
   {
    "duration": 125,
    "start_time": "2023-10-13T06:37:59.183Z"
   },
   {
    "duration": 137,
    "start_time": "2023-10-13T06:38:16.751Z"
   },
   {
    "duration": 172,
    "start_time": "2023-10-13T06:40:37.221Z"
   },
   {
    "duration": 110,
    "start_time": "2023-10-13T06:40:49.573Z"
   },
   {
    "duration": 134,
    "start_time": "2023-10-13T06:41:04.261Z"
   },
   {
    "duration": 371,
    "start_time": "2023-10-13T06:41:46.093Z"
   },
   {
    "duration": 151,
    "start_time": "2023-10-13T06:41:56.588Z"
   },
   {
    "duration": 217,
    "start_time": "2023-10-13T06:42:25.174Z"
   },
   {
    "duration": 23,
    "start_time": "2023-10-13T06:42:50.115Z"
   },
   {
    "duration": 151,
    "start_time": "2023-10-13T06:42:52.283Z"
   },
   {
    "duration": 121,
    "start_time": "2023-10-13T06:43:00.299Z"
   },
   {
    "duration": 9,
    "start_time": "2023-10-13T06:43:12.987Z"
   },
   {
    "duration": 99,
    "start_time": "2023-10-13T06:43:19.051Z"
   },
   {
    "duration": 98,
    "start_time": "2023-10-13T06:47:04.074Z"
   },
   {
    "duration": 8,
    "start_time": "2023-10-13T06:47:17.568Z"
   },
   {
    "duration": 114,
    "start_time": "2023-10-13T06:47:51.184Z"
   },
   {
    "duration": 9,
    "start_time": "2023-10-13T06:47:58.688Z"
   },
   {
    "duration": 126,
    "start_time": "2023-10-13T06:48:30.943Z"
   },
   {
    "duration": 10,
    "start_time": "2023-10-13T06:51:46.781Z"
   },
   {
    "duration": 147,
    "start_time": "2023-10-13T06:52:26.397Z"
   },
   {
    "duration": 12,
    "start_time": "2023-10-13T06:52:31.085Z"
   },
   {
    "duration": 103,
    "start_time": "2023-10-13T06:52:50.904Z"
   },
   {
    "duration": 4,
    "start_time": "2023-10-13T06:53:53.379Z"
   },
   {
    "duration": 73,
    "start_time": "2023-10-13T06:54:45.154Z"
   },
   {
    "duration": 629,
    "start_time": "2023-10-13T07:04:38.540Z"
   },
   {
    "duration": 169,
    "start_time": "2023-10-13T07:04:39.171Z"
   },
   {
    "duration": 1924,
    "start_time": "2023-10-13T07:04:39.342Z"
   },
   {
    "duration": 11,
    "start_time": "2023-10-13T07:04:41.268Z"
   },
   {
    "duration": 43,
    "start_time": "2023-10-13T07:04:41.281Z"
   },
   {
    "duration": 33,
    "start_time": "2023-10-13T07:04:41.325Z"
   },
   {
    "duration": 25,
    "start_time": "2023-10-13T07:04:41.360Z"
   },
   {
    "duration": 38,
    "start_time": "2023-10-13T07:04:41.387Z"
   },
   {
    "duration": 6,
    "start_time": "2023-10-13T07:04:41.427Z"
   },
   {
    "duration": 11,
    "start_time": "2023-10-13T07:04:41.435Z"
   },
   {
    "duration": 243,
    "start_time": "2023-10-13T07:04:41.447Z"
   },
   {
    "duration": 15,
    "start_time": "2023-10-13T07:04:41.691Z"
   },
   {
    "duration": 389,
    "start_time": "2023-10-13T07:04:41.708Z"
   },
   {
    "duration": 122,
    "start_time": "2023-10-13T07:04:42.098Z"
   },
   {
    "duration": 211,
    "start_time": "2023-10-13T07:04:42.222Z"
   },
   {
    "duration": 177,
    "start_time": "2023-10-13T07:04:42.434Z"
   },
   {
    "duration": 260,
    "start_time": "2023-10-13T07:04:42.612Z"
   },
   {
    "duration": 203,
    "start_time": "2023-10-13T07:04:42.874Z"
   },
   {
    "duration": 176,
    "start_time": "2023-10-13T07:04:43.079Z"
   },
   {
    "duration": 7,
    "start_time": "2023-10-13T07:04:43.257Z"
   },
   {
    "duration": 14,
    "start_time": "2023-10-13T07:04:43.265Z"
   },
   {
    "duration": 161,
    "start_time": "2023-10-13T07:04:43.281Z"
   },
   {
    "duration": 155,
    "start_time": "2023-10-13T07:04:43.444Z"
   },
   {
    "duration": 165,
    "start_time": "2023-10-13T07:04:43.601Z"
   },
   {
    "duration": 166,
    "start_time": "2023-10-13T07:04:43.768Z"
   },
   {
    "duration": 7,
    "start_time": "2023-10-13T07:04:43.936Z"
   },
   {
    "duration": 139,
    "start_time": "2023-10-13T07:04:43.944Z"
   },
   {
    "duration": 22,
    "start_time": "2023-10-13T07:04:44.086Z"
   },
   {
    "duration": 118,
    "start_time": "2023-10-13T07:04:44.109Z"
   },
   {
    "duration": 8,
    "start_time": "2023-10-13T07:04:44.229Z"
   },
   {
    "duration": 116,
    "start_time": "2023-10-13T07:04:44.239Z"
   },
   {
    "duration": 9,
    "start_time": "2023-10-13T07:04:44.357Z"
   },
   {
    "duration": 193,
    "start_time": "2023-10-13T07:04:44.368Z"
   },
   {
    "duration": 10,
    "start_time": "2023-10-13T07:04:44.563Z"
   },
   {
    "duration": 113,
    "start_time": "2023-10-13T07:04:44.574Z"
   },
   {
    "duration": 19,
    "start_time": "2023-10-13T07:04:44.688Z"
   },
   {
    "duration": 102,
    "start_time": "2023-10-13T07:04:44.709Z"
   },
   {
    "duration": 8,
    "start_time": "2023-10-13T07:04:44.813Z"
   },
   {
    "duration": 126,
    "start_time": "2023-10-13T07:04:44.823Z"
   },
   {
    "duration": 5,
    "start_time": "2023-10-13T07:04:44.951Z"
   },
   {
    "duration": 264,
    "start_time": "2023-10-13T07:04:44.958Z"
   },
   {
    "duration": 3,
    "start_time": "2023-10-13T07:04:45.224Z"
   },
   {
    "duration": 201,
    "start_time": "2023-10-13T07:04:45.229Z"
   },
   {
    "duration": 200,
    "start_time": "2023-10-13T07:04:45.432Z"
   },
   {
    "duration": 200,
    "start_time": "2023-10-13T07:04:45.634Z"
   },
   {
    "duration": 166,
    "start_time": "2023-10-13T07:04:45.836Z"
   },
   {
    "duration": 178,
    "start_time": "2023-10-13T07:04:46.004Z"
   },
   {
    "duration": 245,
    "start_time": "2023-10-13T07:04:46.184Z"
   },
   {
    "duration": 156,
    "start_time": "2023-10-13T07:04:46.430Z"
   },
   {
    "duration": 147,
    "start_time": "2023-10-13T07:04:46.587Z"
   },
   {
    "duration": 12,
    "start_time": "2023-10-13T07:04:46.736Z"
   },
   {
    "duration": 201,
    "start_time": "2023-10-13T07:04:46.750Z"
   },
   {
    "duration": 724,
    "start_time": "2023-10-13T08:09:58.335Z"
   },
   {
    "duration": 179,
    "start_time": "2023-10-13T08:09:59.061Z"
   },
   {
    "duration": 2218,
    "start_time": "2023-10-13T08:09:59.241Z"
   },
   {
    "duration": 11,
    "start_time": "2023-10-13T08:10:01.462Z"
   },
   {
    "duration": 93,
    "start_time": "2023-10-13T08:10:01.475Z"
   },
   {
    "duration": 105,
    "start_time": "2023-10-13T08:10:01.570Z"
   },
   {
    "duration": 67,
    "start_time": "2023-10-13T08:10:01.677Z"
   },
   {
    "duration": 67,
    "start_time": "2023-10-13T08:10:01.746Z"
   },
   {
    "duration": 16,
    "start_time": "2023-10-13T08:10:01.815Z"
   },
   {
    "duration": 67,
    "start_time": "2023-10-13T08:10:01.835Z"
   },
   {
    "duration": 340,
    "start_time": "2023-10-13T08:10:01.904Z"
   },
   {
    "duration": 252,
    "start_time": "2023-10-13T08:10:02.246Z"
   },
   {
    "duration": 641,
    "start_time": "2023-10-13T08:10:02.500Z"
   },
   {
    "duration": 148,
    "start_time": "2023-10-13T08:10:03.146Z"
   },
   {
    "duration": 241,
    "start_time": "2023-10-13T08:10:03.296Z"
   },
   {
    "duration": 210,
    "start_time": "2023-10-13T08:10:03.539Z"
   },
   {
    "duration": 305,
    "start_time": "2023-10-13T08:10:03.750Z"
   },
   {
    "duration": 245,
    "start_time": "2023-10-13T08:10:04.057Z"
   },
   {
    "duration": 207,
    "start_time": "2023-10-13T08:10:04.304Z"
   },
   {
    "duration": 7,
    "start_time": "2023-10-13T08:10:04.513Z"
   },
   {
    "duration": 32,
    "start_time": "2023-10-13T08:10:04.522Z"
   },
   {
    "duration": 163,
    "start_time": "2023-10-13T08:10:04.555Z"
   },
   {
    "duration": 186,
    "start_time": "2023-10-13T08:10:04.720Z"
   },
   {
    "duration": 186,
    "start_time": "2023-10-13T08:10:04.908Z"
   },
   {
    "duration": 237,
    "start_time": "2023-10-13T08:10:05.096Z"
   },
   {
    "duration": 15,
    "start_time": "2023-10-13T08:10:05.336Z"
   },
   {
    "duration": 182,
    "start_time": "2023-10-13T08:10:05.354Z"
   },
   {
    "duration": 20,
    "start_time": "2023-10-13T08:10:05.540Z"
   },
   {
    "duration": 156,
    "start_time": "2023-10-13T08:10:05.562Z"
   },
   {
    "duration": 9,
    "start_time": "2023-10-13T08:10:05.720Z"
   },
   {
    "duration": 138,
    "start_time": "2023-10-13T08:10:05.731Z"
   },
   {
    "duration": 10,
    "start_time": "2023-10-13T08:10:05.872Z"
   },
   {
    "duration": 293,
    "start_time": "2023-10-13T08:10:05.883Z"
   },
   {
    "duration": 10,
    "start_time": "2023-10-13T08:10:06.177Z"
   },
   {
    "duration": 172,
    "start_time": "2023-10-13T08:10:06.189Z"
   },
   {
    "duration": 18,
    "start_time": "2023-10-13T08:10:06.362Z"
   },
   {
    "duration": 404,
    "start_time": "2023-10-13T08:10:06.381Z"
   },
   {
    "duration": 11,
    "start_time": "2023-10-13T08:10:06.786Z"
   },
   {
    "duration": 140,
    "start_time": "2023-10-13T08:10:06.798Z"
   },
   {
    "duration": 5,
    "start_time": "2023-10-13T08:10:06.947Z"
   },
   {
    "duration": 295,
    "start_time": "2023-10-13T08:10:06.954Z"
   },
   {
    "duration": 3,
    "start_time": "2023-10-13T08:10:07.251Z"
   },
   {
    "duration": 228,
    "start_time": "2023-10-13T08:10:07.256Z"
   },
   {
    "duration": 226,
    "start_time": "2023-10-13T08:10:07.487Z"
   },
   {
    "duration": 220,
    "start_time": "2023-10-13T08:10:07.715Z"
   },
   {
    "duration": 160,
    "start_time": "2023-10-13T08:10:07.937Z"
   },
   {
    "duration": 152,
    "start_time": "2023-10-13T08:10:08.099Z"
   },
   {
    "duration": 239,
    "start_time": "2023-10-13T08:10:08.252Z"
   },
   {
    "duration": 186,
    "start_time": "2023-10-13T08:10:08.493Z"
   },
   {
    "duration": 165,
    "start_time": "2023-10-13T08:10:08.681Z"
   },
   {
    "duration": 15,
    "start_time": "2023-10-13T08:10:08.848Z"
   },
   {
    "duration": 192,
    "start_time": "2023-10-13T08:10:08.864Z"
   },
   {
    "duration": 89,
    "start_time": "2023-10-13T08:58:14.020Z"
   },
   {
    "duration": 96,
    "start_time": "2023-10-13T08:59:00.575Z"
   },
   {
    "duration": 43,
    "start_time": "2023-10-13T09:32:14.561Z"
   },
   {
    "duration": 5,
    "start_time": "2023-10-13T09:32:36.907Z"
   },
   {
    "duration": 751,
    "start_time": "2023-10-13T09:32:40.339Z"
   },
   {
    "duration": 450,
    "start_time": "2023-10-13T09:32:42.462Z"
   },
   {
    "duration": 134,
    "start_time": "2023-10-13T09:32:54.611Z"
   },
   {
    "duration": 105,
    "start_time": "2023-10-13T09:33:00.803Z"
   },
   {
    "duration": 135,
    "start_time": "2023-10-13T09:33:30.354Z"
   }
  ],
  "kernelspec": {
   "display_name": "Python 3 (ipykernel)",
   "language": "python",
   "name": "python3"
  },
  "language_info": {
   "codemirror_mode": {
    "name": "ipython",
    "version": 3
   },
   "file_extension": ".py",
   "mimetype": "text/x-python",
   "name": "python",
   "nbconvert_exporter": "python",
   "pygments_lexer": "ipython3",
   "version": "3.9.5"
  },
  "toc": {
   "base_numbering": 1,
   "nav_menu": {},
   "number_sections": true,
   "sideBar": true,
   "skip_h1_title": true,
   "title_cell": "Table of Contents",
   "title_sidebar": "Contents",
   "toc_cell": false,
   "toc_position": {},
   "toc_section_display": true,
   "toc_window_display": false
  }
 },
 "nbformat": 4,
 "nbformat_minor": 2
}
