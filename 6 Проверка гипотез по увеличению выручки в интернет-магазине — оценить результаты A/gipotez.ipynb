{
 "cells": [
  {
   "cell_type": "markdown",
   "metadata": {},
   "source": [
    "# Анализ гипотез для увеличения выручки интернет-магазина"
   ]
  },
  {
   "cell_type": "markdown",
   "metadata": {},
   "source": [
    "**Описание проекта**  \n",
    "Отдел маркетинга совместно с бизнес-аналитиком крупного интернет-магазина подготовили список гипотез для увеличения выручки.\n",
    "\n",
    "\n",
    "Имеется файл с 9 гипотезами по увеличению выручки интернет-магазина с указанными параметрами Reach, Impact, Confidence, Effort. После проведения A/B-тест получили результаты, которые описали в файлах /datasets/orders.csv и /datasets/visitors.csv.\n",
    "\n",
    "Данные для первой части   \n",
    "Файл /datasets/hypothesis.csv.    \n",
    "Hypothesis — краткое описание гипотезы;   \n",
    "Reach — охват пользователей по 10-балльной шкале;   \n",
    "Impact — влияние на пользователей по 10-балльной шкале;   \n",
    "Confidence — уверенность в гипотезе по 10-балльной шкале;   \n",
    "Efforts — затраты ресурсов на проверку гипотезы по 10-балльной шкале. Чем больше значение Efforts, тем дороже проверка гипотезы.   \n",
    "\n",
    "\n",
    "\n",
    "Данные для второй части   \n",
    "Файл /datasets/orders.csv.    \n",
    "transactionId — идентификатор заказа;   \n",
    "visitorId — идентификатор пользователя, совершившего заказ;   \n",
    "date — дата, когда был совершён заказ;   \n",
    "revenue — выручка заказа;   \n",
    "group — группа A/B-теста, в которую попал заказ.   \n",
    "\n",
    "\n",
    "\n",
    "Файл /datasets/visitors.csv.    \n",
    "date — дата;   \n",
    "group — группа A/B-теста;   \n",
    "visitors — количество пользователей в указанную дату в указанной группе A/B-теста   \n",
    "\n",
    " \n",
    "Цель исследования: помочь компании увеличить выручку на основании анализа выдвинутых гипотез.\n",
    "\n",
    "План исследования: \n",
    "1. Приоритезация гипотез \n",
    "2. Анализ А/В теста\n",
    "3. Принятие решения о продолжении теста"
   ]
  },
  {
   "cell_type": "markdown",
   "metadata": {},
   "source": [
    "### Загрузка данных\n",
    "На первом этапе добавляем библиотеки"
   ]
  },
  {
   "cell_type": "code",
   "execution_count": 1,
   "metadata": {},
   "outputs": [],
   "source": [
    "import pandas as pd\n",
    "import datetime as dt\n",
    "import scipy.stats as stats\n",
    "import numpy as np\n",
    "import matplotlib.pyplot as plt\n",
    "from pandas.plotting import register_matplotlib_converters\n",
    "import warnings"
   ]
  },
  {
   "cell_type": "markdown",
   "metadata": {},
   "source": [
    "Считаем CSV-файлы с данными с помощью библиотеки pandas,сохраним их в датафреймы. Выведем и изучим общую информацию о датафреймах."
   ]
  },
  {
   "cell_type": "code",
   "execution_count": 2,
   "metadata": {},
   "outputs": [
    {
     "name": "stdout",
     "output_type": "stream",
     "text": [
      "<class 'pandas.core.frame.DataFrame'>\n",
      "RangeIndex: 62 entries, 0 to 61\n",
      "Data columns (total 3 columns):\n",
      " #   Column    Non-Null Count  Dtype \n",
      "---  ------    --------------  ----- \n",
      " 0   date      62 non-null     object\n",
      " 1   group     62 non-null     object\n",
      " 2   visitors  62 non-null     int64 \n",
      "dtypes: int64(1), object(2)\n",
      "memory usage: 1.6+ KB\n"
     ]
    },
    {
     "data": {
      "text/html": [
       "<div>\n",
       "<style scoped>\n",
       "    .dataframe tbody tr th:only-of-type {\n",
       "        vertical-align: middle;\n",
       "    }\n",
       "\n",
       "    .dataframe tbody tr th {\n",
       "        vertical-align: top;\n",
       "    }\n",
       "\n",
       "    .dataframe thead th {\n",
       "        text-align: right;\n",
       "    }\n",
       "</style>\n",
       "<table border=\"1\" class=\"dataframe\">\n",
       "  <thead>\n",
       "    <tr style=\"text-align: right;\">\n",
       "      <th></th>\n",
       "      <th>date</th>\n",
       "      <th>group</th>\n",
       "      <th>visitors</th>\n",
       "    </tr>\n",
       "  </thead>\n",
       "  <tbody>\n",
       "    <tr>\n",
       "      <th>0</th>\n",
       "      <td>2019-08-01</td>\n",
       "      <td>A</td>\n",
       "      <td>719</td>\n",
       "    </tr>\n",
       "    <tr>\n",
       "      <th>1</th>\n",
       "      <td>2019-08-02</td>\n",
       "      <td>A</td>\n",
       "      <td>619</td>\n",
       "    </tr>\n",
       "    <tr>\n",
       "      <th>2</th>\n",
       "      <td>2019-08-03</td>\n",
       "      <td>A</td>\n",
       "      <td>507</td>\n",
       "    </tr>\n",
       "    <tr>\n",
       "      <th>3</th>\n",
       "      <td>2019-08-04</td>\n",
       "      <td>A</td>\n",
       "      <td>717</td>\n",
       "    </tr>\n",
       "    <tr>\n",
       "      <th>4</th>\n",
       "      <td>2019-08-05</td>\n",
       "      <td>A</td>\n",
       "      <td>756</td>\n",
       "    </tr>\n",
       "    <tr>\n",
       "      <th>...</th>\n",
       "      <td>...</td>\n",
       "      <td>...</td>\n",
       "      <td>...</td>\n",
       "    </tr>\n",
       "    <tr>\n",
       "      <th>57</th>\n",
       "      <td>2019-08-27</td>\n",
       "      <td>B</td>\n",
       "      <td>720</td>\n",
       "    </tr>\n",
       "    <tr>\n",
       "      <th>58</th>\n",
       "      <td>2019-08-28</td>\n",
       "      <td>B</td>\n",
       "      <td>654</td>\n",
       "    </tr>\n",
       "    <tr>\n",
       "      <th>59</th>\n",
       "      <td>2019-08-29</td>\n",
       "      <td>B</td>\n",
       "      <td>531</td>\n",
       "    </tr>\n",
       "    <tr>\n",
       "      <th>60</th>\n",
       "      <td>2019-08-30</td>\n",
       "      <td>B</td>\n",
       "      <td>490</td>\n",
       "    </tr>\n",
       "    <tr>\n",
       "      <th>61</th>\n",
       "      <td>2019-08-31</td>\n",
       "      <td>B</td>\n",
       "      <td>718</td>\n",
       "    </tr>\n",
       "  </tbody>\n",
       "</table>\n",
       "<p>62 rows × 3 columns</p>\n",
       "</div>"
      ],
      "text/plain": [
       "          date group  visitors\n",
       "0   2019-08-01     A       719\n",
       "1   2019-08-02     A       619\n",
       "2   2019-08-03     A       507\n",
       "3   2019-08-04     A       717\n",
       "4   2019-08-05     A       756\n",
       "..         ...   ...       ...\n",
       "57  2019-08-27     B       720\n",
       "58  2019-08-28     B       654\n",
       "59  2019-08-29     B       531\n",
       "60  2019-08-30     B       490\n",
       "61  2019-08-31     B       718\n",
       "\n",
       "[62 rows x 3 columns]"
      ]
     },
     "metadata": {},
     "output_type": "display_data"
    },
    {
     "name": "stdout",
     "output_type": "stream",
     "text": [
      "<class 'pandas.core.frame.DataFrame'>\n",
      "RangeIndex: 1197 entries, 0 to 1196\n",
      "Data columns (total 5 columns):\n",
      " #   Column         Non-Null Count  Dtype \n",
      "---  ------         --------------  ----- \n",
      " 0   transactionId  1197 non-null   int64 \n",
      " 1   visitorId      1197 non-null   int64 \n",
      " 2   date           1197 non-null   object\n",
      " 3   revenue        1197 non-null   int64 \n",
      " 4   group          1197 non-null   object\n",
      "dtypes: int64(3), object(2)\n",
      "memory usage: 46.9+ KB\n"
     ]
    },
    {
     "data": {
      "text/html": [
       "<div>\n",
       "<style scoped>\n",
       "    .dataframe tbody tr th:only-of-type {\n",
       "        vertical-align: middle;\n",
       "    }\n",
       "\n",
       "    .dataframe tbody tr th {\n",
       "        vertical-align: top;\n",
       "    }\n",
       "\n",
       "    .dataframe thead th {\n",
       "        text-align: right;\n",
       "    }\n",
       "</style>\n",
       "<table border=\"1\" class=\"dataframe\">\n",
       "  <thead>\n",
       "    <tr style=\"text-align: right;\">\n",
       "      <th></th>\n",
       "      <th>transactionId</th>\n",
       "      <th>visitorId</th>\n",
       "      <th>date</th>\n",
       "      <th>revenue</th>\n",
       "      <th>group</th>\n",
       "    </tr>\n",
       "  </thead>\n",
       "  <tbody>\n",
       "    <tr>\n",
       "      <th>0</th>\n",
       "      <td>3667963787</td>\n",
       "      <td>3312258926</td>\n",
       "      <td>2019-08-15</td>\n",
       "      <td>1650</td>\n",
       "      <td>B</td>\n",
       "    </tr>\n",
       "    <tr>\n",
       "      <th>1</th>\n",
       "      <td>2804400009</td>\n",
       "      <td>3642806036</td>\n",
       "      <td>2019-08-15</td>\n",
       "      <td>730</td>\n",
       "      <td>B</td>\n",
       "    </tr>\n",
       "    <tr>\n",
       "      <th>2</th>\n",
       "      <td>2961555356</td>\n",
       "      <td>4069496402</td>\n",
       "      <td>2019-08-15</td>\n",
       "      <td>400</td>\n",
       "      <td>A</td>\n",
       "    </tr>\n",
       "    <tr>\n",
       "      <th>3</th>\n",
       "      <td>3797467345</td>\n",
       "      <td>1196621759</td>\n",
       "      <td>2019-08-15</td>\n",
       "      <td>9759</td>\n",
       "      <td>B</td>\n",
       "    </tr>\n",
       "    <tr>\n",
       "      <th>4</th>\n",
       "      <td>2282983706</td>\n",
       "      <td>2322279887</td>\n",
       "      <td>2019-08-15</td>\n",
       "      <td>2308</td>\n",
       "      <td>B</td>\n",
       "    </tr>\n",
       "    <tr>\n",
       "      <th>...</th>\n",
       "      <td>...</td>\n",
       "      <td>...</td>\n",
       "      <td>...</td>\n",
       "      <td>...</td>\n",
       "      <td>...</td>\n",
       "    </tr>\n",
       "    <tr>\n",
       "      <th>1192</th>\n",
       "      <td>2662137336</td>\n",
       "      <td>3733762160</td>\n",
       "      <td>2019-08-14</td>\n",
       "      <td>6490</td>\n",
       "      <td>B</td>\n",
       "    </tr>\n",
       "    <tr>\n",
       "      <th>1193</th>\n",
       "      <td>2203539145</td>\n",
       "      <td>370388673</td>\n",
       "      <td>2019-08-14</td>\n",
       "      <td>3190</td>\n",
       "      <td>A</td>\n",
       "    </tr>\n",
       "    <tr>\n",
       "      <th>1194</th>\n",
       "      <td>1807773912</td>\n",
       "      <td>573423106</td>\n",
       "      <td>2019-08-14</td>\n",
       "      <td>10550</td>\n",
       "      <td>A</td>\n",
       "    </tr>\n",
       "    <tr>\n",
       "      <th>1195</th>\n",
       "      <td>1947021204</td>\n",
       "      <td>1614305549</td>\n",
       "      <td>2019-08-14</td>\n",
       "      <td>100</td>\n",
       "      <td>A</td>\n",
       "    </tr>\n",
       "    <tr>\n",
       "      <th>1196</th>\n",
       "      <td>3936777065</td>\n",
       "      <td>2108080724</td>\n",
       "      <td>2019-08-15</td>\n",
       "      <td>202740</td>\n",
       "      <td>B</td>\n",
       "    </tr>\n",
       "  </tbody>\n",
       "</table>\n",
       "<p>1197 rows × 5 columns</p>\n",
       "</div>"
      ],
      "text/plain": [
       "      transactionId   visitorId        date  revenue group\n",
       "0        3667963787  3312258926  2019-08-15     1650     B\n",
       "1        2804400009  3642806036  2019-08-15      730     B\n",
       "2        2961555356  4069496402  2019-08-15      400     A\n",
       "3        3797467345  1196621759  2019-08-15     9759     B\n",
       "4        2282983706  2322279887  2019-08-15     2308     B\n",
       "...             ...         ...         ...      ...   ...\n",
       "1192     2662137336  3733762160  2019-08-14     6490     B\n",
       "1193     2203539145   370388673  2019-08-14     3190     A\n",
       "1194     1807773912   573423106  2019-08-14    10550     A\n",
       "1195     1947021204  1614305549  2019-08-14      100     A\n",
       "1196     3936777065  2108080724  2019-08-15   202740     B\n",
       "\n",
       "[1197 rows x 5 columns]"
      ]
     },
     "metadata": {},
     "output_type": "display_data"
    }
   ],
   "source": [
    "visitors = pd.read_csv('/datasets/visitors.csv')\n",
    "orders = pd.read_csv('/datasets/orders.csv')\n",
    "visitors.info()\n",
    "display(visitors)\n",
    "orders.info()\n",
    "display(orders)"
   ]
  },
  {
   "cell_type": "markdown",
   "metadata": {},
   "source": [
    "Изменим тип данных дат"
   ]
  },
  {
   "cell_type": "code",
   "execution_count": 3,
   "metadata": {},
   "outputs": [],
   "source": [
    "orders['date'] = orders['date'].astype('datetime64[D]')\n",
    "visitors['date'] = visitors['date'].astype('datetime64[D]')"
   ]
  },
  {
   "cell_type": "markdown",
   "metadata": {},
   "source": [
    "**Вывод:** \n",
    "Пропущенных значений в датафреймах нет, был изменен тип данных у столбцов с датами. "
   ]
  },
  {
   "cell_type": "code",
   "execution_count": 4,
   "metadata": {},
   "outputs": [
    {
     "name": "stdout",
     "output_type": "stream",
     "text": [
      "Количество пользователей в группе А: 503\n",
      "Количество пользователей в группе B: 586\n",
      "Общее число пользователей: 1031\n"
     ]
    }
   ],
   "source": [
    "# посмотрим на число уникальных пользователей в каждой из групп:\n",
    "print('Количество пользователей в группе А:', orders[orders['group']=='A']['visitorId'].nunique())\n",
    "print('Количество пользователей в группе B:', orders[orders['group']=='B']['visitorId'].nunique())\n",
    "print('Общее число пользователей:', orders ['visitorId'].nunique())"
   ]
  },
  {
   "cell_type": "code",
   "execution_count": 5,
   "metadata": {},
   "outputs": [
    {
     "data": {
      "text/plain": [
       "58"
      ]
     },
     "execution_count": 5,
     "metadata": {},
     "output_type": "execute_result"
    }
   ],
   "source": [
    "#выведем количество пользователей, которые попали в обе группы :\n",
    "\n",
    "len (np.intersect1d([orders[orders['group']=='A']['visitorId'].unique()],[orders[orders['group']=='B']['visitorId'].unique()]))\n",
    " "
   ]
  },
  {
   "cell_type": "markdown",
   "metadata": {},
   "source": [
    "**Вывод:** ВВ группе В на 83 человека больше, чем в группе А.Есть 58 пользователей, попавших и в одну, и в другую группу, однако это представляется допустимым, поскольку это менее 5% от общего числа пользователей."
   ]
  },
  {
   "cell_type": "markdown",
   "metadata": {},
   "source": [
    "### Приоритизация гипотез"
   ]
  },
  {
   "cell_type": "markdown",
   "metadata": {},
   "source": [
    "В файле /datasets/hypothesis.csv 9 гипотез по увеличению выручки интернет-магазина с указанными параметрами Reach, Impact, Confidence, Effort."
   ]
  },
  {
   "cell_type": "markdown",
   "metadata": {},
   "source": [
    "Применим фреймворк ICE для приоритизации гипотез. Отсортируем их по убыванию приоритета."
   ]
  },
  {
   "cell_type": "code",
   "execution_count": 6,
   "metadata": {},
   "outputs": [
    {
     "name": "stdout",
     "output_type": "stream",
     "text": [
      "                                          Hypothesis        ICE\n",
      "8  Запустить акцию, дающую скидку на товар в день...  16.200000\n",
      "0  Добавить два новых канала привлечения трафика,...  13.333333\n",
      "7  Добавить форму подписки на все основные страни...  11.200000\n",
      "6  Показать на главной странице баннеры с актуаль...   8.000000\n",
      "2  Добавить блоки рекомендаций товаров на сайт ин...   7.000000\n",
      "1  Запустить собственную службу доставки, что сок...   2.000000\n",
      "5  Добавить страницу отзывов клиентов о магазине,...   1.333333\n",
      "3  Изменить структура категорий, что увеличит кон...   1.125000\n",
      "4  Изменить цвет фона главной страницы, чтобы уве...   1.000000\n"
     ]
    }
   ],
   "source": [
    "data = pd.read_csv('/datasets/hypothesis.csv', sep=',')\n",
    "data['ICE'] = (data['Impact'] * data['Confidence'])/data['Efforts']\n",
    "print(data[['Hypothesis','ICE']].sort_values(by='ICE', ascending=False));"
   ]
  },
  {
   "cell_type": "markdown",
   "metadata": {},
   "source": [
    "Применим фреймворк RICE для приоритизации гипотез. Отсортируем их по убыванию приоритета."
   ]
  },
  {
   "cell_type": "code",
   "execution_count": 7,
   "metadata": {},
   "outputs": [
    {
     "name": "stdout",
     "output_type": "stream",
     "text": [
      "                                          Hypothesis   RICE\n",
      "7  Добавить форму подписки на все основные страни...  112.0\n",
      "2  Добавить блоки рекомендаций товаров на сайт ин...   56.0\n",
      "0  Добавить два новых канала привлечения трафика,...   40.0\n",
      "6  Показать на главной странице баннеры с актуаль...   40.0\n",
      "8  Запустить акцию, дающую скидку на товар в день...   16.2\n",
      "3  Изменить структура категорий, что увеличит кон...    9.0\n",
      "1  Запустить собственную службу доставки, что сок...    4.0\n",
      "5  Добавить страницу отзывов клиентов о магазине,...    4.0\n",
      "4  Изменить цвет фона главной страницы, чтобы уве...    3.0\n"
     ]
    }
   ],
   "source": [
    "data = pd.read_csv('/datasets/hypothesis.csv', sep=',')\n",
    "data['RICE'] = (data['Reach']*data['Impact'] * data['Confidence'])/data['Efforts']\n",
    "print(data[['Hypothesis','RICE']].sort_values(by='RICE', ascending=False));"
   ]
  },
  {
   "cell_type": "markdown",
   "metadata": {},
   "source": [
    "**Вывод:** \n",
    "При приоритизации гипотез с помощью фреймворка ICE было установлено, что наибольшие значения имеют 3 гипотезы: \n",
    "- Запустить акцию, дающую скидку на товар в день рождения\n",
    "- Добавить два новых канала привлечения трафика, что позволит привлекать на 30% больше пользователей\n",
    "- Добавить форму подписки на все основные страницы, чтобы собрать базу клиентов для email-рассылок.\n",
    "\n",
    "\n",
    "\n",
    "   При приоритизации гипотез с помощью фреймворка RICE было установлено, что наибольшие значения имеют 4 гипотезы: \n",
    "- Добавить форму подписки на все основные страницы, чтобы собрать базу клиентов для email-рассылок\n",
    "- Добавить блоки рекомендаций товаров на сайт интернет магазина, чтобы повысить конверсию и средний чек заказа\n",
    "- Добавить два новых канала привлечения трафика, что позволит привлекать на 30% больше пользователей\n",
    "- Показать на главной странице баннеры с актуальными акциями и распродажами, чтобы увеличить конверсию.\n",
    "\n",
    "\n",
    "При расчете RICE учитывается компонента Reach (скольких пользователей затронет изменение, которое вы хотите внести), это повлияло на приоритизацию гипотез. Так у гипотезы №7 самый высокий показатель Reach = 10.\n",
    "\n",
    "Наименьшие значения при приоритизации гипотез с помощью фреймворков ICE и RICE имеют 4 гипотезы:\n",
    "- Запустить собственную службу доставки, что сократит срок доставки заказов\n",
    "- Изменить структуру категорий, что увеличит конверсию, т.к. пользователи быстрее найдут нужный товар\n",
    "- Добавить страницу отзывов клиентов о магазине, что позволит увеличить количество заказов\n",
    "- Изменить цвет фона главной страницы, чтобы увеличить вовлеченность пользователей.\n",
    "\n",
    "\n",
    "\n"
   ]
  },
  {
   "cell_type": "markdown",
   "metadata": {},
   "source": [
    "### Анализ A/B-теста"
   ]
  },
  {
   "cell_type": "markdown",
   "metadata": {},
   "source": [
    "Мы провели A/B-тест и получили результаты, которые описаны в файлах /datasets/orders.csv и /datasets/visitors.csv. Проведем анализ A/B-теста."
   ]
  },
  {
   "cell_type": "markdown",
   "metadata": {},
   "source": [
    "#### Построим график кумулятивной выручки по группам"
   ]
  },
  {
   "cell_type": "code",
   "execution_count": 8,
   "metadata": {},
   "outputs": [
    {
     "data": {
      "image/png": "[encoded data removed]",
      "text/plain": [
       "<Figure size 720x288 with 1 Axes>"
      ]
     },
     "metadata": {
      "needs_background": "light"
     },
     "output_type": "display_data"
    }
   ],
   "source": [
    "# создаем массив уникальных пар значений дат и групп теста\n",
    "datesGroups = orders[['date','group']].drop_duplicates()\n",
    "\n",
    "# получаем агрегированные кумулятивные по дням данные о заказах \n",
    "ordersAggregated = datesGroups.apply(lambda x: orders[np.logical_and(orders['date'] <= x['date'], orders['group'] == x['group'])].agg({'date' : 'max', 'group' : 'max', 'transactionId' : 'nunique', 'visitorId' : 'nunique', 'revenue' : 'sum'}), axis=1).sort_values(by=['date','group'])\n",
    "\n",
    "# получаем агрегированные кумулятивные по дням данные о посетителях интернет-магазина \n",
    "visitorsAggregated = datesGroups.apply(lambda x: visitors[np.logical_and(visitors['date'] <= x['date'], visitors['group'] == x['group'])].agg({'date' : 'max', 'group' : 'max', 'visitors' : 'sum'}), axis=1).sort_values(by=['date','group'])\n",
    "\n",
    "# объединяем кумулятивные данные в одной таблице и присваиваем ее столбцам понятные названия\n",
    "cumulativeData = ordersAggregated.merge(visitorsAggregated, left_on=['date', 'group'], right_on=['date', 'group'])\n",
    "cumulativeData.columns = ['date', 'group', 'orders', 'buyers', 'revenue', 'visitors']\n",
    "\n",
    "# датафрейм с кумулятивным количеством заказов и кумулятивной выручкой по дням в группе А\n",
    "cumulativeRevenueA = cumulativeData[cumulativeData['group']=='A'][['date','revenue', 'orders']]\n",
    "\n",
    "plt.figure(figsize=(10,4))\n",
    "# датафрейм с кумулятивным количеством заказов и кумулятивной выручкой по дням в группе B\n",
    "cumulativeRevenueB = cumulativeData[cumulativeData['group']=='B'][['date','revenue', 'orders']]\n",
    "\n",
    "# Строим график выручки группы А\n",
    "plt.plot(cumulativeRevenueA['date'], cumulativeRevenueA['revenue'], label='A')\n",
    "\n",
    "# Строим график выручки группы B\n",
    "plt.plot(cumulativeRevenueB['date'], cumulativeRevenueB['revenue'], label='B')\n",
    "\n",
    "plt.title('Графики кумулятивной выручки по группам A/B')\n",
    "plt.ylabel('Выручка')\n",
    "plt.xlabel('Дата')\n",
    "plt.legend()\n",
    "plt.show(); "
   ]
  },
  {
   "cell_type": "markdown",
   "metadata": {},
   "source": [
    "**Вывод:**  Весь тест лидирует группа В. После прохождения середины теста наблюдается резкий скачок группы В.  Похоже, что аномально большие заказы всё-таки влияют на результаты. "
   ]
  },
  {
   "cell_type": "markdown",
   "metadata": {},
   "source": [
    "#### Построим график кумулятивного среднего чека по группам"
   ]
  },
  {
   "cell_type": "code",
   "execution_count": 9,
   "metadata": {
    "scrolled": true
   },
   "outputs": [
    {
     "data": {
      "image/png": "[encoded data removed]",
      "text/plain": [
       "<Figure size 720x288 with 1 Axes>"
      ]
     },
     "metadata": {
      "needs_background": "light"
     },
     "output_type": "display_data"
    }
   ],
   "source": [
    "plt.figure(figsize=(10,4))\n",
    "plt.plot(cumulativeRevenueA['date'], cumulativeRevenueA['revenue']/cumulativeRevenueA['orders'], label='A')\n",
    "plt.plot(cumulativeRevenueB['date'], cumulativeRevenueB['revenue']/cumulativeRevenueB['orders'], label='B')\n",
    "plt.title('Графики кумулятивного среднего чека по группам A/B')\n",
    "plt.ylabel('Средний чек')\n",
    "plt.xlabel('Дата')\n",
    "plt.legend()\n",
    "plt.show();"
   ]
  },
  {
   "cell_type": "markdown",
   "metadata": {},
   "source": [
    "**Вывод:** Кумулятивное значение среднего чека в целом повторяет тенденцию, которая прослеживалась на графике кумулятивной выручки по группам. За тем исключением, что в начале и примерно до наступления середины теста средний чек группы А непродолжительное время превышал значения среднего чека группы В. И опять резкий рост среднего чека группы В после прохождения середины теста вызывает подозрения о наличии аномалий."
   ]
  },
  {
   "cell_type": "markdown",
   "metadata": {},
   "source": [
    "#### Построим график относительного изменения кумулятивного среднего чека группы B к группе A"
   ]
  },
  {
   "cell_type": "code",
   "execution_count": 10,
   "metadata": {
    "scrolled": true
   },
   "outputs": [
    {
     "data": {
      "image/png": "[encoded data removed]",
      "text/plain": [
       "<Figure size 720x288 with 1 Axes>"
      ]
     },
     "metadata": {
      "needs_background": "light"
     },
     "output_type": "display_data"
    }
   ],
   "source": [
    "mergedCumulativeRevenue = cumulativeRevenueA.merge(cumulativeRevenueB, left_on='date', right_on='date', how='left', suffixes=['A', 'B'])\n",
    "plt.figure(figsize=(10,4))\n",
    "# cтроим отношение средних чеков\n",
    "plt.plot(mergedCumulativeRevenue['date'], (mergedCumulativeRevenue['revenueB']/mergedCumulativeRevenue['ordersB'])/(mergedCumulativeRevenue['revenueA']/mergedCumulativeRevenue['ordersA'])-1)\n",
    "plt.title('График относительного изменения кумулятивного среднего чека группы B к группе A')\n",
    "plt.xlabel('Дата')\n",
    "# добавляем ось X\n",
    "plt.axhline(y=0, color='black', linestyle='--'); \n",
    "plt.show();"
   ]
  },
  {
   "cell_type": "markdown",
   "metadata": {},
   "source": [
    "**Вывод:** Результаты теста значительно и резко менялись в несколько дат. Видимо, именно тогда были совершены аномальные заказы. "
   ]
  },
  {
   "cell_type": "markdown",
   "metadata": {},
   "source": [
    "#### Построим график кумулятивного среднего количества заказов на посетителя по группам"
   ]
  },
  {
   "cell_type": "code",
   "execution_count": 11,
   "metadata": {},
   "outputs": [
    {
     "data": {
      "image/png": "[encoded data removed]",
      "text/plain": [
       "<Figure size 720x288 with 1 Axes>"
      ]
     },
     "metadata": {
      "needs_background": "light"
     },
     "output_type": "display_data"
    }
   ],
   "source": [
    "cumulativeData['conversion'] = (\n",
    "    cumulativeData['orders'] / cumulativeData['visitors']\n",
    ")\n",
    "\n",
    "cumulativeDataA = cumulativeData[cumulativeData['group'] == 'A']\n",
    "cumulativeDataB = cumulativeData[cumulativeData['group'] == 'B']\n",
    "\n",
    "plt.figure(figsize=(10,4))\n",
    "plt.plot(cumulativeDataA['date'], cumulativeDataA['conversion'], label='A')\n",
    "plt.plot(cumulativeDataB['date'], cumulativeDataB['conversion'], label='B')\n",
    "plt.title('График кумулятивного среднего количества заказов на посетителя по группам')\n",
    "plt.xlabel('Дата')\n",
    "plt.legend()\n",
    "\n",
    "plt.axhline(y=0, color='black', linestyle='--')\n",
    "plt.axhline(y=0.2, color='grey', linestyle='--')\n",
    "plt.axis([dt.datetime(2019, 8, 1), dt.datetime(2019, 9, 1), 0, 0.05]);"
   ]
  },
  {
   "cell_type": "markdown",
   "metadata": {},
   "source": [
    "**Вывод:** В начале теста группа А непродолжительное время имела большее кумулятивное среднее число заказов, но затем лидерство перешло к группе В."
   ]
  },
  {
   "cell_type": "markdown",
   "metadata": {},
   "source": [
    "#### Построим график относительного изменения кумулятивного среднего количества заказов на посетителя группы B к группе A"
   ]
  },
  {
   "cell_type": "code",
   "execution_count": 12,
   "metadata": {},
   "outputs": [
    {
     "data": {
      "image/png": "[encoded data removed]",
      "text/plain": [
       "<Figure size 720x288 with 1 Axes>"
      ]
     },
     "metadata": {
      "needs_background": "light"
     },
     "output_type": "display_data"
    }
   ],
   "source": [
    "cumulativeDataA = cumulativeData[cumulativeData['group'] == 'A']\n",
    "cumulativeDataB = cumulativeData[cumulativeData['group'] == 'B']\n",
    "mergedCumulativeConversions = cumulativeDataA[['date','conversion']].merge(cumulativeDataB[['date','conversion']], left_on='date', right_on='date', how='left', suffixes=['A', 'B'])\n",
    "plt.figure(figsize=(10,4))\n",
    "plt.plot(mergedCumulativeConversions['date'], mergedCumulativeConversions['conversionB']/mergedCumulativeConversions['conversionA']-1, label=\"Относительный прирост кумулятивного среднего количества заказов на посетителя группы B относительно группы A\")\n",
    "plt.title('График относительного изменения кумулятивного среднего количества заказов на посетителя группы B к группе A')\n",
    "plt.xlabel('Дата')\n",
    "plt.axhline(y=0, color='black', linestyle='--')\n",
    "plt.axhline(y=0.2, color='grey', linestyle='--')\n",
    "plt.legend();"
   ]
  },
  {
   "cell_type": "markdown",
   "metadata": {},
   "source": [
    "**Вывод:** Почти все время группа В лидирует, в середине теста зафиксирован прирост в 20% относительно группы А. "
   ]
  },
  {
   "cell_type": "markdown",
   "metadata": {},
   "source": [
    "#### Построим точечный график количества заказов по пользователям"
   ]
  },
  {
   "cell_type": "code",
   "execution_count": 13,
   "metadata": {},
   "outputs": [
    {
     "data": {
      "image/png": "[encoded data removed]",
      "text/plain": [
       "<Figure size 720x288 with 1 Axes>"
      ]
     },
     "metadata": {
      "needs_background": "light"
     },
     "output_type": "display_data"
    }
   ],
   "source": [
    "ordersByUsers = orders.groupby('visitorId', as_index = False).agg({'transactionId':'nunique'}).sort_values(by='transactionId', ascending = False)\n",
    "ordersByUsers.columns = ['visitorId', 'orders']\n",
    "\n",
    "x_values = pd.Series(range(0, len(ordersByUsers)))\n",
    "plt.figure(figsize=(10,4))\n",
    "plt.scatter(x_values, ordersByUsers['orders'])\n",
    "plt.title('Точечный график количества заказов по пользователям')\n",
    "plt.ylabel('Заказы')\n",
    "plt.xlabel('Пользователи')\n",
    "plt.show()"
   ]
  },
  {
   "cell_type": "markdown",
   "metadata": {},
   "source": [
    "**Вывод:** В основном пользователи делали по 1 заказу. Совсем мало пользователей, который делали больше 2 заказов, возможно это аномалии."
   ]
  },
  {
   "cell_type": "markdown",
   "metadata": {},
   "source": [
    "#### Посчитаем 95-й и 99-й перцентили количества заказов на пользователя"
   ]
  },
  {
   "cell_type": "code",
   "execution_count": 14,
   "metadata": {},
   "outputs": [
    {
     "name": "stdout",
     "output_type": "stream",
     "text": [
      "[2. 4.]\n"
     ]
    }
   ],
   "source": [
    "print(np.percentile(ordersByUsers['orders'], [95, 99]))"
   ]
  },
  {
   "cell_type": "markdown",
   "metadata": {},
   "source": [
    "**Вывод:** Не более 5% пользователей совершали больше 2 заказов, и не более 1% пользователей - больше 4 заказов. "
   ]
  },
  {
   "cell_type": "markdown",
   "metadata": {},
   "source": [
    "#### Построим точечный график стоимостей заказов"
   ]
  },
  {
   "cell_type": "code",
   "execution_count": 15,
   "metadata": {},
   "outputs": [
    {
     "data": {
      "image/png": "[encoded data removed]",
      "text/plain": [
       "<Figure size 720x288 with 1 Axes>"
      ]
     },
     "metadata": {
      "needs_background": "light"
     },
     "output_type": "display_data"
    }
   ],
   "source": [
    "x_values = pd.Series(range(0, len(orders)))\n",
    "plt.figure(figsize=(10,4))\n",
    "plt.scatter(x_values, orders['revenue'])\n",
    "plt.title('Точечный график стоимостей заказов')\n",
    "plt.ylabel('Стоимость')\n",
    "plt.xlabel('Заказы')\n",
    "plt.axis([0, 1200, 0, 120000])\n",
    "plt.show()"
   ]
  },
  {
   "cell_type": "markdown",
   "metadata": {},
   "source": [
    "**Вывод:** Заказов стоимостью больше 30 тыс. руб.  мало. Есть выбросы в районе 90 тыс. руб."
   ]
  },
  {
   "cell_type": "markdown",
   "metadata": {},
   "source": [
    "#### Посчитаем 95-й и 99-й перцентили стоимости заказов"
   ]
  },
  {
   "cell_type": "code",
   "execution_count": 16,
   "metadata": {},
   "outputs": [
    {
     "name": "stdout",
     "output_type": "stream",
     "text": [
      "[28000.  58233.2]\n"
     ]
    }
   ],
   "source": [
    "print(np.percentile(orders['revenue'], [95, 99])) "
   ]
  },
  {
   "cell_type": "markdown",
   "metadata": {},
   "source": [
    "**Вывод:** Не более 5% заказов больше 28 тыс. руб., и не более 1% заказов стоимостью 58 тыс. руб."
   ]
  },
  {
   "cell_type": "markdown",
   "metadata": {},
   "source": [
    "#### Посчитаем статистическую значимость различий в среднем количестве заказов на посетителя между группами по «сырым» данным"
   ]
  },
  {
   "cell_type": "code",
   "execution_count": 17,
   "metadata": {},
   "outputs": [
    {
     "name": "stdout",
     "output_type": "stream",
     "text": [
      "        date  ordersPerDateA  revenuePerDateA  ordersPerDateB  \\\n",
      "0 2019-08-01              24           148579              21   \n",
      "1 2019-08-02              20            93822              24   \n",
      "2 2019-08-03              24           112473              16   \n",
      "3 2019-08-04              16            70825              17   \n",
      "4 2019-08-05              25           124218              23   \n",
      "\n",
      "   revenuePerDateB  ordersCummulativeA  revenueCummulativeA  \\\n",
      "0           101217                  24               148579   \n",
      "1           165531                  44               242401   \n",
      "2           114248                  68               354874   \n",
      "3           108571                  84               425699   \n",
      "4            92428                 109               549917   \n",
      "\n",
      "   ordersCummulativeB  revenueCummulativeB  visitorsPerDateA  \\\n",
      "0                  21               101217               719   \n",
      "1                  45               266748               619   \n",
      "2                  61               380996               507   \n",
      "3                  78               489567               717   \n",
      "4                 101               581995               756   \n",
      "\n",
      "   visitorsPerDateB  visitorsCummulativeA  visitorsCummulativeB  \n",
      "0               713                   719                   713  \n",
      "1               581                  1338                  1294  \n",
      "2               509                  1845                  1803  \n",
      "3               770                  2562                  2573  \n",
      "4               707                  3318                  3280  \n",
      "0.01679\n",
      "0.138\n"
     ]
    }
   ],
   "source": [
    "visitorsADaily = visitors[visitors['group'] == 'A'][['date', 'visitors']]\n",
    "visitorsADaily.columns = ['date', 'visitorsPerDateA']\n",
    "\n",
    "visitorsACummulative = visitorsADaily.apply(\n",
    "    lambda x: visitorsADaily[visitorsADaily['date'] <= x['date']].agg(\n",
    "        {'date': 'max', 'visitorsPerDateA': 'sum'}\n",
    "    ),\n",
    "    axis=1,\n",
    ")\n",
    "visitorsACummulative.columns = ['date', 'visitorsCummulativeA']\n",
    "\n",
    "visitorsBDaily = visitors[visitors['group'] == 'B'][['date', 'visitors']]\n",
    "visitorsBDaily.columns = ['date', 'visitorsPerDateB']\n",
    "\n",
    "visitorsBCummulative = visitorsBDaily.apply(\n",
    "    lambda x: visitorsBDaily[visitorsBDaily['date'] <= x['date']].agg(\n",
    "        {'date': 'max', 'visitorsPerDateB': 'sum'}\n",
    "    ),\n",
    "    axis=1,\n",
    ")\n",
    "visitorsBCummulative.columns = ['date', 'visitorsCummulativeB']\n",
    "\n",
    "ordersADaily = (\n",
    "    orders[orders['group'] == 'A'][['date', 'transactionId', 'visitorId', 'revenue']]\n",
    "    .groupby('date', as_index=False)\n",
    "    .agg({'transactionId': pd.Series.nunique, 'revenue': 'sum'})\n",
    ")\n",
    "ordersADaily.columns = ['date', 'ordersPerDateA', 'revenuePerDateA']\n",
    "\n",
    "ordersACummulative = ordersADaily.apply(\n",
    "    lambda x: ordersADaily[ordersADaily['date'] <= x['date']].agg(\n",
    "        {'date': 'max', 'ordersPerDateA': 'sum', 'revenuePerDateA': 'sum'}\n",
    "    ),\n",
    "    axis=1,\n",
    ").sort_values(by=['date'])\n",
    "ordersACummulative.columns = [\n",
    "    'date',\n",
    "    'ordersCummulativeA',\n",
    "    'revenueCummulativeA',\n",
    "]\n",
    "\n",
    "ordersBDaily = (\n",
    "    orders[orders['group'] == 'B'][['date', 'transactionId', 'visitorId', 'revenue']]\n",
    "    .groupby('date', as_index=False)\n",
    "    .agg({'transactionId': pd.Series.nunique, 'revenue': 'sum'})\n",
    ")\n",
    "ordersBDaily.columns = ['date', 'ordersPerDateB', 'revenuePerDateB']\n",
    "\n",
    "ordersBCummulative = ordersBDaily.apply(\n",
    "    lambda x: ordersBDaily[ordersBDaily['date'] <= x['date']].agg(\n",
    "        {'date': 'max', 'ordersPerDateB': 'sum', 'revenuePerDateB': 'sum'}\n",
    "    ),\n",
    "    axis=1,\n",
    ").sort_values(by=['date'])\n",
    "ordersBCummulative.columns = [\n",
    "    'date',\n",
    "    'ordersCummulativeB',\n",
    "    'revenueCummulativeB',\n",
    "]\n",
    "\n",
    "data = (\n",
    "    ordersADaily.merge(\n",
    "        ordersBDaily, left_on='date', right_on='date', how='left'\n",
    "    )\n",
    "    .merge(ordersACummulative, left_on='date', right_on='date', how='left')\n",
    "    .merge(ordersBCummulative, left_on='date', right_on='date', how='left')\n",
    "    .merge(visitorsADaily, left_on='date', right_on='date', how='left')\n",
    "    .merge(visitorsBDaily, left_on='date', right_on='date', how='left')\n",
    "    .merge(visitorsACummulative, left_on='date', right_on='date', how='left')\n",
    "    .merge(visitorsBCummulative, left_on='date', right_on='date', how='left')\n",
    ")\n",
    "print(data.head(5))\n",
    "ordersByUsersA = (\n",
    "    orders[orders['group'] == 'A']\n",
    "    .groupby('visitorId', as_index=False)\n",
    "    .agg({'transactionId': pd.Series.nunique})\n",
    ")\n",
    "ordersByUsersA.columns = ['visitorId', 'orders']\n",
    "\n",
    "ordersByUsersB = (\n",
    "    orders[orders['group'] == 'B']\n",
    "    .groupby('visitorId', as_index=False)\n",
    "    .agg({'transactionId': pd.Series.nunique})\n",
    ")\n",
    "ordersByUsersB.columns = ['visitorId', 'orders']\n",
    "\n",
    "sampleA = pd.concat(\n",
    "    [\n",
    "        ordersByUsersA['orders'],\n",
    "        pd.Series(\n",
    "            0,\n",
    "            index=np.arange(\n",
    "                data['visitorsPerDateA'].sum() - len(ordersByUsersA['orders'])\n",
    "            ),\n",
    "            name='orders',\n",
    "        ),\n",
    "    ],\n",
    "    axis=0,\n",
    ")\n",
    "\n",
    "sampleB = pd.concat(\n",
    "    [\n",
    "        ordersByUsersB['orders'],\n",
    "        pd.Series(\n",
    "            0,\n",
    "            index=np.arange(\n",
    "                data['visitorsPerDateB'].sum() - len(ordersByUsersB['orders'])\n",
    "            ),\n",
    "            name='orders',\n",
    "        ),\n",
    "    ],\n",
    "    axis=0,\n",
    ")\n",
    "\n",
    "print(\"{0:.5f}\".format(stats.mannwhitneyu(sampleA, sampleB)[1]))\n",
    "\n",
    "print(\"{0:.3f}\".format(sampleB.mean() / sampleA.mean() - 1))\n",
    " \n"
   ]
  },
  {
   "cell_type": "markdown",
   "metadata": {},
   "source": [
    "**Вывод:** P-value меньше 0,05, поэтому делаем вывод о существенности статистической значимости различий в среднем количестве заказов на посетителя. Относительный прирост среднего группы В к конверсии группы А равен 13,8%."
   ]
  },
  {
   "cell_type": "markdown",
   "metadata": {},
   "source": [
    "#### Посчитаем статистическую значимость различий в  среднем чеке заказа между группами по «сырым» данным"
   ]
  },
  {
   "cell_type": "code",
   "execution_count": 18,
   "metadata": {},
   "outputs": [
    {
     "name": "stdout",
     "output_type": "stream",
     "text": [
      "0.729\n",
      "0.259\n"
     ]
    }
   ],
   "source": [
    "print('{0:.3f}'.format(stats.mannwhitneyu(orders[orders['group']=='A']['revenue'], orders[orders['group']=='B']['revenue'])[1]))\n",
    "print('{0:.3f}'.format(orders[orders['group']=='B']['revenue'].mean()/orders[orders['group']=='A']['revenue'].mean()-1)) "
   ]
  },
  {
   "cell_type": "markdown",
   "metadata": {},
   "source": [
    "**Вывод:** P-value больше 0,05, значит статистической значимости различий в среднем чеке заказа между группами нет. Наблюдаемое относительное различие среднего чека между группами составляет 25,9% и не является статитстически значимым."
   ]
  },
  {
   "cell_type": "markdown",
   "metadata": {},
   "source": [
    "#### Посчитаем статистическую значимость различий в среднем количестве заказов на посетителя между группами по «очищенным» данным"
   ]
  },
  {
   "cell_type": "code",
   "execution_count": 19,
   "metadata": {},
   "outputs": [
    {
     "name": "stdout",
     "output_type": "stream",
     "text": [
      "0.00896\n",
      "0.205\n"
     ]
    }
   ],
   "source": [
    "\n",
    "usersWithManyOrders = pd.concat(\n",
    "    [\n",
    "        ordersByUsersA[ordersByUsersA['orders'] > 2]['visitorId'],\n",
    "        ordersByUsersB[ordersByUsersB['orders'] > 2]['visitorId'],\n",
    "    ],\n",
    "    axis=0,\n",
    ")\n",
    "usersWithExpensiveOrders = orders[orders['revenue'] > 10000]['visitorId']\n",
    "abnormalUsers = (\n",
    "    pd.concat([usersWithManyOrders, usersWithExpensiveOrders], axis=0)\n",
    "    .drop_duplicates()\n",
    "    .sort_values()\n",
    ")\n",
    "sampleAFiltered = pd.concat(\n",
    "    [\n",
    "        ordersByUsersA[\n",
    "            np.logical_not(ordersByUsersA['visitorId'].isin(abnormalUsers))\n",
    "        ]['orders'],\n",
    "        pd.Series(\n",
    "            0,\n",
    "            index=np.arange(\n",
    "                data['visitorsPerDateA'].sum() - len(ordersByUsersA['orders'])\n",
    "            ),\n",
    "            name='orders',\n",
    "        ),\n",
    "    ],\n",
    "    axis=0,\n",
    ")\n",
    "\n",
    "sampleBFiltered = pd.concat(\n",
    "    [\n",
    "        ordersByUsersB[\n",
    "            np.logical_not(ordersByUsersB['visitorId'].isin(abnormalUsers))\n",
    "        ]['orders'],\n",
    "        pd.Series(\n",
    "            0,\n",
    "            index=np.arange(\n",
    "                data['visitorsPerDateB'].sum() - len(ordersByUsersB['orders'])\n",
    "            ),\n",
    "            name='orders',\n",
    "        ),\n",
    "    ],\n",
    "    axis=0,\n",
    ") \n",
    "print('{0:.5f}'.format(stats.mannwhitneyu(sampleAFiltered, sampleBFiltered)[1]))\n",
    "print('{0:.3f}'.format(sampleBFiltered.mean()/sampleAFiltered.mean()-1)) "
   ]
  },
  {
   "cell_type": "markdown",
   "metadata": {},
   "source": [
    "**Вывод:** Как и в случае с сырыми данными статистическая значимость достигнута. Группа В значительно лучше группы А."
   ]
  },
  {
   "cell_type": "markdown",
   "metadata": {},
   "source": [
    "#### Посчитаем статистическую значимость различий в среднем чеке заказа между группами по «очищенным» данным"
   ]
  },
  {
   "cell_type": "code",
   "execution_count": 20,
   "metadata": {},
   "outputs": [
    {
     "name": "stdout",
     "output_type": "stream",
     "text": [
      "0.965\n",
      "0.002\n"
     ]
    }
   ],
   "source": [
    "print(\n",
    "    '{0:.3f}'.format(\n",
    "        stats.mannwhitneyu(\n",
    "            orders[\n",
    "                np.logical_and(\n",
    "                    orders['group'] == 'A',\n",
    "                    np.logical_not(orders['visitorId'].isin(abnormalUsers)),\n",
    "                )\n",
    "            ]['revenue'],\n",
    "            orders[\n",
    "                np.logical_and(\n",
    "                    orders['group'] == 'B',\n",
    "                    np.logical_not(orders['visitorId'].isin(abnormalUsers)),\n",
    "                )\n",
    "            ]['revenue'],\n",
    "        )[1]\n",
    "    )\n",
    ")\n",
    "\n",
    "print(\n",
    "    \"{0:.3f}\".format(\n",
    "        orders[\n",
    "            np.logical_and(\n",
    "                orders['group'] == 'B',\n",
    "                np.logical_not(orders['visitorId'].isin(abnormalUsers)),\n",
    "            )\n",
    "        ]['revenue'].mean()\n",
    "        / orders[\n",
    "            np.logical_and(\n",
    "                orders['group'] == 'A',\n",
    "                np.logical_not(orders['visitorId'].isin(abnormalUsers)),\n",
    "            )\n",
    "        ]['revenue'].mean()\n",
    "        - 1\n",
    "    )\n",
    ") "
   ]
  },
  {
   "cell_type": "markdown",
   "metadata": {},
   "source": [
    "**Вывод:** Статистической значимости различия среднего чека заказов между группами нет."
   ]
  },
  {
   "cell_type": "markdown",
   "metadata": {},
   "source": [
    "#### Решение по результатам теста"
   ]
  },
  {
   "cell_type": "markdown",
   "metadata": {},
   "source": [
    "По результатам проведенного исследования можем сделать следующие выводы:\n",
    "1. Есть статистически значимое различие по конверсии между группами как по сырым данным, так и после фильтрации аномалий.\n",
    "2. По сырым данным нет статистически значимого различия по среднему чеку между группами. Нет его и после удаления аномалий.\n",
    "3. График различия конверсии между группами сообщает, что результаты группы B лучше группы A: имеют тенденцию к росту, либо зафиксировались около среднего значения.\n",
    "Исходя из вышеизложенного делаем вывод, что можно остановить тест изафиксировать победу группы В.\n",
    "\n"
   ]
  }
 ],
 "metadata": {
  "ExecuteTimeLog": [
   {
    "duration": 4,
    "start_time": "2024-01-11T06:47:30.040Z"
   },
   {
    "duration": 2,
    "start_time": "2024-01-11T07:12:13.026Z"
   },
   {
    "duration": 2,
    "start_time": "2024-01-11T07:13:20.886Z"
   },
   {
    "duration": 99,
    "start_time": "2024-01-11T07:17:55.666Z"
   },
   {
    "duration": 1262,
    "start_time": "2024-01-11T07:18:45.354Z"
   },
   {
    "duration": 1510,
    "start_time": "2024-01-11T07:19:56.817Z"
   },
   {
    "duration": 36,
    "start_time": "2024-01-11T07:20:24.640Z"
   },
   {
    "duration": 35,
    "start_time": "2024-01-11T07:20:29.793Z"
   },
   {
    "duration": 30,
    "start_time": "2024-01-11T07:22:53.008Z"
   },
   {
    "duration": 30,
    "start_time": "2024-01-11T07:25:25.750Z"
   },
   {
    "duration": 42,
    "start_time": "2024-01-11T07:34:13.072Z"
   },
   {
    "duration": 34,
    "start_time": "2024-01-11T07:34:46.310Z"
   },
   {
    "duration": 105,
    "start_time": "2024-01-11T07:38:00.006Z"
   },
   {
    "duration": 30,
    "start_time": "2024-01-11T07:40:20.379Z"
   },
   {
    "duration": 30,
    "start_time": "2024-01-11T07:41:06.067Z"
   },
   {
    "duration": 30,
    "start_time": "2024-01-11T07:41:08.523Z"
   },
   {
    "duration": 3,
    "start_time": "2024-01-11T07:52:51.786Z"
   },
   {
    "duration": 2,
    "start_time": "2024-01-11T08:07:33.038Z"
   },
   {
    "duration": 489,
    "start_time": "2024-01-11T08:09:38.379Z"
   },
   {
    "duration": 598,
    "start_time": "2024-01-11T08:11:16.096Z"
   },
   {
    "duration": 33,
    "start_time": "2024-01-11T08:11:16.696Z"
   },
   {
    "duration": 10,
    "start_time": "2024-01-11T08:11:16.730Z"
   },
   {
    "duration": 471,
    "start_time": "2024-01-11T08:11:16.741Z"
   },
   {
    "duration": 105,
    "start_time": "2024-01-11T08:23:02.552Z"
   },
   {
    "duration": 88,
    "start_time": "2024-01-11T08:23:10.128Z"
   },
   {
    "duration": 33,
    "start_time": "2024-01-11T08:29:50.294Z"
   },
   {
    "duration": 16,
    "start_time": "2024-01-11T08:30:06.940Z"
   },
   {
    "duration": 16,
    "start_time": "2024-01-11T08:30:14.708Z"
   },
   {
    "duration": 4,
    "start_time": "2024-01-11T08:30:49.820Z"
   },
   {
    "duration": 31,
    "start_time": "2024-01-11T08:34:31.721Z"
   },
   {
    "duration": 31,
    "start_time": "2024-01-11T08:35:11.153Z"
   },
   {
    "duration": 409,
    "start_time": "2024-01-11T08:37:11.218Z"
   },
   {
    "duration": 650,
    "start_time": "2024-01-11T08:37:18.987Z"
   },
   {
    "duration": 92,
    "start_time": "2024-01-11T08:37:19.640Z"
   },
   {
    "duration": 6,
    "start_time": "2024-01-11T08:37:19.734Z"
   },
   {
    "duration": 26,
    "start_time": "2024-01-11T08:37:19.742Z"
   },
   {
    "duration": 9,
    "start_time": "2024-01-11T08:37:19.769Z"
   },
   {
    "duration": 545,
    "start_time": "2024-01-11T08:37:19.780Z"
   },
   {
    "duration": 830,
    "start_time": "2024-01-11T08:39:59.601Z"
   },
   {
    "duration": 375,
    "start_time": "2024-01-11T08:40:56.046Z"
   },
   {
    "duration": 620,
    "start_time": "2024-01-11T08:41:18.232Z"
   },
   {
    "duration": 98,
    "start_time": "2024-01-11T08:41:18.856Z"
   },
   {
    "duration": 6,
    "start_time": "2024-01-11T08:41:18.955Z"
   },
   {
    "duration": 50,
    "start_time": "2024-01-11T08:41:18.963Z"
   },
   {
    "duration": 10,
    "start_time": "2024-01-11T08:41:19.015Z"
   },
   {
    "duration": 415,
    "start_time": "2024-01-11T08:41:19.027Z"
   },
   {
    "duration": 382,
    "start_time": "2024-01-11T08:41:44.670Z"
   },
   {
    "duration": 84,
    "start_time": "2024-01-11T08:42:13.862Z"
   },
   {
    "duration": 22,
    "start_time": "2024-01-11T08:42:39.566Z"
   },
   {
    "duration": 480,
    "start_time": "2024-01-11T08:45:33.092Z"
   },
   {
    "duration": 444,
    "start_time": "2024-01-11T08:45:49.586Z"
   },
   {
    "duration": 494,
    "start_time": "2024-01-11T08:50:10.487Z"
   },
   {
    "duration": 94,
    "start_time": "2024-01-11T08:51:07.582Z"
   },
   {
    "duration": 84,
    "start_time": "2024-01-11T08:51:16.118Z"
   },
   {
    "duration": 437,
    "start_time": "2024-01-11T08:51:27.661Z"
   },
   {
    "duration": 81,
    "start_time": "2024-01-11T08:51:44.484Z"
   },
   {
    "duration": 652,
    "start_time": "2024-01-11T08:57:06.673Z"
   },
   {
    "duration": 457,
    "start_time": "2024-01-11T08:57:47.848Z"
   },
   {
    "duration": 490,
    "start_time": "2024-01-11T08:58:57.223Z"
   },
   {
    "duration": 3,
    "start_time": "2024-01-11T09:04:05.851Z"
   },
   {
    "duration": 15,
    "start_time": "2024-01-11T09:05:34.890Z"
   },
   {
    "duration": 303,
    "start_time": "2024-01-11T09:06:35.649Z"
   },
   {
    "duration": 95,
    "start_time": "2024-01-11T09:12:59.820Z"
   },
   {
    "duration": 344,
    "start_time": "2024-01-11T09:14:48.810Z"
   },
   {
    "duration": 353,
    "start_time": "2024-01-11T09:16:23.082Z"
   },
   {
    "duration": 31,
    "start_time": "2024-01-11T09:43:42.945Z"
   },
   {
    "duration": 30,
    "start_time": "2024-01-11T09:43:48.351Z"
   },
   {
    "duration": 30,
    "start_time": "2024-01-11T09:44:18.286Z"
   },
   {
    "duration": 31,
    "start_time": "2024-01-11T09:44:29.167Z"
   },
   {
    "duration": 30,
    "start_time": "2024-01-11T09:44:36.638Z"
   },
   {
    "duration": 30,
    "start_time": "2024-01-11T09:44:39.908Z"
   },
   {
    "duration": 628,
    "start_time": "2024-01-11T09:44:46.364Z"
   },
   {
    "duration": 91,
    "start_time": "2024-01-11T09:44:46.994Z"
   },
   {
    "duration": 7,
    "start_time": "2024-01-11T09:44:47.086Z"
   },
   {
    "duration": 43,
    "start_time": "2024-01-11T09:44:47.095Z"
   },
   {
    "duration": 52,
    "start_time": "2024-01-11T09:44:47.139Z"
   },
   {
    "duration": 534,
    "start_time": "2024-01-11T09:44:47.192Z"
   },
   {
    "duration": 186,
    "start_time": "2024-01-11T09:44:47.728Z"
   },
   {
    "duration": 288,
    "start_time": "2024-01-11T09:44:47.916Z"
   },
   {
    "duration": 74,
    "start_time": "2024-01-11T10:29:18.487Z"
   },
   {
    "duration": 16,
    "start_time": "2024-01-11T10:29:47.545Z"
   },
   {
    "duration": 8,
    "start_time": "2024-01-11T10:31:12.250Z"
   },
   {
    "duration": 352,
    "start_time": "2024-01-11T10:32:43.657Z"
   },
   {
    "duration": 300,
    "start_time": "2024-01-11T10:33:28.920Z"
   },
   {
    "duration": 325,
    "start_time": "2024-01-11T10:33:58.256Z"
   },
   {
    "duration": 329,
    "start_time": "2024-01-11T10:34:53.681Z"
   },
   {
    "duration": 283,
    "start_time": "2024-01-11T10:35:32.639Z"
   },
   {
    "duration": 12,
    "start_time": "2024-01-11T10:42:51.555Z"
   },
   {
    "duration": 317,
    "start_time": "2024-01-11T10:42:59.675Z"
   },
   {
    "duration": 307,
    "start_time": "2024-01-11T10:43:39.585Z"
   },
   {
    "duration": 317,
    "start_time": "2024-01-11T10:44:26.969Z"
   },
   {
    "duration": 287,
    "start_time": "2024-01-11T10:44:40.697Z"
   },
   {
    "duration": 332,
    "start_time": "2024-01-11T10:47:51.879Z"
   },
   {
    "duration": 240,
    "start_time": "2024-01-11T10:51:23.735Z"
   },
   {
    "duration": 193,
    "start_time": "2024-01-11T10:52:22.908Z"
   },
   {
    "duration": 274,
    "start_time": "2024-01-11T10:57:21.336Z"
   },
   {
    "duration": 96,
    "start_time": "2024-01-11T11:00:38.798Z"
   },
   {
    "duration": 113,
    "start_time": "2024-01-11T11:13:25.918Z"
   },
   {
    "duration": 111,
    "start_time": "2024-01-11T11:13:57.107Z"
   },
   {
    "duration": 110,
    "start_time": "2024-01-11T11:14:13.411Z"
   },
   {
    "duration": 4,
    "start_time": "2024-01-11T11:20:20.416Z"
   },
   {
    "duration": 6,
    "start_time": "2024-01-11T11:21:08.631Z"
   },
   {
    "duration": 134,
    "start_time": "2024-01-11T11:29:42.777Z"
   },
   {
    "duration": 116,
    "start_time": "2024-01-11T11:30:45.856Z"
   },
   {
    "duration": 122,
    "start_time": "2024-01-11T11:30:55.695Z"
   },
   {
    "duration": 131,
    "start_time": "2024-01-11T11:31:27.807Z"
   },
   {
    "duration": 119,
    "start_time": "2024-01-11T11:31:48.095Z"
   },
   {
    "duration": 186,
    "start_time": "2024-01-11T11:32:43.967Z"
   },
   {
    "duration": 153,
    "start_time": "2024-01-11T11:32:52.039Z"
   },
   {
    "duration": 148,
    "start_time": "2024-01-11T11:33:39.165Z"
   },
   {
    "duration": 144,
    "start_time": "2024-01-11T11:34:02.941Z"
   },
   {
    "duration": 1373,
    "start_time": "2024-01-11T11:37:50.041Z"
   },
   {
    "duration": 4,
    "start_time": "2024-01-11T11:38:34.472Z"
   },
   {
    "duration": 36,
    "start_time": "2024-01-11T11:44:59.691Z"
   },
   {
    "duration": 95,
    "start_time": "2024-01-11T11:49:05.641Z"
   },
   {
    "duration": 666,
    "start_time": "2024-01-11T12:34:35.990Z"
   },
   {
    "duration": 92,
    "start_time": "2024-01-11T12:34:36.658Z"
   },
   {
    "duration": 6,
    "start_time": "2024-01-11T12:34:36.752Z"
   },
   {
    "duration": 42,
    "start_time": "2024-01-11T12:34:36.760Z"
   },
   {
    "duration": 10,
    "start_time": "2024-01-11T12:34:36.803Z"
   },
   {
    "duration": 549,
    "start_time": "2024-01-11T12:34:36.815Z"
   },
   {
    "duration": 195,
    "start_time": "2024-01-11T12:34:37.365Z"
   },
   {
    "duration": 310,
    "start_time": "2024-01-11T12:34:37.562Z"
   },
   {
    "duration": 392,
    "start_time": "2024-01-11T12:34:37.874Z"
   },
   {
    "duration": 370,
    "start_time": "2024-01-11T12:34:38.269Z"
   },
   {
    "duration": 152,
    "start_time": "2024-01-11T12:34:38.641Z"
   },
   {
    "duration": 5,
    "start_time": "2024-01-11T12:34:38.795Z"
   },
   {
    "duration": 170,
    "start_time": "2024-01-11T12:34:38.801Z"
   },
   {
    "duration": 5,
    "start_time": "2024-01-11T12:34:38.973Z"
   },
   {
    "duration": 194,
    "start_time": "2024-01-11T12:34:38.979Z"
   },
   {
    "duration": 161,
    "start_time": "2024-01-11T12:36:20.782Z"
   },
   {
    "duration": 212,
    "start_time": "2024-01-11T12:36:42.549Z"
   },
   {
    "duration": 1032,
    "start_time": "2024-01-11T12:37:28.194Z"
   },
   {
    "duration": 145,
    "start_time": "2024-01-11T12:37:29.227Z"
   },
   {
    "duration": 6,
    "start_time": "2024-01-11T12:37:29.373Z"
   },
   {
    "duration": 43,
    "start_time": "2024-01-11T12:37:29.381Z"
   },
   {
    "duration": 9,
    "start_time": "2024-01-11T12:37:29.426Z"
   },
   {
    "duration": 516,
    "start_time": "2024-01-11T12:37:29.437Z"
   },
   {
    "duration": 207,
    "start_time": "2024-01-11T12:37:29.954Z"
   },
   {
    "duration": 321,
    "start_time": "2024-01-11T12:37:30.162Z"
   },
   {
    "duration": 332,
    "start_time": "2024-01-11T12:37:30.485Z"
   },
   {
    "duration": 330,
    "start_time": "2024-01-11T12:37:30.819Z"
   },
   {
    "duration": 141,
    "start_time": "2024-01-11T12:37:31.150Z"
   },
   {
    "duration": 5,
    "start_time": "2024-01-11T12:37:31.292Z"
   },
   {
    "duration": 156,
    "start_time": "2024-01-11T12:37:31.298Z"
   },
   {
    "duration": 4,
    "start_time": "2024-01-11T12:37:31.455Z"
   },
   {
    "duration": 322,
    "start_time": "2024-01-11T12:37:31.460Z"
   },
   {
    "duration": 230,
    "start_time": "2024-01-11T12:38:18.725Z"
   },
   {
    "duration": 201,
    "start_time": "2024-01-11T12:38:29.644Z"
   },
   {
    "duration": 349,
    "start_time": "2024-01-11T12:43:39.375Z"
   },
   {
    "duration": 102,
    "start_time": "2024-01-11T12:45:21.431Z"
   },
   {
    "duration": 10,
    "start_time": "2024-01-11T12:49:26.132Z"
   },
   {
    "duration": 1384,
    "start_time": "2024-01-11T12:56:19.400Z"
   },
   {
    "duration": 2146,
    "start_time": "2024-01-11T12:58:04.992Z"
   },
   {
    "duration": 1327,
    "start_time": "2024-01-11T12:58:31.078Z"
   },
   {
    "duration": 4719,
    "start_time": "2024-01-11T13:03:29.592Z"
   },
   {
    "duration": 1045,
    "start_time": "2024-01-11T13:03:49.860Z"
   },
   {
    "duration": 123,
    "start_time": "2024-01-11T13:03:50.906Z"
   },
   {
    "duration": 7,
    "start_time": "2024-01-11T13:03:51.030Z"
   },
   {
    "duration": 30,
    "start_time": "2024-01-11T13:03:51.039Z"
   },
   {
    "duration": 25,
    "start_time": "2024-01-11T13:03:51.071Z"
   },
   {
    "duration": 517,
    "start_time": "2024-01-11T13:03:51.098Z"
   },
   {
    "duration": 191,
    "start_time": "2024-01-11T13:03:51.616Z"
   },
   {
    "duration": 288,
    "start_time": "2024-01-11T13:03:51.809Z"
   },
   {
    "duration": 301,
    "start_time": "2024-01-11T13:03:52.099Z"
   },
   {
    "duration": 328,
    "start_time": "2024-01-11T13:03:52.402Z"
   },
   {
    "duration": 134,
    "start_time": "2024-01-11T13:03:52.732Z"
   },
   {
    "duration": 4,
    "start_time": "2024-01-11T13:03:52.867Z"
   },
   {
    "duration": 156,
    "start_time": "2024-01-11T13:03:52.873Z"
   },
   {
    "duration": 4,
    "start_time": "2024-01-11T13:03:53.030Z"
   },
   {
    "duration": 391,
    "start_time": "2024-01-11T13:03:53.036Z"
   },
   {
    "duration": 10,
    "start_time": "2024-01-11T13:03:53.428Z"
   },
   {
    "duration": 1471,
    "start_time": "2024-01-11T13:03:53.439Z"
   },
   {
    "duration": 1678,
    "start_time": "2024-01-11T13:04:28.355Z"
   },
   {
    "duration": 334,
    "start_time": "2024-01-11T13:05:12.451Z"
   },
   {
    "duration": 1400,
    "start_time": "2024-01-11T13:05:22.522Z"
   },
   {
    "duration": 38,
    "start_time": "2024-01-11T13:05:40.314Z"
   },
   {
    "duration": 13,
    "start_time": "2024-01-11T13:08:51.632Z"
   },
   {
    "duration": 13,
    "start_time": "2024-01-11T13:16:41.858Z"
   },
   {
    "duration": 1064,
    "start_time": "2024-01-11T13:23:35.136Z"
   },
   {
    "duration": 141,
    "start_time": "2024-01-11T13:23:36.202Z"
   },
   {
    "duration": 5,
    "start_time": "2024-01-11T13:23:36.345Z"
   },
   {
    "duration": 44,
    "start_time": "2024-01-11T13:23:36.352Z"
   },
   {
    "duration": 12,
    "start_time": "2024-01-11T13:23:36.398Z"
   },
   {
    "duration": 547,
    "start_time": "2024-01-11T13:23:36.412Z"
   },
   {
    "duration": 197,
    "start_time": "2024-01-11T13:23:36.960Z"
   },
   {
    "duration": 352,
    "start_time": "2024-01-11T13:23:37.159Z"
   },
   {
    "duration": 305,
    "start_time": "2024-01-11T13:23:37.513Z"
   },
   {
    "duration": 315,
    "start_time": "2024-01-11T13:23:37.820Z"
   },
   {
    "duration": 134,
    "start_time": "2024-01-11T13:23:38.136Z"
   },
   {
    "duration": 5,
    "start_time": "2024-01-11T13:23:38.271Z"
   },
   {
    "duration": 162,
    "start_time": "2024-01-11T13:23:38.277Z"
   },
   {
    "duration": 5,
    "start_time": "2024-01-11T13:23:38.440Z"
   },
   {
    "duration": 421,
    "start_time": "2024-01-11T13:23:38.447Z"
   },
   {
    "duration": 11,
    "start_time": "2024-01-11T13:23:38.870Z"
   },
   {
    "duration": 139,
    "start_time": "2024-01-11T13:23:38.882Z"
   },
   {
    "duration": 15,
    "start_time": "2024-01-11T13:23:39.023Z"
   },
   {
    "duration": 1092,
    "start_time": "2024-01-11T13:32:51.764Z"
   },
   {
    "duration": 148,
    "start_time": "2024-01-11T13:32:52.857Z"
   },
   {
    "duration": 7,
    "start_time": "2024-01-11T13:32:53.007Z"
   },
   {
    "duration": 23,
    "start_time": "2024-01-11T13:32:53.016Z"
   },
   {
    "duration": 12,
    "start_time": "2024-01-11T13:32:53.040Z"
   },
   {
    "duration": 612,
    "start_time": "2024-01-11T13:32:53.054Z"
   },
   {
    "duration": 204,
    "start_time": "2024-01-11T13:32:53.672Z"
   },
   {
    "duration": 337,
    "start_time": "2024-01-11T13:32:53.877Z"
   },
   {
    "duration": 301,
    "start_time": "2024-01-11T13:32:54.215Z"
   },
   {
    "duration": 337,
    "start_time": "2024-01-11T13:32:54.519Z"
   },
   {
    "duration": 142,
    "start_time": "2024-01-11T13:32:54.858Z"
   },
   {
    "duration": 4,
    "start_time": "2024-01-11T13:32:55.002Z"
   },
   {
    "duration": 168,
    "start_time": "2024-01-11T13:32:55.007Z"
   },
   {
    "duration": 5,
    "start_time": "2024-01-11T13:32:55.176Z"
   },
   {
    "duration": 391,
    "start_time": "2024-01-11T13:32:55.182Z"
   },
   {
    "duration": 9,
    "start_time": "2024-01-11T13:32:55.575Z"
   },
   {
    "duration": 34,
    "start_time": "2024-01-11T13:32:55.586Z"
   },
   {
    "duration": 13,
    "start_time": "2024-01-11T13:32:55.621Z"
   },
   {
    "duration": 70,
    "start_time": "2024-01-12T07:10:39.479Z"
   },
   {
    "duration": 1146,
    "start_time": "2024-01-12T07:10:52.202Z"
   },
   {
    "duration": 205,
    "start_time": "2024-01-12T07:10:53.350Z"
   },
   {
    "duration": 6,
    "start_time": "2024-01-12T07:10:53.557Z"
   },
   {
    "duration": 9,
    "start_time": "2024-01-12T07:10:53.565Z"
   },
   {
    "duration": 58,
    "start_time": "2024-01-12T07:10:53.576Z"
   },
   {
    "duration": 10,
    "start_time": "2024-01-12T07:10:53.635Z"
   },
   {
    "duration": 520,
    "start_time": "2024-01-12T07:10:53.646Z"
   },
   {
    "duration": 188,
    "start_time": "2024-01-12T07:10:54.167Z"
   },
   {
    "duration": 334,
    "start_time": "2024-01-12T07:10:54.357Z"
   },
   {
    "duration": 305,
    "start_time": "2024-01-12T07:10:54.693Z"
   },
   {
    "duration": 305,
    "start_time": "2024-01-12T07:10:55.000Z"
   },
   {
    "duration": 137,
    "start_time": "2024-01-12T07:10:55.307Z"
   },
   {
    "duration": 4,
    "start_time": "2024-01-12T07:10:55.445Z"
   },
   {
    "duration": 144,
    "start_time": "2024-01-12T07:10:55.451Z"
   },
   {
    "duration": 4,
    "start_time": "2024-01-12T07:10:55.596Z"
   },
   {
    "duration": 368,
    "start_time": "2024-01-12T07:10:55.602Z"
   },
   {
    "duration": 10,
    "start_time": "2024-01-12T07:10:55.971Z"
   },
   {
    "duration": 37,
    "start_time": "2024-01-12T07:10:55.982Z"
   },
   {
    "duration": 15,
    "start_time": "2024-01-12T07:10:56.021Z"
   },
   {
    "duration": 982,
    "start_time": "2024-01-12T07:11:27.905Z"
   },
   {
    "duration": 154,
    "start_time": "2024-01-12T07:11:28.888Z"
   },
   {
    "duration": 6,
    "start_time": "2024-01-12T07:11:29.043Z"
   },
   {
    "duration": 11,
    "start_time": "2024-01-12T07:11:29.050Z"
   },
   {
    "duration": 36,
    "start_time": "2024-01-12T07:11:29.063Z"
   },
   {
    "duration": 29,
    "start_time": "2024-01-12T07:11:29.101Z"
   },
   {
    "duration": 10,
    "start_time": "2024-01-12T07:11:29.132Z"
   },
   {
    "duration": 512,
    "start_time": "2024-01-12T07:11:29.144Z"
   },
   {
    "duration": 182,
    "start_time": "2024-01-12T07:11:29.657Z"
   },
   {
    "duration": 302,
    "start_time": "2024-01-12T07:11:29.841Z"
   },
   {
    "duration": 322,
    "start_time": "2024-01-12T07:11:30.145Z"
   },
   {
    "duration": 317,
    "start_time": "2024-01-12T07:11:30.468Z"
   },
   {
    "duration": 131,
    "start_time": "2024-01-12T07:11:30.787Z"
   },
   {
    "duration": 4,
    "start_time": "2024-01-12T07:11:30.920Z"
   },
   {
    "duration": 165,
    "start_time": "2024-01-12T07:11:30.925Z"
   },
   {
    "duration": 4,
    "start_time": "2024-01-12T07:11:31.091Z"
   },
   {
    "duration": 356,
    "start_time": "2024-01-12T07:11:31.097Z"
   },
   {
    "duration": 15,
    "start_time": "2024-01-12T07:11:31.454Z"
   },
   {
    "duration": 55,
    "start_time": "2024-01-12T07:11:31.470Z"
   },
   {
    "duration": 24,
    "start_time": "2024-01-12T07:11:31.526Z"
   },
   {
    "duration": 88,
    "start_time": "2024-01-12T07:19:45.635Z"
   },
   {
    "duration": 9,
    "start_time": "2024-01-12T07:22:44.483Z"
   },
   {
    "duration": 989,
    "start_time": "2024-01-12T07:22:50.413Z"
   },
   {
    "duration": 142,
    "start_time": "2024-01-12T07:22:51.403Z"
   },
   {
    "duration": 5,
    "start_time": "2024-01-12T07:22:51.547Z"
   },
   {
    "duration": 11,
    "start_time": "2024-01-12T07:22:51.554Z"
   },
   {
    "duration": 5,
    "start_time": "2024-01-12T07:22:51.566Z"
   },
   {
    "duration": 99,
    "start_time": "2024-01-12T07:22:51.572Z"
   },
   {
    "duration": 0,
    "start_time": "2024-01-12T07:22:51.674Z"
   },
   {
    "duration": 0,
    "start_time": "2024-01-12T07:22:51.675Z"
   },
   {
    "duration": 0,
    "start_time": "2024-01-12T07:22:51.676Z"
   },
   {
    "duration": 0,
    "start_time": "2024-01-12T07:22:51.676Z"
   },
   {
    "duration": 0,
    "start_time": "2024-01-12T07:22:51.677Z"
   },
   {
    "duration": 0,
    "start_time": "2024-01-12T07:22:51.678Z"
   },
   {
    "duration": 0,
    "start_time": "2024-01-12T07:22:51.679Z"
   },
   {
    "duration": 0,
    "start_time": "2024-01-12T07:22:51.680Z"
   },
   {
    "duration": 0,
    "start_time": "2024-01-12T07:22:51.681Z"
   },
   {
    "duration": 0,
    "start_time": "2024-01-12T07:22:51.682Z"
   },
   {
    "duration": 0,
    "start_time": "2024-01-12T07:22:51.683Z"
   },
   {
    "duration": 0,
    "start_time": "2024-01-12T07:22:51.684Z"
   },
   {
    "duration": 0,
    "start_time": "2024-01-12T07:22:51.685Z"
   },
   {
    "duration": 0,
    "start_time": "2024-01-12T07:22:51.686Z"
   },
   {
    "duration": 0,
    "start_time": "2024-01-12T07:22:51.687Z"
   },
   {
    "duration": 701,
    "start_time": "2024-01-12T09:41:42.021Z"
   },
   {
    "duration": 9,
    "start_time": "2024-01-12T09:44:02.228Z"
   },
   {
    "duration": 241,
    "start_time": "2024-01-12T09:44:24.202Z"
   },
   {
    "duration": 1062,
    "start_time": "2024-01-12T09:44:28.652Z"
   },
   {
    "duration": 224,
    "start_time": "2024-01-12T09:44:29.716Z"
   },
   {
    "duration": 8,
    "start_time": "2024-01-12T09:44:29.942Z"
   },
   {
    "duration": 9,
    "start_time": "2024-01-12T09:44:29.952Z"
   },
   {
    "duration": 6,
    "start_time": "2024-01-12T09:44:29.963Z"
   },
   {
    "duration": 124,
    "start_time": "2024-01-12T09:44:29.970Z"
   },
   {
    "duration": 0,
    "start_time": "2024-01-12T09:44:30.097Z"
   },
   {
    "duration": 0,
    "start_time": "2024-01-12T09:44:30.099Z"
   },
   {
    "duration": 0,
    "start_time": "2024-01-12T09:44:30.100Z"
   },
   {
    "duration": 0,
    "start_time": "2024-01-12T09:44:30.102Z"
   },
   {
    "duration": 0,
    "start_time": "2024-01-12T09:44:30.103Z"
   },
   {
    "duration": 0,
    "start_time": "2024-01-12T09:44:30.121Z"
   },
   {
    "duration": 0,
    "start_time": "2024-01-12T09:44:30.123Z"
   },
   {
    "duration": 0,
    "start_time": "2024-01-12T09:44:30.125Z"
   },
   {
    "duration": 0,
    "start_time": "2024-01-12T09:44:30.126Z"
   },
   {
    "duration": 0,
    "start_time": "2024-01-12T09:44:30.127Z"
   },
   {
    "duration": 0,
    "start_time": "2024-01-12T09:44:30.128Z"
   },
   {
    "duration": 0,
    "start_time": "2024-01-12T09:44:30.130Z"
   },
   {
    "duration": 0,
    "start_time": "2024-01-12T09:44:30.131Z"
   },
   {
    "duration": 0,
    "start_time": "2024-01-12T09:44:30.132Z"
   },
   {
    "duration": 0,
    "start_time": "2024-01-12T09:44:30.133Z"
   },
   {
    "duration": 31,
    "start_time": "2024-01-12T10:10:52.374Z"
   },
   {
    "duration": 9,
    "start_time": "2024-01-12T10:11:25.017Z"
   },
   {
    "duration": 5,
    "start_time": "2024-01-12T10:16:39.565Z"
   },
   {
    "duration": 9,
    "start_time": "2024-01-12T10:17:06.492Z"
   },
   {
    "duration": 7,
    "start_time": "2024-01-12T10:17:14.053Z"
   },
   {
    "duration": 7,
    "start_time": "2024-01-12T10:18:37.867Z"
   },
   {
    "duration": 1469,
    "start_time": "2024-01-12T10:18:58.952Z"
   },
   {
    "duration": 8,
    "start_time": "2024-01-12T10:19:09.964Z"
   },
   {
    "duration": 2542,
    "start_time": "2024-01-12T10:21:10.258Z"
   },
   {
    "duration": 1473,
    "start_time": "2024-01-12T10:21:13.019Z"
   },
   {
    "duration": 71,
    "start_time": "2024-01-12T10:21:21.066Z"
   },
   {
    "duration": 213,
    "start_time": "2024-01-12T10:26:57.071Z"
   },
   {
    "duration": 13,
    "start_time": "2024-01-12T10:33:19.829Z"
   },
   {
    "duration": 10,
    "start_time": "2024-01-12T10:33:34.116Z"
   },
   {
    "duration": 9,
    "start_time": "2024-01-12T10:33:51.006Z"
   },
   {
    "duration": 8,
    "start_time": "2024-01-12T10:34:43.219Z"
   },
   {
    "duration": 8,
    "start_time": "2024-01-12T10:39:17.785Z"
   },
   {
    "duration": 3,
    "start_time": "2024-01-12T10:39:39.123Z"
   },
   {
    "duration": 3,
    "start_time": "2024-01-12T10:39:45.080Z"
   },
   {
    "duration": 4,
    "start_time": "2024-01-12T10:39:53.914Z"
   },
   {
    "duration": 3,
    "start_time": "2024-01-12T10:40:26.640Z"
   },
   {
    "duration": 5,
    "start_time": "2024-01-12T10:41:14.944Z"
   },
   {
    "duration": 14,
    "start_time": "2024-01-12T10:50:10.228Z"
   },
   {
    "duration": 14,
    "start_time": "2024-01-12T10:51:08.564Z"
   },
   {
    "duration": 14,
    "start_time": "2024-01-12T10:51:53.473Z"
   },
   {
    "duration": 16,
    "start_time": "2024-01-12T10:52:05.288Z"
   },
   {
    "duration": 9,
    "start_time": "2024-01-12T10:52:38.968Z"
   },
   {
    "duration": 9,
    "start_time": "2024-01-12T10:53:03.351Z"
   },
   {
    "duration": 72,
    "start_time": "2024-01-12T10:53:44.751Z"
   },
   {
    "duration": 11,
    "start_time": "2024-01-12T10:53:49.519Z"
   },
   {
    "duration": 9,
    "start_time": "2024-01-12T10:54:04.719Z"
   },
   {
    "duration": 16,
    "start_time": "2024-01-12T11:00:30.139Z"
   },
   {
    "duration": 10,
    "start_time": "2024-01-12T11:01:14.467Z"
   },
   {
    "duration": 355,
    "start_time": "2024-01-12T11:01:21.154Z"
   },
   {
    "duration": 71,
    "start_time": "2024-01-12T11:10:11.549Z"
   },
   {
    "duration": 28,
    "start_time": "2024-01-12T11:12:05.315Z"
   },
   {
    "duration": 26,
    "start_time": "2024-01-12T11:12:09.467Z"
   },
   {
    "duration": 37,
    "start_time": "2024-01-12T11:12:25.322Z"
   },
   {
    "duration": 94,
    "start_time": "2024-01-12T11:14:58.732Z"
   },
   {
    "duration": 962,
    "start_time": "2024-01-12T11:30:48.007Z"
   },
   {
    "duration": 33,
    "start_time": "2024-01-12T11:31:12.199Z"
   },
   {
    "duration": 1028,
    "start_time": "2024-01-12T11:31:44.934Z"
   },
   {
    "duration": 32,
    "start_time": "2024-01-12T11:35:49.748Z"
   },
   {
    "duration": 37,
    "start_time": "2024-01-12T11:40:39.625Z"
   },
   {
    "duration": 36,
    "start_time": "2024-01-12T11:41:34.697Z"
   },
   {
    "duration": 13,
    "start_time": "2024-01-12T11:44:39.534Z"
   },
   {
    "duration": 9,
    "start_time": "2024-01-12T11:45:18.147Z"
   },
   {
    "duration": 10,
    "start_time": "2024-01-12T11:45:56.590Z"
   },
   {
    "duration": 19,
    "start_time": "2024-01-12T12:08:08.145Z"
   },
   {
    "duration": 898,
    "start_time": "2024-01-12T12:08:36.296Z"
   },
   {
    "duration": 922,
    "start_time": "2024-01-12T12:09:30.959Z"
   },
   {
    "duration": 1214,
    "start_time": "2024-01-12T12:10:14.528Z"
   },
   {
    "duration": 1141,
    "start_time": "2024-01-12T12:10:25.002Z"
   },
   {
    "duration": 157,
    "start_time": "2024-01-12T12:10:26.145Z"
   },
   {
    "duration": 8,
    "start_time": "2024-01-12T12:10:26.303Z"
   },
   {
    "duration": 18,
    "start_time": "2024-01-12T12:10:26.314Z"
   },
   {
    "duration": 56,
    "start_time": "2024-01-12T12:10:26.334Z"
   },
   {
    "duration": 85,
    "start_time": "2024-01-12T12:10:26.392Z"
   },
   {
    "duration": 0,
    "start_time": "2024-01-12T12:10:26.480Z"
   },
   {
    "duration": 0,
    "start_time": "2024-01-12T12:10:26.482Z"
   },
   {
    "duration": 0,
    "start_time": "2024-01-12T12:10:26.484Z"
   },
   {
    "duration": 0,
    "start_time": "2024-01-12T12:10:26.485Z"
   },
   {
    "duration": 0,
    "start_time": "2024-01-12T12:10:26.487Z"
   },
   {
    "duration": 0,
    "start_time": "2024-01-12T12:10:26.489Z"
   },
   {
    "duration": 0,
    "start_time": "2024-01-12T12:10:26.490Z"
   },
   {
    "duration": 0,
    "start_time": "2024-01-12T12:10:26.491Z"
   },
   {
    "duration": 0,
    "start_time": "2024-01-12T12:10:26.493Z"
   },
   {
    "duration": 0,
    "start_time": "2024-01-12T12:10:26.495Z"
   },
   {
    "duration": 0,
    "start_time": "2024-01-12T12:10:26.496Z"
   },
   {
    "duration": 0,
    "start_time": "2024-01-12T12:10:26.498Z"
   },
   {
    "duration": 0,
    "start_time": "2024-01-12T12:10:26.499Z"
   },
   {
    "duration": 0,
    "start_time": "2024-01-12T12:10:26.501Z"
   },
   {
    "duration": 0,
    "start_time": "2024-01-12T12:10:26.503Z"
   },
   {
    "duration": 12,
    "start_time": "2024-01-12T12:10:52.831Z"
   },
   {
    "duration": 8,
    "start_time": "2024-01-12T12:11:35.538Z"
   },
   {
    "duration": 79,
    "start_time": "2024-01-12T12:12:47.015Z"
   },
   {
    "duration": 110,
    "start_time": "2024-01-12T12:23:41.754Z"
   },
   {
    "duration": 1074,
    "start_time": "2024-01-12T12:23:47.821Z"
   },
   {
    "duration": 148,
    "start_time": "2024-01-12T12:23:48.897Z"
   },
   {
    "duration": 7,
    "start_time": "2024-01-12T12:23:49.047Z"
   },
   {
    "duration": 9,
    "start_time": "2024-01-12T12:23:49.057Z"
   },
   {
    "duration": 9,
    "start_time": "2024-01-12T12:23:49.067Z"
   },
   {
    "duration": 56,
    "start_time": "2024-01-12T12:23:49.078Z"
   },
   {
    "duration": 11,
    "start_time": "2024-01-12T12:23:49.135Z"
   },
   {
    "duration": 589,
    "start_time": "2024-01-12T12:23:49.147Z"
   },
   {
    "duration": 209,
    "start_time": "2024-01-12T12:23:49.738Z"
   },
   {
    "duration": 298,
    "start_time": "2024-01-12T12:23:49.950Z"
   },
   {
    "duration": 331,
    "start_time": "2024-01-12T12:23:50.250Z"
   },
   {
    "duration": 398,
    "start_time": "2024-01-12T12:23:50.583Z"
   },
   {
    "duration": 175,
    "start_time": "2024-01-12T12:23:50.982Z"
   },
   {
    "duration": 5,
    "start_time": "2024-01-12T12:23:51.159Z"
   },
   {
    "duration": 167,
    "start_time": "2024-01-12T12:23:51.165Z"
   },
   {
    "duration": 4,
    "start_time": "2024-01-12T12:23:51.333Z"
   },
   {
    "duration": 398,
    "start_time": "2024-01-12T12:23:51.338Z"
   },
   {
    "duration": 11,
    "start_time": "2024-01-12T12:23:51.737Z"
   },
   {
    "duration": 33,
    "start_time": "2024-01-12T12:23:51.750Z"
   },
   {
    "duration": 38,
    "start_time": "2024-01-12T12:23:51.784Z"
   },
   {
    "duration": 1070,
    "start_time": "2024-01-13T12:29:22.635Z"
   },
   {
    "duration": 150,
    "start_time": "2024-01-13T12:29:23.707Z"
   },
   {
    "duration": 7,
    "start_time": "2024-01-13T12:29:23.858Z"
   },
   {
    "duration": 16,
    "start_time": "2024-01-13T12:29:23.867Z"
   },
   {
    "duration": 6,
    "start_time": "2024-01-13T12:29:23.885Z"
   },
   {
    "duration": 38,
    "start_time": "2024-01-13T12:29:23.893Z"
   },
   {
    "duration": 12,
    "start_time": "2024-01-13T12:29:23.932Z"
   },
   {
    "duration": 606,
    "start_time": "2024-01-13T12:29:23.946Z"
   },
   {
    "duration": 208,
    "start_time": "2024-01-13T12:29:24.553Z"
   },
   {
    "duration": 340,
    "start_time": "2024-01-13T12:29:24.764Z"
   },
   {
    "duration": 316,
    "start_time": "2024-01-13T12:29:25.106Z"
   },
   {
    "duration": 343,
    "start_time": "2024-01-13T12:29:25.423Z"
   },
   {
    "duration": 147,
    "start_time": "2024-01-13T12:29:25.768Z"
   },
   {
    "duration": 4,
    "start_time": "2024-01-13T12:29:25.917Z"
   },
   {
    "duration": 201,
    "start_time": "2024-01-13T12:29:25.923Z"
   },
   {
    "duration": 5,
    "start_time": "2024-01-13T12:29:26.125Z"
   },
   {
    "duration": 400,
    "start_time": "2024-01-13T12:29:26.132Z"
   },
   {
    "duration": 12,
    "start_time": "2024-01-13T12:29:26.534Z"
   },
   {
    "duration": 52,
    "start_time": "2024-01-13T12:29:26.548Z"
   },
   {
    "duration": 15,
    "start_time": "2024-01-13T12:29:26.602Z"
   },
   {
    "duration": 1162,
    "start_time": "2024-01-13T12:29:56.668Z"
   },
   {
    "duration": 147,
    "start_time": "2024-01-13T12:29:57.832Z"
   },
   {
    "duration": 7,
    "start_time": "2024-01-13T12:29:57.980Z"
   },
   {
    "duration": 30,
    "start_time": "2024-01-13T12:29:57.989Z"
   },
   {
    "duration": 7,
    "start_time": "2024-01-13T12:29:58.021Z"
   },
   {
    "duration": 25,
    "start_time": "2024-01-13T12:29:58.030Z"
   },
   {
    "duration": 10,
    "start_time": "2024-01-13T12:29:58.057Z"
   },
   {
    "duration": 611,
    "start_time": "2024-01-13T12:29:58.068Z"
   },
   {
    "duration": 341,
    "start_time": "2024-01-13T12:29:58.681Z"
   },
   {
    "duration": 575,
    "start_time": "2024-01-13T12:29:59.025Z"
   },
   {
    "duration": 509,
    "start_time": "2024-01-13T12:29:59.602Z"
   },
   {
    "duration": 502,
    "start_time": "2024-01-13T12:30:00.113Z"
   },
   {
    "duration": 151,
    "start_time": "2024-01-13T12:30:00.618Z"
   },
   {
    "duration": 4,
    "start_time": "2024-01-13T12:30:00.771Z"
   },
   {
    "duration": 177,
    "start_time": "2024-01-13T12:30:00.777Z"
   },
   {
    "duration": 4,
    "start_time": "2024-01-13T12:30:00.956Z"
   },
   {
    "duration": 445,
    "start_time": "2024-01-13T12:30:00.961Z"
   },
   {
    "duration": 12,
    "start_time": "2024-01-13T12:30:01.407Z"
   },
   {
    "duration": 81,
    "start_time": "2024-01-13T12:30:01.420Z"
   },
   {
    "duration": 34,
    "start_time": "2024-01-13T12:30:01.502Z"
   }
  ],
  "kernelspec": {
   "display_name": "Python 3 (ipykernel)",
   "language": "python",
   "name": "python3"
  },
  "language_info": {
   "codemirror_mode": {
    "name": "ipython",
    "version": 3
   },
   "file_extension": ".py",
   "mimetype": "text/x-python",
   "name": "python",
   "nbconvert_exporter": "python",
   "pygments_lexer": "ipython3",
   "version": "3.9.5"
  },
  "toc": {
   "base_numbering": 1,
   "nav_menu": {},
   "number_sections": true,
   "sideBar": true,
   "skip_h1_title": true,
   "title_cell": "Table of Contents",
   "title_sidebar": "Contents",
   "toc_cell": false,
   "toc_position": {
    "height": "calc(100% - 180px)",
    "left": "10px",
    "top": "150px",
    "width": "165px"
   },
   "toc_section_display": true,
   "toc_window_display": true
  }
 },
 "nbformat": 4,
 "nbformat_minor": 2
}
