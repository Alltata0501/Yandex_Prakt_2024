{
 "cells": [
  {
   "cell_type": "markdown",
   "id": "386f2ae7",
   "metadata": {
    "deletable": false,
    "editable": false,
    "id": "386f2ae7"
   },
   "source": [
    "# Исследование надежности заемщиков\n"
   ]
  },
  {
   "cell_type": "markdown",
   "id": "ffe86f65",
   "metadata": {
    "deletable": false,
    "editable": false,
    "id": "ffe86f65"
   },
   "source": [
    "Во второй части проекта вы выполните шаги 3 и 4. Их вручную проверит ревьюер.\n",
    "Чтобы вам не пришлось писать код заново для шагов 1 и 2, мы добавили авторские решения в ячейки с кодом. \n",
    "\n"
   ]
  },
  {
   "cell_type": "markdown",
   "id": "26613308",
   "metadata": {
    "deletable": false,
    "editable": false,
    "id": "26613308"
   },
   "source": [
    "## Откройте таблицу и изучите общую информацию о данных"
   ]
  },
  {
   "cell_type": "markdown",
   "id": "3c9f838e",
   "metadata": {
    "deletable": false,
    "editable": false,
    "id": "3c9f838e"
   },
   "source": [
    "**Задание 1. Импортируйте библиотеку pandas. Считайте данные из csv-файла в датафрейм и сохраните в переменную `data`. Путь к файлу:**\n",
    "\n",
    "`/datasets/data.csv`"
   ]
  },
  {
   "cell_type": "code",
   "execution_count": 1,
   "id": "77a68a90",
   "metadata": {
    "deletable": false,
    "id": "77a68a90"
   },
   "outputs": [],
   "source": [
    "import pandas as pd\n",
    "\n",
    "try:\n",
    "    data = pd.read_csv('/datasets/data.csv')\n",
    "except:\n",
    "    data = pd.read_csv('https://code.s3.yandex.net/datasets/data.csv')"
   ]
  },
  {
   "cell_type": "markdown",
   "id": "45365635",
   "metadata": {
    "deletable": false,
    "editable": false,
    "id": "45365635"
   },
   "source": [
    "**Задание 2. Выведите первые 20 строчек датафрейма `data` на экран.**"
   ]
  },
  {
   "cell_type": "code",
   "execution_count": 2,
   "id": "b0451a9a",
   "metadata": {
    "deletable": false,
    "id": "b0451a9a",
    "outputId": "1a8f3ef2-d323-4ec2-ddf7-89670b5944c4"
   },
   "outputs": [
    {
     "data": {
      "text/html": [
       "<div>\n",
       "<style scoped>\n",
       "    .dataframe tbody tr th:only-of-type {\n",
       "        vertical-align: middle;\n",
       "    }\n",
       "\n",
       "    .dataframe tbody tr th {\n",
       "        vertical-align: top;\n",
       "    }\n",
       "\n",
       "    .dataframe thead th {\n",
       "        text-align: right;\n",
       "    }\n",
       "</style>\n",
       "<table border=\"1\" class=\"dataframe\">\n",
       "  <thead>\n",
       "    <tr style=\"text-align: right;\">\n",
       "      <th></th>\n",
       "      <th>children</th>\n",
       "      <th>days_employed</th>\n",
       "      <th>dob_years</th>\n",
       "      <th>education</th>\n",
       "      <th>education_id</th>\n",
       "      <th>family_status</th>\n",
       "      <th>family_status_id</th>\n",
       "      <th>gender</th>\n",
       "      <th>income_type</th>\n",
       "      <th>debt</th>\n",
       "      <th>total_income</th>\n",
       "      <th>purpose</th>\n",
       "    </tr>\n",
       "  </thead>\n",
       "  <tbody>\n",
       "    <tr>\n",
       "      <th>0</th>\n",
       "      <td>1</td>\n",
       "      <td>-8437.673028</td>\n",
       "      <td>42</td>\n",
       "      <td>высшее</td>\n",
       "      <td>0</td>\n",
       "      <td>женат / замужем</td>\n",
       "      <td>0</td>\n",
       "      <td>F</td>\n",
       "      <td>сотрудник</td>\n",
       "      <td>0</td>\n",
       "      <td>253875.639453</td>\n",
       "      <td>покупка жилья</td>\n",
       "    </tr>\n",
       "    <tr>\n",
       "      <th>1</th>\n",
       "      <td>1</td>\n",
       "      <td>-4024.803754</td>\n",
       "      <td>36</td>\n",
       "      <td>среднее</td>\n",
       "      <td>1</td>\n",
       "      <td>женат / замужем</td>\n",
       "      <td>0</td>\n",
       "      <td>F</td>\n",
       "      <td>сотрудник</td>\n",
       "      <td>0</td>\n",
       "      <td>112080.014102</td>\n",
       "      <td>приобретение автомобиля</td>\n",
       "    </tr>\n",
       "    <tr>\n",
       "      <th>2</th>\n",
       "      <td>0</td>\n",
       "      <td>-5623.422610</td>\n",
       "      <td>33</td>\n",
       "      <td>Среднее</td>\n",
       "      <td>1</td>\n",
       "      <td>женат / замужем</td>\n",
       "      <td>0</td>\n",
       "      <td>M</td>\n",
       "      <td>сотрудник</td>\n",
       "      <td>0</td>\n",
       "      <td>145885.952297</td>\n",
       "      <td>покупка жилья</td>\n",
       "    </tr>\n",
       "    <tr>\n",
       "      <th>3</th>\n",
       "      <td>3</td>\n",
       "      <td>-4124.747207</td>\n",
       "      <td>32</td>\n",
       "      <td>среднее</td>\n",
       "      <td>1</td>\n",
       "      <td>женат / замужем</td>\n",
       "      <td>0</td>\n",
       "      <td>M</td>\n",
       "      <td>сотрудник</td>\n",
       "      <td>0</td>\n",
       "      <td>267628.550329</td>\n",
       "      <td>дополнительное образование</td>\n",
       "    </tr>\n",
       "    <tr>\n",
       "      <th>4</th>\n",
       "      <td>0</td>\n",
       "      <td>340266.072047</td>\n",
       "      <td>53</td>\n",
       "      <td>среднее</td>\n",
       "      <td>1</td>\n",
       "      <td>гражданский брак</td>\n",
       "      <td>1</td>\n",
       "      <td>F</td>\n",
       "      <td>пенсионер</td>\n",
       "      <td>0</td>\n",
       "      <td>158616.077870</td>\n",
       "      <td>сыграть свадьбу</td>\n",
       "    </tr>\n",
       "    <tr>\n",
       "      <th>5</th>\n",
       "      <td>0</td>\n",
       "      <td>-926.185831</td>\n",
       "      <td>27</td>\n",
       "      <td>высшее</td>\n",
       "      <td>0</td>\n",
       "      <td>гражданский брак</td>\n",
       "      <td>1</td>\n",
       "      <td>M</td>\n",
       "      <td>компаньон</td>\n",
       "      <td>0</td>\n",
       "      <td>255763.565419</td>\n",
       "      <td>покупка жилья</td>\n",
       "    </tr>\n",
       "    <tr>\n",
       "      <th>6</th>\n",
       "      <td>0</td>\n",
       "      <td>-2879.202052</td>\n",
       "      <td>43</td>\n",
       "      <td>высшее</td>\n",
       "      <td>0</td>\n",
       "      <td>женат / замужем</td>\n",
       "      <td>0</td>\n",
       "      <td>F</td>\n",
       "      <td>компаньон</td>\n",
       "      <td>0</td>\n",
       "      <td>240525.971920</td>\n",
       "      <td>операции с жильем</td>\n",
       "    </tr>\n",
       "    <tr>\n",
       "      <th>7</th>\n",
       "      <td>0</td>\n",
       "      <td>-152.779569</td>\n",
       "      <td>50</td>\n",
       "      <td>СРЕДНЕЕ</td>\n",
       "      <td>1</td>\n",
       "      <td>женат / замужем</td>\n",
       "      <td>0</td>\n",
       "      <td>M</td>\n",
       "      <td>сотрудник</td>\n",
       "      <td>0</td>\n",
       "      <td>135823.934197</td>\n",
       "      <td>образование</td>\n",
       "    </tr>\n",
       "    <tr>\n",
       "      <th>8</th>\n",
       "      <td>2</td>\n",
       "      <td>-6929.865299</td>\n",
       "      <td>35</td>\n",
       "      <td>ВЫСШЕЕ</td>\n",
       "      <td>0</td>\n",
       "      <td>гражданский брак</td>\n",
       "      <td>1</td>\n",
       "      <td>F</td>\n",
       "      <td>сотрудник</td>\n",
       "      <td>0</td>\n",
       "      <td>95856.832424</td>\n",
       "      <td>на проведение свадьбы</td>\n",
       "    </tr>\n",
       "    <tr>\n",
       "      <th>9</th>\n",
       "      <td>0</td>\n",
       "      <td>-2188.756445</td>\n",
       "      <td>41</td>\n",
       "      <td>среднее</td>\n",
       "      <td>1</td>\n",
       "      <td>женат / замужем</td>\n",
       "      <td>0</td>\n",
       "      <td>M</td>\n",
       "      <td>сотрудник</td>\n",
       "      <td>0</td>\n",
       "      <td>144425.938277</td>\n",
       "      <td>покупка жилья для семьи</td>\n",
       "    </tr>\n",
       "    <tr>\n",
       "      <th>10</th>\n",
       "      <td>2</td>\n",
       "      <td>-4171.483647</td>\n",
       "      <td>36</td>\n",
       "      <td>высшее</td>\n",
       "      <td>0</td>\n",
       "      <td>женат / замужем</td>\n",
       "      <td>0</td>\n",
       "      <td>M</td>\n",
       "      <td>компаньон</td>\n",
       "      <td>0</td>\n",
       "      <td>113943.491460</td>\n",
       "      <td>покупка недвижимости</td>\n",
       "    </tr>\n",
       "    <tr>\n",
       "      <th>11</th>\n",
       "      <td>0</td>\n",
       "      <td>-792.701887</td>\n",
       "      <td>40</td>\n",
       "      <td>среднее</td>\n",
       "      <td>1</td>\n",
       "      <td>женат / замужем</td>\n",
       "      <td>0</td>\n",
       "      <td>F</td>\n",
       "      <td>сотрудник</td>\n",
       "      <td>0</td>\n",
       "      <td>77069.234271</td>\n",
       "      <td>покупка коммерческой недвижимости</td>\n",
       "    </tr>\n",
       "    <tr>\n",
       "      <th>12</th>\n",
       "      <td>0</td>\n",
       "      <td>NaN</td>\n",
       "      <td>65</td>\n",
       "      <td>среднее</td>\n",
       "      <td>1</td>\n",
       "      <td>гражданский брак</td>\n",
       "      <td>1</td>\n",
       "      <td>M</td>\n",
       "      <td>пенсионер</td>\n",
       "      <td>0</td>\n",
       "      <td>NaN</td>\n",
       "      <td>сыграть свадьбу</td>\n",
       "    </tr>\n",
       "    <tr>\n",
       "      <th>13</th>\n",
       "      <td>0</td>\n",
       "      <td>-1846.641941</td>\n",
       "      <td>54</td>\n",
       "      <td>неоконченное высшее</td>\n",
       "      <td>2</td>\n",
       "      <td>женат / замужем</td>\n",
       "      <td>0</td>\n",
       "      <td>F</td>\n",
       "      <td>сотрудник</td>\n",
       "      <td>0</td>\n",
       "      <td>130458.228857</td>\n",
       "      <td>приобретение автомобиля</td>\n",
       "    </tr>\n",
       "    <tr>\n",
       "      <th>14</th>\n",
       "      <td>0</td>\n",
       "      <td>-1844.956182</td>\n",
       "      <td>56</td>\n",
       "      <td>высшее</td>\n",
       "      <td>0</td>\n",
       "      <td>гражданский брак</td>\n",
       "      <td>1</td>\n",
       "      <td>F</td>\n",
       "      <td>компаньон</td>\n",
       "      <td>1</td>\n",
       "      <td>165127.911772</td>\n",
       "      <td>покупка жилой недвижимости</td>\n",
       "    </tr>\n",
       "    <tr>\n",
       "      <th>15</th>\n",
       "      <td>1</td>\n",
       "      <td>-972.364419</td>\n",
       "      <td>26</td>\n",
       "      <td>среднее</td>\n",
       "      <td>1</td>\n",
       "      <td>женат / замужем</td>\n",
       "      <td>0</td>\n",
       "      <td>F</td>\n",
       "      <td>сотрудник</td>\n",
       "      <td>0</td>\n",
       "      <td>116820.904450</td>\n",
       "      <td>строительство собственной недвижимости</td>\n",
       "    </tr>\n",
       "    <tr>\n",
       "      <th>16</th>\n",
       "      <td>0</td>\n",
       "      <td>-1719.934226</td>\n",
       "      <td>35</td>\n",
       "      <td>среднее</td>\n",
       "      <td>1</td>\n",
       "      <td>женат / замужем</td>\n",
       "      <td>0</td>\n",
       "      <td>F</td>\n",
       "      <td>сотрудник</td>\n",
       "      <td>0</td>\n",
       "      <td>289202.704229</td>\n",
       "      <td>недвижимость</td>\n",
       "    </tr>\n",
       "    <tr>\n",
       "      <th>17</th>\n",
       "      <td>0</td>\n",
       "      <td>-2369.999720</td>\n",
       "      <td>33</td>\n",
       "      <td>высшее</td>\n",
       "      <td>0</td>\n",
       "      <td>гражданский брак</td>\n",
       "      <td>1</td>\n",
       "      <td>M</td>\n",
       "      <td>сотрудник</td>\n",
       "      <td>0</td>\n",
       "      <td>90410.586745</td>\n",
       "      <td>строительство недвижимости</td>\n",
       "    </tr>\n",
       "    <tr>\n",
       "      <th>18</th>\n",
       "      <td>0</td>\n",
       "      <td>400281.136913</td>\n",
       "      <td>53</td>\n",
       "      <td>среднее</td>\n",
       "      <td>1</td>\n",
       "      <td>вдовец / вдова</td>\n",
       "      <td>2</td>\n",
       "      <td>F</td>\n",
       "      <td>пенсионер</td>\n",
       "      <td>0</td>\n",
       "      <td>56823.777243</td>\n",
       "      <td>на покупку подержанного автомобиля</td>\n",
       "    </tr>\n",
       "    <tr>\n",
       "      <th>19</th>\n",
       "      <td>0</td>\n",
       "      <td>-10038.818549</td>\n",
       "      <td>48</td>\n",
       "      <td>СРЕДНЕЕ</td>\n",
       "      <td>1</td>\n",
       "      <td>в разводе</td>\n",
       "      <td>3</td>\n",
       "      <td>F</td>\n",
       "      <td>сотрудник</td>\n",
       "      <td>0</td>\n",
       "      <td>242831.107982</td>\n",
       "      <td>на покупку своего автомобиля</td>\n",
       "    </tr>\n",
       "  </tbody>\n",
       "</table>\n",
       "</div>"
      ],
      "text/plain": [
       "    children  days_employed  dob_years            education  education_id  \\\n",
       "0          1   -8437.673028         42               высшее             0   \n",
       "1          1   -4024.803754         36              среднее             1   \n",
       "2          0   -5623.422610         33              Среднее             1   \n",
       "3          3   -4124.747207         32              среднее             1   \n",
       "4          0  340266.072047         53              среднее             1   \n",
       "5          0    -926.185831         27               высшее             0   \n",
       "6          0   -2879.202052         43               высшее             0   \n",
       "7          0    -152.779569         50              СРЕДНЕЕ             1   \n",
       "8          2   -6929.865299         35               ВЫСШЕЕ             0   \n",
       "9          0   -2188.756445         41              среднее             1   \n",
       "10         2   -4171.483647         36               высшее             0   \n",
       "11         0    -792.701887         40              среднее             1   \n",
       "12         0            NaN         65              среднее             1   \n",
       "13         0   -1846.641941         54  неоконченное высшее             2   \n",
       "14         0   -1844.956182         56               высшее             0   \n",
       "15         1    -972.364419         26              среднее             1   \n",
       "16         0   -1719.934226         35              среднее             1   \n",
       "17         0   -2369.999720         33               высшее             0   \n",
       "18         0  400281.136913         53              среднее             1   \n",
       "19         0  -10038.818549         48              СРЕДНЕЕ             1   \n",
       "\n",
       "       family_status  family_status_id gender income_type  debt  \\\n",
       "0    женат / замужем                 0      F   сотрудник     0   \n",
       "1    женат / замужем                 0      F   сотрудник     0   \n",
       "2    женат / замужем                 0      M   сотрудник     0   \n",
       "3    женат / замужем                 0      M   сотрудник     0   \n",
       "4   гражданский брак                 1      F   пенсионер     0   \n",
       "5   гражданский брак                 1      M   компаньон     0   \n",
       "6    женат / замужем                 0      F   компаньон     0   \n",
       "7    женат / замужем                 0      M   сотрудник     0   \n",
       "8   гражданский брак                 1      F   сотрудник     0   \n",
       "9    женат / замужем                 0      M   сотрудник     0   \n",
       "10   женат / замужем                 0      M   компаньон     0   \n",
       "11   женат / замужем                 0      F   сотрудник     0   \n",
       "12  гражданский брак                 1      M   пенсионер     0   \n",
       "13   женат / замужем                 0      F   сотрудник     0   \n",
       "14  гражданский брак                 1      F   компаньон     1   \n",
       "15   женат / замужем                 0      F   сотрудник     0   \n",
       "16   женат / замужем                 0      F   сотрудник     0   \n",
       "17  гражданский брак                 1      M   сотрудник     0   \n",
       "18    вдовец / вдова                 2      F   пенсионер     0   \n",
       "19         в разводе                 3      F   сотрудник     0   \n",
       "\n",
       "     total_income                                 purpose  \n",
       "0   253875.639453                           покупка жилья  \n",
       "1   112080.014102                 приобретение автомобиля  \n",
       "2   145885.952297                           покупка жилья  \n",
       "3   267628.550329              дополнительное образование  \n",
       "4   158616.077870                         сыграть свадьбу  \n",
       "5   255763.565419                           покупка жилья  \n",
       "6   240525.971920                       операции с жильем  \n",
       "7   135823.934197                             образование  \n",
       "8    95856.832424                   на проведение свадьбы  \n",
       "9   144425.938277                 покупка жилья для семьи  \n",
       "10  113943.491460                    покупка недвижимости  \n",
       "11   77069.234271       покупка коммерческой недвижимости  \n",
       "12            NaN                         сыграть свадьбу  \n",
       "13  130458.228857                 приобретение автомобиля  \n",
       "14  165127.911772              покупка жилой недвижимости  \n",
       "15  116820.904450  строительство собственной недвижимости  \n",
       "16  289202.704229                            недвижимость  \n",
       "17   90410.586745              строительство недвижимости  \n",
       "18   56823.777243      на покупку подержанного автомобиля  \n",
       "19  242831.107982            на покупку своего автомобиля  "
      ]
     },
     "execution_count": 2,
     "metadata": {},
     "output_type": "execute_result"
    }
   ],
   "source": [
    "data.head(20)"
   ]
  },
  {
   "cell_type": "markdown",
   "id": "0ed8f27f",
   "metadata": {
    "deletable": false,
    "editable": false,
    "id": "0ed8f27f"
   },
   "source": [
    "**Задание 3. Выведите основную информацию о датафрейме с помощью метода `info()`.**"
   ]
  },
  {
   "cell_type": "code",
   "execution_count": 3,
   "id": "ab3f863b",
   "metadata": {
    "deletable": false,
    "id": "ab3f863b",
    "outputId": "15376089-8dad-46c9-b520-c05248d43158"
   },
   "outputs": [
    {
     "name": "stdout",
     "output_type": "stream",
     "text": [
      "<class 'pandas.core.frame.DataFrame'>\n",
      "RangeIndex: 21525 entries, 0 to 21524\n",
      "Data columns (total 12 columns):\n",
      " #   Column            Non-Null Count  Dtype  \n",
      "---  ------            --------------  -----  \n",
      " 0   children          21525 non-null  int64  \n",
      " 1   days_employed     19351 non-null  float64\n",
      " 2   dob_years         21525 non-null  int64  \n",
      " 3   education         21525 non-null  object \n",
      " 4   education_id      21525 non-null  int64  \n",
      " 5   family_status     21525 non-null  object \n",
      " 6   family_status_id  21525 non-null  int64  \n",
      " 7   gender            21525 non-null  object \n",
      " 8   income_type       21525 non-null  object \n",
      " 9   debt              21525 non-null  int64  \n",
      " 10  total_income      19351 non-null  float64\n",
      " 11  purpose           21525 non-null  object \n",
      "dtypes: float64(2), int64(5), object(5)\n",
      "memory usage: 2.0+ MB\n"
     ]
    }
   ],
   "source": [
    "data.info()"
   ]
  },
  {
   "cell_type": "markdown",
   "id": "60e3e22d",
   "metadata": {
    "deletable": false,
    "editable": false,
    "id": "60e3e22d"
   },
   "source": [
    "## Предобработка данных"
   ]
  },
  {
   "cell_type": "markdown",
   "id": "03dc170c",
   "metadata": {
    "deletable": false,
    "editable": false,
    "id": "03dc170c"
   },
   "source": [
    "### Удаление пропусков"
   ]
  },
  {
   "cell_type": "markdown",
   "id": "a4f54eef",
   "metadata": {
    "deletable": false,
    "editable": false,
    "id": "a4f54eef"
   },
   "source": [
    "**Задание 4. Выведите количество пропущенных значений для каждого столбца. Используйте комбинацию двух методов.**"
   ]
  },
  {
   "cell_type": "code",
   "execution_count": 4,
   "id": "2dc372b2",
   "metadata": {
    "deletable": false,
    "id": "2dc372b2",
    "outputId": "81f4d817-781c-465c-ed15-91ce4446810d"
   },
   "outputs": [
    {
     "data": {
      "text/plain": [
       "children               0\n",
       "days_employed       2174\n",
       "dob_years              0\n",
       "education              0\n",
       "education_id           0\n",
       "family_status          0\n",
       "family_status_id       0\n",
       "gender                 0\n",
       "income_type            0\n",
       "debt                   0\n",
       "total_income        2174\n",
       "purpose                0\n",
       "dtype: int64"
      ]
     },
     "execution_count": 4,
     "metadata": {},
     "output_type": "execute_result"
    }
   ],
   "source": [
    "data.isna().sum()"
   ]
  },
  {
   "cell_type": "markdown",
   "id": "14f011b1",
   "metadata": {
    "deletable": false,
    "editable": false,
    "id": "14f011b1"
   },
   "source": [
    "**Задание 5. В двух столбцах есть пропущенные значения. Один из них — `days_employed`. Пропуски в этом столбце вы обработаете на следующем этапе. Другой столбец с пропущенными значениями — `total_income` — хранит данные о доходах. На сумму дохода сильнее всего влияет тип занятости, поэтому заполнить пропуски в этом столбце нужно медианным значением по каждому типу из столбца `income_type`. Например, у человека с типом занятости `сотрудник` пропуск в столбце `total_income` должен быть заполнен медианным доходом среди всех записей с тем же типом.**"
   ]
  },
  {
   "cell_type": "code",
   "execution_count": 5,
   "id": "bdabfb6e",
   "metadata": {
    "deletable": false,
    "id": "bdabfb6e"
   },
   "outputs": [],
   "source": [
    "for t in data['income_type'].unique():\n",
    "    data.loc[(data['income_type'] == t) & (data['total_income'].isna()), 'total_income'] = \\\n",
    "    data.loc[(data['income_type'] == t), 'total_income'].median()"
   ]
  },
  {
   "cell_type": "markdown",
   "id": "5be34059",
   "metadata": {
    "deletable": false,
    "editable": false,
    "id": "5be34059"
   },
   "source": [
    "### Обработка аномальных значений"
   ]
  },
  {
   "cell_type": "markdown",
   "id": "a87606cb",
   "metadata": {
    "deletable": false,
    "editable": false,
    "id": "a87606cb"
   },
   "source": [
    "**Задание 6. В данных могут встречаться артефакты (аномалии) — значения, которые не отражают действительность и появились по какой-то ошибке. таким артефактом будет отрицательное количество дней трудового стажа в столбце `days_employed`. Для реальных данных это нормально. Обработайте значения в этом столбце: замените все отрицательные значения положительными с помощью метода `abs()`.**"
   ]
  },
  {
   "cell_type": "code",
   "execution_count": 6,
   "id": "020c46cc",
   "metadata": {
    "deletable": false,
    "id": "020c46cc"
   },
   "outputs": [],
   "source": [
    "data['days_employed'] = data['days_employed'].abs()"
   ]
  },
  {
   "cell_type": "markdown",
   "id": "45538a3a",
   "metadata": {
    "deletable": false,
    "editable": false,
    "id": "45538a3a"
   },
   "source": [
    "**Задание 7. Для каждого типа занятости выведите медианное значение трудового стажа `days_employed` в днях.**"
   ]
  },
  {
   "cell_type": "code",
   "execution_count": 7,
   "id": "cd3e6328",
   "metadata": {
    "deletable": false,
    "id": "cd3e6328",
    "outputId": "801ef80e-522b-4668-f34e-565af7432bcf"
   },
   "outputs": [
    {
     "data": {
      "text/plain": [
       "income_type\n",
       "безработный        366413.652744\n",
       "в декрете            3296.759962\n",
       "госслужащий          2689.368353\n",
       "компаньон            1547.382223\n",
       "пенсионер          365213.306266\n",
       "предприниматель       520.848083\n",
       "сотрудник            1574.202821\n",
       "студент               578.751554\n",
       "Name: days_employed, dtype: float64"
      ]
     },
     "execution_count": 7,
     "metadata": {},
     "output_type": "execute_result"
    }
   ],
   "source": [
    "data.groupby('income_type')['days_employed'].agg('median')"
   ]
  },
  {
   "cell_type": "markdown",
   "id": "90c5f058",
   "metadata": {
    "deletable": false,
    "editable": false,
    "id": "90c5f058"
   },
   "source": [
    "У двух типов (безработные и пенсионеры) получатся аномально большие значения. Исправить такие значения сложно, поэтому оставьте их как есть."
   ]
  },
  {
   "cell_type": "markdown",
   "id": "9652e50d",
   "metadata": {
    "deletable": false,
    "editable": false,
    "id": "9652e50d"
   },
   "source": [
    "**Задание 8. Выведите перечень уникальных значений столбца `children`.**"
   ]
  },
  {
   "cell_type": "code",
   "execution_count": 8,
   "id": "dbb37b8e",
   "metadata": {
    "deletable": false,
    "id": "dbb37b8e",
    "outputId": "6975b15c-7f95-4697-d16d-a0c79b657b03"
   },
   "outputs": [
    {
     "data": {
      "text/plain": [
       "array([ 1,  0,  3,  2, -1,  4, 20,  5])"
      ]
     },
     "execution_count": 8,
     "metadata": {},
     "output_type": "execute_result"
    }
   ],
   "source": [
    "data['children'].unique()"
   ]
  },
  {
   "cell_type": "markdown",
   "id": "2b8b0715",
   "metadata": {
    "deletable": false,
    "editable": false,
    "id": "2b8b0715"
   },
   "source": [
    "**Задание 9. В столбце `children` есть два аномальных значения. Удалите строки, в которых встречаются такие аномальные значения из датафрейма `data`.**"
   ]
  },
  {
   "cell_type": "code",
   "execution_count": 9,
   "id": "20009df8",
   "metadata": {
    "deletable": false,
    "id": "20009df8"
   },
   "outputs": [],
   "source": [
    "data = data[(data['children'] != -1) & (data['children'] != 20)]"
   ]
  },
  {
   "cell_type": "markdown",
   "id": "8c6ac9f1",
   "metadata": {
    "deletable": false,
    "editable": false,
    "id": "8c6ac9f1"
   },
   "source": [
    "**Задание 10. Ещё раз выведите перечень уникальных значений столбца `children`, чтобы убедиться, что артефакты удалены.**"
   ]
  },
  {
   "cell_type": "code",
   "execution_count": 10,
   "id": "07337b81",
   "metadata": {
    "deletable": false,
    "id": "07337b81",
    "outputId": "b2097101-d49d-44d9-901b-32a65c9463d1"
   },
   "outputs": [
    {
     "data": {
      "text/plain": [
       "array([1, 0, 3, 2, 4, 5])"
      ]
     },
     "execution_count": 10,
     "metadata": {},
     "output_type": "execute_result"
    }
   ],
   "source": [
    "data['children'].unique()"
   ]
  },
  {
   "cell_type": "markdown",
   "id": "ee3f52d4",
   "metadata": {
    "deletable": false,
    "editable": false,
    "id": "ee3f52d4"
   },
   "source": [
    "### Удаление пропусков (продолжение)"
   ]
  },
  {
   "cell_type": "markdown",
   "id": "a700b0e4",
   "metadata": {
    "deletable": false,
    "editable": false,
    "id": "a700b0e4"
   },
   "source": [
    "**Задание 11. Заполните пропуски в столбце `days_employed` медианными значениями по каждого типа занятости `income_type`.**"
   ]
  },
  {
   "cell_type": "code",
   "execution_count": 11,
   "id": "61946b83",
   "metadata": {
    "deletable": false,
    "id": "61946b83"
   },
   "outputs": [],
   "source": [
    "for t in data['income_type'].unique():\n",
    "    data.loc[(data['income_type'] == t) & (data['days_employed'].isna()), 'days_employed'] = \\\n",
    "    data.loc[(data['income_type'] == t), 'days_employed'].median()"
   ]
  },
  {
   "cell_type": "markdown",
   "id": "550dcd9b",
   "metadata": {
    "deletable": false,
    "editable": false,
    "id": "550dcd9b"
   },
   "source": [
    "**Задание 12. Убедитесь, что все пропуски заполнены. Проверьте себя и ещё раз выведите количество пропущенных значений для каждого столбца с помощью двух методов.**"
   ]
  },
  {
   "cell_type": "code",
   "execution_count": 12,
   "id": "937c7014",
   "metadata": {
    "deletable": false,
    "id": "937c7014",
    "outputId": "8da1e4e1-358e-4e87-98c9-f261bce0a7b2"
   },
   "outputs": [
    {
     "data": {
      "text/plain": [
       "children            0\n",
       "days_employed       0\n",
       "dob_years           0\n",
       "education           0\n",
       "education_id        0\n",
       "family_status       0\n",
       "family_status_id    0\n",
       "gender              0\n",
       "income_type         0\n",
       "debt                0\n",
       "total_income        0\n",
       "purpose             0\n",
       "dtype: int64"
      ]
     },
     "execution_count": 12,
     "metadata": {},
     "output_type": "execute_result"
    }
   ],
   "source": [
    "data.isna().sum()"
   ]
  },
  {
   "cell_type": "markdown",
   "id": "d522e295",
   "metadata": {
    "deletable": false,
    "editable": false,
    "id": "d522e295"
   },
   "source": [
    "### Изменение типов данных"
   ]
  },
  {
   "cell_type": "markdown",
   "id": "c229c581",
   "metadata": {
    "deletable": false,
    "editable": false,
    "id": "c229c581"
   },
   "source": [
    "**Задание 13. Замените вещественный тип данных в столбце `total_income` на целочисленный с помощью метода `astype()`.**"
   ]
  },
  {
   "cell_type": "code",
   "execution_count": 13,
   "id": "31036462",
   "metadata": {
    "deletable": false,
    "id": "31036462"
   },
   "outputs": [],
   "source": [
    "data['total_income'] = data['total_income'].astype(int)"
   ]
  },
  {
   "cell_type": "markdown",
   "id": "b8e3d1d9",
   "metadata": {
    "deletable": false,
    "editable": false,
    "id": "b8e3d1d9"
   },
   "source": [
    "### Обработка дубликатов"
   ]
  },
  {
   "cell_type": "markdown",
   "id": "9be53c49",
   "metadata": {
    "deletable": false,
    "editable": false,
    "id": "9be53c49"
   },
   "source": [
    "**Задание 14. Обработайте неявные дубликаты в столбце `education`. В этом столбце есть одни и те же значения, но записанные по-разному: с использованием заглавных и строчных букв. Приведите их к нижнему регистру.**"
   ]
  },
  {
   "cell_type": "code",
   "execution_count": 14,
   "id": "d89e73e1",
   "metadata": {
    "deletable": false,
    "id": "d89e73e1"
   },
   "outputs": [],
   "source": [
    "data['education'] = data['education'].str.lower()"
   ]
  },
  {
   "cell_type": "markdown",
   "id": "01d4500e",
   "metadata": {
    "deletable": false,
    "editable": false,
    "id": "01d4500e"
   },
   "source": [
    "**Задание 15. Выведите на экран количество строк-дубликатов в данных. Если такие строки присутствуют, удалите их.**"
   ]
  },
  {
   "cell_type": "code",
   "execution_count": 15,
   "id": "e10efb23",
   "metadata": {
    "deletable": false,
    "id": "e10efb23",
    "outputId": "9684deba-1934-42d1-99e1-cda61740f822"
   },
   "outputs": [
    {
     "data": {
      "text/plain": [
       "71"
      ]
     },
     "execution_count": 15,
     "metadata": {},
     "output_type": "execute_result"
    }
   ],
   "source": [
    "data.duplicated().sum()"
   ]
  },
  {
   "cell_type": "code",
   "execution_count": 16,
   "id": "df853f20",
   "metadata": {
    "deletable": false,
    "id": "df853f20"
   },
   "outputs": [],
   "source": [
    "data = data.drop_duplicates()"
   ]
  },
  {
   "cell_type": "markdown",
   "id": "627be38f",
   "metadata": {
    "deletable": false,
    "editable": false,
    "id": "627be38f"
   },
   "source": [
    "### Категоризация данных"
   ]
  },
  {
   "cell_type": "markdown",
   "id": "4684c3e0",
   "metadata": {
    "deletable": false,
    "editable": false,
    "id": "4684c3e0"
   },
   "source": [
    "**Задание 16. На основании диапазонов, указанных ниже, создайте в датафрейме `data` столбец `total_income_category` с категориями:**\n",
    "\n",
    "- 0–30000 — `'E'`;\n",
    "- 30001–50000 — `'D'`;\n",
    "- 50001–200000 — `'C'`;\n",
    "- 200001–1000000 — `'B'`;\n",
    "- 1000001 и выше — `'A'`.\n",
    "\n",
    "\n",
    "**Например, кредитополучателю с доходом 25000 нужно назначить категорию `'E'`, а клиенту, получающему 235000, — `'B'`. Используйте собственную функцию с именем `categorize_income()` и метод `apply()`.**"
   ]
  },
  {
   "cell_type": "code",
   "execution_count": 17,
   "id": "78965238",
   "metadata": {
    "deletable": false,
    "id": "78965238"
   },
   "outputs": [],
   "source": [
    "def categorize_income(income):\n",
    "    try:\n",
    "        if 0 <= income <= 30000:\n",
    "            return 'E'\n",
    "        elif 30001 <= income <= 50000:\n",
    "            return 'D'\n",
    "        elif 50001 <= income <= 200000:\n",
    "            return 'C'\n",
    "        elif 200001 <= income <= 1000000:\n",
    "            return 'B'\n",
    "        elif income >= 1000001:\n",
    "            return 'A'\n",
    "    except:\n",
    "        pass"
   ]
  },
  {
   "cell_type": "code",
   "execution_count": 18,
   "id": "0980ada1",
   "metadata": {
    "deletable": false,
    "id": "0980ada1"
   },
   "outputs": [],
   "source": [
    "data['total_income_category'] = data['total_income'].apply(categorize_income)"
   ]
  },
  {
   "cell_type": "markdown",
   "id": "9917bba0",
   "metadata": {
    "deletable": false,
    "editable": false,
    "id": "9917bba0"
   },
   "source": [
    "**Задание 17. Выведите на экран перечень уникальных целей взятия кредита из столбца `purpose`.**"
   ]
  },
  {
   "cell_type": "code",
   "execution_count": 19,
   "id": "ee07b65e",
   "metadata": {
    "deletable": false,
    "id": "ee07b65e",
    "outputId": "673c12d9-7d7e-4ae0-9812-c622c89dd244"
   },
   "outputs": [
    {
     "data": {
      "text/plain": [
       "array(['покупка жилья', 'приобретение автомобиля',\n",
       "       'дополнительное образование', 'сыграть свадьбу',\n",
       "       'операции с жильем', 'образование', 'на проведение свадьбы',\n",
       "       'покупка жилья для семьи', 'покупка недвижимости',\n",
       "       'покупка коммерческой недвижимости', 'покупка жилой недвижимости',\n",
       "       'строительство собственной недвижимости', 'недвижимость',\n",
       "       'строительство недвижимости', 'на покупку подержанного автомобиля',\n",
       "       'на покупку своего автомобиля',\n",
       "       'операции с коммерческой недвижимостью',\n",
       "       'строительство жилой недвижимости', 'жилье',\n",
       "       'операции со своей недвижимостью', 'автомобили',\n",
       "       'заняться образованием', 'сделка с подержанным автомобилем',\n",
       "       'получение образования', 'автомобиль', 'свадьба',\n",
       "       'получение дополнительного образования', 'покупка своего жилья',\n",
       "       'операции с недвижимостью', 'получение высшего образования',\n",
       "       'свой автомобиль', 'сделка с автомобилем',\n",
       "       'профильное образование', 'высшее образование',\n",
       "       'покупка жилья для сдачи', 'на покупку автомобиля', 'ремонт жилью',\n",
       "       'заняться высшим образованием'], dtype=object)"
      ]
     },
     "execution_count": 19,
     "metadata": {},
     "output_type": "execute_result"
    }
   ],
   "source": [
    "data['purpose'].unique()"
   ]
  },
  {
   "cell_type": "markdown",
   "id": "52b79d56",
   "metadata": {
    "deletable": false,
    "editable": false,
    "id": "52b79d56"
   },
   "source": [
    "**Задание 18. Создайте функцию, которая на основании данных из столбца `purpose` сформирует новый столбец `purpose_category`, в который войдут следующие категории:**\n",
    "\n",
    "- `'операции с автомобилем'`,\n",
    "- `'операции с недвижимостью'`,\n",
    "- `'проведение свадьбы'`,\n",
    "- `'получение образования'`.\n",
    "\n",
    "**Например, если в столбце `purpose` находится подстрока `'на покупку автомобиля'`, то в столбце `purpose_category` должна появиться строка `'операции с автомобилем'`.**\n",
    "\n",
    "**Используйте собственную функцию с именем `categorize_purpose()` и метод `apply()`. Изучите данные в столбце `purpose` и определите, какие подстроки помогут вам правильно определить категорию.**"
   ]
  },
  {
   "cell_type": "code",
   "execution_count": 20,
   "id": "be41da5d",
   "metadata": {
    "deletable": false,
    "id": "be41da5d"
   },
   "outputs": [],
   "source": [
    "def categorize_purpose(row):\n",
    "    try:\n",
    "        if 'автом' in row:\n",
    "            return 'операции с автомобилем'\n",
    "        elif 'жил' in row or 'недвиж' in row:\n",
    "            return 'операции с недвижимостью'\n",
    "        elif 'свад' in row:\n",
    "            return 'проведение свадьбы'\n",
    "        elif 'образов' in row:\n",
    "            return 'получение образования'\n",
    "    except:\n",
    "        return 'нет категории'"
   ]
  },
  {
   "cell_type": "code",
   "execution_count": 21,
   "id": "94c4a19a",
   "metadata": {
    "deletable": false,
    "id": "94c4a19a"
   },
   "outputs": [],
   "source": [
    "data['purpose_category'] = data['purpose'].apply(categorize_purpose)"
   ]
  },
  {
   "cell_type": "markdown",
   "id": "3d596c34",
   "metadata": {
    "deletable": false,
    "editable": false,
    "id": "3d596c34"
   },
   "source": [
    "### Шаг 3. Исследуйте данные и ответьте на вопросы"
   ]
  },
  {
   "cell_type": "markdown",
   "id": "648db036",
   "metadata": {
    "deletable": false,
    "editable": false,
    "id": "648db036"
   },
   "source": [
    "#### 3.1 Есть ли зависимость между количеством детей и возвратом кредита в срок?"
   ]
  },
  {
   "cell_type": "code",
   "execution_count": 22,
   "id": "7fcff25e",
   "metadata": {
    "deletable": false,
    "id": "7fcff25e",
    "scrolled": true
   },
   "outputs": [
    {
     "data": {
      "text/html": [
       "<div>\n",
       "<style scoped>\n",
       "    .dataframe tbody tr th:only-of-type {\n",
       "        vertical-align: middle;\n",
       "    }\n",
       "\n",
       "    .dataframe tbody tr th {\n",
       "        vertical-align: top;\n",
       "    }\n",
       "\n",
       "    .dataframe thead th {\n",
       "        text-align: right;\n",
       "    }\n",
       "</style>\n",
       "<table border=\"1\" class=\"dataframe\">\n",
       "  <thead>\n",
       "    <tr style=\"text-align: right;\">\n",
       "      <th></th>\n",
       "      <th>count</th>\n",
       "      <th>sum</th>\n",
       "      <th>mean</th>\n",
       "    </tr>\n",
       "    <tr>\n",
       "      <th>children</th>\n",
       "      <th></th>\n",
       "      <th></th>\n",
       "      <th></th>\n",
       "    </tr>\n",
       "  </thead>\n",
       "  <tbody>\n",
       "    <tr>\n",
       "      <th>0</th>\n",
       "      <td>14091</td>\n",
       "      <td>1063</td>\n",
       "      <td>0.075438</td>\n",
       "    </tr>\n",
       "    <tr>\n",
       "      <th>1</th>\n",
       "      <td>4808</td>\n",
       "      <td>444</td>\n",
       "      <td>0.092346</td>\n",
       "    </tr>\n",
       "    <tr>\n",
       "      <th>2</th>\n",
       "      <td>2052</td>\n",
       "      <td>194</td>\n",
       "      <td>0.094542</td>\n",
       "    </tr>\n",
       "    <tr>\n",
       "      <th>3</th>\n",
       "      <td>330</td>\n",
       "      <td>27</td>\n",
       "      <td>0.081818</td>\n",
       "    </tr>\n",
       "    <tr>\n",
       "      <th>4</th>\n",
       "      <td>41</td>\n",
       "      <td>4</td>\n",
       "      <td>0.097561</td>\n",
       "    </tr>\n",
       "    <tr>\n",
       "      <th>5</th>\n",
       "      <td>9</td>\n",
       "      <td>0</td>\n",
       "      <td>0.000000</td>\n",
       "    </tr>\n",
       "  </tbody>\n",
       "</table>\n",
       "</div>"
      ],
      "text/plain": [
       "          count   sum      mean\n",
       "children                       \n",
       "0         14091  1063  0.075438\n",
       "1          4808   444  0.092346\n",
       "2          2052   194  0.094542\n",
       "3           330    27  0.081818\n",
       "4            41     4  0.097561\n",
       "5             9     0  0.000000"
      ]
     },
     "execution_count": 22,
     "metadata": {},
     "output_type": "execute_result"
    }
   ],
   "source": [
    "\n",
    "data.groupby('children')['debt'].agg(['count', 'sum', 'mean'])\n"
   ]
  },
  {
   "cell_type": "code",
   "execution_count": 23,
   "id": "18911fb1",
   "metadata": {},
   "outputs": [
    {
     "data": {
      "text/html": [
       "<style  type=\"text/css\" >\n",
       "#T_93488_row0_col0,#T_93488_row0_col1,#T_93488_row4_col2{\n",
       "            background-color:  #08306b;\n",
       "            color:  #f1f1f1;\n",
       "        }#T_93488_row0_col2{\n",
       "            background-color:  #1c6bb0;\n",
       "            color:  #f1f1f1;\n",
       "        }#T_93488_row1_col0{\n",
       "            background-color:  #a9cfe5;\n",
       "            color:  #000000;\n",
       "        }#T_93488_row1_col1{\n",
       "            background-color:  #8dc1dd;\n",
       "            color:  #000000;\n",
       "        }#T_93488_row1_col2{\n",
       "            background-color:  #083d7f;\n",
       "            color:  #f1f1f1;\n",
       "        }#T_93488_row2_col0{\n",
       "            background-color:  #dae8f6;\n",
       "            color:  #000000;\n",
       "        }#T_93488_row2_col1{\n",
       "            background-color:  #d3e4f3;\n",
       "            color:  #000000;\n",
       "        }#T_93488_row2_col2{\n",
       "            background-color:  #083776;\n",
       "            color:  #f1f1f1;\n",
       "        }#T_93488_row3_col0{\n",
       "            background-color:  #f3f8fe;\n",
       "            color:  #000000;\n",
       "        }#T_93488_row3_col1{\n",
       "            background-color:  #f2f8fd;\n",
       "            color:  #000000;\n",
       "        }#T_93488_row3_col2{\n",
       "            background-color:  #0f5aa3;\n",
       "            color:  #f1f1f1;\n",
       "        }#T_93488_row4_col0,#T_93488_row4_col1,#T_93488_row5_col0,#T_93488_row5_col1,#T_93488_row5_col2{\n",
       "            background-color:  #f7fbff;\n",
       "            color:  #000000;\n",
       "        }</style><table id=\"T_93488_\" ><thead>    <tr>        <th class=\"blank level0\" ></th>        <th class=\"col_heading level0 col0\" >Всего кредитополучателей</th>        <th class=\"col_heading level0 col1\" >Всего должников</th>        <th class=\"col_heading level0 col2\" >Доля должников</th>    </tr>    <tr>        <th class=\"index_name level0\" >children</th>        <th class=\"blank\" ></th>        <th class=\"blank\" ></th>        <th class=\"blank\" ></th>    </tr></thead><tbody>\n",
       "                <tr>\n",
       "                        <th id=\"T_93488_level0_row0\" class=\"row_heading level0 row0\" >0</th>\n",
       "                        <td id=\"T_93488_row0_col0\" class=\"data row0 col0\" >14091.000</td>\n",
       "                        <td id=\"T_93488_row0_col1\" class=\"data row0 col1\" >1063.000</td>\n",
       "                        <td id=\"T_93488_row0_col2\" class=\"data row0 col2\" >0.075</td>\n",
       "            </tr>\n",
       "            <tr>\n",
       "                        <th id=\"T_93488_level0_row1\" class=\"row_heading level0 row1\" >1</th>\n",
       "                        <td id=\"T_93488_row1_col0\" class=\"data row1 col0\" >4808.000</td>\n",
       "                        <td id=\"T_93488_row1_col1\" class=\"data row1 col1\" >444.000</td>\n",
       "                        <td id=\"T_93488_row1_col2\" class=\"data row1 col2\" >0.092</td>\n",
       "            </tr>\n",
       "            <tr>\n",
       "                        <th id=\"T_93488_level0_row2\" class=\"row_heading level0 row2\" >2</th>\n",
       "                        <td id=\"T_93488_row2_col0\" class=\"data row2 col0\" >2052.000</td>\n",
       "                        <td id=\"T_93488_row2_col1\" class=\"data row2 col1\" >194.000</td>\n",
       "                        <td id=\"T_93488_row2_col2\" class=\"data row2 col2\" >0.095</td>\n",
       "            </tr>\n",
       "            <tr>\n",
       "                        <th id=\"T_93488_level0_row3\" class=\"row_heading level0 row3\" >3</th>\n",
       "                        <td id=\"T_93488_row3_col0\" class=\"data row3 col0\" >330.000</td>\n",
       "                        <td id=\"T_93488_row3_col1\" class=\"data row3 col1\" >27.000</td>\n",
       "                        <td id=\"T_93488_row3_col2\" class=\"data row3 col2\" >0.082</td>\n",
       "            </tr>\n",
       "            <tr>\n",
       "                        <th id=\"T_93488_level0_row4\" class=\"row_heading level0 row4\" >4</th>\n",
       "                        <td id=\"T_93488_row4_col0\" class=\"data row4 col0\" >41.000</td>\n",
       "                        <td id=\"T_93488_row4_col1\" class=\"data row4 col1\" >4.000</td>\n",
       "                        <td id=\"T_93488_row4_col2\" class=\"data row4 col2\" >0.098</td>\n",
       "            </tr>\n",
       "            <tr>\n",
       "                        <th id=\"T_93488_level0_row5\" class=\"row_heading level0 row5\" >5</th>\n",
       "                        <td id=\"T_93488_row5_col0\" class=\"data row5 col0\" >9.000</td>\n",
       "                        <td id=\"T_93488_row5_col1\" class=\"data row5 col1\" >0.000</td>\n",
       "                        <td id=\"T_93488_row5_col2\" class=\"data row5 col2\" >0.000</td>\n",
       "            </tr>\n",
       "    </tbody></table>"
      ],
      "text/plain": [
       "<pandas.io.formats.style.Styler at 0x7f8297662280>"
      ]
     },
     "metadata": {},
     "output_type": "display_data"
    }
   ],
   "source": [
    "\n",
    "# Создаем копию датасета, что бы не работать с исходным\n",
    "temp = data.copy()\n",
    "# Напишем функцию, так как все задачи аналогичны\n",
    "def que(category):\n",
    "    data_temp = temp.pivot_table(index=category, values='debt', aggfunc=['count', 'sum', 'mean'])\n",
    "    data_temp.columns = ['Всего кредитополучателей', 'Всего должников', 'Доля должников']\n",
    "    # Оформим таблицу цветным градиентом, но можно ее вывести и просто display(data_temp)\n",
    "    display(data_temp.style.format(\"{:.3f}\").background_gradient(cmap='Blues', axis=0))\n",
    "    \n",
    "que('children')"
   ]
  },
  {
   "cell_type": "markdown",
   "id": "2eb9088e",
   "metadata": {
    "deletable": false,
    "id": "2eb9088e"
   },
   "source": [
    "**Вывод:** Полученные данные свидетельствуют о том, что наименьший процент просрочек по кредитам (7,5%) имеют семьи без детей. Это можно было объяснить тем, что данная категория заемщиков имеет возможность оплачивать кредиты в срок, т.к. не отвлекает средства на расходы на детей. Однако, на втором месте среди лучших заемщиков находятся семьи, имеющие 3 детей. Этот показатель можно объяснить большей дисциплинированностью и контролем за расходами данной категории.Не имеют просрочек семьи с 5 детьми, но считаю, что не следует включать их показатель в общий вывод из-за небольшой численности таких семей. Таким образом, можно сделать вывод, что нет прямой взаимосвязи между количеством детей и возвратом кредита в срок. "
   ]
  },
  {
   "cell_type": "markdown",
   "id": "74c9b3a7",
   "metadata": {
    "deletable": false,
    "editable": false,
    "id": "74c9b3a7"
   },
   "source": [
    "#### 3.2 Есть ли зависимость между семейным положением и возвратом кредита в срок?"
   ]
  },
  {
   "cell_type": "code",
   "execution_count": 24,
   "id": "8098ab3b",
   "metadata": {
    "deletable": false,
    "id": "8098ab3b"
   },
   "outputs": [
    {
     "data": {
      "text/html": [
       "<div>\n",
       "<style scoped>\n",
       "    .dataframe tbody tr th:only-of-type {\n",
       "        vertical-align: middle;\n",
       "    }\n",
       "\n",
       "    .dataframe tbody tr th {\n",
       "        vertical-align: top;\n",
       "    }\n",
       "\n",
       "    .dataframe thead th {\n",
       "        text-align: right;\n",
       "    }\n",
       "</style>\n",
       "<table border=\"1\" class=\"dataframe\">\n",
       "  <thead>\n",
       "    <tr style=\"text-align: right;\">\n",
       "      <th></th>\n",
       "      <th>count</th>\n",
       "      <th>sum</th>\n",
       "      <th>mean</th>\n",
       "    </tr>\n",
       "    <tr>\n",
       "      <th>family_status</th>\n",
       "      <th></th>\n",
       "      <th></th>\n",
       "      <th></th>\n",
       "    </tr>\n",
       "  </thead>\n",
       "  <tbody>\n",
       "    <tr>\n",
       "      <th>Не женат / не замужем</th>\n",
       "      <td>2796</td>\n",
       "      <td>273</td>\n",
       "      <td>0.097639</td>\n",
       "    </tr>\n",
       "    <tr>\n",
       "      <th>в разводе</th>\n",
       "      <td>1189</td>\n",
       "      <td>84</td>\n",
       "      <td>0.070648</td>\n",
       "    </tr>\n",
       "    <tr>\n",
       "      <th>вдовец / вдова</th>\n",
       "      <td>951</td>\n",
       "      <td>63</td>\n",
       "      <td>0.066246</td>\n",
       "    </tr>\n",
       "    <tr>\n",
       "      <th>гражданский брак</th>\n",
       "      <td>4134</td>\n",
       "      <td>385</td>\n",
       "      <td>0.093130</td>\n",
       "    </tr>\n",
       "    <tr>\n",
       "      <th>женат / замужем</th>\n",
       "      <td>12261</td>\n",
       "      <td>927</td>\n",
       "      <td>0.075606</td>\n",
       "    </tr>\n",
       "  </tbody>\n",
       "</table>\n",
       "</div>"
      ],
      "text/plain": [
       "                       count  sum      mean\n",
       "family_status                              \n",
       "Не женат / не замужем   2796  273  0.097639\n",
       "в разводе               1189   84  0.070648\n",
       "вдовец / вдова           951   63  0.066246\n",
       "гражданский брак        4134  385  0.093130\n",
       "женат / замужем        12261  927  0.075606"
      ]
     },
     "execution_count": 24,
     "metadata": {},
     "output_type": "execute_result"
    }
   ],
   "source": [
    "data.groupby('family_status')['debt'].agg(['count', 'sum', 'mean'])\n"
   ]
  },
  {
   "cell_type": "markdown",
   "id": "c389ca63",
   "metadata": {
    "deletable": false,
    "id": "c389ca63"
   },
   "source": [
    "**Вывод:** Заемщики, не состоящие в браке или состоящие в гражданском браке, более склонны к нарушению сроков платежа.Наиболее дисциплинированы в рассмотренной выборке заемщики, потерявшие супругов и находящиеся в разводе. Таким образом, нельзя однозначно считать, что заемщики, не соостоящие в браке, более дисциплинированны или нет, чем заемщики, находящиеся в браке. "
   ]
  },
  {
   "cell_type": "markdown",
   "id": "9529de68",
   "metadata": {
    "deletable": false,
    "editable": false,
    "id": "9529de68"
   },
   "source": [
    "#### 3.3 Есть ли зависимость между уровнем дохода и возвратом кредита в срок?"
   ]
  },
  {
   "cell_type": "code",
   "execution_count": 25,
   "id": "8787f44a",
   "metadata": {
    "deletable": false,
    "id": "8787f44a"
   },
   "outputs": [
    {
     "data": {
      "text/html": [
       "<div>\n",
       "<style scoped>\n",
       "    .dataframe tbody tr th:only-of-type {\n",
       "        vertical-align: middle;\n",
       "    }\n",
       "\n",
       "    .dataframe tbody tr th {\n",
       "        vertical-align: top;\n",
       "    }\n",
       "\n",
       "    .dataframe thead th {\n",
       "        text-align: right;\n",
       "    }\n",
       "</style>\n",
       "<table border=\"1\" class=\"dataframe\">\n",
       "  <thead>\n",
       "    <tr style=\"text-align: right;\">\n",
       "      <th></th>\n",
       "      <th>count</th>\n",
       "      <th>sum</th>\n",
       "      <th>mean</th>\n",
       "    </tr>\n",
       "    <tr>\n",
       "      <th>total_income_category</th>\n",
       "      <th></th>\n",
       "      <th></th>\n",
       "      <th></th>\n",
       "    </tr>\n",
       "  </thead>\n",
       "  <tbody>\n",
       "    <tr>\n",
       "      <th>A</th>\n",
       "      <td>25</td>\n",
       "      <td>2</td>\n",
       "      <td>0.080000</td>\n",
       "    </tr>\n",
       "    <tr>\n",
       "      <th>B</th>\n",
       "      <td>5014</td>\n",
       "      <td>354</td>\n",
       "      <td>0.070602</td>\n",
       "    </tr>\n",
       "    <tr>\n",
       "      <th>C</th>\n",
       "      <td>15921</td>\n",
       "      <td>1353</td>\n",
       "      <td>0.084982</td>\n",
       "    </tr>\n",
       "    <tr>\n",
       "      <th>D</th>\n",
       "      <td>349</td>\n",
       "      <td>21</td>\n",
       "      <td>0.060172</td>\n",
       "    </tr>\n",
       "    <tr>\n",
       "      <th>E</th>\n",
       "      <td>22</td>\n",
       "      <td>2</td>\n",
       "      <td>0.090909</td>\n",
       "    </tr>\n",
       "  </tbody>\n",
       "</table>\n",
       "</div>"
      ],
      "text/plain": [
       "                       count   sum      mean\n",
       "total_income_category                       \n",
       "A                         25     2  0.080000\n",
       "B                       5014   354  0.070602\n",
       "C                      15921  1353  0.084982\n",
       "D                        349    21  0.060172\n",
       "E                         22     2  0.090909"
      ]
     },
     "execution_count": 25,
     "metadata": {},
     "output_type": "execute_result"
    }
   ],
   "source": [
    "data.groupby('total_income_category')['debt'].agg(['count', 'sum', 'mean'])# Ваш код будет здесь. Вы можете создавать новые ячейки."
   ]
  },
  {
   "cell_type": "markdown",
   "id": "6dd14b57",
   "metadata": {
    "deletable": false,
    "id": "6dd14b57"
   },
   "source": [
    "**Вывод:** Группы самых богатых и самых бедных заемщиков малочисленны, поэтому их показатели можно не включат в общий вывод. Группа заемщиков с доходом от 200001 до 1000000 имеет наименьший % просрочек, на 2 месте добросовестных заемщиков группа с доходом от 30001 до 50000 руб. Наиболее склонны к просрочке заемщики с доходом от 50001 до 200000, однако эта группа и наиболее активно пользуется кредитами.    "
   ]
  },
  {
   "cell_type": "code",
   "execution_count": 26,
   "id": "0ff25bad",
   "metadata": {},
   "outputs": [
    {
     "data": {
      "text/html": [
       "<style  type=\"text/css\" >\n",
       "#T_450d6_row0_col0{\n",
       "            background-color:  #69add5;\n",
       "            color:  #000000;\n",
       "        }#T_450d6_row0_col1{\n",
       "            background-color:  #5da5d1;\n",
       "            color:  #000000;\n",
       "        }#T_450d6_row0_col2{\n",
       "            background-color:  #58a1cf;\n",
       "            color:  #000000;\n",
       "        }#T_450d6_row1_col0,#T_450d6_row1_col1,#T_450d6_row1_col2{\n",
       "            background-color:  #08306b;\n",
       "            color:  #f1f1f1;\n",
       "        }#T_450d6_row2_col0,#T_450d6_row2_col1,#T_450d6_row2_col2{\n",
       "            background-color:  #f7fbff;\n",
       "            color:  #000000;\n",
       "        }</style><table id=\"T_450d6_\" ><thead>    <tr>        <th class=\"blank level0\" ></th>        <th class=\"col_heading level0 col0\" >Всего кредитополучателей</th>        <th class=\"col_heading level0 col1\" >Всего должников</th>        <th class=\"col_heading level0 col2\" >Доля должников</th>    </tr>    <tr>        <th class=\"index_name level0\" >new_category</th>        <th class=\"blank\" ></th>        <th class=\"blank\" ></th>        <th class=\"blank\" ></th>    </tr></thead><tbody>\n",
       "                <tr>\n",
       "                        <th id=\"T_450d6_level0_row0\" class=\"row_heading level0 row0\" >(20666.0, 119218.0]</th>\n",
       "                        <td id=\"T_450d6_row0_col0\" class=\"data row0 col0\" >7111.000</td>\n",
       "                        <td id=\"T_450d6_row0_col1\" class=\"data row0 col1\" >580.000</td>\n",
       "                        <td id=\"T_450d6_row0_col2\" class=\"data row0 col2\" >0.082</td>\n",
       "            </tr>\n",
       "            <tr>\n",
       "                        <th id=\"T_450d6_level0_row1\" class=\"row_heading level0 row1\" >(119218.0, 172357.0]</th>\n",
       "                        <td id=\"T_450d6_row1_col0\" class=\"data row1 col0\" >7238.000</td>\n",
       "                        <td id=\"T_450d6_row1_col1\" class=\"data row1 col1\" >627.000</td>\n",
       "                        <td id=\"T_450d6_row1_col2\" class=\"data row1 col2\" >0.087</td>\n",
       "            </tr>\n",
       "            <tr>\n",
       "                        <th id=\"T_450d6_level0_row2\" class=\"row_heading level0 row2\" >(172357.0, 2265604.0]</th>\n",
       "                        <td id=\"T_450d6_row2_col0\" class=\"data row2 col0\" >6982.000</td>\n",
       "                        <td id=\"T_450d6_row2_col1\" class=\"data row2 col1\" >525.000</td>\n",
       "                        <td id=\"T_450d6_row2_col2\" class=\"data row2 col2\" >0.075</td>\n",
       "            </tr>\n",
       "    </tbody></table>"
      ],
      "text/plain": [
       "<pandas.io.formats.style.Styler at 0x7f83021f4790>"
      ]
     },
     "metadata": {},
     "output_type": "display_data"
    },
    {
     "data": {
      "text/html": [
       "<style  type=\"text/css\" >\n",
       "#T_aae43_row0_col0{\n",
       "            background-color:  #6aaed6;\n",
       "            color:  #000000;\n",
       "        }#T_aae43_row0_col1{\n",
       "            background-color:  #7ab6d9;\n",
       "            color:  #000000;\n",
       "        }#T_aae43_row0_col2{\n",
       "            background-color:  #65aad4;\n",
       "            color:  #000000;\n",
       "        }#T_aae43_row1_col0,#T_aae43_row1_col1,#T_aae43_row1_col2{\n",
       "            background-color:  #08306b;\n",
       "            color:  #f1f1f1;\n",
       "        }#T_aae43_row2_col0,#T_aae43_row3_col1,#T_aae43_row3_col2{\n",
       "            background-color:  #f7fbff;\n",
       "            color:  #000000;\n",
       "        }#T_aae43_row2_col1{\n",
       "            background-color:  #3f8fc5;\n",
       "            color:  #000000;\n",
       "        }#T_aae43_row2_col2{\n",
       "            background-color:  #125ea6;\n",
       "            color:  #f1f1f1;\n",
       "        }#T_aae43_row3_col0{\n",
       "            background-color:  #6dafd7;\n",
       "            color:  #000000;\n",
       "        }</style><table id=\"T_aae43_\" ><thead>    <tr>        <th class=\"blank level0\" ></th>        <th class=\"col_heading level0 col0\" >Всего кредитополучателей</th>        <th class=\"col_heading level0 col1\" >Всего должников</th>        <th class=\"col_heading level0 col2\" >Доля должников</th>    </tr>    <tr>        <th class=\"index_name level0\" >new_category</th>        <th class=\"blank\" ></th>        <th class=\"blank\" ></th>        <th class=\"blank\" ></th>    </tr></thead><tbody>\n",
       "                <tr>\n",
       "                        <th id=\"T_aae43_level0_row0\" class=\"row_heading level0 row0\" >(20666.0, 107507.0]</th>\n",
       "                        <td id=\"T_aae43_row0_col0\" class=\"data row0 col0\" >5333.000</td>\n",
       "                        <td id=\"T_aae43_row0_col1\" class=\"data row0 col1\" >427.000</td>\n",
       "                        <td id=\"T_aae43_row0_col2\" class=\"data row0 col2\" >0.080</td>\n",
       "            </tr>\n",
       "            <tr>\n",
       "                        <th id=\"T_aae43_level0_row1\" class=\"row_heading level0 row1\" >(107507.0, 142594.0]</th>\n",
       "                        <td id=\"T_aae43_row1_col0\" class=\"data row1 col0\" >5450.000</td>\n",
       "                        <td id=\"T_aae43_row1_col1\" class=\"data row1 col1\" >480.000</td>\n",
       "                        <td id=\"T_aae43_row1_col2\" class=\"data row1 col2\" >0.088</td>\n",
       "            </tr>\n",
       "            <tr>\n",
       "                        <th id=\"T_aae43_level0_row2\" class=\"row_heading level0 row2\" >(142594.0, 195842.0]</th>\n",
       "                        <td id=\"T_aae43_row2_col0\" class=\"data row2 col0\" >5216.000</td>\n",
       "                        <td id=\"T_aae43_row2_col1\" class=\"data row2 col1\" >444.000</td>\n",
       "                        <td id=\"T_aae43_row2_col2\" class=\"data row2 col2\" >0.085</td>\n",
       "            </tr>\n",
       "            <tr>\n",
       "                        <th id=\"T_aae43_level0_row3\" class=\"row_heading level0 row3\" >(195842.0, 2265604.0]</th>\n",
       "                        <td id=\"T_aae43_row3_col0\" class=\"data row3 col0\" >5332.000</td>\n",
       "                        <td id=\"T_aae43_row3_col1\" class=\"data row3 col1\" >381.000</td>\n",
       "                        <td id=\"T_aae43_row3_col2\" class=\"data row3 col2\" >0.071</td>\n",
       "            </tr>\n",
       "    </tbody></table>"
      ],
      "text/plain": [
       "<pandas.io.formats.style.Styler at 0x7f82d7b45130>"
      ]
     },
     "metadata": {},
     "output_type": "display_data"
    },
    {
     "data": {
      "text/html": [
       "<style  type=\"text/css\" >\n",
       "#T_36c46_row0_col0,#T_36c46_row2_col1,#T_36c46_row2_col2{\n",
       "            background-color:  #08306b;\n",
       "            color:  #f1f1f1;\n",
       "        }#T_36c46_row0_col1,#T_36c46_row0_col2{\n",
       "            background-color:  #4896c8;\n",
       "            color:  #000000;\n",
       "        }#T_36c46_row1_col0,#T_36c46_row2_col0,#T_36c46_row3_col0,#T_36c46_row4_col0,#T_36c46_row4_col1,#T_36c46_row4_col2{\n",
       "            background-color:  #f7fbff;\n",
       "            color:  #000000;\n",
       "        }#T_36c46_row1_col1,#T_36c46_row1_col2,#T_36c46_row3_col1,#T_36c46_row3_col2{\n",
       "            background-color:  #1764ab;\n",
       "            color:  #f1f1f1;\n",
       "        }</style><table id=\"T_36c46_\" ><thead>    <tr>        <th class=\"blank level0\" ></th>        <th class=\"col_heading level0 col0\" >Всего кредитополучателей</th>        <th class=\"col_heading level0 col1\" >Всего должников</th>        <th class=\"col_heading level0 col2\" >Доля должников</th>    </tr>    <tr>        <th class=\"index_name level0\" >new_category</th>        <th class=\"blank\" ></th>        <th class=\"blank\" ></th>        <th class=\"blank\" ></th>    </tr></thead><tbody>\n",
       "                <tr>\n",
       "                        <th id=\"T_36c46_level0_row0\" class=\"row_heading level0 row0\" >(20666.0, 98514.0]</th>\n",
       "                        <td id=\"T_36c46_row0_col0\" class=\"data row0 col0\" >4267.000</td>\n",
       "                        <td id=\"T_36c46_row0_col1\" class=\"data row0 col1\" >344.000</td>\n",
       "                        <td id=\"T_36c46_row0_col2\" class=\"data row0 col2\" >0.081</td>\n",
       "            </tr>\n",
       "            <tr>\n",
       "                        <th id=\"T_36c46_level0_row1\" class=\"row_heading level0 row1\" >(98514.0, 132113.0]</th>\n",
       "                        <td id=\"T_36c46_row1_col0\" class=\"data row1 col0\" >4266.000</td>\n",
       "                        <td id=\"T_36c46_row1_col1\" class=\"data row1 col1\" >358.000</td>\n",
       "                        <td id=\"T_36c46_row1_col2\" class=\"data row1 col2\" >0.084</td>\n",
       "            </tr>\n",
       "            <tr>\n",
       "                        <th id=\"T_36c46_level0_row2\" class=\"row_heading level0 row2\" >(132113.0, 161380.0]</th>\n",
       "                        <td id=\"T_36c46_row2_col0\" class=\"data row2 col0\" >4266.000</td>\n",
       "                        <td id=\"T_36c46_row2_col1\" class=\"data row2 col1\" >373.000</td>\n",
       "                        <td id=\"T_36c46_row2_col2\" class=\"data row2 col2\" >0.087</td>\n",
       "            </tr>\n",
       "            <tr>\n",
       "                        <th id=\"T_36c46_level0_row3\" class=\"row_heading level0 row3\" >(161380.0, 214604.0]</th>\n",
       "                        <td id=\"T_36c46_row3_col0\" class=\"data row3 col0\" >4266.000</td>\n",
       "                        <td id=\"T_36c46_row3_col1\" class=\"data row3 col1\" >358.000</td>\n",
       "                        <td id=\"T_36c46_row3_col2\" class=\"data row3 col2\" >0.084</td>\n",
       "            </tr>\n",
       "            <tr>\n",
       "                        <th id=\"T_36c46_level0_row4\" class=\"row_heading level0 row4\" >(214604.0, 2265604.0]</th>\n",
       "                        <td id=\"T_36c46_row4_col0\" class=\"data row4 col0\" >4266.000</td>\n",
       "                        <td id=\"T_36c46_row4_col1\" class=\"data row4 col1\" >299.000</td>\n",
       "                        <td id=\"T_36c46_row4_col2\" class=\"data row4 col2\" >0.070</td>\n",
       "            </tr>\n",
       "    </tbody></table>"
      ],
      "text/plain": [
       "<pandas.io.formats.style.Styler at 0x7f83021f4790>"
      ]
     },
     "metadata": {},
     "output_type": "display_data"
    },
    {
     "data": {
      "text/html": [
       "<style  type=\"text/css\" >\n",
       "#T_c0783_row0_col0{\n",
       "            background-color:  #63a8d3;\n",
       "            color:  #000000;\n",
       "        }#T_c0783_row0_col1{\n",
       "            background-color:  #7ab6d9;\n",
       "            color:  #000000;\n",
       "        }#T_c0783_row0_col2{\n",
       "            background-color:  #60a7d2;\n",
       "            color:  #000000;\n",
       "        }#T_c0783_row1_col0,#T_c0783_row5_col0{\n",
       "            background-color:  #64a9d3;\n",
       "            color:  #000000;\n",
       "        }#T_c0783_row1_col1{\n",
       "            background-color:  #4e9acb;\n",
       "            color:  #000000;\n",
       "        }#T_c0783_row1_col2{\n",
       "            background-color:  #3383be;\n",
       "            color:  #000000;\n",
       "        }#T_c0783_row2_col0,#T_c0783_row2_col1,#T_c0783_row2_col2{\n",
       "            background-color:  #08306b;\n",
       "            color:  #f1f1f1;\n",
       "        }#T_c0783_row3_col0{\n",
       "            background-color:  #549fcd;\n",
       "            color:  #000000;\n",
       "        }#T_c0783_row3_col1{\n",
       "            background-color:  #3a8ac2;\n",
       "            color:  #000000;\n",
       "        }#T_c0783_row3_col2{\n",
       "            background-color:  #2373b6;\n",
       "            color:  #f1f1f1;\n",
       "        }#T_c0783_row4_col0,#T_c0783_row5_col1,#T_c0783_row5_col2{\n",
       "            background-color:  #f7fbff;\n",
       "            color:  #000000;\n",
       "        }#T_c0783_row4_col1{\n",
       "            background-color:  #a8cee4;\n",
       "            color:  #000000;\n",
       "        }#T_c0783_row4_col2{\n",
       "            background-color:  #5aa2cf;\n",
       "            color:  #000000;\n",
       "        }</style><table id=\"T_c0783_\" ><thead>    <tr>        <th class=\"blank level0\" ></th>        <th class=\"col_heading level0 col0\" >Всего кредитополучателей</th>        <th class=\"col_heading level0 col1\" >Всего должников</th>        <th class=\"col_heading level0 col2\" >Доля должников</th>    </tr>    <tr>        <th class=\"index_name level0\" >new_category</th>        <th class=\"blank\" ></th>        <th class=\"blank\" ></th>        <th class=\"blank\" ></th>    </tr></thead><tbody>\n",
       "                <tr>\n",
       "                        <th id=\"T_c0783_level0_row0\" class=\"row_heading level0 row0\" >(20666.0, 92092.0]</th>\n",
       "                        <td id=\"T_c0783_row0_col0\" class=\"data row0 col0\" >3556.000</td>\n",
       "                        <td id=\"T_c0783_row0_col1\" class=\"data row0 col1\" >285.000</td>\n",
       "                        <td id=\"T_c0783_row0_col2\" class=\"data row0 col2\" >0.080</td>\n",
       "            </tr>\n",
       "            <tr>\n",
       "                        <th id=\"T_c0783_level0_row1\" class=\"row_heading level0 row1\" >(92092.0, 119218.0]</th>\n",
       "                        <td id=\"T_c0783_row1_col0\" class=\"data row1 col0\" >3555.000</td>\n",
       "                        <td id=\"T_c0783_row1_col1\" class=\"data row1 col1\" >295.000</td>\n",
       "                        <td id=\"T_c0783_row1_col2\" class=\"data row1 col2\" >0.083</td>\n",
       "            </tr>\n",
       "            <tr>\n",
       "                        <th id=\"T_c0783_level0_row2\" class=\"row_heading level0 row2\" >(119218.0, 142594.0]</th>\n",
       "                        <td id=\"T_c0783_row2_col0\" class=\"data row2 col0\" >3672.000</td>\n",
       "                        <td id=\"T_c0783_row2_col1\" class=\"data row2 col1\" >327.000</td>\n",
       "                        <td id=\"T_c0783_row2_col2\" class=\"data row2 col2\" >0.089</td>\n",
       "            </tr>\n",
       "            <tr>\n",
       "                        <th id=\"T_c0783_level0_row3\" class=\"row_heading level0 row3\" >(142594.0, 172357.0]</th>\n",
       "                        <td id=\"T_c0783_row3_col0\" class=\"data row3 col0\" >3566.000</td>\n",
       "                        <td id=\"T_c0783_row3_col1\" class=\"data row3 col1\" >300.000</td>\n",
       "                        <td id=\"T_c0783_row3_col2\" class=\"data row3 col2\" >0.084</td>\n",
       "            </tr>\n",
       "            <tr>\n",
       "                        <th id=\"T_c0783_level0_row4\" class=\"row_heading level0 row4\" >(172357.0, 228893.0]</th>\n",
       "                        <td id=\"T_c0783_row4_col0\" class=\"data row4 col0\" >3427.000</td>\n",
       "                        <td id=\"T_c0783_row4_col1\" class=\"data row4 col1\" >276.000</td>\n",
       "                        <td id=\"T_c0783_row4_col2\" class=\"data row4 col2\" >0.081</td>\n",
       "            </tr>\n",
       "            <tr>\n",
       "                        <th id=\"T_c0783_level0_row5\" class=\"row_heading level0 row5\" >(228893.0, 2265604.0]</th>\n",
       "                        <td id=\"T_c0783_row5_col0\" class=\"data row5 col0\" >3555.000</td>\n",
       "                        <td id=\"T_c0783_row5_col1\" class=\"data row5 col1\" >249.000</td>\n",
       "                        <td id=\"T_c0783_row5_col2\" class=\"data row5 col2\" >0.070</td>\n",
       "            </tr>\n",
       "    </tbody></table>"
      ],
      "text/plain": [
       "<pandas.io.formats.style.Styler at 0x7f82d7b45130>"
      ]
     },
     "metadata": {},
     "output_type": "display_data"
    },
    {
     "data": {
      "text/html": [
       "<style  type=\"text/css\" >\n",
       "#T_c720c_row0_col0,#T_c720c_row3_col1,#T_c720c_row3_col2,#T_c720c_row6_col0{\n",
       "            background-color:  #08306b;\n",
       "            color:  #f1f1f1;\n",
       "        }#T_c720c_row0_col1,#T_c720c_row0_col2{\n",
       "            background-color:  #8dc1dd;\n",
       "            color:  #000000;\n",
       "        }#T_c720c_row1_col0,#T_c720c_row2_col0,#T_c720c_row3_col0,#T_c720c_row4_col0,#T_c720c_row5_col0,#T_c720c_row6_col1,#T_c720c_row6_col2{\n",
       "            background-color:  #f7fbff;\n",
       "            color:  #000000;\n",
       "        }#T_c720c_row1_col1,#T_c720c_row1_col2{\n",
       "            background-color:  #083979;\n",
       "            color:  #f1f1f1;\n",
       "        }#T_c720c_row2_col1,#T_c720c_row2_col2{\n",
       "            background-color:  #083471;\n",
       "            color:  #f1f1f1;\n",
       "        }#T_c720c_row4_col1,#T_c720c_row4_col2{\n",
       "            background-color:  #09529d;\n",
       "            color:  #f1f1f1;\n",
       "        }#T_c720c_row5_col1,#T_c720c_row5_col2{\n",
       "            background-color:  #4f9bcb;\n",
       "            color:  #000000;\n",
       "        }</style><table id=\"T_c720c_\" ><thead>    <tr>        <th class=\"blank level0\" ></th>        <th class=\"col_heading level0 col0\" >Всего кредитополучателей</th>        <th class=\"col_heading level0 col1\" >Всего должников</th>        <th class=\"col_heading level0 col2\" >Доля должников</th>    </tr>    <tr>        <th class=\"index_name level0\" >new_category</th>        <th class=\"blank\" ></th>        <th class=\"blank\" ></th>        <th class=\"blank\" ></th>    </tr></thead><tbody>\n",
       "                <tr>\n",
       "                        <th id=\"T_c720c_level0_row0\" class=\"row_heading level0 row0\" >(20666.0, 87287.0]</th>\n",
       "                        <td id=\"T_c720c_row0_col0\" class=\"data row0 col0\" >3048.000</td>\n",
       "                        <td id=\"T_c720c_row0_col1\" class=\"data row0 col1\" >233.000</td>\n",
       "                        <td id=\"T_c720c_row0_col2\" class=\"data row0 col2\" >0.076</td>\n",
       "            </tr>\n",
       "            <tr>\n",
       "                        <th id=\"T_c720c_level0_row1\" class=\"row_heading level0 row1\" >(87287.0, 113563.0]</th>\n",
       "                        <td id=\"T_c720c_row1_col0\" class=\"data row1 col0\" >3047.000</td>\n",
       "                        <td id=\"T_c720c_row1_col1\" class=\"data row1 col1\" >262.000</td>\n",
       "                        <td id=\"T_c720c_row1_col2\" class=\"data row1 col2\" >0.086</td>\n",
       "            </tr>\n",
       "            <tr>\n",
       "                        <th id=\"T_c720c_level0_row2\" class=\"row_heading level0 row2\" >(113563.0, 137465.0]</th>\n",
       "                        <td id=\"T_c720c_row2_col0\" class=\"data row2 col0\" >3047.000</td>\n",
       "                        <td id=\"T_c720c_row2_col1\" class=\"data row2 col1\" >263.000</td>\n",
       "                        <td id=\"T_c720c_row2_col2\" class=\"data row2 col2\" >0.086</td>\n",
       "            </tr>\n",
       "            <tr>\n",
       "                        <th id=\"T_c720c_level0_row3\" class=\"row_heading level0 row3\" >(137465.0, 155314.0]</th>\n",
       "                        <td id=\"T_c720c_row3_col0\" class=\"data row3 col0\" >3047.000</td>\n",
       "                        <td id=\"T_c720c_row3_col1\" class=\"data row3 col1\" >264.000</td>\n",
       "                        <td id=\"T_c720c_row3_col2\" class=\"data row3 col2\" >0.087</td>\n",
       "            </tr>\n",
       "            <tr>\n",
       "                        <th id=\"T_c720c_level0_row4\" class=\"row_heading level0 row4\" >(155314.0, 184554.0]</th>\n",
       "                        <td id=\"T_c720c_row4_col0\" class=\"data row4 col0\" >3047.000</td>\n",
       "                        <td id=\"T_c720c_row4_col1\" class=\"data row4 col1\" >257.000</td>\n",
       "                        <td id=\"T_c720c_row4_col2\" class=\"data row4 col2\" >0.084</td>\n",
       "            </tr>\n",
       "            <tr>\n",
       "                        <th id=\"T_c720c_level0_row5\" class=\"row_heading level0 row5\" >(184554.0, 242009.0]</th>\n",
       "                        <td id=\"T_c720c_row5_col0\" class=\"data row5 col0\" >3047.000</td>\n",
       "                        <td id=\"T_c720c_row5_col1\" class=\"data row5 col1\" >242.000</td>\n",
       "                        <td id=\"T_c720c_row5_col2\" class=\"data row5 col2\" >0.079</td>\n",
       "            </tr>\n",
       "            <tr>\n",
       "                        <th id=\"T_c720c_level0_row6\" class=\"row_heading level0 row6\" >(242009.0, 2265604.0]</th>\n",
       "                        <td id=\"T_c720c_row6_col0\" class=\"data row6 col0\" >3048.000</td>\n",
       "                        <td id=\"T_c720c_row6_col1\" class=\"data row6 col1\" >211.000</td>\n",
       "                        <td id=\"T_c720c_row6_col2\" class=\"data row6 col2\" >0.069</td>\n",
       "            </tr>\n",
       "    </tbody></table>"
      ],
      "text/plain": [
       "<pandas.io.formats.style.Styler at 0x7f82d7848f70>"
      ]
     },
     "metadata": {},
     "output_type": "display_data"
    },
    {
     "data": {
      "text/html": [
       "<style  type=\"text/css\" >\n",
       "#T_d97f5_row0_col0,#T_d97f5_row5_col0,#T_d97f5_row7_col0{\n",
       "            background-color:  #6aaed6;\n",
       "            color:  #000000;\n",
       "        }#T_d97f5_row0_col1{\n",
       "            background-color:  #aacfe5;\n",
       "            color:  #000000;\n",
       "        }#T_d97f5_row0_col2{\n",
       "            background-color:  #91c3de;\n",
       "            color:  #000000;\n",
       "        }#T_d97f5_row1_col0,#T_d97f5_row2_col0{\n",
       "            background-color:  #6caed6;\n",
       "            color:  #000000;\n",
       "        }#T_d97f5_row1_col1,#T_d97f5_row5_col1{\n",
       "            background-color:  #519ccc;\n",
       "            color:  #000000;\n",
       "        }#T_d97f5_row1_col2,#T_d97f5_row5_col2{\n",
       "            background-color:  #2f7fbc;\n",
       "            color:  #000000;\n",
       "        }#T_d97f5_row2_col1{\n",
       "            background-color:  #1c6ab0;\n",
       "            color:  #f1f1f1;\n",
       "        }#T_d97f5_row2_col2{\n",
       "            background-color:  #084285;\n",
       "            color:  #f1f1f1;\n",
       "        }#T_d97f5_row3_col0,#T_d97f5_row3_col1,#T_d97f5_row3_col2{\n",
       "            background-color:  #08306b;\n",
       "            color:  #f1f1f1;\n",
       "        }#T_d97f5_row4_col0,#T_d97f5_row7_col1,#T_d97f5_row7_col2{\n",
       "            background-color:  #f7fbff;\n",
       "            color:  #000000;\n",
       "        }#T_d97f5_row4_col1{\n",
       "            background-color:  #4695c8;\n",
       "            color:  #000000;\n",
       "        }#T_d97f5_row4_col2{\n",
       "            background-color:  #084184;\n",
       "            color:  #f1f1f1;\n",
       "        }#T_d97f5_row6_col0{\n",
       "            background-color:  #6dafd7;\n",
       "            color:  #000000;\n",
       "        }#T_d97f5_row6_col1{\n",
       "            background-color:  #d4e4f4;\n",
       "            color:  #000000;\n",
       "        }#T_d97f5_row6_col2{\n",
       "            background-color:  #cddff1;\n",
       "            color:  #000000;\n",
       "        }</style><table id=\"T_d97f5_\" ><thead>    <tr>        <th class=\"blank level0\" ></th>        <th class=\"col_heading level0 col0\" >Всего кредитополучателей</th>        <th class=\"col_heading level0 col1\" >Всего должников</th>        <th class=\"col_heading level0 col2\" >Доля должников</th>    </tr>    <tr>        <th class=\"index_name level0\" >new_category</th>        <th class=\"blank\" ></th>        <th class=\"blank\" ></th>        <th class=\"blank\" ></th>    </tr></thead><tbody>\n",
       "                <tr>\n",
       "                        <th id=\"T_d97f5_level0_row0\" class=\"row_heading level0 row0\" >(20666.0, 83837.0]</th>\n",
       "                        <td id=\"T_d97f5_row0_col0\" class=\"data row0 col0\" >2667.000</td>\n",
       "                        <td id=\"T_d97f5_row0_col1\" class=\"data row0 col1\" >206.000</td>\n",
       "                        <td id=\"T_d97f5_row0_col2\" class=\"data row0 col2\" >0.077</td>\n",
       "            </tr>\n",
       "            <tr>\n",
       "                        <th id=\"T_d97f5_level0_row1\" class=\"row_heading level0 row1\" >(83837.0, 107507.0]</th>\n",
       "                        <td id=\"T_d97f5_row1_col0\" class=\"data row1 col0\" >2666.000</td>\n",
       "                        <td id=\"T_d97f5_row1_col1\" class=\"data row1 col1\" >221.000</td>\n",
       "                        <td id=\"T_d97f5_row1_col2\" class=\"data row1 col2\" >0.083</td>\n",
       "            </tr>\n",
       "            <tr>\n",
       "                        <th id=\"T_d97f5_level0_row2\" class=\"row_heading level0 row2\" >(107507.0, 127546.0]</th>\n",
       "                        <td id=\"T_d97f5_row2_col0\" class=\"data row2 col0\" >2666.000</td>\n",
       "                        <td id=\"T_d97f5_row2_col1\" class=\"data row2 col1\" >233.000</td>\n",
       "                        <td id=\"T_d97f5_row2_col2\" class=\"data row2 col2\" >0.087</td>\n",
       "            </tr>\n",
       "            <tr>\n",
       "                        <th id=\"T_d97f5_level0_row3\" class=\"row_heading level0 row3\" >(127546.0, 142594.0]</th>\n",
       "                        <td id=\"T_d97f5_row3_col0\" class=\"data row3 col0\" >2784.000</td>\n",
       "                        <td id=\"T_d97f5_row3_col1\" class=\"data row3 col1\" >247.000</td>\n",
       "                        <td id=\"T_d97f5_row3_col2\" class=\"data row3 col2\" >0.089</td>\n",
       "            </tr>\n",
       "            <tr>\n",
       "                        <th id=\"T_d97f5_level0_row4\" class=\"row_heading level0 row4\" >(142594.0, 166525.0]</th>\n",
       "                        <td id=\"T_d97f5_row4_col0\" class=\"data row4 col0\" >2549.000</td>\n",
       "                        <td id=\"T_d97f5_row4_col1\" class=\"data row4 col1\" >223.000</td>\n",
       "                        <td id=\"T_d97f5_row4_col2\" class=\"data row4 col2\" >0.087</td>\n",
       "            </tr>\n",
       "            <tr>\n",
       "                        <th id=\"T_d97f5_level0_row5\" class=\"row_heading level0 row5\" >(166525.0, 195842.0]</th>\n",
       "                        <td id=\"T_d97f5_row5_col0\" class=\"data row5 col0\" >2667.000</td>\n",
       "                        <td id=\"T_d97f5_row5_col1\" class=\"data row5 col1\" >221.000</td>\n",
       "                        <td id=\"T_d97f5_row5_col2\" class=\"data row5 col2\" >0.083</td>\n",
       "            </tr>\n",
       "            <tr>\n",
       "                        <th id=\"T_d97f5_level0_row6\" class=\"row_heading level0 row6\" >(195842.0, 254250.0]</th>\n",
       "                        <td id=\"T_d97f5_row6_col0\" class=\"data row6 col0\" >2665.000</td>\n",
       "                        <td id=\"T_d97f5_row6_col1\" class=\"data row6 col1\" >196.000</td>\n",
       "                        <td id=\"T_d97f5_row6_col2\" class=\"data row6 col2\" >0.074</td>\n",
       "            </tr>\n",
       "            <tr>\n",
       "                        <th id=\"T_d97f5_level0_row7\" class=\"row_heading level0 row7\" >(254250.0, 2265604.0]</th>\n",
       "                        <td id=\"T_d97f5_row7_col0\" class=\"data row7 col0\" >2667.000</td>\n",
       "                        <td id=\"T_d97f5_row7_col1\" class=\"data row7 col1\" >185.000</td>\n",
       "                        <td id=\"T_d97f5_row7_col2\" class=\"data row7 col2\" >0.069</td>\n",
       "            </tr>\n",
       "    </tbody></table>"
      ],
      "text/plain": [
       "<pandas.io.formats.style.Styler at 0x7f82976629d0>"
      ]
     },
     "metadata": {},
     "output_type": "display_data"
    }
   ],
   "source": [
    "\n",
    "temp = data.copy()\n",
    "start, stop = 3, 8 # начальное и конечное количество категорий\n",
    "while start <= stop:\n",
    "    temp['new_category'] = pd.qcut(temp['total_income'], q=start, precision=0)\n",
    "    que('new_category')\n",
    "    start += 1"
   ]
  },
  {
   "cell_type": "markdown",
   "id": "1dcc9b12",
   "metadata": {
    "deletable": false,
    "editable": false,
    "id": "1dcc9b12"
   },
   "source": [
    "#### 3.4 Как разные цели кредита влияют на его возврат в срок?"
   ]
  },
  {
   "cell_type": "code",
   "execution_count": 27,
   "id": "c602bc8b",
   "metadata": {
    "deletable": false,
    "id": "c602bc8b"
   },
   "outputs": [
    {
     "data": {
      "text/html": [
       "<div>\n",
       "<style scoped>\n",
       "    .dataframe tbody tr th:only-of-type {\n",
       "        vertical-align: middle;\n",
       "    }\n",
       "\n",
       "    .dataframe tbody tr th {\n",
       "        vertical-align: top;\n",
       "    }\n",
       "\n",
       "    .dataframe thead th {\n",
       "        text-align: right;\n",
       "    }\n",
       "</style>\n",
       "<table border=\"1\" class=\"dataframe\">\n",
       "  <thead>\n",
       "    <tr style=\"text-align: right;\">\n",
       "      <th></th>\n",
       "      <th>count</th>\n",
       "      <th>sum</th>\n",
       "      <th>mean</th>\n",
       "    </tr>\n",
       "    <tr>\n",
       "      <th>purpose_category</th>\n",
       "      <th></th>\n",
       "      <th></th>\n",
       "      <th></th>\n",
       "    </tr>\n",
       "  </thead>\n",
       "  <tbody>\n",
       "    <tr>\n",
       "      <th>операции с автомобилем</th>\n",
       "      <td>4279</td>\n",
       "      <td>400</td>\n",
       "      <td>0.093480</td>\n",
       "    </tr>\n",
       "    <tr>\n",
       "      <th>операции с недвижимостью</th>\n",
       "      <td>10751</td>\n",
       "      <td>780</td>\n",
       "      <td>0.072551</td>\n",
       "    </tr>\n",
       "    <tr>\n",
       "      <th>получение образования</th>\n",
       "      <td>3988</td>\n",
       "      <td>369</td>\n",
       "      <td>0.092528</td>\n",
       "    </tr>\n",
       "    <tr>\n",
       "      <th>проведение свадьбы</th>\n",
       "      <td>2313</td>\n",
       "      <td>183</td>\n",
       "      <td>0.079118</td>\n",
       "    </tr>\n",
       "  </tbody>\n",
       "</table>\n",
       "</div>"
      ],
      "text/plain": [
       "                          count  sum      mean\n",
       "purpose_category                              \n",
       "операции с автомобилем     4279  400  0.093480\n",
       "операции с недвижимостью  10751  780  0.072551\n",
       "получение образования      3988  369  0.092528\n",
       "проведение свадьбы         2313  183  0.079118"
      ]
     },
     "execution_count": 27,
     "metadata": {},
     "output_type": "execute_result"
    }
   ],
   "source": [
    "data.groupby('purpose_category')['debt'].agg(['count', 'sum', 'mean'])# Ваш код будет здесь. Вы можете создавать новые ячейки."
   ]
  },
  {
   "cell_type": "markdown",
   "id": "cf05ed63",
   "metadata": {
    "deletable": false,
    "id": "cf05ed63"
   },
   "source": [
    "**Вывод:** Наиболее склонны к просрочкам заемщики, которые используют кредит на операции с автомобилем и на получение образования. Можно предположить, что на такие цели берут кредиты люди молодого возраста с невысокой платежеспособностью. Наименьший показатель просрочки у группы заемщиков, использующих кредит на операции с недвижимостью, что можно объяснить, невысокой стоимостью ипотечных кредитов и большей ответственностью самих заемщиков."
   ]
  },
  {
   "cell_type": "markdown",
   "id": "46c1f10b",
   "metadata": {
    "deletable": false,
    "editable": false,
    "id": "46c1f10b"
   },
   "source": [
    "#### 3.5 Приведите возможные причины появления пропусков в исходных данных."
   ]
  },
  {
   "cell_type": "markdown",
   "id": "3697d2a9",
   "metadata": {
    "deletable": false,
    "id": "3697d2a9"
   },
   "source": [
    "*Ответ:* Пропуски в 2 столбцах: \n",
    "1. Общий трудовой стаж в днях - могли возникнуть из-за отсутствия такого у заемщика, а также из-за ошибок при вводе данных.\n",
    "2. Ежемесячный доход - из-за отсутствия дохода у заемщика, например, пенсионера, а также из-за ошибок при вводе данных."
   ]
  },
  {
   "cell_type": "markdown",
   "id": "3137d257",
   "metadata": {
    "deletable": false,
    "editable": false,
    "id": "3137d257"
   },
   "source": [
    "#### 3.6 Объясните, почему заполнить пропуски медианным значением — лучшее решение для количественных переменных."
   ]
  },
  {
   "cell_type": "markdown",
   "id": "cf40012a",
   "metadata": {
    "deletable": false,
    "id": "cf40012a"
   },
   "source": [
    "*Ответ:* Заполнение пропусков медианным значением позволяет привести данные к более сопоставимому виду, и в конечном итоге, сделать выборку более репрезентативной."
   ]
  },
  {
   "cell_type": "markdown",
   "id": "57bc304e",
   "metadata": {
    "deletable": false,
    "editable": false,
    "id": "57bc304e"
   },
   "source": [
    "### Шаг 4: общий вывод."
   ]
  },
  {
   "cell_type": "markdown",
   "id": "1ab75d1c",
   "metadata": {
    "deletable": false,
    "id": "1ab75d1c"
   },
   "source": [
    "Напишите ваш общий вывод. На основании проведенных данных можно сделать вывод, что наиболее привлекательным для банка является заемщик, потерявщий супруга или находящийся в разводе, не имеющий детей, с доходом от 200001 до 1000000, планирующий взять кредит на приобретение недвижимости. Наименее привлекательным в качестве заемщика для банка будет заемщик, не состоящий в браке, с 4 детьми, с доходом от 50001 до 200000, планирующий взять кредит на приобретение автомобиля."
   ]
  },
  {
   "cell_type": "markdown",
   "id": "910312aa",
   "metadata": {},
   "source": [
    "\n",
    "#### 1. Описание проекта:  \n",
    "На основании данных о статистике о платёжеспособности клиентов, представленных заказчиком — кредитным отделом банка, необходимо установить, влияет ли семейное положение и количество детей клиента на факт погашения кредита в срок. \n",
    "#### 2. Порядок обработки аномалий, пропусков и дубликатов, предобработка данных для анализа:\n",
    "В процессе ознакомления с данными было установлено наличие следующих аномалий: \n",
    "а) отрицательное количество дней трудового стажа, которое было устранено с помощью метода abs(); \n",
    "б) слишком большие значения трудового стажа у пенсионеров и безработных, оставлены без изменений; \n",
    "в) отрицательное число лет детей и число, превышающие детский возраст, были удалены соответствующие строки. \n",
    "В столбцах трудового стажа и общего дохода были обнаружены пропуски, которые были заполнены медианным значением по каждому типу из столбца. Использование медианы для заполнения пропусков количественных переменных более предпочтительно, так как на медиану не влияют слишком отклоняющиеся или случайные значения. \n",
    "В столбце общего дохода  вещественный тип данных был заменен на целочисленный.\n",
    "В столбце образование были обнаружены одни и те же значения, но записанные по-разному: с использованием заглавных и строчных букв, все значения были приведены к нижнему регистру.\n",
    "Явные дубликаты в данных в количестве 71 ед. были удалены.\n",
    "Для последующего анализа данные были категоризированы:\n",
    "а) кредитополучатели были поделены в группы в зависимости от дохода;\n",
    "б) уникальные целей взятия кредита были разделены по 4 категориям: операции с автомобилем, операции с недвижимостью, проведение свадьбы, получение образования.\n",
    "#### 3. Анализ:\n",
    "В ходе анализа были получены ответы на следующие вопросы:\n",
    "а) Есть ли зависимость между количеством детей и возвратом кредита в срок?¶\n",
    "Ответ: наименьший процент просрочек по кредитам (7,5%) имеют семьи без детей. Это можно было объяснить тем, что данная категория заемщиков имеет возможность оплачивать кредиты в срок, т.к. не отвлекает средства на расходы на детей. Таким образом, да, зависимость есть.\n",
    "б)Есть ли зависимость между семейным положением и возвратом кредита в срок?\n",
    "Ответ: Заемщики, не состоящие в браке или состоящие в гражданском браке, более склонны к нарушению сроков платежа.Таким образом, да, зависимость есть.\n",
    "в)Есть ли зависимость между уровнем дохода и возвратом кредита в срок?\n",
    "Ответ: Группа заемщиков с доходом выше среднего имеет наименьший % просрочек.Таким образом, да, зависимость есть.\n",
    "г)Как разные цели кредита влияют на его возврат в срок?\n",
    "Ответ: Наиболее склонны к просрочкам заемщики, которые используют кредит на операции с автомобилем и на получение образования Таким образом, да, зависимость есть.\n",
    "На основании проведенных данных можно сделать вывод, что наиболее привлекательным для банка является заемщик, потерявщий супруга или находящийся в разводе, не имеющий детей, с доходом от 200001 до 1000000, планирующий взять кредит на приобретение недвижимости. Наименее привлекательным в качестве заемщика для банка будет заемщик, не состоящий в браке, с 4 детьми, с доходом от 50001 до 200000, планирующий взять кредит на приобретение автомобиля.\n"
   ]
  }
 ],
 "metadata": {
  "ExecuteTimeLog": [
   {
    "duration": 3,
    "start_time": "2023-09-25T11:04:04.308Z"
   },
   {
    "duration": 44,
    "start_time": "2023-09-25T11:07:56.873Z"
   },
   {
    "duration": 6,
    "start_time": "2023-09-25T11:08:29.816Z"
   },
   {
    "duration": 5,
    "start_time": "2023-09-25T11:09:20.503Z"
   },
   {
    "duration": 6,
    "start_time": "2023-09-25T11:09:30.039Z"
   },
   {
    "duration": 5,
    "start_time": "2023-09-25T11:09:39.783Z"
   },
   {
    "duration": 46,
    "start_time": "2023-09-26T09:38:14.264Z"
   },
   {
    "duration": 101,
    "start_time": "2023-09-26T09:43:34.481Z"
   },
   {
    "duration": 6,
    "start_time": "2023-09-26T09:54:18.788Z"
   },
   {
    "duration": 679,
    "start_time": "2023-09-26T09:55:56.409Z"
   },
   {
    "duration": 21,
    "start_time": "2023-09-26T09:55:57.090Z"
   },
   {
    "duration": 39,
    "start_time": "2023-09-26T09:55:57.113Z"
   },
   {
    "duration": 18,
    "start_time": "2023-09-26T09:55:57.154Z"
   },
   {
    "duration": 58,
    "start_time": "2023-09-26T09:55:57.174Z"
   },
   {
    "duration": 4,
    "start_time": "2023-09-26T09:55:57.233Z"
   },
   {
    "duration": 34,
    "start_time": "2023-09-26T09:55:57.238Z"
   },
   {
    "duration": 27,
    "start_time": "2023-09-26T09:55:57.274Z"
   },
   {
    "duration": 29,
    "start_time": "2023-09-26T09:55:57.303Z"
   },
   {
    "duration": 33,
    "start_time": "2023-09-26T09:55:57.334Z"
   },
   {
    "duration": 75,
    "start_time": "2023-09-26T09:55:57.368Z"
   },
   {
    "duration": 10,
    "start_time": "2023-09-26T09:55:57.445Z"
   },
   {
    "duration": 24,
    "start_time": "2023-09-26T09:55:57.456Z"
   },
   {
    "duration": 41,
    "start_time": "2023-09-26T09:55:57.483Z"
   },
   {
    "duration": 55,
    "start_time": "2023-09-26T09:55:57.526Z"
   },
   {
    "duration": 20,
    "start_time": "2023-09-26T09:55:57.583Z"
   },
   {
    "duration": 21,
    "start_time": "2023-09-26T09:55:57.605Z"
   },
   {
    "duration": 36,
    "start_time": "2023-09-26T09:55:57.628Z"
   },
   {
    "duration": 35,
    "start_time": "2023-09-26T09:55:57.665Z"
   },
   {
    "duration": 17,
    "start_time": "2023-09-26T09:55:57.702Z"
   },
   {
    "duration": 93,
    "start_time": "2023-09-26T09:55:57.721Z"
   },
   {
    "duration": 51,
    "start_time": "2023-09-26T09:55:57.816Z"
   },
   {
    "duration": 20,
    "start_time": "2023-09-26T09:55:57.869Z"
   },
   {
    "duration": 30,
    "start_time": "2023-09-26T09:55:57.891Z"
   },
   {
    "duration": 34,
    "start_time": "2023-09-26T09:55:57.922Z"
   },
   {
    "duration": 20,
    "start_time": "2023-09-26T09:56:05.185Z"
   },
   {
    "duration": 20,
    "start_time": "2023-09-26T09:56:12.346Z"
   },
   {
    "duration": 47,
    "start_time": "2023-09-26T09:56:43.114Z"
   },
   {
    "duration": 89,
    "start_time": "2023-09-26T09:57:47.177Z"
   },
   {
    "duration": 88,
    "start_time": "2023-09-26T09:58:09.873Z"
   },
   {
    "duration": 60,
    "start_time": "2023-09-26T10:02:55.438Z"
   },
   {
    "duration": 57,
    "start_time": "2023-09-26T10:03:27.791Z"
   },
   {
    "duration": 23,
    "start_time": "2023-09-26T10:06:57.996Z"
   },
   {
    "duration": 11,
    "start_time": "2023-09-26T16:14:39.968Z"
   },
   {
    "duration": 11,
    "start_time": "2023-09-26T16:30:02.007Z"
   },
   {
    "duration": 10,
    "start_time": "2023-09-26T16:39:35.537Z"
   },
   {
    "duration": 18,
    "start_time": "2023-09-26T16:40:09.971Z"
   },
   {
    "duration": 11,
    "start_time": "2023-09-26T16:49:15.378Z"
   },
   {
    "duration": 12,
    "start_time": "2023-09-26T16:59:04.914Z"
   },
   {
    "duration": 570,
    "start_time": "2023-09-26T18:02:32.434Z"
   },
   {
    "duration": 37,
    "start_time": "2023-09-26T18:02:33.006Z"
   },
   {
    "duration": 20,
    "start_time": "2023-09-26T18:02:33.045Z"
   },
   {
    "duration": 24,
    "start_time": "2023-09-26T18:02:33.067Z"
   },
   {
    "duration": 56,
    "start_time": "2023-09-26T18:02:33.094Z"
   },
   {
    "duration": 4,
    "start_time": "2023-09-26T18:02:33.152Z"
   },
   {
    "duration": 15,
    "start_time": "2023-09-26T18:02:33.157Z"
   },
   {
    "duration": 5,
    "start_time": "2023-09-26T18:02:33.174Z"
   },
   {
    "duration": 11,
    "start_time": "2023-09-26T18:02:33.209Z"
   },
   {
    "duration": 10,
    "start_time": "2023-09-26T18:02:33.222Z"
   },
   {
    "duration": 51,
    "start_time": "2023-09-26T18:02:33.235Z"
   },
   {
    "duration": 32,
    "start_time": "2023-09-26T18:02:33.288Z"
   },
   {
    "duration": 4,
    "start_time": "2023-09-26T18:02:33.322Z"
   },
   {
    "duration": 28,
    "start_time": "2023-09-26T18:02:33.329Z"
   },
   {
    "duration": 24,
    "start_time": "2023-09-26T18:02:33.359Z"
   },
   {
    "duration": 41,
    "start_time": "2023-09-26T18:02:33.385Z"
   },
   {
    "duration": 4,
    "start_time": "2023-09-26T18:02:33.428Z"
   },
   {
    "duration": 32,
    "start_time": "2023-09-26T18:02:33.434Z"
   },
   {
    "duration": 54,
    "start_time": "2023-09-26T18:02:33.469Z"
   },
   {
    "duration": 4,
    "start_time": "2023-09-26T18:02:33.525Z"
   },
   {
    "duration": 15,
    "start_time": "2023-09-26T18:02:33.531Z"
   },
   {
    "duration": 45,
    "start_time": "2023-09-26T18:02:33.547Z"
   },
   {
    "duration": 13,
    "start_time": "2023-09-26T18:02:33.594Z"
   },
   {
    "duration": 26,
    "start_time": "2023-09-26T18:02:33.608Z"
   },
   {
    "duration": 83,
    "start_time": "2023-09-26T18:02:33.636Z"
   },
   {
    "duration": 399,
    "start_time": "2023-09-26T18:10:17.005Z"
   },
   {
    "duration": 538,
    "start_time": "2023-09-27T12:44:25.500Z"
   },
   {
    "duration": 25,
    "start_time": "2023-09-27T12:44:26.041Z"
   },
   {
    "duration": 22,
    "start_time": "2023-09-27T12:44:26.068Z"
   },
   {
    "duration": 10,
    "start_time": "2023-09-27T12:44:26.091Z"
   },
   {
    "duration": 48,
    "start_time": "2023-09-27T12:44:26.103Z"
   },
   {
    "duration": 3,
    "start_time": "2023-09-27T12:44:26.153Z"
   },
   {
    "duration": 12,
    "start_time": "2023-09-27T12:44:26.158Z"
   },
   {
    "duration": 4,
    "start_time": "2023-09-27T12:44:26.171Z"
   },
   {
    "duration": 8,
    "start_time": "2023-09-27T12:44:26.176Z"
   },
   {
    "duration": 10,
    "start_time": "2023-09-27T12:44:26.185Z"
   },
   {
    "duration": 61,
    "start_time": "2023-09-27T12:44:26.196Z"
   },
   {
    "duration": 10,
    "start_time": "2023-09-27T12:44:26.259Z"
   },
   {
    "duration": 20,
    "start_time": "2023-09-27T12:44:26.271Z"
   },
   {
    "duration": 25,
    "start_time": "2023-09-27T12:44:26.294Z"
   },
   {
    "duration": 25,
    "start_time": "2023-09-27T12:44:26.321Z"
   },
   {
    "duration": 18,
    "start_time": "2023-09-27T12:44:26.348Z"
   },
   {
    "duration": 4,
    "start_time": "2023-09-27T12:44:26.367Z"
   },
   {
    "duration": 12,
    "start_time": "2023-09-27T12:44:26.373Z"
   },
   {
    "duration": 11,
    "start_time": "2023-09-27T12:44:26.386Z"
   },
   {
    "duration": 7,
    "start_time": "2023-09-27T12:44:26.398Z"
   },
   {
    "duration": 17,
    "start_time": "2023-09-27T12:44:26.407Z"
   },
   {
    "duration": 30,
    "start_time": "2023-09-27T12:44:26.426Z"
   },
   {
    "duration": 498,
    "start_time": "2023-09-27T12:44:26.458Z"
   },
   {
    "duration": 12,
    "start_time": "2023-09-27T12:44:26.958Z"
   },
   {
    "duration": 11,
    "start_time": "2023-09-27T12:44:26.972Z"
   },
   {
    "duration": 10,
    "start_time": "2023-09-27T12:44:26.984Z"
   },
   {
    "duration": 237,
    "start_time": "2023-09-27T12:45:49.115Z"
   },
   {
    "duration": 675,
    "start_time": "2024-01-31T14:45:56.281Z"
   },
   {
    "duration": 25,
    "start_time": "2024-01-31T14:45:56.958Z"
   },
   {
    "duration": 22,
    "start_time": "2024-01-31T14:45:56.985Z"
   },
   {
    "duration": 14,
    "start_time": "2024-01-31T14:45:57.009Z"
   },
   {
    "duration": 44,
    "start_time": "2024-01-31T14:45:57.025Z"
   },
   {
    "duration": 4,
    "start_time": "2024-01-31T14:45:57.071Z"
   },
   {
    "duration": 30,
    "start_time": "2024-01-31T14:45:57.076Z"
   },
   {
    "duration": 7,
    "start_time": "2024-01-31T14:45:57.107Z"
   },
   {
    "duration": 15,
    "start_time": "2024-01-31T14:45:57.116Z"
   },
   {
    "duration": 5,
    "start_time": "2024-01-31T14:45:57.134Z"
   },
   {
    "duration": 56,
    "start_time": "2024-01-31T14:45:57.140Z"
   },
   {
    "duration": 10,
    "start_time": "2024-01-31T14:45:57.198Z"
   },
   {
    "duration": 16,
    "start_time": "2024-01-31T14:45:57.210Z"
   },
   {
    "duration": 34,
    "start_time": "2024-01-31T14:45:57.228Z"
   },
   {
    "duration": 60,
    "start_time": "2024-01-31T14:45:57.264Z"
   },
   {
    "duration": 17,
    "start_time": "2024-01-31T14:45:57.325Z"
   },
   {
    "duration": 4,
    "start_time": "2024-01-31T14:45:57.344Z"
   },
   {
    "duration": 12,
    "start_time": "2024-01-31T14:45:57.349Z"
   },
   {
    "duration": 9,
    "start_time": "2024-01-31T14:45:57.363Z"
   },
   {
    "duration": 51,
    "start_time": "2024-01-31T14:45:57.374Z"
   },
   {
    "duration": 38,
    "start_time": "2024-01-31T14:45:57.426Z"
   },
   {
    "duration": 28,
    "start_time": "2024-01-31T14:45:57.465Z"
   },
   {
    "duration": 520,
    "start_time": "2024-01-31T14:45:57.495Z"
   },
   {
    "duration": 16,
    "start_time": "2024-01-31T14:45:58.017Z"
   },
   {
    "duration": 42,
    "start_time": "2024-01-31T14:45:58.035Z"
   },
   {
    "duration": 266,
    "start_time": "2024-01-31T14:45:58.079Z"
   },
   {
    "duration": 12,
    "start_time": "2024-01-31T14:45:58.346Z"
   }
  ],
  "celltoolbar": "Необработанный формат ячейки",
  "colab": {
   "provenance": []
  },
  "kernelspec": {
   "display_name": "Python 3 (ipykernel)",
   "language": "python",
   "name": "python3"
  },
  "language_info": {
   "codemirror_mode": {
    "name": "ipython",
    "version": 3
   },
   "file_extension": ".py",
   "mimetype": "text/x-python",
   "name": "python",
   "nbconvert_exporter": "python",
   "pygments_lexer": "ipython3",
   "version": "3.9.5"
  },
  "toc": {
   "base_numbering": 1,
   "nav_menu": {},
   "number_sections": true,
   "sideBar": true,
   "skip_h1_title": true,
   "title_cell": "Table of Contents",
   "title_sidebar": "Contents",
   "toc_cell": false,
   "toc_position": {
    "height": "calc(100% - 180px)",
    "left": "10px",
    "top": "150px",
    "width": "165px"
   },
   "toc_section_display": true,
   "toc_window_display": false
  }
 },
 "nbformat": 4,
 "nbformat_minor": 5
}
